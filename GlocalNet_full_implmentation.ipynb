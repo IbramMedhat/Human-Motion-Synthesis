{
 "cells": [
  {
   "cell_type": "markdown",
   "metadata": {
    "id": "N5bGejq7QySe"
   },
   "source": [
    "## Importing and installing need libraries"
   ]
  },
  {
   "cell_type": "code",
   "execution_count": 1,
   "metadata": {
    "colab": {
     "base_uri": "https://localhost:8080/"
    },
    "id": "p6oWUCJCnPmT",
    "outputId": "7c5b49ce-0b4d-4f9a-eac8-f05ee626a96d"
   },
   "outputs": [
    {
     "name": "stdout",
     "output_type": "stream",
     "text": [
      "2.9.0\n"
     ]
    }
   ],
   "source": [
    "import numpy as np\n",
    "from tensorflow.keras import Model as Model_\n",
    "from tensorflow.keras.layers import Input, ReLU, LSTM, Dense, TimeDistributed, Bidirectional, Normalization, GaussianNoise \n",
    "from tensorflow.keras.optimizers import Adam\n",
    "from tensorflow.keras import backend\n",
    "from tensorflow.keras.models import Sequential, model_from_json\n",
    "import tensorflow as tf\n",
    "from tqdm.auto import tqdm\n",
    "import matplotlib.pyplot as plt\n",
    "import pandas as pd\n",
    "from itertools import chain\n",
    "import tensorflow_model_remediation.min_diff.losses.mmd_loss as MMD\n",
    "\n",
    "print(tf.keras.__version__)"
   ]
  },
  {
   "cell_type": "code",
   "execution_count": null,
   "metadata": {
    "colab": {
     "base_uri": "https://localhost:8080/"
    },
    "id": "v1wLcoRN_q6H",
    "outputId": "604bc049-6e63-44e2-c1cf-a1d4b4f6870d"
   },
   "outputs": [],
   "source": [
    "#Need only to be used with google colab\n",
    "from google.colab import drive\n",
    "drive.mount('/content/drive')"
   ]
  },
  {
   "cell_type": "code",
   "execution_count": null,
   "metadata": {
    "colab": {
     "base_uri": "https://localhost:8080/"
    },
    "id": "BVYkmolC_bDI",
    "outputId": "3403897e-0ff9-4c6f-abb4-611e1022d32b"
   },
   "outputs": [],
   "source": [
    "!pip install tensorflow_model_remediation"
   ]
  },
  {
   "cell_type": "markdown",
   "metadata": {
    "id": "6tUdJibeQWdF"
   },
   "source": [
    "## Dataset Reading and Preprocessing"
   ]
  },
  {
   "cell_type": "markdown",
   "metadata": {},
   "source": [
    "### Listing all the movable joints in the human skeleton"
   ]
  },
  {
   "cell_type": "code",
   "execution_count": 2,
   "metadata": {
    "id": "VYTyMttRQVHV"
   },
   "outputs": [],
   "source": [
    "#Was done in the preprocessing in [1]\n",
    "# Joints in H3.6M -- data has 32 joints, but only 17 that move; these are the indices.\n",
    "H36M_NAMES = ['']*32\n",
    "H36M_NAMES[0]  = 'Hip'\n",
    "H36M_NAMES[1]  = 'RHip'\n",
    "H36M_NAMES[2]  = 'RKnee'\n",
    "H36M_NAMES[3]  = 'RFoot'\n",
    "H36M_NAMES[6]  = 'LHip'\n",
    "H36M_NAMES[7]  = 'LKnee'\n",
    "H36M_NAMES[8]  = 'LFoot'\n",
    "H36M_NAMES[12] = 'Spine'\n",
    "H36M_NAMES[13] = 'Thorax'\n",
    "H36M_NAMES[14] = 'Neck/Nose'\n",
    "H36M_NAMES[15] = 'Head'\n",
    "H36M_NAMES[17] = 'LShoulder'\n",
    "H36M_NAMES[18] = 'LElbow'\n",
    "H36M_NAMES[19] = 'LWrist'\n",
    "H36M_NAMES[25] = 'RShoulder'\n",
    "H36M_NAMES[26] = 'RElbow'\n",
    "H36M_NAMES[27] = 'RWrist'"
   ]
  },
  {
   "cell_type": "markdown",
   "metadata": {},
   "source": [
    "### A class to Read and Combine all the Dataset files"
   ]
  },
  {
   "cell_type": "code",
   "execution_count": 3,
   "metadata": {
    "id": "ikRIhsrrnhlH"
   },
   "outputs": [],
   "source": [
    "import os\n",
    "import re\n",
    "\n",
    "class Dataset_loading:\n",
    "    def __init__(self, dir_path, include_dimension = 2, sample_size = 50,\n",
    "                 total_classes = 17, datatype = 'float32', include_movable_joints = False):\n",
    "        \n",
    "        #Dataset Directory path\n",
    "        self.dir_path = dir_path\n",
    "        \n",
    "        #Which Dimension file to include, possible values: 2 and 3\n",
    "        self.include_dimension = include_dimension\n",
    "        \n",
    "        #Total frames in one Sample\n",
    "        self.sample_size = sample_size\n",
    "        \n",
    "        #Default Datatype for all the samples\n",
    "        self.datatype = datatype\n",
    "        \n",
    "        #Activity classes to include\n",
    "        self.classes = ['SittingDown', 'Walking', 'Directions', 'Discussion', 'Sitting', 'Phoning', 'Eating', 'Posing', 'Greeting', 'Smoking']\n",
    "        \n",
    "        #Total activity classes\n",
    "        self.total_classes = len(self.classes)\n",
    "        \n",
    "        #Subject Folders names in the Dataset\n",
    "        self.internal_folders = ['S1', 'S5','S6','S7','S8','S9','S11']\n",
    "\n",
    "        #Boolean value indicating whether to include all joints or only the movable joints.\n",
    "        self.include_movable_joints = include_movable_joints\n",
    "        \n",
    "        self.movable_joints = [0, 1, 2, 3, 6, 7, 8, 12, 13, 14, 15, 17, 18, 19, 25, 26, 27]\n",
    "    \n",
    "    def read_dataset(self):\n",
    "        try:\n",
    "            #Contains all the different activity vectors\n",
    "            activity_vector = {}\n",
    "            \n",
    "            #Contains the overall dataset\n",
    "            sampled_data = None\n",
    "            \n",
    "            #Based on dimensions, which folder to use for extracting the dataset files\n",
    "            data_folder = 'Poses_D2_Positions' if self.include_dimension == 2 else 'Poses_D3_Positions'\n",
    "            \n",
    "            #Checking if the dataset path is valid\n",
    "            if not os.path.exists(self.dir_path):\n",
    "                print('The Data Directory Does not Exist!')\n",
    "                return None\n",
    "\n",
    "            #Iterating over all the subject folders\n",
    "            for fld in self.internal_folders:\n",
    "                #Iterating for each file in the specified folder\n",
    "                for file in os.listdir(os.path.join(self.dir_path, fld, data_folder)):\n",
    "                    #Extracting the activity from the filename\n",
    "                    activity = self.__extract_activity(file)\n",
    "                    \n",
    "                    if activity not in self.classes:\n",
    "                        continue\n",
    "                    \n",
    "                    #Reading the CSV file using Pandas\n",
    "                    data = pd.read_csv(os.path.join(self.dir_path, fld, data_folder, file), header=None)\n",
    "\n",
    "                    #Formulating the activity vector using one hot encoding\n",
    "                    if activity not in activity_vector:\n",
    "                        total_keys = len(activity_vector.keys())\n",
    "                        activity_vector[activity] = np.zeros(self.total_classes)\n",
    "                        activity_vector[activity][total_keys] = 1\n",
    "                    vector = activity_vector[activity]\n",
    "                    \n",
    "                    #Sampling the dataset\n",
    "                    grouped_sample = self.__group_samples(data, self.sample_size, vector)\n",
    "                    sampled_data = grouped_sample if sampled_data is None else np.append(sampled_data, grouped_sample, axis=0)\n",
    "            \n",
    "            #Changing the Datatype\n",
    "            sampled_data = sampled_data.astype(self.datatype)\n",
    "            \n",
    "            return sampled_data\n",
    "        except Exception as e:\n",
    "            print(e)\n",
    "    \n",
    "    def __extract_activity(self, filename):\n",
    "        try:\n",
    "            #Extracting the filename and excluding the extension\n",
    "            name = os.path.splitext(filename)[0]\n",
    "            \n",
    "            #Substituting the empty string with characters other than english alphabets\n",
    "            activity = re.sub('[^A-Za-z]+' , '' , name)\n",
    "            return activity\n",
    "        except Exception as e:\n",
    "            print(e)\n",
    "    \n",
    "    def __group_samples(self, dataset, sample_size, activity):\n",
    "        try:\n",
    "            #Checking if the dataset is a Pandas Dataframe\n",
    "            if not isinstance(dataset, pd.DataFrame):\n",
    "                print('Expecting Pandas Dataframe, but got {}'.format(type(dataset)))\n",
    "                return None\n",
    "            \n",
    "            if self.include_movable_joints:\n",
    "                joints = list(chain.from_iterable((jt*2, (jt*2)+1) for jt in self.movable_joints))\n",
    "                dataset = dataset.iloc[: , joints].copy()\n",
    "\n",
    "            #Appending activity class to each row in the dataset\n",
    "            dataset = pd.concat([dataset, pd.DataFrame(np.tile(activity, (dataset.shape[0],1)))], axis=1)\n",
    "            \n",
    "            #Reshaping the dataset into sample batches\n",
    "            total_samples = dataset.shape[0]//sample_size\n",
    "            total_features = dataset.shape[1]\n",
    "            grouped_rows = dataset.to_numpy()[:total_samples*self.sample_size].reshape((-1,self.sample_size, total_features))\n",
    "            \n",
    "            return grouped_rows\n",
    "        except Exception as e:\n",
    "            print(e)"
   ]
  },
  {
   "cell_type": "markdown",
   "metadata": {},
   "source": [
    "### A function to split Dataset into Features and Labels"
   ]
  },
  {
   "cell_type": "code",
   "execution_count": 4,
   "metadata": {
    "id": "8nABIG0rnxl_"
   },
   "outputs": [],
   "source": [
    "def split_to_features_labels(dataset, input_sequance_size=10, total_features=64) :\n",
    "    \"\"\"\n",
    "    Function for splitting the data into features(with sequance size=iput_sequance_size)\n",
    "    and labels which should be the remainder of the sample length \n",
    "    \"\"\"\n",
    "    assert input_sequance_size < dataset.shape[1], f\"input sequance should be smaller than the total sample size\"\n",
    "    features = dataset[:, np.s_[0:input_sequance_size], :]\n",
    "    labels = dataset[:,np.s_[input_sequance_size:], :total_features]\n",
    "    \n",
    "    return features, labels"
   ]
  },
  {
   "cell_type": "markdown",
   "metadata": {
    "id": "W5HkmNJJSKg3"
   },
   "source": [
    "### A function for downsampling the dataset on number of frames"
   ]
  },
  {
   "cell_type": "code",
   "execution_count": 5,
   "metadata": {
    "id": "wNJmfjiGSDY2"
   },
   "outputs": [],
   "source": [
    "def downsampling(sampled_data, downsample_technique = 'skip'):\n",
    "    \"\"\"\n",
    "    The function used to down-sample the data using two different techniques. In Skip, one frame is skipped consecutively and\n",
    "    in the mean technique, two frames are averaged consecutively.\n",
    "    \"\"\"\n",
    "    samples_per_batch = int(sampled_data.shape[1] / 2)\n",
    "    total_features = sampled_data.shape[2]\n",
    "    downsampled_data = np.empty(shape=(0, samples_per_batch, total_features))\n",
    "    \n",
    "    if downsample_technique == 'skip':\n",
    "        downsampled_data = sampled_data[:,::2,:]\n",
    "    else:\n",
    "        for batch in sampled_data:\n",
    "            averaged_batch = np.empty(shape=(0, total_features))\n",
    "            for i in range(0, batch.shape[0], 2):\n",
    "                averaged_batch = np.append(averaged_batch, np.mean(batch[i:i+2, :], axis = 0).reshape((1, total_features)), axis = 0)\n",
    "            downsampled_data = np.append(downsampled_data, averaged_batch.reshape((1, samples_per_batch, total_features)), axis = 0)\n",
    "    return downsampled_data"
   ]
  },
  {
   "cell_type": "markdown",
   "metadata": {
    "id": "cLpG7OlQSUjW"
   },
   "source": [
    "### Adding more preprocessing steps (Normalization and gussian noise)"
   ]
  },
  {
   "cell_type": "code",
   "execution_count": 6,
   "metadata": {
    "id": "VzjeqMm1KNjQ"
   },
   "outputs": [],
   "source": [
    "def preprocess_data(sampled_dataX, sampled_dataY, normalize=True, add_noise=True\n",
    "                    , stddev=0.05) :\n",
    "    \"\"\"\n",
    "    Function to preprocess data by normalizing input features and adding guassian\n",
    "    noise to increase model robustness\n",
    "    \"\"\"  \n",
    "    if normalize :\n",
    "        sampled_dataX =  tf.keras.utils.normalize(sampled_dataX, axis=2)\n",
    "    if add_noise :\n",
    "        guassian_noise_layer = tf.keras.layers.GaussianNoise(stddev=stddev)\n",
    "        sampled_dataX = guassian_noise_layer(sampled_dataX)\n",
    "    return sampled_dataX, sampled_dataY"
   ]
  },
  {
   "cell_type": "markdown",
   "metadata": {
    "id": "kwCrXubfJka4"
   },
   "source": [
    "## Defining different components of the model"
   ]
  },
  {
   "cell_type": "markdown",
   "metadata": {},
   "source": [
    "### Defining the Interpolation Layer"
   ]
  },
  {
   "cell_type": "code",
   "execution_count": 7,
   "metadata": {
    "id": "QsfCMT-0zRTs"
   },
   "outputs": [],
   "source": [
    "class InterpolationLayer(tf.keras.layers.Layer):\n",
    "    \"\"\"\n",
    "    Custom interpolation layer extending the keras layer class\n",
    "    it has one attribute num_frames to be interpolated between each two consecutive \n",
    "    timesteps\n",
    "    it has one main function interpolateFrames  \n",
    "    \"\"\"\n",
    "  \n",
    "    def __init__(self, num_frames=5):\n",
    "        super(InterpolationLayer, self).__init__()\n",
    "        self.num_frames = num_frames\n",
    "       \n",
    "    def interpolateFrames(self, inputs):\n",
    "        \"\"\"\n",
    "        Takes input tensors of shape(batch_size, timesteps, features)\n",
    "        returns interpolated frames with shape(batch_size, timesteps*num_frames, features)\n",
    "        \"\"\"\n",
    "        \n",
    "        batch_size = inputs.shape[0]\n",
    "        timesteps = inputs.shape[1]\n",
    "        features = inputs.shape[2]\n",
    "        interpolated_frames = tf.zeros([0, features])\n",
    "\n",
    "        for batch in tf.range(tf.shape(inputs)[0]) :\n",
    "            tf.autograph.experimental.set_loop_options(\n",
    "            shape_invariants=[(interpolated_frames, tf.TensorShape([None, features]))])\n",
    "            for t in range(timesteps) :\n",
    "                for j in range(self.num_frames) :\n",
    "                    X_i0 = inputs[batch, t]\n",
    "                    if(t == timesteps-1) :\n",
    "                        X_i1 = inputs[batch, t]\n",
    "                    else :  \n",
    "                        X_i1 = inputs[batch, t+1]\n",
    "                    alpha_j = j/self.num_frames\n",
    "                    current_frame = alpha_j*X_i0 + (1-alpha_j)*X_i1\n",
    "                    current_frame = tf.reshape(current_frame, [1, features])\n",
    "                    interpolated_frames = tf.concat((interpolated_frames, current_frame), axis=0)\n",
    "\n",
    "        interpolated_frames = tf.reshape(interpolated_frames,[tf.shape(inputs)[0], (timesteps)*self.num_frames, features])\n",
    "        return interpolated_frames\n",
    "\n",
    "    def call(self, inputs):\n",
    "        return self.interpolateFrames(inputs)"
   ]
  },
  {
   "cell_type": "markdown",
   "metadata": {
    "id": "l9xiHeHMaQRH"
   },
   "source": [
    "### Trying to create the Keras GlocalNet model through a custom function"
   ]
  },
  {
   "cell_type": "code",
   "execution_count": 8,
   "metadata": {
    "id": "70zZuaX0Y6Ag"
   },
   "outputs": [],
   "source": [
    "def create_glocalNet_model(enocder_hidden_state=200, decoder_hidden_state=200, \n",
    "                 output_diminsion=64, input_diminsions=74, LSTM_dropout=0.25, dense_activation='relu',\n",
    "                 interpolation_frames=5, exclude_locgen=False) :\n",
    "    #Glogen encoder\n",
    "    encoder_inputs = Input(shape=(10, input_diminsions))\n",
    "    encoder = LSTM(enocder_hidden_state, return_sequences=True, return_state=True)\n",
    "    encoder_outputs, state_h, state_c = encoder(encoder_inputs)\n",
    "    encoder_states = [state_h, state_c]\n",
    "    #Glogen decoder\n",
    "    decoder_lstm = LSTM(decoder_hidden_state, return_sequences=True, return_state=True)\n",
    "    decoder_outputs, _, _ = decoder_lstm(encoder_outputs,\n",
    "                                        initial_state=encoder_states)\n",
    "    decoder_dense = TimeDistributed(Dense(output_diminsion, activation=dense_activation))\n",
    "    decoder_outputs = decoder_dense(decoder_outputs)\n",
    "\n",
    "    #Interpolation layer\n",
    "    interpolation_layer = InterpolationLayer(num_frames=interpolation_frames)\n",
    "    interpolation_output = interpolation_layer(decoder_outputs)\n",
    "    #return the model if execlude_locgen is true\n",
    "    if(exclude_locgen) :\n",
    "        return Model_(encoder_inputs, interpolation_output)\n",
    "    \n",
    "    #Locgen encoder\n",
    "    encoder_locgen = LSTM(enocder_hidden_state, return_sequences=True, return_state=True)\n",
    "    encoder_outputs_locgen, state_h_locgen, state_c_locgen = encoder_locgen(interpolation_output)\n",
    "    encoder_states_locgen = [state_h_locgen, state_c_locgen]\n",
    "    #Locgen decoder\n",
    "    decoder_lstm_locgen = LSTM(decoder_hidden_state, return_sequences=True, return_state=True)\n",
    "    decoder_outputs_locgen, _, _ = decoder_lstm(encoder_outputs_locgen,\n",
    "                                        initial_state=encoder_states_locgen)\n",
    "    decoder_dense_locgen = TimeDistributed(Dense(output_diminsion, activation=dense_activation))\n",
    "    glocalNet_output = decoder_dense_locgen(decoder_outputs_locgen)\n",
    "    return Model_(encoder_inputs, glocalNet_output)\n"
   ]
  },
  {
   "cell_type": "markdown",
   "metadata": {
    "id": "4ccVrCxin9KA"
   },
   "source": [
    "### Custom GlocalNet class"
   ]
  },
  {
   "cell_type": "code",
   "execution_count": 9,
   "metadata": {
    "id": "7PIJXvLaaEvY"
   },
   "outputs": [],
   "source": [
    "class GlocalNet(Model_):\n",
    "    \"\"\"\n",
    "    A full GlocalNet implementation include the three main stages\n",
    "    Glogen generating initial sparse frames\n",
    "    Interpolation layer generating dense frames from Glogen output\n",
    "    Locgen generating the final output by smoothing the interpolated frames\n",
    "    \"\"\"\n",
    "    def __init__(self, enocder_hidden_state=200, decoder_hidden_state=200, \n",
    "                 output_diminsion=64, LSTM_dropout=0.25, dense_activation='relu',\n",
    "                 interpolation_frames=5, exclude_locgen=False):\n",
    "        super(GlocalNet, self).__init__()\n",
    "        self.exclude_locgen = exclude_locgen\n",
    "        #Glogen layers\n",
    "        self.glogen_encoder = LSTM(enocder_hidden_state, return_state=True\n",
    "                                   , return_sequences=True, dropout=LSTM_dropout)\n",
    "        self.glogen_decoder = LSTM(decoder_hidden_state, return_sequences=True,\n",
    "                                   return_state=True, dropout=LSTM_dropout)\n",
    "        #Locgen layers\n",
    "        self.locgen_encoder = LSTM(enocder_hidden_state, return_sequences=True,\n",
    "                                   return_state=True, dropout=LSTM_dropout)\n",
    "        self.locgen_decoder = LSTM(decoder_hidden_state, return_sequences=True,\n",
    "                                   return_state=True, dropout=LSTM_dropout)\n",
    "        #Glogen dense layer\n",
    "        self.glogen_dense_layer = TimeDistributed(Dense(output_diminsion,\n",
    "                                                        activation=dense_activation)) \n",
    "        #Interpolation layer\n",
    "        self.interpolation_layer = InterpolationLayer(num_frames=interpolation_frames)\n",
    "        #Locgen dense layer\n",
    "        self.locgen_dense_layer = TimeDistributed(Dense(output_diminsion,\n",
    "                                                        activation=dense_activation)) \n",
    "        \n",
    "    def call(self, inputs):\n",
    "        #Glogen calls      \n",
    "        encoder_outputs, state_h, state_c = self.glogen_encoder(inputs)\n",
    "        encoder_states = [state_h, state_c]\n",
    "        output, _, _ = self.glogen_decoder(encoder_outputs, initial_state=encoder_states)\n",
    "        glogen_output = self.glogen_dense_layer(output)\n",
    "\n",
    "        #Interpolation call\n",
    "        interpolated_frames = self.interpolation_layer(glogen_output)\n",
    "        \n",
    "        if self.exclude_locgen :\n",
    "            return interpolated_frames\n",
    "\n",
    "        #Locgen calls\n",
    "        locgen_encoder_outputs, locgen_state_h, locgen_state_c = self.locgen_encoder(interpolated_frames)\n",
    "        locgen_encoder_states = [locgen_state_h, locgen_state_c]\n",
    "        locgen_output, _, _ = self.locgen_decoder(locgen_encoder_outputs, initial_state=locgen_encoder_states)\n",
    "        final_output = self.locgen_dense_layer(locgen_output)\n",
    "        return final_output"
   ]
  },
  {
   "cell_type": "markdown",
   "metadata": {},
   "source": [
    "### Defining different Types of Loss functions"
   ]
  },
  {
   "cell_type": "code",
   "execution_count": 10,
   "metadata": {
    "id": "bVUFJsv3fVYh"
   },
   "outputs": [],
   "source": [
    "class Loss() :\n",
    "    \"\"\"\n",
    "    Joint loss class with two weight attributes for two different losses\n",
    "    first one is the loss joint and the second is the loss_motion_flow\n",
    "    \"\"\"\n",
    "    \n",
    "    def __init__(self, lambda1=0.5, lambda2=0.5) :\n",
    "        self.lambda1 = lambda1\n",
    "        self.lambda2 = lambda2\n",
    "\n",
    "    def loss_joint(self, predicted_sequance_batch, target_sequance_batch) :\n",
    "        \"\"\"\n",
    "        Loss between the joint positions and its corresponding counterparts in the groundtruth\n",
    "        \"\"\"\n",
    "        diff_norm_2 = tf.math.reduce_sum(tf.square(tf.subtract(predicted_sequance_batch, target_sequance_batch)), axis=2)\n",
    "        return tf.reduce_sum(diff_norm_2, axis=1) \n",
    "\n",
    "    def loss_motion_flow(self, predicted_sequance_batch, target_sequance_batch) :\n",
    "        \"\"\"\n",
    "        Loss between the motion flow of predicted sequance and the ground truth\n",
    "        where the motion flow is the euclidean distance between each two consecutive frames\n",
    "        \"\"\"\n",
    "        predictions_tomporal_diffs = tf.experimental.numpy.diff(predicted_sequance_batch, axis=1)\n",
    "        real_tomporal_diffs = tf.experimental.numpy.diff(target_sequance_batch, axis=1)\n",
    "        prediction_motion_flow_diff_norm_2 = tf.reduce_sum(tf.square(tf.subtract(predictions_tomporal_diffs, real_tomporal_diffs)), axis=2)\n",
    "        return tf.reduce_sum(prediction_motion_flow_diff_norm_2, axis=1)\n",
    "\n",
    "    def total_loss(self, target_sequance_batch, predicted_sequance_batch) :\n",
    "        \"\"\"\n",
    "        calculating the total loss through a combination of the joint_loss and motion_flow_loss\n",
    "        \"\"\"\n",
    "        joints_loss = self.loss_joint(predicted_sequance_batch, target_sequance_batch)\n",
    "        motion_flow_loss = self.loss_motion_flow(predicted_sequance_batch, target_sequance_batch)\n",
    "        return self.lambda1*joints_loss + self.lambda2*motion_flow_loss"
   ]
  },
  {
   "cell_type": "markdown",
   "metadata": {},
   "source": [
    "### Defining different types of Evaluation Metrics"
   ]
  },
  {
   "cell_type": "code",
   "execution_count": 11,
   "metadata": {},
   "outputs": [],
   "source": [
    "class Metrics():\n",
    "    \"\"\"\n",
    "    A class containing different types of Evaluation Metrics.\n",
    "    \"\"\"\n",
    "    \n",
    "    def __init__(self, mmd_kernel='gaussian') :\n",
    "        self.mmd_kernel = mmd_kernel\n",
    "    \n",
    "    def custom_sequence_MMD_loss(self, target_sequance_batch, predicted_sequance_batch):\n",
    "        \"\"\"\n",
    "        Calculating the Sequence MMD Loss between prediction and the ground Truth.\n",
    "        Additionally combining the last two dimensions \n",
    "        \"\"\"\n",
    "        mmd_loss = MMD.MMDLoss(kernel=self.mmd_kernel)\n",
    "        \n",
    "        total_batches = predicted_sequance_batch.shape[0]\n",
    "        frames_per_batch = predicted_sequance_batch.shape[1] * predicted_sequance_batch.shape[2]\n",
    "        \n",
    "        return mmd_loss(tf.reshape(predicted_sequance_batch, [total_batches, frames_per_batch]),\n",
    "                        tf.reshape(target_sequance_batch, [total_batches, frames_per_batch]))\n",
    "    \n",
    "    def NPSS(self, euler_gt_sequences, euler_pred_sequences):\n",
    "        \"\"\"\n",
    "        A function to compute the Normalized Power Spectrum Similarity (NPSS) metric between predictions and the ground Truth [2] and [3].\n",
    "        \"\"\"\n",
    "        # computing 1) fourier coeffs 2)power of fft 3) normalizing power of fft dim-wise 4) cumsum over freq. 5) EMD \n",
    "        gt_fourier_coeffs = np.zeros(euler_gt_sequences.shape, dtype = 'complex_')\n",
    "        pred_fourier_coeffs = np.zeros(euler_pred_sequences.shape, dtype = 'complex_')\n",
    "\n",
    "        # power vars\n",
    "        gt_power = np.zeros((gt_fourier_coeffs.shape))\n",
    "        pred_power = np.zeros((gt_fourier_coeffs.shape))\n",
    "\n",
    "        # normalizing power vars\n",
    "        gt_norm_power = np.zeros(gt_fourier_coeffs.shape)\n",
    "        pred_norm_power = np.zeros(gt_fourier_coeffs.shape)\n",
    "\n",
    "        cdf_gt_power = np.zeros(gt_norm_power.shape)\n",
    "        cdf_pred_power = np.zeros(pred_norm_power.shape)\n",
    "\n",
    "        emd = np.zeros(cdf_pred_power.shape[0:3:2])\n",
    "\n",
    "        # used to store powers of feature_dims and sequences used for avg later\n",
    "        seq_feature_power = np.zeros(euler_gt_sequences.shape[0:3:2])\n",
    "        power_weighted_emd = 0\n",
    "\n",
    "        for s in range(euler_gt_sequences.shape[0]):\n",
    "\n",
    "            for d in range(euler_gt_sequences.shape[2]):\n",
    "                gt_fourier_coeffs[s,:,d] = np.fft.fft(euler_gt_sequences[s,:,d]) # slice is 1D array\n",
    "                pred_fourier_coeffs[s,:,d] = np.fft.fft(euler_pred_sequences[s,:,d])\n",
    "\n",
    "                # computing power of fft per sequence per dim\n",
    "                gt_power[s,:,d] = np.square(np.absolute(gt_fourier_coeffs[s,:,d]))\n",
    "                pred_power[s,:,d] = np.square(np.absolute(pred_fourier_coeffs[s,:,d]))\n",
    "\n",
    "                # matching power of gt and pred sequences\n",
    "                gt_total_power = np.sum(gt_power[s,:,d])\n",
    "                pred_total_power = np.sum(pred_power[s,:,d])\n",
    "                #power_diff = gt_total_power - pred_total_power\n",
    "\n",
    "                # adding power diff to zero freq of pred seq\n",
    "                #pred_power[s,0,d] = pred_power[s,0,d] + power_diff\n",
    "\n",
    "                # computing seq_power and feature_dims power \n",
    "                seq_feature_power[s,d] = gt_total_power\n",
    "\n",
    "                # normalizing power per sequence per dim\n",
    "                if gt_total_power != 0:\n",
    "                    gt_norm_power[s,:,d] = gt_power[s,:,d] / gt_total_power \n",
    "\n",
    "                if pred_total_power !=0:\n",
    "                    pred_norm_power[s,:,d] = pred_power[s,:,d] / pred_total_power\n",
    "\n",
    "                # computing cumsum over freq\n",
    "                cdf_gt_power[s,:,d] = np.cumsum(gt_norm_power[s,:,d]) # slice is 1D\n",
    "                cdf_pred_power[s,:,d] = np.cumsum(pred_norm_power[s,:,d])\n",
    "\n",
    "                # computing EMD \n",
    "                emd[s,d] = np.linalg.norm((cdf_pred_power[s,:,d] - cdf_gt_power[s,:,d]), ord=1)\n",
    "\n",
    "        # computing weighted emd (by sequence and feature powers)\n",
    "        power_weighted_emd = np.average(emd, weights=seq_feature_power) \n",
    "\n",
    "        return power_weighted_emd"
   ]
  },
  {
   "cell_type": "markdown",
   "metadata": {},
   "source": [
    "### A function to start the experiment of training and evaluating the model"
   ]
  },
  {
   "cell_type": "code",
   "execution_count": 40,
   "metadata": {
    "id": "labA65KEakkZ"
   },
   "outputs": [],
   "source": [
    "def run_experiment(sampled_dataX, sampled_dataY, learning_rate=0.002, lambda1=0.5,\n",
    "                   lambda2=0.5, use_mse=False, use_MMD=False, metrics=None, output_diminsion=64,\n",
    "                   batch_size=100, epochs=50, validation_split=0.2, activation=\"relu\",\n",
    "                   dropout=0.25, exclude_locgen=False, interpolate_frames = 5) :\n",
    "    \"\"\"\n",
    "    Method takes all hyperparameters as input paramters and returns the model and history as\n",
    "    a result\n",
    "    \"\"\"\n",
    "    glocal_model = GlocalNet(dense_activation=activation, LSTM_dropout=dropout,\n",
    "                             exclude_locgen=exclude_locgen,\n",
    "                             output_diminsion=output_diminsion, \n",
    "                             interpolation_frames = interpolate_frames)\n",
    "    if use_mse :\n",
    "        loss_function = tf.keras.losses.mean_squared_error\n",
    "    elif use_MMD :\n",
    "        loss_function = Loss().custom_sequence_MMD_loss\n",
    "    else :\n",
    "        loss_function = Loss(lambda1=lambda1, lambda2=lambda2).total_loss\n",
    "\n",
    "    glocal_model.compile(optimizer=tf.keras.optimizers.Adam(learning_rate=learning_rate), \n",
    "                         loss=loss_function, metrics=metrics, run_eagerly=False)\n",
    "    history = glocal_model.fit(sampled_dataX, sampled_dataY, batch_size=batch_size, \n",
    "                               epochs=epochs, validation_split=validation_split)\n",
    "    return history, glocal_model"
   ]
  },
  {
   "cell_type": "markdown",
   "metadata": {},
   "source": [
    "### A function to Resume the experiment of training and evaluating the model"
   ]
  },
  {
   "cell_type": "code",
   "execution_count": 13,
   "metadata": {
    "id": "eq3GlZ4NvHHz"
   },
   "outputs": [],
   "source": [
    "def resume_training(glocal_model, sampled_dataX, sampled_dataY, learning_rate=0.002, lambda1=0.5,\n",
    "                   lambda2=0.5, use_mse=False, use_MMD=False, metrics=None,\n",
    "                   batch_size=100, epochs=50, validation_split=0.2) :\n",
    "    \"\"\"\n",
    "    function to resume training of a model\n",
    "    \"\"\"\n",
    "    if use_mse :\n",
    "        loss_function = tf.keras.losses.mean_squared_error\n",
    "    elif use_MMD :\n",
    "        loss_function = Loss().custom_sequence_MMD_loss\n",
    "    else :\n",
    "        loss_function = Loss(lambda1=lambda1, lambda2=lambda2).total_loss\n",
    "\n",
    "    glocal_model.compile(optimizer=tf.keras.optimizers.Adam(learning_rate=learning_rate),\n",
    "                      loss=loss_function, metrics=metrics)\n",
    "    history = glocal_model.fit(sampled_dataX, sampled_dataY,\n",
    "                            batch_size=batch_size,\n",
    "                            epochs=epochs, validation_split=validation_split)\n",
    "    return history, glocal_model"
   ]
  },
  {
   "cell_type": "markdown",
   "metadata": {},
   "source": [
    "### A function to visualize certain frames from the Dataset"
   ]
  },
  {
   "cell_type": "code",
   "execution_count": 14,
   "metadata": {
    "id": "CIHR8VGhPfHf"
   },
   "outputs": [],
   "source": [
    "def visualize_frames(sample, dynamic_joints_only=False,\n",
    "                    num_frames_to_visualize=10,\n",
    "                    joints_to_ignore=[4,5,9,10,11,16,20,21,22,23,24,28,29,30,31]) :\n",
    "    \"\"\"\n",
    "    Visualization function to draw a certain number of frames in a given sample\n",
    "    ignoring the joints mentioned in joints_to_ignore array\n",
    "    \"\"\"\n",
    "    assert num_frames_to_visualize <= sample.shape[0], f\"number of frames should be less than or equal to the total frames in the sample\"\n",
    "    fig, axs = plt.subplots(ncols=num_frames_to_visualize, figsize=(15, 8))\n",
    "    fig.tight_layout(pad=1.0)\n",
    "    for t in range(num_frames_to_visualize) :\n",
    "        #Removing unnecessary joints for visualization\n",
    "        if(dynamic_joints_only) :\n",
    "            #Check if no joints needs to be removed\n",
    "            truncated_frame = sample[t]\n",
    "        else :\n",
    "            #Removing the joints based on joints_to_ignore\n",
    "            joints_to_ignore_2d = [element * 2 for element in joints_to_ignore]\n",
    "            for i in range(len(joints_to_ignore_2d)) :\n",
    "                joints_to_ignore_2d.append(joints_to_ignore_2d[i]+1)\n",
    "            truncated_frame = np.delete(sample[t], joints_to_ignore_2d)   \n",
    "\n",
    "        #In case of including only moving joints for Human3.6M(17 joints)      \n",
    "        x_axis_array = truncated_frame[0:34:2]\n",
    "        y_axis_array = truncated_frame[1:35:2]\n",
    "        #Scattering all the 17 joints\n",
    "        axs[t].scatter(x_axis_array, y_axis_array)\n",
    "        #Plotting right leg\n",
    "        axs[t].plot(x_axis_array[:4], y_axis_array[:4], \"tab:blue\")\n",
    "        #plotting left leg\n",
    "        axs[t].plot(x_axis_array[[0, 4, 5, 6]], y_axis_array[[0, 4, 5, 6]])\n",
    "        #plotting from hip to head\n",
    "        axs[t].plot(x_axis_array[[0, 7, 8, 9, 10]], y_axis_array[[0, 7, 8, 9, 10]])\n",
    "        #plotting from neck to left shoulder\n",
    "        axs[t].plot(x_axis_array[[9, 11, 12, 13]], y_axis_array[[9, 11, 12, 13]])\n",
    "        #plotting from neck to right shoulder\n",
    "        axs[t].plot(x_axis_array[[9, 14, 15, 16]], y_axis_array[[9, 14, 15, 16]])\n",
    "        axs[t].invert_yaxis()\n",
    "        axs[t].set_xticks([])\n",
    "        axs[t].set_yticks([])\n",
    "    plt.show()"
   ]
  },
  {
   "cell_type": "markdown",
   "metadata": {},
   "source": [
    "## Experimentations"
   ]
  },
  {
   "cell_type": "markdown",
   "metadata": {},
   "source": [
    "### Reading and Preprocessing the Dataset"
   ]
  },
  {
   "cell_type": "code",
   "execution_count": 15,
   "metadata": {
    "id": "f8PgK1UVnkrw"
   },
   "outputs": [],
   "source": [
    "#For long term prediction, we need a sample size of 60(10 frames input sequance, 50 frames predicted sequance)\n",
    "sampled_data_all = Dataset_loading('./H3.6csv', sample_size=60, include_movable_joints=False).read_dataset()"
   ]
  },
  {
   "cell_type": "code",
   "execution_count": 16,
   "metadata": {},
   "outputs": [],
   "source": [
    "#For long term prediction, we need a sample size of 60(10 frames input sequance, 50 frames predicted sequance)\n",
    "sampled_data_movable = Dataset_loading('./H3.6csv', sample_size=60, include_movable_joints=True).read_dataset()"
   ]
  },
  {
   "cell_type": "code",
   "execution_count": 17,
   "metadata": {
    "id": "lw6Tvviol_Ch"
   },
   "outputs": [],
   "source": [
    "#To make the data divisible for batch size of 20\n",
    "total_batches = sampled_data_all.shape[0]\n",
    "sampled_data_all = sampled_data_all[:total_batches-(total_batches%20)]"
   ]
  },
  {
   "cell_type": "code",
   "execution_count": 18,
   "metadata": {},
   "outputs": [],
   "source": [
    "#To make the data divisible for batch size of 20\n",
    "sampled_data_movable = sampled_data_movable[:total_batches-(total_batches%20)]"
   ]
  },
  {
   "cell_type": "code",
   "execution_count": 19,
   "metadata": {
    "id": "h6bSQTwdn2Fo"
   },
   "outputs": [],
   "source": [
    "sampled_dataX_all, sampled_dataY_all = split_to_features_labels(sampled_data_all, input_sequance_size=10, total_features=64)"
   ]
  },
  {
   "cell_type": "code",
   "execution_count": 20,
   "metadata": {},
   "outputs": [],
   "source": [
    "sampled_dataX_movable, sampled_dataY_movable = split_to_features_labels(sampled_data_movable, input_sequance_size=10, total_features=34)"
   ]
  },
  {
   "cell_type": "code",
   "execution_count": 21,
   "metadata": {
    "colab": {
     "base_uri": "https://localhost:8080/"
    },
    "id": "CVXQiscVn4O2",
    "outputId": "dffaa998-a452-4358-d205-9754186aba0b"
   },
   "outputs": [
    {
     "name": "stdout",
     "output_type": "stream",
     "text": [
      "Dataset with all features\n",
      "Total Samples: 25520\n",
      "Total Frames: 50\n",
      "Total Features: 64\n"
     ]
    }
   ],
   "source": [
    "print('Dataset with all features')\n",
    "print('Total Samples: {}\\nTotal Frames: {}\\nTotal Features: {}'.format(sampled_dataY_all.shape[0],\n",
    "                                                                       sampled_dataY_all.shape[1],\n",
    "                                                                       sampled_dataY_all.shape[2]))"
   ]
  },
  {
   "cell_type": "code",
   "execution_count": 22,
   "metadata": {},
   "outputs": [
    {
     "name": "stdout",
     "output_type": "stream",
     "text": [
      "Dataset with only movable features\n",
      "Total Samples: 25520\n",
      "Total Frames: 50\n",
      "Total Features: 34\n"
     ]
    }
   ],
   "source": [
    "print('Dataset with only movable features')\n",
    "print('Total Samples: {}\\nTotal Frames: {}\\nTotal Features: {}'.format(sampled_dataY_movable.shape[0],\n",
    "                                                                       sampled_dataY_movable.shape[1],\n",
    "                                                                       sampled_dataY_movable.shape[2]))"
   ]
  },
  {
   "cell_type": "markdown",
   "metadata": {
    "id": "snGEPtNOKLvg"
   },
   "source": [
    "### Adding Noise and Downsampling to improve model performance and robustness"
   ]
  },
  {
   "cell_type": "code",
   "execution_count": 23,
   "metadata": {
    "id": "4bR0E_RfMlHg"
   },
   "outputs": [],
   "source": [
    "preprocessed_sampled_dataX_all, preprocessed_sampled_dataY_all = preprocess_data(sampled_dataX_all, sampled_dataY_all)"
   ]
  },
  {
   "cell_type": "code",
   "execution_count": 24,
   "metadata": {},
   "outputs": [],
   "source": [
    "preprocessed_sampled_dataX_movable, preprocessed_sampled_dataY_movable = preprocess_data(sampled_dataX_movable, sampled_dataY_movable) "
   ]
  },
  {
   "cell_type": "code",
   "execution_count": 25,
   "metadata": {
    "id": "Z9Bkt02CSh5P"
   },
   "outputs": [],
   "source": [
    "downsampled_data_all = downsampling(sampled_data_all, 'skip')\n",
    "downsampled_data_movable = downsampling(sampled_data_movable, 'skip')"
   ]
  },
  {
   "cell_type": "code",
   "execution_count": 26,
   "metadata": {
    "id": "bsR__kGeSmNG"
   },
   "outputs": [],
   "source": [
    "downsampled_dataX_all, downsampled_dataY_all = split_to_features_labels(downsampled_data_all, input_sequance_size=10, total_features=64)\n",
    "preprocessed_downsampled_dataX_all, preprocessed_downsampled_dataY_all = preprocess_data(downsampled_dataX_all, downsampled_dataY_all)"
   ]
  },
  {
   "cell_type": "code",
   "execution_count": 27,
   "metadata": {},
   "outputs": [],
   "source": [
    "downsampled_dataX_movable, downsampled_dataY_movable = split_to_features_labels(downsampled_data_movable, input_sequance_size=10, total_features=34)\n",
    "preprocessed_downsampled_dataX_movable, preprocessed_downsampled_dataY_movable = preprocess_data(downsampled_dataX_movable, downsampled_dataY_movable)"
   ]
  },
  {
   "cell_type": "markdown",
   "metadata": {
    "id": "Az25davkJq9Y"
   },
   "source": [
    "### Running experiments with different hyperparameters"
   ]
  },
  {
   "cell_type": "markdown",
   "metadata": {},
   "source": [
    "#### GlocalNet Base Implementation Experiments"
   ]
  },
  {
   "cell_type": "markdown",
   "metadata": {
    "id": "KTHffB1KrfBy"
   },
   "source": [
    "##### Experiment Running with MSE Loss and MMD metric with Guassian Kernel"
   ]
  },
  {
   "cell_type": "code",
   "execution_count": null,
   "metadata": {},
   "outputs": [],
   "source": [
    "glocal_model1."
   ]
  },
  {
   "cell_type": "code",
   "execution_count": 42,
   "metadata": {
    "colab": {
     "base_uri": "https://localhost:8080/"
    },
    "id": "sQ-XPaUFd4D0",
    "outputId": "f1ed045c-addf-4bdb-8ee6-e46bfb5fcda7",
    "tags": []
   },
   "outputs": [
    {
     "name": "stdout",
     "output_type": "stream",
     "text": [
      "Epoch 1/50\n",
      "1276/1276 [==============================] - 660s 504ms/step - loss: 100913.1172 - mean_absolute_percentage_error: 54.9956 - custom_sequence_MMD_loss: 0.0500\n",
      "Epoch 2/50\n",
      "1276/1276 [==============================] - 682s 535ms/step - loss: 19743.1445 - mean_absolute_percentage_error: 20.8836 - custom_sequence_MMD_loss: 0.0500\n",
      "Epoch 3/50\n",
      "1276/1276 [==============================] - 678s 531ms/step - loss: 15077.1758 - mean_absolute_percentage_error: 18.8605 - custom_sequence_MMD_loss: 0.0500\n",
      "Epoch 4/50\n",
      "1276/1276 [==============================] - 715s 560ms/step - loss: 15065.5400 - mean_absolute_percentage_error: 18.9155 - custom_sequence_MMD_loss: 0.0500\n",
      "Epoch 5/50\n",
      "1276/1276 [==============================] - 643s 504ms/step - loss: 15065.9375 - mean_absolute_percentage_error: 18.9160 - custom_sequence_MMD_loss: 0.0500\n",
      "Epoch 6/50\n",
      "1276/1276 [==============================] - 625s 490ms/step - loss: 15067.1338 - mean_absolute_percentage_error: 18.9171 - custom_sequence_MMD_loss: 0.0500\n",
      "Epoch 7/50\n",
      "1276/1276 [==============================] - 628s 492ms/step - loss: 15067.9043 - mean_absolute_percentage_error: 18.9068 - custom_sequence_MMD_loss: 0.0500\n",
      "Epoch 8/50\n",
      "1276/1276 [==============================] - 629s 493ms/step - loss: 15067.3037 - mean_absolute_percentage_error: 18.9258 - custom_sequence_MMD_loss: 0.0500\n",
      "Epoch 9/50\n",
      "1276/1276 [==============================] - 626s 491ms/step - loss: 15067.7383 - mean_absolute_percentage_error: 18.9098 - custom_sequence_MMD_loss: 0.0500\n",
      "Epoch 10/50\n",
      "1276/1276 [==============================] - 623s 489ms/step - loss: 15066.8311 - mean_absolute_percentage_error: 18.9209 - custom_sequence_MMD_loss: 0.0500\n",
      "Epoch 11/50\n",
      "1276/1276 [==============================] - 630s 494ms/step - loss: 15072.0410 - mean_absolute_percentage_error: 18.8886 - custom_sequence_MMD_loss: 0.0500\n",
      "Epoch 12/50\n",
      "1276/1276 [==============================] - 640s 502ms/step - loss: 15066.4941 - mean_absolute_percentage_error: 18.9104 - custom_sequence_MMD_loss: 0.0500\n",
      "Epoch 13/50\n",
      "1276/1276 [==============================] - 672s 526ms/step - loss: 15065.6816 - mean_absolute_percentage_error: 18.9134 - custom_sequence_MMD_loss: 0.0500\n",
      "Epoch 14/50\n",
      "1276/1276 [==============================] - 667s 523ms/step - loss: 15065.9727 - mean_absolute_percentage_error: 18.9171 - custom_sequence_MMD_loss: 0.0500\n",
      "Epoch 15/50\n",
      "1276/1276 [==============================] - 655s 513ms/step - loss: 15065.5283 - mean_absolute_percentage_error: 18.9110 - custom_sequence_MMD_loss: 0.0500\n",
      "Epoch 16/50\n",
      "1276/1276 [==============================] - 653s 512ms/step - loss: 15066.3320 - mean_absolute_percentage_error: 18.9165 - custom_sequence_MMD_loss: 0.0500\n",
      "Epoch 17/50\n",
      "1276/1276 [==============================] - 619s 485ms/step - loss: 15065.4961 - mean_absolute_percentage_error: 18.9097 - custom_sequence_MMD_loss: 0.0500\n",
      "Epoch 18/50\n",
      "1276/1276 [==============================] - 626s 490ms/step - loss: 15064.2920 - mean_absolute_percentage_error: 18.9171 - custom_sequence_MMD_loss: 0.0500\n",
      "Epoch 19/50\n",
      "1276/1276 [==============================] - 624s 489ms/step - loss: 15066.1074 - mean_absolute_percentage_error: 18.8954 - custom_sequence_MMD_loss: 0.0500\n",
      "Epoch 20/50\n",
      "1276/1276 [==============================] - 625s 490ms/step - loss: 15069.1484 - mean_absolute_percentage_error: 18.9088 - custom_sequence_MMD_loss: 0.0500\n",
      "Epoch 21/50\n",
      "1276/1276 [==============================] - 631s 494ms/step - loss: 15066.5742 - mean_absolute_percentage_error: 18.9108 - custom_sequence_MMD_loss: 0.0500\n",
      "Epoch 22/50\n",
      "1276/1276 [==============================] - 624s 489ms/step - loss: 15066.8770 - mean_absolute_percentage_error: 18.9057 - custom_sequence_MMD_loss: 0.0500\n",
      "Epoch 23/50\n",
      "1276/1276 [==============================] - 639s 501ms/step - loss: 15066.6367 - mean_absolute_percentage_error: 18.9136 - custom_sequence_MMD_loss: 0.0500\n",
      "Epoch 24/50\n",
      "1276/1276 [==============================] - 752s 590ms/step - loss: 15065.9766 - mean_absolute_percentage_error: 18.9161 - custom_sequence_MMD_loss: 0.0500\n",
      "Epoch 25/50\n",
      "1276/1276 [==============================] - 740s 580ms/step - loss: 15066.8115 - mean_absolute_percentage_error: 18.9163 - custom_sequence_MMD_loss: 0.0500\n",
      "Epoch 26/50\n",
      "1276/1276 [==============================] - 739s 579ms/step - loss: 15066.9541 - mean_absolute_percentage_error: 18.9121 - custom_sequence_MMD_loss: 0.0500\n",
      "Epoch 27/50\n",
      "1276/1276 [==============================] - 742s 581ms/step - loss: 15065.6230 - mean_absolute_percentage_error: 18.9157 - custom_sequence_MMD_loss: 0.0500\n",
      "Epoch 28/50\n",
      "1276/1276 [==============================] - 697s 546ms/step - loss: 15080.3760 - mean_absolute_percentage_error: 18.9104 - custom_sequence_MMD_loss: 0.0501\n",
      "Epoch 29/50\n",
      "1276/1276 [==============================] - 632s 495ms/step - loss: 15065.0508 - mean_absolute_percentage_error: 18.9111 - custom_sequence_MMD_loss: 0.0500\n",
      "Epoch 30/50\n",
      "1276/1276 [==============================] - 631s 495ms/step - loss: 15065.4805 - mean_absolute_percentage_error: 18.9158 - custom_sequence_MMD_loss: 0.0500\n",
      "Epoch 31/50\n",
      "1276/1276 [==============================] - 626s 491ms/step - loss: 15068.7588 - mean_absolute_percentage_error: 18.9242 - custom_sequence_MMD_loss: 0.0500\n",
      "Epoch 32/50\n",
      "1276/1276 [==============================] - 629s 493ms/step - loss: 15065.9434 - mean_absolute_percentage_error: 18.9204 - custom_sequence_MMD_loss: 0.0500\n",
      "Epoch 33/50\n",
      "1276/1276 [==============================] - 628s 492ms/step - loss: 15065.5400 - mean_absolute_percentage_error: 18.9166 - custom_sequence_MMD_loss: 0.0500\n",
      "Epoch 34/50\n",
      "1276/1276 [==============================] - 628s 492ms/step - loss: 15066.2812 - mean_absolute_percentage_error: 18.9167 - custom_sequence_MMD_loss: 0.0500\n",
      "Epoch 35/50\n",
      "1276/1276 [==============================] - 629s 493ms/step - loss: 15066.0537 - mean_absolute_percentage_error: 18.9119 - custom_sequence_MMD_loss: 0.0500\n",
      "Epoch 36/50\n",
      "1276/1276 [==============================] - 631s 495ms/step - loss: 15068.3184 - mean_absolute_percentage_error: 18.9051 - custom_sequence_MMD_loss: 0.0500\n",
      "Epoch 37/50\n",
      "1276/1276 [==============================] - 637s 499ms/step - loss: 15067.7705 - mean_absolute_percentage_error: 18.8937 - custom_sequence_MMD_loss: 0.0500\n",
      "Epoch 38/50\n",
      "1276/1276 [==============================] - 635s 498ms/step - loss: 15065.9746 - mean_absolute_percentage_error: 18.9067 - custom_sequence_MMD_loss: 0.0500\n",
      "Epoch 39/50\n",
      "1276/1276 [==============================] - 627s 492ms/step - loss: 15066.0488 - mean_absolute_percentage_error: 18.9235 - custom_sequence_MMD_loss: 0.0500\n",
      "Epoch 40/50\n",
      "1276/1276 [==============================] - 635s 497ms/step - loss: 15065.6211 - mean_absolute_percentage_error: 18.9084 - custom_sequence_MMD_loss: 0.0500\n",
      "Epoch 41/50\n",
      "1276/1276 [==============================] - 636s 499ms/step - loss: 15068.5283 - mean_absolute_percentage_error: 18.9276 - custom_sequence_MMD_loss: 0.0500\n",
      "Epoch 42/50\n",
      "1276/1276 [==============================] - 631s 495ms/step - loss: 15066.7588 - mean_absolute_percentage_error: 18.9114 - custom_sequence_MMD_loss: 0.0500\n",
      "Epoch 43/50\n",
      "1276/1276 [==============================] - 633s 496ms/step - loss: 15065.9727 - mean_absolute_percentage_error: 18.9114 - custom_sequence_MMD_loss: 0.0500\n",
      "Epoch 44/50\n",
      "1276/1276 [==============================] - 635s 498ms/step - loss: 15067.9814 - mean_absolute_percentage_error: 18.9238 - custom_sequence_MMD_loss: 0.0500\n",
      "Epoch 45/50\n",
      "1276/1276 [==============================] - 668s 524ms/step - loss: 15067.7568 - mean_absolute_percentage_error: 18.9167 - custom_sequence_MMD_loss: 0.0500\n",
      "Epoch 46/50\n",
      "1276/1276 [==============================] - 750s 588ms/step - loss: 15065.9131 - mean_absolute_percentage_error: 18.9076 - custom_sequence_MMD_loss: 0.0500\n",
      "Epoch 47/50\n",
      "1276/1276 [==============================] - 707s 554ms/step - loss: 15073.1006 - mean_absolute_percentage_error: 18.9120 - custom_sequence_MMD_loss: 0.0500\n",
      "Epoch 48/50\n",
      "1276/1276 [==============================] - 632s 495ms/step - loss: 15065.6953 - mean_absolute_percentage_error: 18.9142 - custom_sequence_MMD_loss: 0.0500\n",
      "Epoch 49/50\n",
      "1276/1276 [==============================] - 636s 498ms/step - loss: 15066.5596 - mean_absolute_percentage_error: 18.9103 - custom_sequence_MMD_loss: 0.0500\n",
      "Epoch 50/50\n",
      "1276/1276 [==============================] - 631s 494ms/step - loss: 15067.4033 - mean_absolute_percentage_error: 18.9158 - custom_sequence_MMD_loss: 0.0500\n"
     ]
    }
   ],
   "source": [
    "history_model1, glocal_model1 = run_experiment(sampled_dataX_all, sampled_dataY_all, epochs=50, batch_size=20, use_mse=True, validation_split=0.0,\n",
    "                                               metrics=[tf.keras.losses.mean_absolute_percentage_error, Metrics().custom_sequence_MMD_loss])"
   ]
  },
  {
   "cell_type": "markdown",
   "metadata": {},
   "source": [
    "##### Experiment Running with Joint Loss and MMD metric with Guassian Kernel"
   ]
  },
  {
   "cell_type": "code",
   "execution_count": null,
   "metadata": {
    "colab": {
     "base_uri": "https://localhost:8080/"
    },
    "id": "a7FQ-HQ4bPVi",
    "outputId": "89e882cb-f5fd-4d5f-d5af-1497efaba172"
   },
   "outputs": [],
   "source": [
    "history_model2, glocal_model2 = run_experiment(sampled_dataX_all, sampled_dataY_all, epochs=50, batch_size=20, lambda1=0.5, lambda2=0.5, \n",
    "                                               validation_split=0.0, metrics=[tf.keras.losses.mean_absolute_percentage_error, \n",
    "                                                                     Metrics().custom_sequence_MMD_loss])"
   ]
  },
  {
   "cell_type": "markdown",
   "metadata": {},
   "source": [
    "##### Experiment Running with MSE and MMD metric with Laplacian Kernel"
   ]
  },
  {
   "cell_type": "code",
   "execution_count": null,
   "metadata": {
    "colab": {
     "base_uri": "https://localhost:8080/"
    },
    "id": "3wKSm6QMuGuc",
    "outputId": "e4be73cf-1c86-4ec8-d4d1-36b52558e78f"
   },
   "outputs": [],
   "source": [
    "history_model3, glocal_model3 = run_experiment(sampled_dataX_all, sampled_dataY_all, epochs=10, batch_size=20, use_mse=True, validation_split=0.0,\n",
    "                                               metrics=[tf.keras.losses.mean_absolute_percentage_error, \n",
    "                                                        Metrics(mmd_kernel=\"laplacian\").custom_sequence_MMD_loss])"
   ]
  },
  {
   "cell_type": "markdown",
   "metadata": {},
   "source": [
    "##### Experiment Running with Joint Loss and MMD metric with Laplacian Kernel"
   ]
  },
  {
   "cell_type": "code",
   "execution_count": null,
   "metadata": {},
   "outputs": [],
   "source": [
    "history_model4, glocal_model4 = run_experiment(sampled_dataX_all, sampled_dataY_all, epochs=10, batch_size=20, lambda1=0.5, lambda2=0.5, \n",
    "                                               validation_split=0.0, metrics=[tf.keras.losses.mean_absolute_percentage_error, \n",
    "                                                                              Metrics(mmd_kernel=\"laplacian\").custom_sequence_MMD_loss])"
   ]
  },
  {
   "cell_type": "markdown",
   "metadata": {},
   "source": [
    "##### Experiment Running with MSE, MMD metric and without Locgen"
   ]
  },
  {
   "cell_type": "code",
   "execution_count": null,
   "metadata": {},
   "outputs": [],
   "source": [
    "history_model5, glocal_model5 = run_experiment(sampled_dataX_all, sampled_dataY_all, epochs=10, batch_size=20, use_mse=True, validation_split=0.0, \n",
    "                                               exclude_locgen=True, metrics=[tf.keras.losses.mean_absolute_percentage_error, \n",
    "                                                                             Metrics().custom_sequence_MMD_loss])"
   ]
  },
  {
   "cell_type": "markdown",
   "metadata": {},
   "source": [
    "#### Advancements in the Base Paper"
   ]
  },
  {
   "cell_type": "markdown",
   "metadata": {
    "id": "hQg05uuoRtEi"
   },
   "source": [
    "##### Running Experiment with whole Preprocessed Data and without Downsampling"
   ]
  },
  {
   "cell_type": "code",
   "execution_count": null,
   "metadata": {
    "colab": {
     "base_uri": "https://localhost:8080/"
    },
    "id": "On6oHsxuRxFS",
    "outputId": "649b7b9d-9b2f-449e-f315-57fa90653182"
   },
   "outputs": [],
   "source": [
    "history_model6, glocal_model6 = run_experiment(preprocessed_sampled_dataX_all, preprocessed_sampled_dataY_all, batch_size=20, dropout=0.0,\n",
    "                                               epochs=10, use_mse=True, validation_split=0.0, metrics=[Metrics().custom_sequence_MMD_loss, \n",
    "                                                                                                       tf.keras.losses.mean_absolute_percentage_error])"
   ]
  },
  {
   "cell_type": "markdown",
   "metadata": {},
   "source": [
    "##### Running Experiment with whole Preprocessed Data and without Downsampling and Locgen"
   ]
  },
  {
   "cell_type": "code",
   "execution_count": null,
   "metadata": {
    "colab": {
     "base_uri": "https://localhost:8080/"
    },
    "id": "zDY6p981x_s3",
    "outputId": "39c3be43-5832-48f4-fdc5-f50d04b2ceff"
   },
   "outputs": [],
   "source": [
    "history_model7, glocal_model7 = run_experiment(preprocessed_sampled_dataX_all, preprocessed_sampled_dataY_all, batch_size=20, dropout=0.0, \n",
    "                                               exclude_locgen=True, epochs=50, use_mse=True, validation_split=0.0,\n",
    "                                               metrics=[Metrics().custom_sequence_MMD_loss, tf.keras.losses.mean_absolute_percentage_error])"
   ]
  },
  {
   "cell_type": "markdown",
   "metadata": {},
   "source": [
    "##### Running Experiment with Preprocessed movable Datapoints and without Downsampling"
   ]
  },
  {
   "cell_type": "code",
   "execution_count": null,
   "metadata": {},
   "outputs": [],
   "source": [
    "history_model8, glocal_model8 = run_experiment(preprocessed_sampled_dataX_movable, preprocessed_sampled_dataY_movable, batch_size=20, dropout=0.0,\n",
    "                                               epochs=50, use_mse=True, validation_split=0.0,\n",
    "                                               metrics=[Metrics().custom_sequence_MMD_loss, tf.keras.losses.mean_absolute_percentage_error])"
   ]
  },
  {
   "cell_type": "markdown",
   "metadata": {},
   "source": [
    "##### Running Experiment with Preprocessed movable Datapoints and without Downsampling and Locgen"
   ]
  },
  {
   "cell_type": "code",
   "execution_count": null,
   "metadata": {},
   "outputs": [],
   "source": [
    "history_model9, glocal_model9 = run_experiment(preprocessed_sampled_dataX_movable, preprocessed_sampled_dataY_movable, batch_size=20, dropout=0.0, \n",
    "                                               exclude_locgen=True, epochs=50, use_mse=True, validation_split=0.0,\n",
    "                                               metrics=[Metrics().custom_sequence_MMD_loss, tf.keras.losses.mean_absolute_percentage_error])"
   ]
  },
  {
   "cell_type": "markdown",
   "metadata": {
    "id": "3usu4ibvUV2t"
   },
   "source": [
    "##### Running Experiment with whole Downsampled data"
   ]
  },
  {
   "cell_type": "code",
   "execution_count": 46,
   "metadata": {
    "colab": {
     "base_uri": "https://localhost:8080/"
    },
    "id": "K8uq_0kfTUDp",
    "outputId": "b27fc7b6-922a-43e4-b45d-c99a1c289bd1"
   },
   "outputs": [
    {
     "name": "stdout",
     "output_type": "stream",
     "text": [
      "Epoch 1/50\n",
      "1276/1276 [==============================] - 397s 303ms/step - loss: 106107.8750 - custom_sequence_MMD_loss: 0.0500 - mean_absolute_percentage_error: 56.3934\n",
      "Epoch 2/50\n",
      "1276/1276 [==============================] - 392s 307ms/step - loss: 28600.6172 - custom_sequence_MMD_loss: 0.0500 - mean_absolute_percentage_error: 24.0044\n",
      "Epoch 3/50\n",
      "1276/1276 [==============================] - 379s 297ms/step - loss: 25512.0234 - custom_sequence_MMD_loss: 0.0500 - mean_absolute_percentage_error: 22.9791\n",
      "Epoch 4/50\n",
      "1276/1276 [==============================] - 372s 292ms/step - loss: 25503.4863 - custom_sequence_MMD_loss: 0.0500 - mean_absolute_percentage_error: 23.0215\n",
      "Epoch 5/50\n",
      "1276/1276 [==============================] - 325s 255ms/step - loss: 25504.8301 - custom_sequence_MMD_loss: 0.0500 - mean_absolute_percentage_error: 23.0281\n",
      "Epoch 6/50\n",
      "1276/1276 [==============================] - 323s 253ms/step - loss: 25505.8438 - custom_sequence_MMD_loss: 0.0500 - mean_absolute_percentage_error: 23.0197\n",
      "Epoch 7/50\n",
      "1276/1276 [==============================] - 323s 253ms/step - loss: 25505.6309 - custom_sequence_MMD_loss: 0.0500 - mean_absolute_percentage_error: 23.0233\n",
      "Epoch 8/50\n",
      "1276/1276 [==============================] - 323s 253ms/step - loss: 25505.5215 - custom_sequence_MMD_loss: 0.0500 - mean_absolute_percentage_error: 23.0206\n",
      "Epoch 9/50\n",
      "1276/1276 [==============================] - 322s 252ms/step - loss: 25505.1289 - custom_sequence_MMD_loss: 0.0500 - mean_absolute_percentage_error: 23.0288\n",
      "Epoch 10/50\n",
      "1276/1276 [==============================] - 324s 254ms/step - loss: 25504.3887 - custom_sequence_MMD_loss: 0.0500 - mean_absolute_percentage_error: 23.0201\n",
      "Epoch 11/50\n",
      "1276/1276 [==============================] - 325s 254ms/step - loss: 25506.5938 - custom_sequence_MMD_loss: 0.0500 - mean_absolute_percentage_error: 23.0193\n",
      "Epoch 12/50\n",
      "1276/1276 [==============================] - 323s 253ms/step - loss: 25506.5254 - custom_sequence_MMD_loss: 0.0500 - mean_absolute_percentage_error: 23.0242\n",
      "Epoch 13/50\n",
      "1276/1276 [==============================] - 324s 254ms/step - loss: 25506.2422 - custom_sequence_MMD_loss: 0.0500 - mean_absolute_percentage_error: 23.0267\n",
      "Epoch 14/50\n",
      "1276/1276 [==============================] - 320s 251ms/step - loss: 25341.8125 - custom_sequence_MMD_loss: 0.0500 - mean_absolute_percentage_error: 22.9484\n",
      "Epoch 15/50\n",
      "1276/1276 [==============================] - 322s 253ms/step - loss: 22764.6895 - custom_sequence_MMD_loss: 0.0500 - mean_absolute_percentage_error: 21.6698\n",
      "Epoch 16/50\n",
      "1276/1276 [==============================] - 323s 253ms/step - loss: 22723.6172 - custom_sequence_MMD_loss: 0.0500 - mean_absolute_percentage_error: 21.6537\n",
      "Epoch 17/50\n",
      "1276/1276 [==============================] - 325s 254ms/step - loss: 22723.2070 - custom_sequence_MMD_loss: 0.0500 - mean_absolute_percentage_error: 21.6560\n",
      "Epoch 18/50\n",
      "1276/1276 [==============================] - 324s 254ms/step - loss: 22721.5879 - custom_sequence_MMD_loss: 0.0500 - mean_absolute_percentage_error: 21.6531\n",
      "Epoch 19/50\n",
      "1276/1276 [==============================] - 324s 254ms/step - loss: 22719.5488 - custom_sequence_MMD_loss: 0.0500 - mean_absolute_percentage_error: 21.6462\n",
      "Epoch 20/50\n",
      "1276/1276 [==============================] - 320s 251ms/step - loss: 22721.3926 - custom_sequence_MMD_loss: 0.0500 - mean_absolute_percentage_error: 21.6540\n",
      "Epoch 21/50\n",
      "1276/1276 [==============================] - 323s 253ms/step - loss: 22721.2070 - custom_sequence_MMD_loss: 0.0500 - mean_absolute_percentage_error: 21.6514\n",
      "Epoch 22/50\n",
      "1276/1276 [==============================] - 324s 254ms/step - loss: 22719.5684 - custom_sequence_MMD_loss: 0.0500 - mean_absolute_percentage_error: 21.6519\n",
      "Epoch 23/50\n",
      "1276/1276 [==============================] - 323s 253ms/step - loss: 22718.9199 - custom_sequence_MMD_loss: 0.0500 - mean_absolute_percentage_error: 21.6474\n",
      "Epoch 24/50\n",
      "1276/1276 [==============================] - 326s 255ms/step - loss: 22718.9238 - custom_sequence_MMD_loss: 0.0500 - mean_absolute_percentage_error: 21.6510\n",
      "Epoch 25/50\n",
      "1276/1276 [==============================] - 323s 253ms/step - loss: 22722.4180 - custom_sequence_MMD_loss: 0.0500 - mean_absolute_percentage_error: 21.6345\n",
      "Epoch 26/50\n",
      "1276/1276 [==============================] - 323s 253ms/step - loss: 22722.0039 - custom_sequence_MMD_loss: 0.0500 - mean_absolute_percentage_error: 21.6517\n",
      "Epoch 27/50\n",
      "1276/1276 [==============================] - 323s 253ms/step - loss: 22720.5723 - custom_sequence_MMD_loss: 0.0500 - mean_absolute_percentage_error: 21.6556\n",
      "Epoch 28/50\n",
      "1276/1276 [==============================] - 324s 254ms/step - loss: 22719.7461 - custom_sequence_MMD_loss: 0.0500 - mean_absolute_percentage_error: 21.6525\n",
      "Epoch 29/50\n",
      "1276/1276 [==============================] - 323s 253ms/step - loss: 22718.8711 - custom_sequence_MMD_loss: 0.0500 - mean_absolute_percentage_error: 21.6481\n",
      "Epoch 30/50\n",
      "1276/1276 [==============================] - 323s 253ms/step - loss: 22717.8613 - custom_sequence_MMD_loss: 0.0500 - mean_absolute_percentage_error: 21.6465\n",
      "Epoch 31/50\n",
      "1276/1276 [==============================] - 321s 252ms/step - loss: 22718.3047 - custom_sequence_MMD_loss: 0.0500 - mean_absolute_percentage_error: 21.6511\n",
      "Epoch 32/50\n",
      "1276/1276 [==============================] - 323s 253ms/step - loss: 22718.4395 - custom_sequence_MMD_loss: 0.0500 - mean_absolute_percentage_error: 21.6523\n",
      "Epoch 33/50\n",
      "1276/1276 [==============================] - 326s 255ms/step - loss: 22719.7793 - custom_sequence_MMD_loss: 0.0500 - mean_absolute_percentage_error: 21.6527\n",
      "Epoch 34/50\n",
      "1276/1276 [==============================] - 323s 253ms/step - loss: 22716.9902 - custom_sequence_MMD_loss: 0.0500 - mean_absolute_percentage_error: 21.6471\n",
      "Epoch 35/50\n",
      "1276/1276 [==============================] - 331s 259ms/step - loss: 22719.1328 - custom_sequence_MMD_loss: 0.0500 - mean_absolute_percentage_error: 21.6523\n",
      "Epoch 36/50\n",
      "1276/1276 [==============================] - 322s 253ms/step - loss: 21598.9766 - custom_sequence_MMD_loss: 0.0500 - mean_absolute_percentage_error: 20.7880\n",
      "Epoch 37/50\n",
      "1276/1276 [==============================] - 324s 254ms/step - loss: 19953.5488 - custom_sequence_MMD_loss: 0.0500 - mean_absolute_percentage_error: 19.1220\n",
      "Epoch 38/50\n",
      "1276/1276 [==============================] - 325s 255ms/step - loss: 19309.5938 - custom_sequence_MMD_loss: 0.0500 - mean_absolute_percentage_error: 18.3924\n",
      "Epoch 39/50\n",
      "1276/1276 [==============================] - 325s 255ms/step - loss: 19633.4141 - custom_sequence_MMD_loss: 0.0500 - mean_absolute_percentage_error: 18.7239\n",
      "Epoch 40/50\n",
      "1276/1276 [==============================] - 324s 254ms/step - loss: 19222.8477 - custom_sequence_MMD_loss: 0.0500 - mean_absolute_percentage_error: 18.3173\n",
      "Epoch 41/50\n",
      "1276/1276 [==============================] - 328s 257ms/step - loss: 19396.4160 - custom_sequence_MMD_loss: 0.0500 - mean_absolute_percentage_error: 18.4943\n",
      "Epoch 42/50\n",
      "1276/1276 [==============================] - 323s 253ms/step - loss: 19008.2324 - custom_sequence_MMD_loss: 0.0500 - mean_absolute_percentage_error: 17.9939\n",
      "Epoch 43/50\n",
      "1276/1276 [==============================] - 326s 255ms/step - loss: 18413.4590 - custom_sequence_MMD_loss: 0.0500 - mean_absolute_percentage_error: 17.2551\n",
      "Epoch 44/50\n",
      "1276/1276 [==============================] - 326s 255ms/step - loss: 18280.2363 - custom_sequence_MMD_loss: 0.0500 - mean_absolute_percentage_error: 17.0484\n",
      "Epoch 45/50\n",
      "1276/1276 [==============================] - 325s 255ms/step - loss: 18272.8496 - custom_sequence_MMD_loss: 0.0500 - mean_absolute_percentage_error: 17.0517\n",
      "Epoch 46/50\n",
      "1276/1276 [==============================] - 327s 256ms/step - loss: 18219.9141 - custom_sequence_MMD_loss: 0.0500 - mean_absolute_percentage_error: 16.9450\n",
      "Epoch 47/50\n",
      "1276/1276 [==============================] - 324s 254ms/step - loss: 18233.7598 - custom_sequence_MMD_loss: 0.0500 - mean_absolute_percentage_error: 16.9422\n",
      "Epoch 48/50\n",
      "1276/1276 [==============================] - 336s 263ms/step - loss: 18204.4746 - custom_sequence_MMD_loss: 0.0500 - mean_absolute_percentage_error: 16.9291\n",
      "Epoch 49/50\n",
      "1276/1276 [==============================] - 331s 259ms/step - loss: 18189.7715 - custom_sequence_MMD_loss: 0.0500 - mean_absolute_percentage_error: 16.9030\n",
      "Epoch 50/50\n",
      "1276/1276 [==============================] - 340s 267ms/step - loss: 18307.3574 - custom_sequence_MMD_loss: 0.0500 - mean_absolute_percentage_error: 17.0852\n"
     ]
    }
   ],
   "source": [
    "history_model10, glocal_model10 = run_experiment(preprocessed_downsampled_dataX_all, preprocessed_downsampled_dataY_all, batch_size=20, dropout=0.0,\n",
    "                                                 epochs=50, use_mse=True, output_diminsion=64, validation_split=0.0, interpolate_frames = 2,\n",
    "                                                 metrics=[Metrics().custom_sequence_MMD_loss, tf.keras.losses.mean_absolute_percentage_error])"
   ]
  },
  {
   "cell_type": "markdown",
   "metadata": {},
   "source": [
    "##### Running Experiment with whole Downsampled data and without Locgen"
   ]
  },
  {
   "cell_type": "code",
   "execution_count": 34,
   "metadata": {
    "colab": {
     "base_uri": "https://localhost:8080/"
    },
    "id": "OvcEDqawr6dS",
    "outputId": "bb35a0d1-79e8-4322-d83f-8e534e7ed99e"
   },
   "outputs": [
    {
     "name": "stdout",
     "output_type": "stream",
     "text": [
      "Epoch 1/10\n",
      "1276/1276 [==============================] - 1268s 993ms/step - loss: 121956.7109 - custom_sequence_MMD_loss: 0.0500 - mean_absolute_percentage_error: 61.3492\n",
      "Epoch 2/10\n",
      "1276/1276 [==============================] - 1305s 1s/step - loss: 53915.3672 - custom_sequence_MMD_loss: 0.0500 - mean_absolute_percentage_error: 32.7092\n",
      "Epoch 3/10\n",
      "1276/1276 [==============================] - 1306s 1s/step - loss: 51111.3633 - custom_sequence_MMD_loss: 0.0500 - mean_absolute_percentage_error: 31.6576\n",
      "Epoch 4/10\n",
      "1276/1276 [==============================] - 1205s 944ms/step - loss: 51101.5586 - custom_sequence_MMD_loss: 0.0500 - mean_absolute_percentage_error: 31.6962\n",
      "Epoch 5/10\n",
      "1276/1276 [==============================] - 1205s 945ms/step - loss: 51102.8047 - custom_sequence_MMD_loss: 0.0500 - mean_absolute_percentage_error: 31.6917\n",
      "Epoch 6/10\n",
      "1276/1276 [==============================] - 1243s 974ms/step - loss: 51102.9414 - custom_sequence_MMD_loss: 0.0500 - mean_absolute_percentage_error: 31.6961\n",
      "Epoch 7/10\n",
      "1276/1276 [==============================] - 1258s 986ms/step - loss: 51103.5078 - custom_sequence_MMD_loss: 0.0500 - mean_absolute_percentage_error: 31.6944\n",
      "Epoch 8/10\n",
      "1276/1276 [==============================] - 1205s 944ms/step - loss: 51103.3672 - custom_sequence_MMD_loss: 0.0500 - mean_absolute_percentage_error: 31.6950\n",
      "Epoch 9/10\n",
      "1276/1276 [==============================] - 1199s 940ms/step - loss: 49003.5508 - custom_sequence_MMD_loss: 0.0500 - mean_absolute_percentage_error: 31.1273\n",
      "Epoch 10/10\n",
      "1276/1276 [==============================] - 1274s 998ms/step - loss: 46759.2422 - custom_sequence_MMD_loss: 0.0500 - mean_absolute_percentage_error: 30.4646\n"
     ]
    }
   ],
   "source": [
    "history_model11, glocal_model11 = run_experiment(preprocessed_downsampled_dataX_all, preprocessed_downsampled_dataY_all, batch_size=20, dropout=0.0, \n",
    "                                                 exclude_locgen=True, epochs=50, use_mse=True, output_diminsion=64, validation_split=0.0, \n",
    "                                                 interpolate_frames = 2, metrics=[Metrics().custom_sequence_MMD_loss, \n",
    "                                                                                 tf.keras.losses.mean_absolute_percentage_error])"
   ]
  },
  {
   "cell_type": "markdown",
   "metadata": {},
   "source": [
    "##### Running Experiment with Downsampled movable datapoints"
   ]
  },
  {
   "cell_type": "code",
   "execution_count": 44,
   "metadata": {},
   "outputs": [
    {
     "name": "stdout",
     "output_type": "stream",
     "text": [
      "Epoch 1/50\n",
      "1276/1276 [==============================] - 359s 275ms/step - loss: 98070.3125 - custom_sequence_MMD_loss: 0.0500 - mean_absolute_percentage_error: 54.4429\n",
      "Epoch 2/50\n",
      "1276/1276 [==============================] - 350s 275ms/step - loss: 20567.4141 - custom_sequence_MMD_loss: 0.0500 - mean_absolute_percentage_error: 20.3159\n",
      "Epoch 3/50\n",
      "1276/1276 [==============================] - 348s 273ms/step - loss: 17564.4316 - custom_sequence_MMD_loss: 0.0500 - mean_absolute_percentage_error: 19.1779\n",
      "Epoch 4/50\n",
      "1276/1276 [==============================] - 347s 272ms/step - loss: 17555.1348 - custom_sequence_MMD_loss: 0.0500 - mean_absolute_percentage_error: 19.2273\n",
      "Epoch 5/50\n",
      "1276/1276 [==============================] - 340s 267ms/step - loss: 17554.7715 - custom_sequence_MMD_loss: 0.0500 - mean_absolute_percentage_error: 19.2131\n",
      "Epoch 6/50\n",
      "1276/1276 [==============================] - 340s 267ms/step - loss: 17554.5234 - custom_sequence_MMD_loss: 0.0500 - mean_absolute_percentage_error: 19.2261\n",
      "Epoch 7/50\n",
      "1276/1276 [==============================] - 341s 267ms/step - loss: 17555.7812 - custom_sequence_MMD_loss: 0.0500 - mean_absolute_percentage_error: 19.2305\n",
      "Epoch 8/50\n",
      "1276/1276 [==============================] - 337s 264ms/step - loss: 17553.3848 - custom_sequence_MMD_loss: 0.0500 - mean_absolute_percentage_error: 19.2207\n",
      "Epoch 9/50\n",
      "1276/1276 [==============================] - 341s 267ms/step - loss: 17551.9746 - custom_sequence_MMD_loss: 0.0500 - mean_absolute_percentage_error: 19.2175\n",
      "Epoch 10/50\n",
      "1276/1276 [==============================] - 342s 268ms/step - loss: 17551.4004 - custom_sequence_MMD_loss: 0.0500 - mean_absolute_percentage_error: 19.2154\n",
      "Epoch 11/50\n",
      "1276/1276 [==============================] - 340s 267ms/step - loss: 17550.5566 - custom_sequence_MMD_loss: 0.0500 - mean_absolute_percentage_error: 19.2172\n",
      "Epoch 12/50\n",
      "1276/1276 [==============================] - 343s 269ms/step - loss: 17549.1992 - custom_sequence_MMD_loss: 0.0500 - mean_absolute_percentage_error: 19.2148\n",
      "Epoch 13/50\n",
      "1276/1276 [==============================] - 359s 282ms/step - loss: 17546.3613 - custom_sequence_MMD_loss: 0.0500 - mean_absolute_percentage_error: 19.2174\n",
      "Epoch 14/50\n",
      "1276/1276 [==============================] - 369s 289ms/step - loss: 17541.8711 - custom_sequence_MMD_loss: 0.0500 - mean_absolute_percentage_error: 19.2000\n",
      "Epoch 15/50\n",
      "1276/1276 [==============================] - 372s 292ms/step - loss: 17517.0020 - custom_sequence_MMD_loss: 0.0500 - mean_absolute_percentage_error: 19.1846\n",
      "Epoch 16/50\n",
      "1276/1276 [==============================] - 364s 285ms/step - loss: 17514.3184 - custom_sequence_MMD_loss: 0.0500 - mean_absolute_percentage_error: 19.1898\n",
      "Epoch 17/50\n",
      "1276/1276 [==============================] - 350s 274ms/step - loss: 17510.9219 - custom_sequence_MMD_loss: 0.0500 - mean_absolute_percentage_error: 19.1804\n",
      "Epoch 18/50\n",
      "1276/1276 [==============================] - 338s 265ms/step - loss: 17511.2793 - custom_sequence_MMD_loss: 0.0500 - mean_absolute_percentage_error: 19.1800\n",
      "Epoch 19/50\n",
      "1276/1276 [==============================] - 362s 284ms/step - loss: 17510.1660 - custom_sequence_MMD_loss: 0.0500 - mean_absolute_percentage_error: 19.1825\n",
      "Epoch 20/50\n",
      "1276/1276 [==============================] - 413s 324ms/step - loss: 17510.5215 - custom_sequence_MMD_loss: 0.0500 - mean_absolute_percentage_error: 19.1776\n",
      "Epoch 21/50\n",
      "1276/1276 [==============================] - 409s 321ms/step - loss: 17510.0469 - custom_sequence_MMD_loss: 0.0500 - mean_absolute_percentage_error: 19.1734\n",
      "Epoch 22/50\n",
      "1276/1276 [==============================] - 412s 323ms/step - loss: 17511.0195 - custom_sequence_MMD_loss: 0.0500 - mean_absolute_percentage_error: 19.1848\n",
      "Epoch 23/50\n",
      "1276/1276 [==============================] - 410s 321ms/step - loss: 17509.6230 - custom_sequence_MMD_loss: 0.0500 - mean_absolute_percentage_error: 19.1798\n",
      "Epoch 24/50\n",
      "1276/1276 [==============================] - 409s 320ms/step - loss: 17510.0488 - custom_sequence_MMD_loss: 0.0500 - mean_absolute_percentage_error: 19.1817\n",
      "Epoch 25/50\n",
      "1276/1276 [==============================] - 412s 323ms/step - loss: 17510.8145 - custom_sequence_MMD_loss: 0.0500 - mean_absolute_percentage_error: 19.1716\n",
      "Epoch 26/50\n",
      "1276/1276 [==============================] - 410s 321ms/step - loss: 17511.3164 - custom_sequence_MMD_loss: 0.0500 - mean_absolute_percentage_error: 19.1890\n",
      "Epoch 27/50\n",
      "1276/1276 [==============================] - 395s 309ms/step - loss: 17510.3730 - custom_sequence_MMD_loss: 0.0500 - mean_absolute_percentage_error: 19.1802\n",
      "Epoch 28/50\n",
      "1276/1276 [==============================] - 371s 290ms/step - loss: 17510.1484 - custom_sequence_MMD_loss: 0.0500 - mean_absolute_percentage_error: 19.1814\n",
      "Epoch 29/50\n",
      "1276/1276 [==============================] - 342s 268ms/step - loss: 17509.9453 - custom_sequence_MMD_loss: 0.0500 - mean_absolute_percentage_error: 19.1748\n",
      "Epoch 30/50\n",
      "1276/1276 [==============================] - 344s 270ms/step - loss: 17510.1270 - custom_sequence_MMD_loss: 0.0500 - mean_absolute_percentage_error: 19.1853\n",
      "Epoch 31/50\n",
      "1276/1276 [==============================] - 342s 268ms/step - loss: 17510.0430 - custom_sequence_MMD_loss: 0.0500 - mean_absolute_percentage_error: 19.1758\n",
      "Epoch 32/50\n",
      "1276/1276 [==============================] - 338s 265ms/step - loss: 17510.5684 - custom_sequence_MMD_loss: 0.0500 - mean_absolute_percentage_error: 19.1827\n",
      "Epoch 33/50\n",
      "1276/1276 [==============================] - 341s 267ms/step - loss: 17511.1504 - custom_sequence_MMD_loss: 0.0500 - mean_absolute_percentage_error: 19.1791\n",
      "Epoch 34/50\n",
      "1276/1276 [==============================] - 342s 268ms/step - loss: 17510.1387 - custom_sequence_MMD_loss: 0.0500 - mean_absolute_percentage_error: 19.1811\n",
      "Epoch 35/50\n",
      "1276/1276 [==============================] - 341s 267ms/step - loss: 17509.0449 - custom_sequence_MMD_loss: 0.0500 - mean_absolute_percentage_error: 19.1788\n",
      "Epoch 36/50\n",
      "1276/1276 [==============================] - 341s 268ms/step - loss: 17510.8945 - custom_sequence_MMD_loss: 0.0500 - mean_absolute_percentage_error: 19.1801\n",
      "Epoch 37/50\n",
      "1276/1276 [==============================] - 353s 277ms/step - loss: 17509.6270 - custom_sequence_MMD_loss: 0.0500 - mean_absolute_percentage_error: 19.1749\n",
      "Epoch 38/50\n",
      "1276/1276 [==============================] - 342s 268ms/step - loss: 17509.8750 - custom_sequence_MMD_loss: 0.0500 - mean_absolute_percentage_error: 19.1890\n",
      "Epoch 39/50\n",
      "1276/1276 [==============================] - 356s 279ms/step - loss: 17510.2910 - custom_sequence_MMD_loss: 0.0500 - mean_absolute_percentage_error: 19.1773\n",
      "Epoch 40/50\n",
      "1276/1276 [==============================] - 344s 270ms/step - loss: 17508.4727 - custom_sequence_MMD_loss: 0.0500 - mean_absolute_percentage_error: 19.1774\n",
      "Epoch 41/50\n",
      "1276/1276 [==============================] - 346s 271ms/step - loss: 17510.9785 - custom_sequence_MMD_loss: 0.0500 - mean_absolute_percentage_error: 19.1802\n",
      "Epoch 42/50\n",
      "1276/1276 [==============================] - 339s 266ms/step - loss: 17510.5684 - custom_sequence_MMD_loss: 0.0500 - mean_absolute_percentage_error: 19.1828\n",
      "Epoch 43/50\n",
      "1276/1276 [==============================] - 337s 264ms/step - loss: 17510.1543 - custom_sequence_MMD_loss: 0.0500 - mean_absolute_percentage_error: 19.1743\n",
      "Epoch 44/50\n",
      "1276/1276 [==============================] - 338s 265ms/step - loss: 17510.9336 - custom_sequence_MMD_loss: 0.0500 - mean_absolute_percentage_error: 19.1820\n",
      "Epoch 45/50\n",
      "1276/1276 [==============================] - 339s 266ms/step - loss: 17509.0625 - custom_sequence_MMD_loss: 0.0500 - mean_absolute_percentage_error: 19.1792\n",
      "Epoch 46/50\n",
      "1276/1276 [==============================] - 338s 265ms/step - loss: 17510.5879 - custom_sequence_MMD_loss: 0.0500 - mean_absolute_percentage_error: 19.1815\n",
      "Epoch 47/50\n",
      "1276/1276 [==============================] - 342s 268ms/step - loss: 17509.3672 - custom_sequence_MMD_loss: 0.0500 - mean_absolute_percentage_error: 19.1819\n",
      "Epoch 48/50\n",
      "1276/1276 [==============================] - 340s 266ms/step - loss: 17510.8672 - custom_sequence_MMD_loss: 0.0500 - mean_absolute_percentage_error: 19.1811\n",
      "Epoch 49/50\n",
      "1276/1276 [==============================] - 338s 265ms/step - loss: 17510.9727 - custom_sequence_MMD_loss: 0.0500 - mean_absolute_percentage_error: 19.1788\n",
      "Epoch 50/50\n",
      "1276/1276 [==============================] - 338s 265ms/step - loss: 17510.0059 - custom_sequence_MMD_loss: 0.0500 - mean_absolute_percentage_error: 19.1769\n"
     ]
    }
   ],
   "source": [
    "history_model12, glocal_model12 = run_experiment(preprocessed_downsampled_dataX_movable, preprocessed_downsampled_dataY_movable, batch_size=20, \n",
    "                                                 dropout=0.0, epochs=50, use_mse=True, output_diminsion=34, validation_split=0.0, \n",
    "                                                 interpolate_frames = 2, metrics=[Metrics().custom_sequence_MMD_loss, \n",
    "                                                                                  tf.keras.losses.mean_absolute_percentage_error])"
   ]
  },
  {
   "cell_type": "markdown",
   "metadata": {},
   "source": [
    "##### Running Experiment with Downsampled movable datapoints and without Locgen"
   ]
  },
  {
   "cell_type": "code",
   "execution_count": 45,
   "metadata": {},
   "outputs": [
    {
     "name": "stdout",
     "output_type": "stream",
     "text": [
      "Epoch 1/50\n",
      "1276/1276 [==============================] - 323s 245ms/step - loss: 108742.8594 - custom_sequence_MMD_loss: 0.0500 - mean_absolute_percentage_error: 58.3785\n",
      "Epoch 2/50\n",
      "1276/1276 [==============================] - 315s 247ms/step - loss: 37830.0430 - custom_sequence_MMD_loss: 0.0500 - mean_absolute_percentage_error: 27.9958\n",
      "Epoch 3/50\n",
      "1276/1276 [==============================] - 312s 244ms/step - loss: 35009.3477 - custom_sequence_MMD_loss: 0.0500 - mean_absolute_percentage_error: 26.9643\n",
      "Epoch 4/50\n",
      "1276/1276 [==============================] - 313s 245ms/step - loss: 35002.3867 - custom_sequence_MMD_loss: 0.0500 - mean_absolute_percentage_error: 27.0062\n",
      "Epoch 5/50\n",
      "1276/1276 [==============================] - 314s 246ms/step - loss: 35003.3438 - custom_sequence_MMD_loss: 0.0500 - mean_absolute_percentage_error: 27.0037\n",
      "Epoch 6/50\n",
      "1276/1276 [==============================] - 316s 248ms/step - loss: 35003.5625 - custom_sequence_MMD_loss: 0.0500 - mean_absolute_percentage_error: 27.0107\n",
      "Epoch 7/50\n",
      "1276/1276 [==============================] - 313s 245ms/step - loss: 35004.3281 - custom_sequence_MMD_loss: 0.0500 - mean_absolute_percentage_error: 27.0070\n",
      "Epoch 8/50\n",
      "1276/1276 [==============================] - 315s 247ms/step - loss: 35004.8242 - custom_sequence_MMD_loss: 0.0500 - mean_absolute_percentage_error: 27.0044\n",
      "Epoch 9/50\n",
      "1276/1276 [==============================] - 311s 244ms/step - loss: 35004.8516 - custom_sequence_MMD_loss: 0.0500 - mean_absolute_percentage_error: 27.0064\n",
      "Epoch 10/50\n",
      "1276/1276 [==============================] - 314s 246ms/step - loss: 35004.5586 - custom_sequence_MMD_loss: 0.0500 - mean_absolute_percentage_error: 27.0037\n",
      "Epoch 11/50\n",
      "1276/1276 [==============================] - 313s 245ms/step - loss: 35004.5938 - custom_sequence_MMD_loss: 0.0500 - mean_absolute_percentage_error: 27.0051\n",
      "Epoch 12/50\n",
      "1276/1276 [==============================] - 315s 247ms/step - loss: 35004.7656 - custom_sequence_MMD_loss: 0.0500 - mean_absolute_percentage_error: 27.0116\n",
      "Epoch 13/50\n",
      "1276/1276 [==============================] - 314s 246ms/step - loss: 26896.9238 - custom_sequence_MMD_loss: 0.0500 - mean_absolute_percentage_error: 22.9378\n",
      "Epoch 14/50\n",
      "1276/1276 [==============================] - 316s 248ms/step - loss: 17815.8164 - custom_sequence_MMD_loss: 0.0500 - mean_absolute_percentage_error: 18.2160\n",
      "Epoch 15/50\n",
      "1276/1276 [==============================] - 311s 244ms/step - loss: 16750.9570 - custom_sequence_MMD_loss: 0.0500 - mean_absolute_percentage_error: 16.7376\n",
      "Epoch 16/50\n",
      "1276/1276 [==============================] - 314s 246ms/step - loss: 15932.1680 - custom_sequence_MMD_loss: 0.0500 - mean_absolute_percentage_error: 15.2347\n",
      "Epoch 17/50\n",
      "1276/1276 [==============================] - 314s 246ms/step - loss: 15581.0713 - custom_sequence_MMD_loss: 0.0500 - mean_absolute_percentage_error: 14.5258\n",
      "Epoch 18/50\n",
      "1276/1276 [==============================] - 316s 248ms/step - loss: 15432.7959 - custom_sequence_MMD_loss: 0.0500 - mean_absolute_percentage_error: 14.2768\n",
      "Epoch 19/50\n",
      "1276/1276 [==============================] - 315s 247ms/step - loss: 15295.5488 - custom_sequence_MMD_loss: 0.0500 - mean_absolute_percentage_error: 14.0515\n",
      "Epoch 20/50\n",
      "1276/1276 [==============================] - 315s 247ms/step - loss: 15137.7471 - custom_sequence_MMD_loss: 0.0500 - mean_absolute_percentage_error: 13.8283\n",
      "Epoch 21/50\n",
      "1276/1276 [==============================] - 315s 247ms/step - loss: 14975.9170 - custom_sequence_MMD_loss: 0.0500 - mean_absolute_percentage_error: 13.5634\n",
      "Epoch 22/50\n",
      "1276/1276 [==============================] - 315s 247ms/step - loss: 14855.5762 - custom_sequence_MMD_loss: 0.0500 - mean_absolute_percentage_error: 13.3522\n",
      "Epoch 23/50\n",
      "1276/1276 [==============================] - 315s 247ms/step - loss: 10289.1045 - custom_sequence_MMD_loss: 0.0500 - mean_absolute_percentage_error: 11.7876\n",
      "Epoch 24/50\n",
      "1276/1276 [==============================] - 313s 245ms/step - loss: 7663.5015 - custom_sequence_MMD_loss: 0.0500 - mean_absolute_percentage_error: 10.4484\n",
      "Epoch 25/50\n",
      "1276/1276 [==============================] - 316s 248ms/step - loss: 7588.3936 - custom_sequence_MMD_loss: 0.0500 - mean_absolute_percentage_error: 10.3297\n",
      "Epoch 26/50\n",
      "1276/1276 [==============================] - 311s 244ms/step - loss: 7538.7656 - custom_sequence_MMD_loss: 0.0500 - mean_absolute_percentage_error: 10.2408\n",
      "Epoch 27/50\n",
      "1276/1276 [==============================] - 313s 245ms/step - loss: 7494.8945 - custom_sequence_MMD_loss: 0.0500 - mean_absolute_percentage_error: 10.1644\n",
      "Epoch 28/50\n",
      "1276/1276 [==============================] - 313s 246ms/step - loss: 7420.3594 - custom_sequence_MMD_loss: 0.0500 - mean_absolute_percentage_error: 10.0351\n",
      "Epoch 29/50\n",
      "1276/1276 [==============================] - 314s 246ms/step - loss: 7375.3735 - custom_sequence_MMD_loss: 0.0500 - mean_absolute_percentage_error: 9.9452\n",
      "Epoch 30/50\n",
      "1276/1276 [==============================] - 312s 244ms/step - loss: 7340.6753 - custom_sequence_MMD_loss: 0.0500 - mean_absolute_percentage_error: 9.8916\n",
      "Epoch 31/50\n",
      "1276/1276 [==============================] - 315s 247ms/step - loss: 7292.2739 - custom_sequence_MMD_loss: 0.0500 - mean_absolute_percentage_error: 9.7971\n",
      "Epoch 32/50\n",
      "1276/1276 [==============================] - 312s 244ms/step - loss: 4776.2236 - custom_sequence_MMD_loss: 0.0213 - mean_absolute_percentage_error: 8.6235\n",
      "Epoch 33/50\n",
      "1276/1276 [==============================] - 316s 248ms/step - loss: 1921.1486 - custom_sequence_MMD_loss: 0.0000e+00 - mean_absolute_percentage_error: 6.9768\n",
      "Epoch 34/50\n",
      "1276/1276 [==============================] - 315s 247ms/step - loss: 1856.8381 - custom_sequence_MMD_loss: 0.0000e+00 - mean_absolute_percentage_error: 6.8789\n",
      "Epoch 35/50\n",
      "1276/1276 [==============================] - 315s 247ms/step - loss: 1763.8975 - custom_sequence_MMD_loss: 0.0000e+00 - mean_absolute_percentage_error: 6.7106\n",
      "Epoch 36/50\n",
      "1276/1276 [==============================] - 313s 245ms/step - loss: 1683.2102 - custom_sequence_MMD_loss: 0.0000e+00 - mean_absolute_percentage_error: 6.5610\n",
      "Epoch 37/50\n",
      "1276/1276 [==============================] - 315s 247ms/step - loss: 1633.2941 - custom_sequence_MMD_loss: 0.0000e+00 - mean_absolute_percentage_error: 6.4690\n",
      "Epoch 38/50\n",
      "1276/1276 [==============================] - 313s 246ms/step - loss: 1583.1044 - custom_sequence_MMD_loss: 0.0000e+00 - mean_absolute_percentage_error: 6.3790\n",
      "Epoch 39/50\n",
      "1276/1276 [==============================] - 315s 247ms/step - loss: 1525.6083 - custom_sequence_MMD_loss: 0.0000e+00 - mean_absolute_percentage_error: 6.2672\n",
      "Epoch 40/50\n",
      "1276/1276 [==============================] - 315s 247ms/step - loss: 1477.6814 - custom_sequence_MMD_loss: 0.0000e+00 - mean_absolute_percentage_error: 6.1811\n",
      "Epoch 41/50\n",
      "1276/1276 [==============================] - 315s 247ms/step - loss: 1458.4053 - custom_sequence_MMD_loss: 0.0000e+00 - mean_absolute_percentage_error: 6.1343\n",
      "Epoch 42/50\n",
      "1276/1276 [==============================] - 318s 249ms/step - loss: 1418.2019 - custom_sequence_MMD_loss: 0.0000e+00 - mean_absolute_percentage_error: 6.0641\n",
      "Epoch 43/50\n",
      "1276/1276 [==============================] - 314s 246ms/step - loss: 1424.5323 - custom_sequence_MMD_loss: 0.0000e+00 - mean_absolute_percentage_error: 6.0728\n",
      "Epoch 44/50\n",
      "1276/1276 [==============================] - 314s 246ms/step - loss: 1366.4552 - custom_sequence_MMD_loss: 0.0000e+00 - mean_absolute_percentage_error: 5.9493\n",
      "Epoch 45/50\n",
      "1276/1276 [==============================] - 338s 265ms/step - loss: 1365.3716 - custom_sequence_MMD_loss: 0.0000e+00 - mean_absolute_percentage_error: 5.9442\n",
      "Epoch 46/50\n",
      "1276/1276 [==============================] - 381s 299ms/step - loss: 1322.6539 - custom_sequence_MMD_loss: 0.0000e+00 - mean_absolute_percentage_error: 5.8639\n",
      "Epoch 47/50\n",
      "1276/1276 [==============================] - 379s 297ms/step - loss: 1305.4626 - custom_sequence_MMD_loss: 0.0000e+00 - mean_absolute_percentage_error: 5.8242\n",
      "Epoch 48/50\n",
      "1276/1276 [==============================] - 378s 297ms/step - loss: 1290.7505 - custom_sequence_MMD_loss: 0.0000e+00 - mean_absolute_percentage_error: 5.7935\n",
      "Epoch 49/50\n",
      "1276/1276 [==============================] - 378s 296ms/step - loss: 1253.6632 - custom_sequence_MMD_loss: 0.0000e+00 - mean_absolute_percentage_error: 5.7122\n",
      "Epoch 50/50\n",
      "1276/1276 [==============================] - 380s 298ms/step - loss: 1278.6810 - custom_sequence_MMD_loss: 0.0000e+00 - mean_absolute_percentage_error: 5.7682\n"
     ]
    }
   ],
   "source": [
    "history_model13, glocal_model13 = run_experiment(preprocessed_downsampled_dataX_movable, preprocessed_downsampled_dataY_movable, batch_size=20, \n",
    "                                                 dropout=0.0, exclude_locgen=True, epochs=50, use_mse=True, output_diminsion=34,validation_split=0.0, \n",
    "                                                 interpolate_frames = 2, metrics=[Metrics().custom_sequence_MMD_loss, \n",
    "                                                                                  tf.keras.losses.mean_absolute_percentage_error])"
   ]
  },
  {
   "cell_type": "markdown",
   "metadata": {},
   "source": [
    "##### Running Experiment with Downsampled movable datapoints and NPSS evaluation Metric"
   ]
  },
  {
   "cell_type": "code",
   "execution_count": null,
   "metadata": {},
   "outputs": [],
   "source": [
    "history_model14, glocal_model14 = run_experiment(preprocessed_downsampled_dataX_movable, preprocessed_downsampled_dataY_movable, batch_size=20, \n",
    "                                                 dropout=0.0, epochs=10, use_mse=True, output_diminsion=34, validation_split=0.0, \n",
    "                                                 interpolate_frames = 2, metrics=[Metrics().custom_sequence_MMD_loss, \n",
    "                                                                                  tf.keras.losses.mean_absolute_percentage_error])"
   ]
  },
  {
   "cell_type": "markdown",
   "metadata": {
    "id": "nozip8IVhhkg",
    "tags": []
   },
   "source": [
    "## Trying to run models with function create model"
   ]
  },
  {
   "cell_type": "code",
   "execution_count": 116,
   "metadata": {},
   "outputs": [
    {
     "name": "stdout",
     "output_type": "stream",
     "text": [
      "798/798 [==============================] - 101s 123ms/step\n"
     ]
    }
   ],
   "source": [
    "prediction_model1 = glocal_model1.predict(sampled_dataX_all)"
   ]
  },
  {
   "cell_type": "code",
   "execution_count": 117,
   "metadata": {},
   "outputs": [
    {
     "data": {
      "text/plain": [
       "1.1316190792108625"
      ]
     },
     "execution_count": 117,
     "metadata": {},
     "output_type": "execute_result"
    }
   ],
   "source": [
    "Metrics().NPSS(sampled_dataY_all,prediction_model1)"
   ]
  },
  {
   "cell_type": "code",
   "execution_count": 115,
   "metadata": {},
   "outputs": [
    {
     "data": {
      "text/plain": [
       "0.004819031292873526"
      ]
     },
     "execution_count": 115,
     "metadata": {},
     "output_type": "execute_result"
    }
   ],
   "source": [
    "Metrics().NPSS(preprocessed_downsampled_dataY_movable,prediction_model13)"
   ]
  },
  {
   "cell_type": "markdown",
   "metadata": {
    "id": "3XaBTxF3Pbmo"
   },
   "source": [
    "## Visualization"
   ]
  },
  {
   "cell_type": "code",
   "execution_count": 97,
   "metadata": {},
   "outputs": [
    {
     "data": {
      "text/plain": [
       "dict_keys(['loss', 'mean_absolute_percentage_error', 'custom_sequence_MMD_loss'])"
      ]
     },
     "execution_count": 97,
     "metadata": {},
     "output_type": "execute_result"
    }
   ],
   "source": [
    "history_model1.history.keys()"
   ]
  },
  {
   "cell_type": "code",
   "execution_count": 103,
   "metadata": {},
   "outputs": [
    {
     "data": {
      "image/png": "[encoded data removed]",
      "text/plain": [
       "<Figure size 1440x720 with 1 Axes>"
      ]
     },
     "metadata": {
      "needs_background": "light"
     },
     "output_type": "display_data"
    }
   ],
   "source": [
    "from matplotlib import pyplot as plt\n",
    "fig = plt.figure(figsize=(20,10))\n",
    "plt.plot(history_model1.history['loss'])\n",
    "plt.plot(history_model13.history['loss'])\n",
    "plt.title('Loss Graph')\n",
    "plt.ylabel('loss')\n",
    "plt.xlabel('epoch')\n",
    "plt.legend(['Base Model', 'Preprocessed Model'], loc='upper right')\n",
    "plt.show()"
   ]
  },
  {
   "cell_type": "code",
   "execution_count": 65,
   "metadata": {},
   "outputs": [
    {
     "name": "stdout",
     "output_type": "stream",
     "text": [
      "798/798 [==============================] - 38s 47ms/step\n"
     ]
    }
   ],
   "source": [
    "prediction_model13 = glocal_model13.predict(preprocessed_downsampled_dataX_movable)"
   ]
  },
  {
   "cell_type": "code",
   "execution_count": 112,
   "metadata": {
    "colab": {
     "base_uri": "https://localhost:8080/",
     "height": 569
    },
    "id": "OCnqQzyZh1vI",
    "outputId": "3b931b42-d393-4338-99fb-116ea2f0eb4f"
   },
   "outputs": [
    {
     "data": {
      "image/png": "[encoded data removed]",
      "text/plain": [
       "<Figure size 1080x576 with 5 Axes>"
      ]
     },
     "metadata": {},
     "output_type": "display_data"
    }
   ],
   "source": [
    "visualize_frames(prediction_model13[25000, 0:20:3], num_frames_to_visualize=5, dynamic_joints_only = True)"
   ]
  },
  {
   "cell_type": "code",
   "execution_count": 113,
   "metadata": {
    "colab": {
     "base_uri": "https://localhost:8080/",
     "height": 569
    },
    "id": "ny_-wC9PiDqh",
    "outputId": "0a140735-88c0-4b0b-c9c2-f335a00907bd"
   },
   "outputs": [
    {
     "data": {
      "image/png": "[encoded data removed]",
      "text/plain": [
       "<Figure size 1080x576 with 5 Axes>"
      ]
     },
     "metadata": {},
     "output_type": "display_data"
    }
   ],
   "source": [
    "visualize_frames(sampled_dataY_movable[25000, 0:20:3], num_frames_to_visualize=5, dynamic_joints_only = True)"
   ]
  },
  {
   "cell_type": "markdown",
   "metadata": {
    "id": "cLI1eb8k-vbC"
   },
   "source": [
    "## Saving models"
   ]
  },
  {
   "cell_type": "code",
   "execution_count": null,
   "metadata": {
    "colab": {
     "base_uri": "https://localhost:8080/",
     "height": 467
    },
    "id": "DgZoK7bg-uoi",
    "outputId": "ff4bb0e5-2200-41eb-ebc1-e856b167809c"
   },
   "outputs": [],
   "source": [
    "glocal_interpolation_only.save('minterpolation_only_downsampled20',save_format='tf')"
   ]
  },
  {
   "cell_type": "markdown",
   "metadata": {
    "id": "QWZSPjKM9u-z"
   },
   "source": [
    "# References\n",
    "\n",
    "[1] https://github.com/una-dinosauria/3d-pose-baseline/blob/master/src/data_utils.py\n",
    "\n",
    "[2] Gopalakrishnan, Anand, et al. \"A neural temporal model for human motion prediction.\" Proceedings of the IEEE/CVF Conference on Computer Vision and Pattern Recognition. 2019\n",
    "\n",
    "[3] https://github.com/cr7anand/neural_temporal_models"
   ]
  }
 ],
 "metadata": {
  "accelerator": "GPU",
  "colab": {
   "collapsed_sections": [
    "KTHffB1KrfBy",
    "H-ekHZVlrq1o",
    "hQg05uuoRtEi",
    "nozip8IVhhkg"
   ],
   "provenance": []
  },
  "kernelspec": {
   "display_name": "tensorflow-gpu",
   "language": "python",
   "name": "tensorflow-gpu"
  },
  "language_info": {
   "codemirror_mode": {
    "name": "ipython",
    "version": 3
   },
   "file_extension": ".py",
   "mimetype": "text/x-python",
   "name": "python",
   "nbconvert_exporter": "python",
   "pygments_lexer": "ipython3",
   "version": "3.8.12"
  }
 },
 "nbformat": 4,
 "nbformat_minor": 4
}

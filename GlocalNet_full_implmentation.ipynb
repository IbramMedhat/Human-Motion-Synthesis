{
  "cells": [
    {
      "cell_type": "markdown",
      "source": [
        "##Importing and installing need libraries"
      ],
      "metadata": {
        "id": "N5bGejq7QySe"
      }
    },
    {
      "cell_type": "code",
      "execution_count": 6,
      "metadata": {
        "colab": {
          "base_uri": "https://localhost:8080/"
        },
        "id": "p6oWUCJCnPmT",
        "outputId": "7c5b49ce-0b4d-4f9a-eac8-f05ee626a96d"
      },
      "outputs": [
        {
          "output_type": "stream",
          "name": "stdout",
          "text": [
            "2.8.0\n"
          ]
        }
      ],
      "source": [
        "import numpy as np\n",
        "from tensorflow.keras import Model as Model_\n",
        "from tensorflow.keras.layers import Input, ReLU, LSTM, Dense, TimeDistributed, Bidirectional, Normalization, GaussianNoise \n",
        "from tensorflow.keras.optimizers import Adam\n",
        "from tensorflow.keras import backend\n",
        "from tensorflow.keras.models import Sequential, model_from_json\n",
        "import tensorflow as tf\n",
        "from tqdm.auto import tqdm\n",
        "import matplotlib.pyplot as plt\n",
        "import pandas as pd\n",
        "from itertools import chain\n",
        "\n",
        "print(tf.keras.__version__)"
      ]
    },
    {
      "cell_type": "code",
      "source": [
        "#Need only to be used with google colab\n",
        "from google.colab import drive\n",
        "drive.mount('/content/drive')"
      ],
      "metadata": {
        "colab": {
          "base_uri": "https://localhost:8080/"
        },
        "id": "v1wLcoRN_q6H",
        "outputId": "604bc049-6e63-44e2-c1cf-a1d4b4f6870d"
      },
      "execution_count": 2,
      "outputs": [
        {
          "output_type": "stream",
          "name": "stdout",
          "text": [
            "Mounted at /content/drive\n"
          ]
        }
      ]
    },
    {
      "cell_type": "code",
      "source": [
        "!pip install tensorflow_model_remediation"
      ],
      "metadata": {
        "colab": {
          "base_uri": "https://localhost:8080/"
        },
        "id": "BVYkmolC_bDI",
        "outputId": "3403897e-0ff9-4c6f-abb4-611e1022d32b"
      },
      "execution_count": 3,
      "outputs": [
        {
          "output_type": "stream",
          "name": "stdout",
          "text": [
            "Looking in indexes: https://pypi.org/simple, https://us-python.pkg.dev/colab-wheels/public/simple/\n",
            "Collecting tensorflow_model_remediation\n",
            "  Downloading tensorflow_model_remediation-0.1.7.1-py3-none-any.whl (142 kB)\n",
            "\u001b[K     |████████████████████████████████| 142 kB 4.8 MB/s \n",
            "\u001b[?25hCollecting mock\n",
            "  Downloading mock-4.0.3-py3-none-any.whl (28 kB)\n",
            "Requirement already satisfied: dill in /usr/local/lib/python3.7/dist-packages (from tensorflow_model_remediation) (0.3.5.1)\n",
            "Requirement already satisfied: tensorflow-hub in /usr/local/lib/python3.7/dist-packages (from tensorflow_model_remediation) (0.12.0)\n",
            "Requirement already satisfied: tensorflow>=2.0.0 in /usr/local/lib/python3.7/dist-packages (from tensorflow_model_remediation) (2.8.2+zzzcolab20220929150707)\n",
            "Requirement already satisfied: pandas in /usr/local/lib/python3.7/dist-packages (from tensorflow_model_remediation) (1.3.5)\n",
            "Requirement already satisfied: six>=1.12.0 in /usr/local/lib/python3.7/dist-packages (from tensorflow>=2.0.0->tensorflow_model_remediation) (1.15.0)\n",
            "Requirement already satisfied: setuptools in /usr/local/lib/python3.7/dist-packages (from tensorflow>=2.0.0->tensorflow_model_remediation) (57.4.0)\n",
            "Requirement already satisfied: h5py>=2.9.0 in /usr/local/lib/python3.7/dist-packages (from tensorflow>=2.0.0->tensorflow_model_remediation) (3.1.0)\n",
            "Requirement already satisfied: tensorflow-io-gcs-filesystem>=0.23.1 in /usr/local/lib/python3.7/dist-packages (from tensorflow>=2.0.0->tensorflow_model_remediation) (0.27.0)\n",
            "Requirement already satisfied: keras-preprocessing>=1.1.1 in /usr/local/lib/python3.7/dist-packages (from tensorflow>=2.0.0->tensorflow_model_remediation) (1.1.2)\n",
            "Requirement already satisfied: libclang>=9.0.1 in /usr/local/lib/python3.7/dist-packages (from tensorflow>=2.0.0->tensorflow_model_remediation) (14.0.6)\n",
            "Requirement already satisfied: keras<2.9,>=2.8.0rc0 in /usr/local/lib/python3.7/dist-packages (from tensorflow>=2.0.0->tensorflow_model_remediation) (2.8.0)\n",
            "Requirement already satisfied: grpcio<2.0,>=1.24.3 in /usr/local/lib/python3.7/dist-packages (from tensorflow>=2.0.0->tensorflow_model_remediation) (1.49.1)\n",
            "Requirement already satisfied: numpy>=1.20 in /usr/local/lib/python3.7/dist-packages (from tensorflow>=2.0.0->tensorflow_model_remediation) (1.21.6)\n",
            "Requirement already satisfied: flatbuffers>=1.12 in /usr/local/lib/python3.7/dist-packages (from tensorflow>=2.0.0->tensorflow_model_remediation) (22.9.24)\n",
            "Requirement already satisfied: termcolor>=1.1.0 in /usr/local/lib/python3.7/dist-packages (from tensorflow>=2.0.0->tensorflow_model_remediation) (2.0.1)\n",
            "Requirement already satisfied: typing-extensions>=3.6.6 in /usr/local/lib/python3.7/dist-packages (from tensorflow>=2.0.0->tensorflow_model_remediation) (4.1.1)\n",
            "Requirement already satisfied: absl-py>=0.4.0 in /usr/local/lib/python3.7/dist-packages (from tensorflow>=2.0.0->tensorflow_model_remediation) (1.2.0)\n",
            "Requirement already satisfied: astunparse>=1.6.0 in /usr/local/lib/python3.7/dist-packages (from tensorflow>=2.0.0->tensorflow_model_remediation) (1.6.3)\n",
            "Requirement already satisfied: wrapt>=1.11.0 in /usr/local/lib/python3.7/dist-packages (from tensorflow>=2.0.0->tensorflow_model_remediation) (1.14.1)\n",
            "Requirement already satisfied: tensorboard<2.9,>=2.8 in /usr/local/lib/python3.7/dist-packages (from tensorflow>=2.0.0->tensorflow_model_remediation) (2.8.0)\n",
            "Requirement already satisfied: google-pasta>=0.1.1 in /usr/local/lib/python3.7/dist-packages (from tensorflow>=2.0.0->tensorflow_model_remediation) (0.2.0)\n",
            "Requirement already satisfied: opt-einsum>=2.3.2 in /usr/local/lib/python3.7/dist-packages (from tensorflow>=2.0.0->tensorflow_model_remediation) (3.3.0)\n",
            "Requirement already satisfied: gast>=0.2.1 in /usr/local/lib/python3.7/dist-packages (from tensorflow>=2.0.0->tensorflow_model_remediation) (0.5.3)\n",
            "Requirement already satisfied: protobuf<3.20,>=3.9.2 in /usr/local/lib/python3.7/dist-packages (from tensorflow>=2.0.0->tensorflow_model_remediation) (3.17.3)\n",
            "Requirement already satisfied: tensorflow-estimator<2.9,>=2.8 in /usr/local/lib/python3.7/dist-packages (from tensorflow>=2.0.0->tensorflow_model_remediation) (2.8.0)\n",
            "Requirement already satisfied: wheel<1.0,>=0.23.0 in /usr/local/lib/python3.7/dist-packages (from astunparse>=1.6.0->tensorflow>=2.0.0->tensorflow_model_remediation) (0.37.1)\n",
            "Requirement already satisfied: cached-property in /usr/local/lib/python3.7/dist-packages (from h5py>=2.9.0->tensorflow>=2.0.0->tensorflow_model_remediation) (1.5.2)\n",
            "Requirement already satisfied: tensorboard-plugin-wit>=1.6.0 in /usr/local/lib/python3.7/dist-packages (from tensorboard<2.9,>=2.8->tensorflow>=2.0.0->tensorflow_model_remediation) (1.8.1)\n",
            "Requirement already satisfied: tensorboard-data-server<0.7.0,>=0.6.0 in /usr/local/lib/python3.7/dist-packages (from tensorboard<2.9,>=2.8->tensorflow>=2.0.0->tensorflow_model_remediation) (0.6.1)\n",
            "Requirement already satisfied: markdown>=2.6.8 in /usr/local/lib/python3.7/dist-packages (from tensorboard<2.9,>=2.8->tensorflow>=2.0.0->tensorflow_model_remediation) (3.4.1)\n",
            "Requirement already satisfied: google-auth-oauthlib<0.5,>=0.4.1 in /usr/local/lib/python3.7/dist-packages (from tensorboard<2.9,>=2.8->tensorflow>=2.0.0->tensorflow_model_remediation) (0.4.6)\n",
            "Requirement already satisfied: requests<3,>=2.21.0 in /usr/local/lib/python3.7/dist-packages (from tensorboard<2.9,>=2.8->tensorflow>=2.0.0->tensorflow_model_remediation) (2.23.0)\n",
            "Requirement already satisfied: google-auth<3,>=1.6.3 in /usr/local/lib/python3.7/dist-packages (from tensorboard<2.9,>=2.8->tensorflow>=2.0.0->tensorflow_model_remediation) (1.35.0)\n",
            "Requirement already satisfied: werkzeug>=0.11.15 in /usr/local/lib/python3.7/dist-packages (from tensorboard<2.9,>=2.8->tensorflow>=2.0.0->tensorflow_model_remediation) (1.0.1)\n",
            "Requirement already satisfied: cachetools<5.0,>=2.0.0 in /usr/local/lib/python3.7/dist-packages (from google-auth<3,>=1.6.3->tensorboard<2.9,>=2.8->tensorflow>=2.0.0->tensorflow_model_remediation) (4.2.4)\n",
            "Requirement already satisfied: pyasn1-modules>=0.2.1 in /usr/local/lib/python3.7/dist-packages (from google-auth<3,>=1.6.3->tensorboard<2.9,>=2.8->tensorflow>=2.0.0->tensorflow_model_remediation) (0.2.8)\n",
            "Requirement already satisfied: rsa<5,>=3.1.4 in /usr/local/lib/python3.7/dist-packages (from google-auth<3,>=1.6.3->tensorboard<2.9,>=2.8->tensorflow>=2.0.0->tensorflow_model_remediation) (4.9)\n",
            "Requirement already satisfied: requests-oauthlib>=0.7.0 in /usr/local/lib/python3.7/dist-packages (from google-auth-oauthlib<0.5,>=0.4.1->tensorboard<2.9,>=2.8->tensorflow>=2.0.0->tensorflow_model_remediation) (1.3.1)\n",
            "Requirement already satisfied: importlib-metadata>=4.4 in /usr/local/lib/python3.7/dist-packages (from markdown>=2.6.8->tensorboard<2.9,>=2.8->tensorflow>=2.0.0->tensorflow_model_remediation) (5.0.0)\n",
            "Requirement already satisfied: zipp>=0.5 in /usr/local/lib/python3.7/dist-packages (from importlib-metadata>=4.4->markdown>=2.6.8->tensorboard<2.9,>=2.8->tensorflow>=2.0.0->tensorflow_model_remediation) (3.8.1)\n",
            "Requirement already satisfied: pyasn1<0.5.0,>=0.4.6 in /usr/local/lib/python3.7/dist-packages (from pyasn1-modules>=0.2.1->google-auth<3,>=1.6.3->tensorboard<2.9,>=2.8->tensorflow>=2.0.0->tensorflow_model_remediation) (0.4.8)\n",
            "Requirement already satisfied: certifi>=2017.4.17 in /usr/local/lib/python3.7/dist-packages (from requests<3,>=2.21.0->tensorboard<2.9,>=2.8->tensorflow>=2.0.0->tensorflow_model_remediation) (2022.9.24)\n",
            "Requirement already satisfied: chardet<4,>=3.0.2 in /usr/local/lib/python3.7/dist-packages (from requests<3,>=2.21.0->tensorboard<2.9,>=2.8->tensorflow>=2.0.0->tensorflow_model_remediation) (3.0.4)\n",
            "Requirement already satisfied: urllib3!=1.25.0,!=1.25.1,<1.26,>=1.21.1 in /usr/local/lib/python3.7/dist-packages (from requests<3,>=2.21.0->tensorboard<2.9,>=2.8->tensorflow>=2.0.0->tensorflow_model_remediation) (1.24.3)\n",
            "Requirement already satisfied: idna<3,>=2.5 in /usr/local/lib/python3.7/dist-packages (from requests<3,>=2.21.0->tensorboard<2.9,>=2.8->tensorflow>=2.0.0->tensorflow_model_remediation) (2.10)\n",
            "Requirement already satisfied: oauthlib>=3.0.0 in /usr/local/lib/python3.7/dist-packages (from requests-oauthlib>=0.7.0->google-auth-oauthlib<0.5,>=0.4.1->tensorboard<2.9,>=2.8->tensorflow>=2.0.0->tensorflow_model_remediation) (3.2.1)\n",
            "Requirement already satisfied: python-dateutil>=2.7.3 in /usr/local/lib/python3.7/dist-packages (from pandas->tensorflow_model_remediation) (2.8.2)\n",
            "Requirement already satisfied: pytz>=2017.3 in /usr/local/lib/python3.7/dist-packages (from pandas->tensorflow_model_remediation) (2022.4)\n",
            "Installing collected packages: mock, tensorflow-model-remediation\n",
            "Successfully installed mock-4.0.3 tensorflow-model-remediation-0.1.7.1\n"
          ]
        }
      ]
    },
    {
      "cell_type": "code",
      "source": [
        "import tensorflow_model_remediation.min_diff.losses.mmd_loss as MMD\n",
        "import tensorflow_model_remediation.min_diff.losses.adjusted_mmd_loss as adjustedMMD"
      ],
      "metadata": {
        "id": "ueL6mTdUwhcp"
      },
      "execution_count": 4,
      "outputs": []
    },
    {
      "cell_type": "markdown",
      "source": [
        "##Dataset reading"
      ],
      "metadata": {
        "id": "6tUdJibeQWdF"
      }
    },
    {
      "cell_type": "code",
      "source": [
        "#Was done in the preprocessing in [1]\n",
        "# Joints in H3.6M -- data has 32 joints, but only 17 that move; these are the indices.\n",
        "H36M_NAMES = ['']*32\n",
        "H36M_NAMES[0]  = 'Hip'\n",
        "H36M_NAMES[1]  = 'RHip'\n",
        "H36M_NAMES[2]  = 'RKnee'\n",
        "H36M_NAMES[3]  = 'RFoot'\n",
        "H36M_NAMES[6]  = 'LHip'\n",
        "H36M_NAMES[7]  = 'LKnee'\n",
        "H36M_NAMES[8]  = 'LFoot'\n",
        "H36M_NAMES[12] = 'Spine'\n",
        "H36M_NAMES[13] = 'Thorax'\n",
        "H36M_NAMES[14] = 'Neck/Nose'\n",
        "H36M_NAMES[15] = 'Head'\n",
        "H36M_NAMES[17] = 'LShoulder'\n",
        "H36M_NAMES[18] = 'LElbow'\n",
        "H36M_NAMES[19] = 'LWrist'\n",
        "H36M_NAMES[25] = 'RShoulder'\n",
        "H36M_NAMES[26] = 'RElbow'\n",
        "H36M_NAMES[27] = 'RWrist'"
      ],
      "metadata": {
        "id": "VYTyMttRQVHV"
      },
      "execution_count": 5,
      "outputs": []
    },
    {
      "cell_type": "code",
      "execution_count": 7,
      "metadata": {
        "id": "ikRIhsrrnhlH"
      },
      "outputs": [],
      "source": [
        "import os\n",
        "import re\n",
        "\n",
        "class Dataset_Preprocessing:\n",
        "    def __init__(self, dir_path, include_dimension = 2, sample_size = 50,\n",
        "                 total_classes = 17, datatype = 'float32', include_movable_joints = False):\n",
        "        \n",
        "        #Dataset Directory path\n",
        "        self.dir_path = dir_path\n",
        "        \n",
        "        #Which Dimension file to include, possible values: 2 and 3\n",
        "        self.include_dimension = include_dimension\n",
        "        \n",
        "        #Total frames in one Sample\n",
        "        self.sample_size = sample_size\n",
        "        \n",
        "        #Default Datatype for all the samples\n",
        "        self.datatype = datatype\n",
        "        \n",
        "        #Activity classes to include\n",
        "        self.classes = ['SittingDown', 'Walking', 'Directions', 'Discussion', 'Sitting', 'Phoning', 'Eating', 'Posing', 'Greeting', 'Smoking']\n",
        "        \n",
        "        #Total activity classes\n",
        "        self.total_classes = len(self.classes)\n",
        "        \n",
        "        #Subject Folders names in the Dataset\n",
        "        self.internal_folders = ['S1', 'S5','S6','S7','S8','S9','S11']\n",
        "\n",
        "        #Boolean value indicating whether to include all joints or only the movable joints.\n",
        "        self.include_movable_joints = include_movable_joints\n",
        "        \n",
        "        self.movable_joints = [0, 1, 2, 3, 6, 7, 8, 12, 13, 14, 15, 17, 18, 19, 25, 26, 27]\n",
        "    \n",
        "    def read_dataset(self):\n",
        "        try:\n",
        "            #Contains all the different activity vectors\n",
        "            activity_vector = {}\n",
        "            \n",
        "            #Contains the overall dataset\n",
        "            sampled_data = None\n",
        "            \n",
        "            #Based on dimensions, which folder to use for extracting the dataset files\n",
        "            data_folder = 'Poses_D2_Positions' if self.include_dimension == 2 else 'Poses_D3_Positions'\n",
        "            \n",
        "            #Checking if the dataset path is valid\n",
        "            if not os.path.exists(self.dir_path):\n",
        "                print('The Data Directory Does not Exist!')\n",
        "                return None\n",
        "\n",
        "            #Iterating over all the subject folders\n",
        "            for fld in self.internal_folders:\n",
        "                #Iterating for each file in the specified folder\n",
        "                for file in os.listdir(os.path.join(self.dir_path, fld, data_folder)):\n",
        "                    #Extracting the activity from the filename\n",
        "                    activity = self.__extract_activity(file)\n",
        "                    \n",
        "                    if activity not in self.classes:\n",
        "                        continue\n",
        "                    \n",
        "                    #Reading the CSV file using Pandas\n",
        "                    data = pd.read_csv(os.path.join(self.dir_path, fld, data_folder, file), header=None)\n",
        "\n",
        "                    #Formulating the activity vector using one hot encoding\n",
        "                    if activity not in activity_vector:\n",
        "                        total_keys = len(activity_vector.keys())\n",
        "                        activity_vector[activity] = np.zeros(self.total_classes)\n",
        "                        activity_vector[activity][total_keys] = 1\n",
        "                    vector = activity_vector[activity]\n",
        "                    \n",
        "                    #Sampling the dataset\n",
        "                    grouped_sample = self.__group_samples(data, self.sample_size, vector)\n",
        "                    sampled_data = grouped_sample if sampled_data is None else np.append(sampled_data, grouped_sample, axis=0)\n",
        "            \n",
        "            #Changing the Datatype\n",
        "            sampled_data = sampled_data.astype(self.datatype)\n",
        "            \n",
        "            return sampled_data\n",
        "        except Exception as e:\n",
        "            print(e)\n",
        "    \n",
        "    def __extract_activity(self, filename):\n",
        "        try:\n",
        "            #Extracting the filename and excluding the extension\n",
        "            name = os.path.splitext(filename)[0]\n",
        "            \n",
        "            #Substituting the empty string with characters other than english alphabets\n",
        "            activity = re.sub('[^A-Za-z]+' , '' , name)\n",
        "            return activity\n",
        "        except Exception as e:\n",
        "            print(e)\n",
        "    \n",
        "    def __group_samples(self, dataset, sample_size, activity):\n",
        "        try:\n",
        "            #Checking if the dataset is a Pandas Dataframe\n",
        "            if not isinstance(dataset, pd.DataFrame):\n",
        "                print('Expecting Pandas Dataframe, but got {}'.format(type(dataset)))\n",
        "                return None\n",
        "            \n",
        "            if self.include_movable_joints:\n",
        "                joints = list(chain.from_iterable((jt*2, (jt*2)+1) for jt in self.movable_joints))\n",
        "                dataset = dataset.iloc[: , joints].copy()\n",
        "\n",
        "            #Appending activity class to each row in the dataset\n",
        "            dataset = pd.concat([dataset, pd.DataFrame(np.tile(activity, (dataset.shape[0],1)))], axis=1)\n",
        "            \n",
        "            #Reshaping the dataset into sample batches\n",
        "            total_samples = dataset.shape[0]//sample_size\n",
        "            total_features = dataset.shape[1]\n",
        "            grouped_rows = dataset.to_numpy()[:total_samples*self.sample_size].reshape((-1,self.sample_size, total_features))\n",
        "            \n",
        "            return grouped_rows\n",
        "        except Exception as e:\n",
        "            print(e)"
      ]
    },
    {
      "cell_type": "code",
      "execution_count": 35,
      "metadata": {
        "id": "f8PgK1UVnkrw"
      },
      "outputs": [],
      "source": [
        "#For long term prediction, we need a sample size of 60(10 frames input sequance, 50 frames predicted sequance)\n",
        "sampled_data = Dataset_Preprocessing('/content/drive/MyDrive/Colab Notebooks/H3.6csv', sample_size=60, include_movable_joints=True).read_dataset()"
      ]
    },
    {
      "cell_type": "code",
      "execution_count": 42,
      "metadata": {
        "id": "8nABIG0rnxl_"
      },
      "outputs": [],
      "source": [
        "def split_to_features_labels(dataset, input_sequance_size=10, total_features=64) :\n",
        "    \"\"\"\n",
        "    Function for splitting the data into features(with sequance size=iput_sequance_size)\n",
        "    and labels which should be the remainder of the sample length \n",
        "    \"\"\"\n",
        "    assert input_sequance_size < dataset.shape[1], f\"input sequance should be smaller than the total sample size\"\n",
        "    features = dataset[:, np.s_[0:input_sequance_size], :]\n",
        "    labels = dataset[:,np.s_[input_sequance_size:], :total_features]\n",
        "    \n",
        "    return features, labels"
      ]
    },
    {
      "cell_type": "code",
      "source": [
        "#To make the data divisible for batch size of 20\n",
        "total_batches = sampled_data.shape[0]\n",
        "sampled_data = sampled_data[:total_batches-(total_batches%20)]"
      ],
      "metadata": {
        "id": "lw6Tvviol_Ch"
      },
      "execution_count": 37,
      "outputs": []
    },
    {
      "cell_type": "code",
      "execution_count": 43,
      "metadata": {
        "id": "h6bSQTwdn2Fo"
      },
      "outputs": [],
      "source": [
        "sampled_dataX, sampled_dataY = split_to_features_labels(sampled_data, input_sequance_size=10, total_features=34)"
      ]
    },
    {
      "cell_type": "code",
      "execution_count": 45,
      "metadata": {
        "colab": {
          "base_uri": "https://localhost:8080/"
        },
        "id": "CVXQiscVn4O2",
        "outputId": "dffaa998-a452-4358-d205-9754186aba0b"
      },
      "outputs": [
        {
          "output_type": "stream",
          "name": "stdout",
          "text": [
            "Total Samples: 25520\n",
            "Total Frames: 50\n",
            "Total Features: 34\n"
          ]
        }
      ],
      "source": [
        "print('Total Samples: {}'.format(sampled_dataY.shape[0]))\n",
        "print('Total Frames: {}'.format(sampled_dataY.shape[1]))\n",
        "print('Total Features: {}'.format(sampled_dataY.shape[2]))"
      ]
    },
    {
      "cell_type": "markdown",
      "source": [
        "##Adding Preprocessing steps to improve model performance and robustness"
      ],
      "metadata": {
        "id": "snGEPtNOKLvg"
      }
    },
    {
      "cell_type": "markdown",
      "source": [
        "### downsampling the dataset number of frames"
      ],
      "metadata": {
        "id": "W5HkmNJJSKg3"
      }
    },
    {
      "cell_type": "code",
      "source": [
        "def downsampling(sampled_data, downsample_technique = 'skip'):\n",
        "    \"\"\"\n",
        "    The function used to down-sample the data using two different techniques. In Skip, one frame is skipped consecutively and\n",
        "    in the mean technique, two frames are averaged consecutively.\n",
        "    \"\"\"\n",
        "    samples_per_batch = int(sampled_data.shape[1] / 2)\n",
        "    total_features = sampled_data.shape[2]\n",
        "    downsampled_data = np.empty(shape=(0, samples_per_batch, total_features))\n",
        "    \n",
        "    if downsample_technique == 'skip':\n",
        "        downsampled_data = sampled_data[:,::2,:]\n",
        "    else:\n",
        "        for batch in sampled_data:\n",
        "            averaged_batch = np.empty(shape=(0, total_features))\n",
        "            for i in range(0, batch.shape[0], 2):\n",
        "                averaged_batch = np.append(averaged_batch, np.mean(batch[i:i+2, :], axis = 0).reshape((1, total_features)), axis = 0)\n",
        "            downsampled_data = np.append(downsampled_data, averaged_batch.reshape((1, samples_per_batch, total_features)), axis = 0)\n",
        "    return downsampled_data"
      ],
      "metadata": {
        "id": "wNJmfjiGSDY2"
      },
      "execution_count": 46,
      "outputs": []
    },
    {
      "cell_type": "markdown",
      "source": [
        "### Adding more preprocessing steps (Normalization and gussian noise)"
      ],
      "metadata": {
        "id": "cLpG7OlQSUjW"
      }
    },
    {
      "cell_type": "code",
      "source": [
        "def preprocess_data(sampled_dataX, sampled_dataY, normalize=True, add_noise=True\n",
        "                    , stddev=0.05) :\n",
        "    \"\"\"\n",
        "    Function to preprocess data by normalizing input features and adding guassian\n",
        "    noise to increase model robustness\n",
        "    \"\"\"  \n",
        "    if normalize :\n",
        "      sampled_dataX =  tf.keras.utils.normalize(sampled_dataX, axis=2)\n",
        "    if add_noise :\n",
        "      guassian_noise_layer = tf.keras.layers.GaussianNoise(stddev=stddev)\n",
        "      sampled_dataX = guassian_noise_layer(sampled_dataX)\n",
        "    return sampled_dataX, sampled_dataY"
      ],
      "metadata": {
        "id": "VzjeqMm1KNjQ"
      },
      "execution_count": 47,
      "outputs": []
    },
    {
      "cell_type": "code",
      "source": [
        "preprocessed_sampled_dataX, preprocessed_sampled_dataY = preprocess_data(sampled_dataX, sampled_dataY) "
      ],
      "metadata": {
        "id": "4bR0E_RfMlHg"
      },
      "execution_count": 48,
      "outputs": []
    },
    {
      "cell_type": "code",
      "source": [
        "downsampled_data = downsampling(sampled_data, 'skip')"
      ],
      "metadata": {
        "id": "Z9Bkt02CSh5P"
      },
      "execution_count": 49,
      "outputs": []
    },
    {
      "cell_type": "code",
      "source": [
        "downsampled_dataX, downsampled_dataY = split_to_features_labels(downsampled_data, input_sequance_size=10, total_features=34)\n",
        "preprocessed_downsampled_dataX, preprocessed_downsampled_dataY = preprocess_data(downsampled_dataX, downsampled_dataY) "
      ],
      "metadata": {
        "id": "bsR__kGeSmNG"
      },
      "execution_count": 52,
      "outputs": []
    },
    {
      "cell_type": "markdown",
      "source": [
        "##Defining different components of the model"
      ],
      "metadata": {
        "id": "kwCrXubfJka4"
      }
    },
    {
      "cell_type": "code",
      "execution_count": 20,
      "metadata": {
        "id": "QsfCMT-0zRTs"
      },
      "outputs": [],
      "source": [
        "class InterpolationLayer(tf.keras.layers.Layer):\n",
        "    \"\"\"\n",
        "    Custom interpolation layer extending the keras layer class\n",
        "    it has one attribute num_frames to be interpolated between each two consecutive \n",
        "    timesteps\n",
        "    it has one main function interpolateFrames  \n",
        "    \"\"\"\n",
        "  \n",
        "    def __init__(self, num_frames=5):\n",
        "        super(InterpolationLayer, self).__init__()\n",
        "        self.num_frames = num_frames\n",
        "       \n",
        "    def interpolateFrames(self, inputs):\n",
        "      \"\"\"\n",
        "      Takes input tensors of shape(batch_size, timesteps, features)\n",
        "      returns interpolated frames with shape(batch_size, timesteps*num_frames, features)\n",
        "      \"\"\"\n",
        "      batch_size = inputs.shape[0]\n",
        "      timesteps = inputs.shape[1]\n",
        "      features = inputs.shape[2]\n",
        "      interpolated_frames = tf.zeros([0, features])\n",
        "\n",
        "      for batch in tf.range(tf.shape(inputs)[0]) :\n",
        "        tf.autograph.experimental.set_loop_options(\n",
        "        shape_invariants=[(interpolated_frames, tf.TensorShape([None, features]))])\n",
        "        for t in range(timesteps) :\n",
        "          for j in range(self.num_frames) :\n",
        "            X_i0 = inputs[batch, t]\n",
        "            if(t == timesteps-1) :\n",
        "              X_i1 = inputs[batch, t]\n",
        "            else :  \n",
        "              X_i1 = inputs[batch, t+1]\n",
        "            alpha_j = j/self.num_frames\n",
        "            current_frame = alpha_j*X_i0 + (1-alpha_j)*X_i1\n",
        "            current_frame = tf.reshape(current_frame, [1, features])\n",
        "            interpolated_frames = tf.concat((interpolated_frames, current_frame), axis=0)\n",
        "      interpolated_frames = tf.reshape(interpolated_frames,[\n",
        "          tf.shape(inputs)[0], (timesteps)*self.num_frames, features])\n",
        "      return interpolated_frames\n",
        "\n",
        "    def call(self, inputs):\n",
        "      return self.interpolateFrames(inputs)"
      ]
    },
    {
      "cell_type": "markdown",
      "source": [
        "### Trying to create a keras glocalNet model through a custom function"
      ],
      "metadata": {
        "id": "l9xiHeHMaQRH"
      }
    },
    {
      "cell_type": "code",
      "source": [
        "def create_glocalNet_model(enocder_hidden_state=200, decoder_hidden_state=200, \n",
        "                 output_diminsion=64, input_diminsions=74, LSTM_dropout=0.25, dense_activation='relu',\n",
        "                 interpolation_frames=5, exclude_locgen=False) :\n",
        "    #Glogen encoder\n",
        "    encoder_inputs = Input(shape=(10, input_diminsions))\n",
        "    encoder = LSTM(enocder_hidden_state, return_sequences=True, return_state=True)\n",
        "    encoder_outputs, state_h, state_c = encoder(encoder_inputs)\n",
        "    encoder_states = [state_h, state_c]\n",
        "    #Glogen decoder\n",
        "    decoder_lstm = LSTM(decoder_hidden_state, return_sequences=True, return_state=True)\n",
        "    decoder_outputs, _, _ = decoder_lstm(encoder_outputs,\n",
        "                                        initial_state=encoder_states)\n",
        "    decoder_dense = TimeDistributed(Dense(output_diminsion, activation=dense_activation))\n",
        "    decoder_outputs = decoder_dense(decoder_outputs)\n",
        "\n",
        "    #Interpolation layer\n",
        "    interpolation_layer = InterpolationLayer(num_frames=interpolation_frames)\n",
        "    interpolation_output = interpolation_layer(decoder_outputs)\n",
        "    #return the model if execlude_locgen is true\n",
        "    if(exclude_locgen) :\n",
        "        return Model_(encoder_inputs, interpolation_output)\n",
        "    \n",
        "    #Locgen encoder\n",
        "    encoder_locgen = LSTM(enocder_hidden_state, return_sequences=True, return_state=True)\n",
        "    encoder_outputs_locgen, state_h_locgen, state_c_locgen = encoder_locgen(interpolation_output)\n",
        "    encoder_states_locgen = [state_h_locgen, state_c_locgen]\n",
        "    #Locgen decoder\n",
        "    decoder_lstm_locgen = LSTM(decoder_hidden_state, return_sequences=True, return_state=True)\n",
        "    decoder_outputs_locgen, _, _ = decoder_lstm(encoder_outputs_locgen,\n",
        "                                        initial_state=encoder_states_locgen)\n",
        "    decoder_dense_locgen = TimeDistributed(Dense(output_diminsion, activation=dense_activation))\n",
        "    glocalNet_output = decoder_dense_locgen(decoder_outputs_locgen)\n",
        "    return Model_(encoder_inputs, glocalNet_output)\n"
      ],
      "metadata": {
        "id": "70zZuaX0Y6Ag"
      },
      "execution_count": 21,
      "outputs": []
    },
    {
      "cell_type": "markdown",
      "source": [
        "### Custom glocalNet class"
      ],
      "metadata": {
        "id": "4ccVrCxin9KA"
      }
    },
    {
      "cell_type": "code",
      "execution_count": 22,
      "metadata": {
        "id": "7PIJXvLaaEvY"
      },
      "outputs": [],
      "source": [
        "class GlocalNet(Model_):\n",
        "    \"\"\"\n",
        "    A full GlocalNet implementation include the three main stages\n",
        "    Glogen generating initial sparse frames\n",
        "    Interpolation layer generating dense frames from Glogen output\n",
        "    Locgen generating the final output by smoothing the interpolated frames\n",
        "    \"\"\"\n",
        "    def __init__(self, enocder_hidden_state=200, decoder_hidden_state=200, \n",
        "                 output_diminsion=64, LSTM_dropout=0.25, dense_activation='relu',\n",
        "                 interpolation_frames=5, exclude_locgen=False):\n",
        "        super(GlocalNet, self).__init__()\n",
        "        self.exclude_locgen = exclude_locgen\n",
        "        #Glogen layers\n",
        "        self.glogen_encoder = LSTM(enocder_hidden_state, return_state=True\n",
        "                                   , return_sequences=True, dropout=LSTM_dropout)\n",
        "        self.glogen_decoder = LSTM(decoder_hidden_state, return_sequences=True,\n",
        "                                   return_state=True, dropout=LSTM_dropout)\n",
        "        #Locgen layers\n",
        "        self.locgen_encoder = LSTM(enocder_hidden_state, return_sequences=True,\n",
        "                                   return_state=True, dropout=LSTM_dropout)\n",
        "        self.locgen_decoder = LSTM(decoder_hidden_state, return_sequences=True,\n",
        "                                   return_state=True, dropout=LSTM_dropout)\n",
        "        #Glogen dense layer\n",
        "        self.glogen_dense_layer = TimeDistributed(Dense(output_diminsion,\n",
        "                                                        activation=dense_activation)) \n",
        "        #Interpolation layer\n",
        "        self.interpolation_layer = InterpolationLayer(num_frames=interpolation_frames)\n",
        "        #Locgen dense layer\n",
        "        self.locgen_dense_layer = TimeDistributed(Dense(output_diminsion,\n",
        "                                                        activation=dense_activation)) \n",
        "        \n",
        "    def call(self, inputs):\n",
        "        #Glogen calls      \n",
        "        encoder_outputs, state_h, state_c = self.glogen_encoder(inputs)\n",
        "        encoder_states = [state_h, state_c]\n",
        "        output, _, _ = self.glogen_decoder(encoder_outputs, initial_state=encoder_states)\n",
        "        glogen_output = self.glogen_dense_layer(output)\n",
        "\n",
        "        #Interpolation call\n",
        "        interpolated_frames = self.interpolation_layer(glogen_output)\n",
        "        \n",
        "        if self.exclude_locgen :\n",
        "          return interpolated_frames\n",
        "\n",
        "        #Locgen calls\n",
        "        locgen_encoder_outputs, locgen_state_h, locgen_state_c = self.locgen_encoder(interpolated_frames)\n",
        "        locgen_encoder_states = [locgen_state_h, locgen_state_c]\n",
        "        locgen_output, _, _ = self.locgen_decoder(locgen_encoder_outputs, initial_state=locgen_encoder_states)\n",
        "        final_output = self.locgen_dense_layer(locgen_output)\n",
        "        return final_output"
      ]
    },
    {
      "cell_type": "code",
      "execution_count": 23,
      "metadata": {
        "id": "bVUFJsv3fVYh"
      },
      "outputs": [],
      "source": [
        "class JointLoss() :\n",
        "    \"\"\"\n",
        "    Joint loss class with two weight attributes for two different losses\n",
        "    first one is the loss joint and the second is the loss_motion_flow\n",
        "    \"\"\"\n",
        "    def __init__(self, lambda1=0.5, lambda2=0.5, mmd_kernel='gaussian') :\n",
        "        self.lambda1 = lambda1\n",
        "        self.lambda2 = lambda2\n",
        "        self.mmd_kernel = mmd_kernel\n",
        "\n",
        "    def loss_joint(self, predicted_sequance_batch, target_sequance_batch) :\n",
        "        \"\"\"\n",
        "        Loss between the joint positions and its corresponding counterparts in the groundtruth\n",
        "        \"\"\"\n",
        "        diff_norm_2 = tf.math.reduce_sum(tf.square(tf.subtract(predicted_sequance_batch, target_sequance_batch)), axis=2)\n",
        "        return tf.reduce_sum(diff_norm_2, axis=1) \n",
        "\n",
        "    def loss_motion_flow(self, predicted_sequance_batch, target_sequance_batch) :\n",
        "        \"\"\"\n",
        "        Loss between the motion flow of predicted sequance and the ground truth\n",
        "        where the motion flow is the euclidean distance between each two consecutive frames\n",
        "        \"\"\"\n",
        "        predictions_tomporal_diffs = tf.experimental.numpy.diff(predicted_sequance_batch, axis=1)\n",
        "        real_tomporal_diffs = tf.experimental.numpy.diff(target_sequance_batch, axis=1)\n",
        "        prediction_motion_flow_diff_norm_2 = tf.reduce_sum(tf.square(tf.subtract(predictions_tomporal_diffs, real_tomporal_diffs)), axis=2)\n",
        "        return tf.reduce_sum(prediction_motion_flow_diff_norm_2, axis=1)\n",
        "\n",
        "\n",
        "    def total_loss(self, target_sequance_batch, predicted_sequance_batch) :\n",
        "        \"\"\"\n",
        "        calculating the total loss through a combination of the joint_loss and motion_flow_loss\n",
        "        \"\"\"\n",
        "        joints_loss = self.loss_joint(predicted_sequance_batch, target_sequance_batch)\n",
        "        motion_flow_loss = self.loss_motion_flow(predicted_sequance_batch, target_sequance_batch)\n",
        "        return self.lambda1*joints_loss + self.lambda2*motion_flow_loss\n",
        "\n",
        "    def custom_sequence_MMD_loss(self, target_sequance_batch, predicted_sequance_batch):\n",
        "        \"\"\"\n",
        "        Calculating the Sequence MMD Loss between prediction and the ground Truth.\n",
        "         Additionally combining the last two dimensions \n",
        "        \"\"\"\n",
        "        mmd_loss = MMD.MMDLoss(kernel=self.mmd_kernel)\n",
        "        total_batches = predicted_sequance_batch.shape[0]\n",
        "        frames_per_batch = predicted_sequance_batch.shape[1] * predicted_sequance_batch.shape[2]\n",
        "        return mmd_loss(tf.reshape(predicted_sequance_batch, [total_batches, frames_per_batch]),\n",
        "                        tf.reshape(target_sequance_batch, [total_batches, frames_per_batch]))"
      ]
    },
    {
      "cell_type": "markdown",
      "source": [
        "##Running experiment with different hyperparameters"
      ],
      "metadata": {
        "id": "Az25davkJq9Y"
      }
    },
    {
      "cell_type": "code",
      "execution_count": 27,
      "metadata": {
        "id": "labA65KEakkZ"
      },
      "outputs": [],
      "source": [
        "def run_experiment(sampled_dataX, sampled_dataY, learning_rate=0.002, lambda1=0.5,\n",
        "                   lambda2=0.5, use_mse=False, use_MMD=False, metrics=None, output_diminsion=64,\n",
        "                   batch_size=100, epochs=50, validation_split=0.2, activation=\"relu\",\n",
        "                   dropout=0.25, exclude_locgen=False, interpolate_frames = 5) :\n",
        "    \"\"\"\n",
        "    Method takes all hyperparameters as input paramters and returns the model and history as\n",
        "    a result\n",
        "    \"\"\"\n",
        "    glocal_model = GlocalNet(dense_activation=activation, LSTM_dropout=dropout,\n",
        "                             exclude_locgen=exclude_locgen,\n",
        "                             output_diminsion=output_diminsion, \n",
        "                             interpolation_frames = interpolate_frames)\n",
        "    if use_mse :\n",
        "        loss_function = tf.keras.losses.mean_squared_error\n",
        "    elif use_MMD :\n",
        "        loss_function = JointLoss().custom_sequence_MMD_loss\n",
        "    else :\n",
        "        loss_function = JointLoss(lambda1=lambda1, lambda2=lambda2).total_loss\n",
        "\n",
        "    glocal_model.compile(optimizer=tf.keras.optimizers.Adam(learning_rate=learning_rate),\n",
        "                       loss=loss_function, metrics=metrics)\n",
        "    history = glocal_model.fit(sampled_dataX, sampled_dataY,\n",
        "                              batch_size=batch_size,\n",
        "                              epochs=epochs, validation_split=validation_split)\n",
        "    return history, glocal_model"
      ]
    },
    {
      "cell_type": "code",
      "source": [
        "def resume_training(glocal_model, sampled_dataX, sampled_dataY, learning_rate=0.002, lambda1=0.5,\n",
        "                   lambda2=0.5, use_mse=False, use_MMD=False, metrics=None,\n",
        "                   batch_size=100, epochs=50, validation_split=0.2) :\n",
        "    \"\"\"\n",
        "    function to resume training of a model\n",
        "    \"\"\"\n",
        "    if use_mse :\n",
        "      loss_function = tf.keras.losses.mean_squared_error\n",
        "    elif use_MMD :\n",
        "      loss_function = JointLoss().custom_sequence_MMD_loss\n",
        "    else :\n",
        "      loss_function = JointLoss(lambda1=lambda1, lambda2=lambda2).total_loss\n",
        "\n",
        "    glocal_model.compile(optimizer=tf.keras.optimizers.Adam(learning_rate=learning_rate),\n",
        "                      loss=loss_function, metrics=metrics)\n",
        "    history = glocal_model.fit(sampled_dataX, sampled_dataY,\n",
        "                            batch_size=batch_size,\n",
        "                            epochs=epochs, validation_split=validation_split)\n",
        "    return history, glocal_model"
      ],
      "metadata": {
        "id": "eq3GlZ4NvHHz"
      },
      "execution_count": 25,
      "outputs": []
    },
    {
      "cell_type": "markdown",
      "metadata": {
        "id": "KTHffB1KrfBy"
      },
      "source": [
        "## Experiment Running for MSE and joint loss"
      ]
    },
    {
      "cell_type": "code",
      "execution_count": null,
      "metadata": {
        "colab": {
          "base_uri": "https://localhost:8080/"
        },
        "id": "sQ-XPaUFd4D0",
        "outputId": "f1ed045c-addf-4bdb-8ee6-e46bfb5fcda7"
      },
      "outputs": [
        {
          "output_type": "stream",
          "name": "stdout",
          "text": [
            "Epoch 1/10\n",
            "409/409 [==============================] - 311s 720ms/step - loss: 177825.9844 - mean_absolute_percentage_error: 82.8186 - val_loss: 124027.8594 - val_mean_absolute_percentage_error: 66.8344\n",
            "Epoch 2/10\n",
            "409/409 [==============================] - 293s 716ms/step - loss: 90484.2344 - mean_absolute_percentage_error: 54.1147 - val_loss: 62696.0195 - val_mean_absolute_percentage_error: 42.4023\n",
            "Epoch 3/10\n",
            "409/409 [==============================] - 293s 716ms/step - loss: 46615.4414 - mean_absolute_percentage_error: 35.0630 - val_loss: 34037.5977 - val_mean_absolute_percentage_error: 28.6017\n",
            "Epoch 4/10\n",
            "409/409 [==============================] - 292s 713ms/step - loss: 27399.0527 - mean_absolute_percentage_error: 25.4459 - val_loss: 22726.5059 - val_mean_absolute_percentage_error: 22.9845\n",
            "Epoch 5/10\n",
            "409/409 [==============================] - 290s 709ms/step - loss: 20389.1250 - mean_absolute_percentage_error: 21.9130 - val_loss: 19172.2676 - val_mean_absolute_percentage_error: 21.5365\n",
            "Epoch 6/10\n",
            "409/409 [==============================] - 289s 706ms/step - loss: 18369.9160 - mean_absolute_percentage_error: 21.0561 - val_loss: 18345.4219 - val_mean_absolute_percentage_error: 21.5250\n",
            "Epoch 7/10\n",
            "409/409 [==============================] - 290s 708ms/step - loss: 17939.8164 - mean_absolute_percentage_error: 21.0327 - val_loss: 18224.9629 - val_mean_absolute_percentage_error: 21.6872\n",
            "Epoch 8/10\n",
            "409/409 [==============================] - 289s 706ms/step - loss: 17878.7930 - mean_absolute_percentage_error: 21.1089 - val_loss: 18220.4238 - val_mean_absolute_percentage_error: 21.7702\n",
            "Epoch 9/10\n",
            "409/409 [==============================] - 289s 706ms/step - loss: 17873.2109 - mean_absolute_percentage_error: 21.1468 - val_loss: 18222.3691 - val_mean_absolute_percentage_error: 21.7856\n",
            "Epoch 10/10\n",
            "409/409 [==============================] - 286s 699ms/step - loss: 17872.7637 - mean_absolute_percentage_error: 21.1680 - val_loss: 18221.1309 - val_mean_absolute_percentage_error: 21.7473\n"
          ]
        }
      ],
      "source": [
        "history_mse, glocal_model_mse = run_experiment(sampled_dataX, sampled_dataY, epochs=10, batch_size=50, use_mse=True, metrics=[tf.keras.losses.mean_absolute_percentage_error])"
      ]
    },
    {
      "cell_type": "code",
      "execution_count": null,
      "metadata": {
        "colab": {
          "base_uri": "https://localhost:8080/"
        },
        "id": "a7FQ-HQ4bPVi",
        "outputId": "89e882cb-f5fd-4d5f-d5af-1497efaba172"
      },
      "outputs": [
        {
          "name": "stdout",
          "output_type": "stream",
          "text": [
            "Epoch 1/10\n",
            "255/255 [==============================] - 419s 248ms/step - loss: 318235136.0000 - mean_absolute_percentage_error: 88.8408\n",
            "Epoch 2/10\n",
            "255/255 [==============================] - 63s 248ms/step - loss: 209204064.0000 - mean_absolute_percentage_error: 68.7124\n",
            "Epoch 3/10\n",
            "255/255 [==============================] - 64s 252ms/step - loss: 136290848.0000 - mean_absolute_percentage_error: 52.0030\n",
            "Epoch 4/10\n",
            "255/255 [==============================] - 63s 248ms/step - loss: 89421984.0000 - mean_absolute_percentage_error: 39.3298\n",
            "Epoch 5/10\n",
            "255/255 [==============================] - 64s 251ms/step - loss: 60899012.0000 - mean_absolute_percentage_error: 30.7696\n",
            "Epoch 6/10\n",
            "255/255 [==============================] - 65s 254ms/step - loss: 44627976.0000 - mean_absolute_percentage_error: 25.5873\n",
            "Epoch 7/10\n",
            "255/255 [==============================] - 64s 250ms/step - loss: 36028060.0000 - mean_absolute_percentage_error: 22.8682\n",
            "Epoch 8/10\n",
            "255/255 [==============================] - 64s 251ms/step - loss: 31884704.0000 - mean_absolute_percentage_error: 21.6249\n",
            "Epoch 9/10\n",
            "255/255 [==============================] - 63s 248ms/step - loss: 30101348.0000 - mean_absolute_percentage_error: 21.2003\n",
            "Epoch 10/10\n",
            "255/255 [==============================] - 64s 252ms/step - loss: 29427098.0000 - mean_absolute_percentage_error: 21.1448\n"
          ]
        }
      ],
      "source": [
        " history_jointLoss, glocal_model_jointLoss = run_experiment(epochs=10, lambda1=0.5, lambda2=0.5, metrics=[tf.keras.losses.mean_absolute_percentage_error])"
      ]
    },
    {
      "cell_type": "markdown",
      "metadata": {
        "id": "H-ekHZVlrq1o"
      },
      "source": [
        "## Running experiment with MMD"
      ]
    },
    {
      "cell_type": "code",
      "execution_count": null,
      "metadata": {
        "colab": {
          "base_uri": "https://localhost:8080/"
        },
        "id": "KayDheMuk7oE",
        "outputId": "4cc7a0d2-53c9-4b41-e24d-dc7990f26a29"
      },
      "outputs": [
        {
          "output_type": "stream",
          "name": "stdout",
          "text": [
            "Epoch 1/10\n",
            "204/204 [==============================] - 495s 663ms/step - loss: 205974.6562 - custom_sequence_MMD_loss: 0.0100 - mean_absolute_percentage_error: 90.6578 - val_loss: 171432.6875 - val_custom_sequence_MMD_loss: 0.0100 - val_mean_absolute_percentage_error: 81.5120\n",
            "Epoch 2/10\n",
            "204/204 [==============================] - 56s 273ms/step - loss: 145359.6406 - custom_sequence_MMD_loss: 0.0100 - mean_absolute_percentage_error: 73.3579 - val_loss: 120135.9531 - val_custom_sequence_MMD_loss: 0.0100 - val_mean_absolute_percentage_error: 65.2601\n",
            "Epoch 3/10\n",
            "204/204 [==============================] - 55s 270ms/step - loss: 101290.3203 - custom_sequence_MMD_loss: 0.0100 - mean_absolute_percentage_error: 58.3517 - val_loss: 83172.4062 - val_custom_sequence_MMD_loss: 0.0100 - val_mean_absolute_percentage_error: 51.2563\n",
            "Epoch 4/10\n",
            "204/204 [==============================] - 55s 269ms/step - loss: 69855.6406 - custom_sequence_MMD_loss: 0.0100 - mean_absolute_percentage_error: 45.7777 - val_loss: 57228.5938 - val_custom_sequence_MMD_loss: 0.0100 - val_mean_absolute_percentage_error: 40.0328\n",
            "Epoch 5/10\n",
            "204/204 [==============================] - 57s 279ms/step - loss: 48098.1797 - custom_sequence_MMD_loss: 0.0100 - mean_absolute_percentage_error: 36.0964 - val_loss: 39625.2891 - val_custom_sequence_MMD_loss: 0.0100 - val_mean_absolute_percentage_error: 31.7929\n",
            "Epoch 6/10\n",
            "204/204 [==============================] - 56s 273ms/step - loss: 33573.5547 - custom_sequence_MMD_loss: 0.0100 - mean_absolute_percentage_error: 29.0808 - val_loss: 28160.0840 - val_custom_sequence_MMD_loss: 0.0100 - val_mean_absolute_percentage_error: 26.0605\n",
            "Epoch 7/10\n",
            "204/204 [==============================] - 56s 274ms/step - loss: 24280.4746 - custom_sequence_MMD_loss: 0.0100 - mean_absolute_percentage_error: 24.3429 - val_loss: 21030.3418 - val_custom_sequence_MMD_loss: 0.0100 - val_mean_absolute_percentage_error: 22.4952\n",
            "Epoch 8/10\n",
            "204/204 [==============================] - 68s 332ms/step - loss: 18608.1836 - custom_sequence_MMD_loss: 0.0100 - mean_absolute_percentage_error: 21.4388 - val_loss: 16818.1855 - val_custom_sequence_MMD_loss: 0.0100 - val_mean_absolute_percentage_error: 20.4412\n",
            "Epoch 9/10\n",
            "204/204 [==============================] - 65s 321ms/step - loss: 15331.3564 - custom_sequence_MMD_loss: 0.0100 - mean_absolute_percentage_error: 19.7880 - val_loss: 14482.0156 - val_custom_sequence_MMD_loss: 0.0100 - val_mean_absolute_percentage_error: 19.4006\n",
            "Epoch 10/10\n",
            "204/204 [==============================] - 56s 273ms/step - loss: 13556.4111 - custom_sequence_MMD_loss: 0.0100 - mean_absolute_percentage_error: 18.9364 - val_loss: 13288.5156 - val_custom_sequence_MMD_loss: 0.0100 - val_mean_absolute_percentage_error: 19.0172\n"
          ]
        }
      ],
      "source": [
        "history_mmd, glocal_model_mmd = run_experiment(epochs=10, use_mse=True, metrics=[JointLoss().custom_sequence_MMD_loss,\n",
        "                                                                                  tf.keras.losses.mean_absolute_percentage_error])"
      ]
    },
    {
      "cell_type": "code",
      "source": [
        "history_low_learning_rate, glocal_low_learning_rate = run_experiment(epochs=15, use_mse=True,learning_rate=0.0005,\n",
        "                                                                     metrics=[JointLoss().custom_sequence_MMD_loss, \n",
        "                                                                              tf.keras.losses.mean_absolute_percentage_error])"
      ],
      "metadata": {
        "id": "vkHRFMEpaXHB",
        "colab": {
          "base_uri": "https://localhost:8080/"
        },
        "outputId": "ca615ec4-b99d-4f19-b255-eafd3dd12ed7"
      },
      "execution_count": null,
      "outputs": [
        {
          "output_type": "stream",
          "name": "stdout",
          "text": [
            "Epoch 1/15\n",
            "204/204 [==============================] - 508s 688ms/step - loss: 232722.3750 - custom_sequence_MMD_loss: 0.0100 - mean_absolute_percentage_error: 97.5425 - val_loss: 222185.7188 - val_custom_sequence_MMD_loss: 0.0100 - val_mean_absolute_percentage_error: 95.1817\n",
            "Epoch 2/15\n",
            "204/204 [==============================] - 56s 275ms/step - loss: 214970.2344 - custom_sequence_MMD_loss: 0.0100 - mean_absolute_percentage_error: 93.0554 - val_loss: 205736.5312 - val_custom_sequence_MMD_loss: 0.0100 - val_mean_absolute_percentage_error: 90.8953\n",
            "Epoch 3/15\n",
            "204/204 [==============================] - 55s 271ms/step - loss: 199166.1562 - custom_sequence_MMD_loss: 0.0100 - mean_absolute_percentage_error: 88.8794 - val_loss: 190633.7812 - val_custom_sequence_MMD_loss: 0.0100 - val_mean_absolute_percentage_error: 86.7782\n",
            "Epoch 4/15\n",
            "204/204 [==============================] - 55s 272ms/step - loss: 184554.7031 - custom_sequence_MMD_loss: 0.0100 - mean_absolute_percentage_error: 84.8329 - val_loss: 176609.2656 - val_custom_sequence_MMD_loss: 0.0100 - val_mean_absolute_percentage_error: 82.7779\n",
            "Epoch 5/15\n",
            "204/204 [==============================] - 57s 278ms/step - loss: 170966.2969 - custom_sequence_MMD_loss: 0.0100 - mean_absolute_percentage_error: 80.9081 - val_loss: 163556.3281 - val_custom_sequence_MMD_loss: 0.0100 - val_mean_absolute_percentage_error: 78.8806\n",
            "Epoch 6/15\n",
            "204/204 [==============================] - 57s 279ms/step - loss: 158307.3438 - custom_sequence_MMD_loss: 0.0100 - mean_absolute_percentage_error: 77.0799 - val_loss: 151408.1562 - val_custom_sequence_MMD_loss: 0.0100 - val_mean_absolute_percentage_error: 75.0791\n",
            "Epoch 7/15\n",
            "204/204 [==============================] - 55s 270ms/step - loss: 146525.1875 - custom_sequence_MMD_loss: 0.0100 - mean_absolute_percentage_error: 73.3434 - val_loss: 140096.4062 - val_custom_sequence_MMD_loss: 0.0100 - val_mean_absolute_percentage_error: 71.3684\n",
            "Epoch 8/15\n",
            "204/204 [==============================] - 56s 276ms/step - loss: 135561.1406 - custom_sequence_MMD_loss: 0.0100 - mean_absolute_percentage_error: 69.7049 - val_loss: 129581.9531 - val_custom_sequence_MMD_loss: 0.0100 - val_mean_absolute_percentage_error: 67.7499\n",
            "Epoch 9/15\n",
            "204/204 [==============================] - 55s 271ms/step - loss: 125370.8203 - custom_sequence_MMD_loss: 0.0100 - mean_absolute_percentage_error: 66.1570 - val_loss: 119813.8203 - val_custom_sequence_MMD_loss: 0.0100 - val_mean_absolute_percentage_error: 64.2217\n",
            "Epoch 10/15\n",
            "204/204 [==============================] - 55s 270ms/step - loss: 115911.8047 - custom_sequence_MMD_loss: 0.0100 - mean_absolute_percentage_error: 62.7157 - val_loss: 110761.0625 - val_custom_sequence_MMD_loss: 0.0100 - val_mean_absolute_percentage_error: 60.7990\n",
            "Epoch 11/15\n",
            "204/204 [==============================] - 56s 276ms/step - loss: 107145.1094 - custom_sequence_MMD_loss: 0.0100 - mean_absolute_percentage_error: 59.3836 - val_loss: 102378.7656 - val_custom_sequence_MMD_loss: 0.0100 - val_mean_absolute_percentage_error: 57.4870\n",
            "Epoch 12/15\n",
            "204/204 [==============================] - 55s 272ms/step - loss: 99038.8906 - custom_sequence_MMD_loss: 0.0100 - mean_absolute_percentage_error: 56.1696 - val_loss: 94645.6562 - val_custom_sequence_MMD_loss: 0.0100 - val_mean_absolute_percentage_error: 54.3009\n",
            "Epoch 13/15\n",
            "204/204 [==============================] - 56s 272ms/step - loss: 91559.8984 - custom_sequence_MMD_loss: 0.0100 - mean_absolute_percentage_error: 53.0907 - val_loss: 87516.0078 - val_custom_sequence_MMD_loss: 0.0100 - val_mean_absolute_percentage_error: 51.2596\n",
            "Epoch 14/15\n",
            "204/204 [==============================] - 57s 279ms/step - loss: 84679.2969 - custom_sequence_MMD_loss: 0.0100 - mean_absolute_percentage_error: 50.1581 - val_loss: 80973.3047 - val_custom_sequence_MMD_loss: 0.0100 - val_mean_absolute_percentage_error: 48.3909\n",
            "Epoch 15/15\n",
            "204/204 [==============================] - 62s 305ms/step - loss: 78370.8203 - custom_sequence_MMD_loss: 0.0100 - mean_absolute_percentage_error: 47.3890 - val_loss: 74984.5156 - val_custom_sequence_MMD_loss: 0.0100 - val_mean_absolute_percentage_error: 45.7008\n"
          ]
        }
      ]
    },
    {
      "cell_type": "code",
      "execution_count": null,
      "metadata": {
        "id": "3wKSm6QMuGuc",
        "colab": {
          "base_uri": "https://localhost:8080/"
        },
        "outputId": "e4be73cf-1c86-4ec8-d4d1-36b52558e78f"
      },
      "outputs": [
        {
          "output_type": "stream",
          "name": "stdout",
          "text": [
            "Epoch 1/10\n",
            "255/255 [==============================] - 414s 249ms/step - loss: 197403.2812 - custom_sequence_MMD_loss: 0.0100 - mean_absolute_percentage_error: 88.3660\n",
            "Epoch 2/10\n",
            "255/255 [==============================] - 63s 248ms/step - loss: 127435.2109 - custom_sequence_MMD_loss: 0.0100 - mean_absolute_percentage_error: 67.5425\n",
            "Epoch 3/10\n",
            "255/255 [==============================] - 63s 248ms/step - loss: 80680.4375 - custom_sequence_MMD_loss: 0.0100 - mean_absolute_percentage_error: 50.2697\n",
            "Epoch 4/10\n",
            "255/255 [==============================] - 64s 250ms/step - loss: 50611.1797 - custom_sequence_MMD_loss: 0.0100 - mean_absolute_percentage_error: 37.2520\n",
            "Epoch 5/10\n",
            "255/255 [==============================] - 63s 249ms/step - loss: 32317.2383 - custom_sequence_MMD_loss: 0.0100 - mean_absolute_percentage_error: 28.5100\n",
            "Epoch 6/10\n",
            "255/255 [==============================] - 63s 247ms/step - loss: 21881.8242 - custom_sequence_MMD_loss: 0.0100 - mean_absolute_percentage_error: 23.2072\n",
            "Epoch 7/10\n",
            "255/255 [==============================] - 63s 248ms/step - loss: 16363.6934 - custom_sequence_MMD_loss: 0.0100 - mean_absolute_percentage_error: 20.4176\n",
            "Epoch 8/10\n",
            "255/255 [==============================] - 63s 249ms/step - loss: 13689.2500 - custom_sequence_MMD_loss: 0.0100 - mean_absolute_percentage_error: 19.1406\n",
            "Epoch 9/10\n",
            "255/255 [==============================] - 64s 250ms/step - loss: 12545.0088 - custom_sequence_MMD_loss: 0.0100 - mean_absolute_percentage_error: 18.7035\n",
            "Epoch 10/10\n",
            "255/255 [==============================] - 68s 266ms/step - loss: 12116.4082 - custom_sequence_MMD_loss: 0.0100 - mean_absolute_percentage_error: 18.6410\n"
          ]
        }
      ],
      "source": [
        "#Running MMD with laplacian kernel\n",
        "history_laplacian, glocal_model_laplacian = run_experiment(epochs=10, use_mse=True, metrics=[JointLoss(mmd_kernel=\"laplacian\").custom_sequence_MMD_loss,\n",
        "                                                                                   tf.keras.losses.mean_absolute_percentage_error])"
      ]
    },
    {
      "cell_type": "markdown",
      "source": [
        "##Running Experiment with preprocessing"
      ],
      "metadata": {
        "id": "hQg05uuoRtEi"
      }
    },
    {
      "cell_type": "code",
      "source": [
        "history_preprocessed, glocal_model_preprocessed = run_experiment(preprocessed_sampled_dataX, preprocessed_sampled_dataY,\n",
        "                                                                 batch_size=20, dropout=0.0,\n",
        "                                                                 epochs=50, use_mse=True, metrics=[JointLoss().custom_sequence_MMD_loss,\n",
        "                                                                tf.keras.losses.mean_absolute_percentage_error], validation_split=0.0)"
      ],
      "metadata": {
        "colab": {
          "base_uri": "https://localhost:8080/"
        },
        "id": "On6oHsxuRxFS",
        "outputId": "649b7b9d-9b2f-449e-f315-57fa90653182"
      },
      "execution_count": null,
      "outputs": [
        {
          "output_type": "stream",
          "name": "stdout",
          "text": [
            "Epoch 1/50\n",
            "1276/1276 [==============================] - 166s 72ms/step - loss: 103226.2188 - custom_sequence_MMD_loss: 0.0500 - mean_absolute_percentage_error: 55.7368\n",
            "Epoch 2/50\n",
            "1276/1276 [==============================] - 92s 72ms/step - loss: 24137.4199 - custom_sequence_MMD_loss: 0.0500 - mean_absolute_percentage_error: 22.3288\n",
            "Epoch 3/50\n",
            "1276/1276 [==============================] - 91s 71ms/step - loss: 20904.3418 - custom_sequence_MMD_loss: 0.0500 - mean_absolute_percentage_error: 21.1100\n",
            "Epoch 4/50\n",
            "1276/1276 [==============================] - 92s 72ms/step - loss: 20891.6875 - custom_sequence_MMD_loss: 0.0500 - mean_absolute_percentage_error: 21.1437\n",
            "Epoch 5/50\n",
            "1276/1276 [==============================] - 90s 71ms/step - loss: 20892.7051 - custom_sequence_MMD_loss: 0.0500 - mean_absolute_percentage_error: 21.1492\n",
            "Epoch 6/50\n",
            "1276/1276 [==============================] - 91s 72ms/step - loss: 20892.3887 - custom_sequence_MMD_loss: 0.0500 - mean_absolute_percentage_error: 21.1576\n",
            "Epoch 7/50\n",
            "1276/1276 [==============================] - 91s 71ms/step - loss: 20893.9570 - custom_sequence_MMD_loss: 0.0500 - mean_absolute_percentage_error: 21.1507\n",
            "Epoch 8/50\n",
            "1276/1276 [==============================] - 92s 72ms/step - loss: 20894.3379 - custom_sequence_MMD_loss: 0.0500 - mean_absolute_percentage_error: 21.1451\n",
            "Epoch 9/50\n",
            "1276/1276 [==============================] - 88s 69ms/step - loss: 20892.3398 - custom_sequence_MMD_loss: 0.0500 - mean_absolute_percentage_error: 21.1532\n",
            "Epoch 10/50\n",
            "1276/1276 [==============================] - 89s 70ms/step - loss: 20892.7656 - custom_sequence_MMD_loss: 0.0500 - mean_absolute_percentage_error: 21.1454\n",
            "Epoch 11/50\n",
            "1276/1276 [==============================] - 87s 68ms/step - loss: 20892.8594 - custom_sequence_MMD_loss: 0.0500 - mean_absolute_percentage_error: 21.1544\n",
            "Epoch 12/50\n",
            "1276/1276 [==============================] - 88s 69ms/step - loss: 20892.6387 - custom_sequence_MMD_loss: 0.0500 - mean_absolute_percentage_error: 21.1529\n",
            "Epoch 13/50\n",
            "1276/1276 [==============================] - 79s 62ms/step - loss: 20892.6016 - custom_sequence_MMD_loss: 0.0500 - mean_absolute_percentage_error: 21.1466\n",
            "Epoch 14/50\n",
            "1276/1276 [==============================] - 84s 66ms/step - loss: 20891.5254 - custom_sequence_MMD_loss: 0.0500 - mean_absolute_percentage_error: 21.1537\n",
            "Epoch 15/50\n",
            "1276/1276 [==============================] - 81s 64ms/step - loss: 20893.5840 - custom_sequence_MMD_loss: 0.0500 - mean_absolute_percentage_error: 21.1415\n",
            "Epoch 16/50\n",
            "1276/1276 [==============================] - 82s 64ms/step - loss: 20891.6914 - custom_sequence_MMD_loss: 0.0500 - mean_absolute_percentage_error: 21.1525\n",
            "Epoch 17/50\n",
            "1276/1276 [==============================] - 80s 63ms/step - loss: 20893.8828 - custom_sequence_MMD_loss: 0.0500 - mean_absolute_percentage_error: 21.1266\n",
            "Epoch 18/50\n",
            "1276/1276 [==============================] - 81s 64ms/step - loss: 20891.4668 - custom_sequence_MMD_loss: 0.0500 - mean_absolute_percentage_error: 21.1537\n",
            "Epoch 19/50\n",
            "1276/1276 [==============================] - 84s 66ms/step - loss: 20891.4004 - custom_sequence_MMD_loss: 0.0500 - mean_absolute_percentage_error: 21.1475\n",
            "Epoch 20/50\n",
            "1276/1276 [==============================] - 82s 64ms/step - loss: 20890.9160 - custom_sequence_MMD_loss: 0.0500 - mean_absolute_percentage_error: 21.1509\n",
            "Epoch 21/50\n",
            "1276/1276 [==============================] - 84s 66ms/step - loss: 20890.1426 - custom_sequence_MMD_loss: 0.0500 - mean_absolute_percentage_error: 21.1470\n",
            "Epoch 22/50\n",
            "1276/1276 [==============================] - 83s 65ms/step - loss: 20893.1621 - custom_sequence_MMD_loss: 0.0500 - mean_absolute_percentage_error: 21.1516\n",
            "Epoch 23/50\n",
            "1276/1276 [==============================] - 83s 65ms/step - loss: 20891.1270 - custom_sequence_MMD_loss: 0.0500 - mean_absolute_percentage_error: 21.1490\n",
            "Epoch 24/50\n",
            "1276/1276 [==============================] - 82s 64ms/step - loss: 20891.0820 - custom_sequence_MMD_loss: 0.0500 - mean_absolute_percentage_error: 21.1510\n",
            "Epoch 25/50\n",
            "1276/1276 [==============================] - 82s 64ms/step - loss: 20890.9922 - custom_sequence_MMD_loss: 0.0500 - mean_absolute_percentage_error: 21.1505\n",
            "Epoch 26/50\n",
            "1276/1276 [==============================] - 81s 63ms/step - loss: 20891.9316 - custom_sequence_MMD_loss: 0.0500 - mean_absolute_percentage_error: 21.1495\n",
            "Epoch 27/50\n",
            "1276/1276 [==============================] - 81s 63ms/step - loss: 20890.8613 - custom_sequence_MMD_loss: 0.0500 - mean_absolute_percentage_error: 21.1452\n",
            "Epoch 28/50\n",
            "1276/1276 [==============================] - 82s 64ms/step - loss: 20893.4023 - custom_sequence_MMD_loss: 0.0500 - mean_absolute_percentage_error: 21.1563\n",
            "Epoch 29/50\n",
            "1276/1276 [==============================] - 80s 63ms/step - loss: 20890.4180 - custom_sequence_MMD_loss: 0.0500 - mean_absolute_percentage_error: 21.1436\n",
            "Epoch 30/50\n",
            "1276/1276 [==============================] - 80s 63ms/step - loss: 20891.4512 - custom_sequence_MMD_loss: 0.0500 - mean_absolute_percentage_error: 21.1494\n",
            "Epoch 31/50\n",
            "1276/1276 [==============================] - 81s 63ms/step - loss: 20890.2148 - custom_sequence_MMD_loss: 0.0500 - mean_absolute_percentage_error: 21.1497\n",
            "Epoch 32/50\n",
            "1276/1276 [==============================] - 80s 63ms/step - loss: 20891.4316 - custom_sequence_MMD_loss: 0.0500 - mean_absolute_percentage_error: 21.1495\n",
            "Epoch 33/50\n",
            "1276/1276 [==============================] - 80s 63ms/step - loss: 20891.1074 - custom_sequence_MMD_loss: 0.0500 - mean_absolute_percentage_error: 21.1475\n",
            "Epoch 34/50\n",
            "1276/1276 [==============================] - 83s 65ms/step - loss: 20891.1797 - custom_sequence_MMD_loss: 0.0500 - mean_absolute_percentage_error: 21.1516\n",
            "Epoch 35/50\n",
            "1276/1276 [==============================] - 78s 61ms/step - loss: 20890.7441 - custom_sequence_MMD_loss: 0.0500 - mean_absolute_percentage_error: 21.1466\n",
            "Epoch 36/50\n",
            "1276/1276 [==============================] - 76s 60ms/step - loss: 20892.6719 - custom_sequence_MMD_loss: 0.0500 - mean_absolute_percentage_error: 21.1564\n",
            "Epoch 37/50\n",
            "1276/1276 [==============================] - 79s 62ms/step - loss: 20890.1465 - custom_sequence_MMD_loss: 0.0500 - mean_absolute_percentage_error: 21.1457\n",
            "Epoch 38/50\n",
            "1276/1276 [==============================] - 78s 61ms/step - loss: 20891.5918 - custom_sequence_MMD_loss: 0.0500 - mean_absolute_percentage_error: 21.1513\n",
            "Epoch 39/50\n",
            "1276/1276 [==============================] - 77s 61ms/step - loss: 20891.3555 - custom_sequence_MMD_loss: 0.0500 - mean_absolute_percentage_error: 21.1536\n",
            "Epoch 40/50\n",
            "1276/1276 [==============================] - 76s 60ms/step - loss: 20892.0371 - custom_sequence_MMD_loss: 0.0500 - mean_absolute_percentage_error: 21.1442\n",
            "Epoch 41/50\n",
            "1276/1276 [==============================] - 76s 60ms/step - loss: 20891.4160 - custom_sequence_MMD_loss: 0.0500 - mean_absolute_percentage_error: 21.1492\n",
            "Epoch 42/50\n",
            "1276/1276 [==============================] - 76s 60ms/step - loss: 20891.0586 - custom_sequence_MMD_loss: 0.0500 - mean_absolute_percentage_error: 21.1541\n",
            "Epoch 43/50\n",
            "1276/1276 [==============================] - 76s 60ms/step - loss: 20891.2246 - custom_sequence_MMD_loss: 0.0500 - mean_absolute_percentage_error: 21.1514\n",
            "Epoch 44/50\n",
            "1276/1276 [==============================] - 76s 60ms/step - loss: 20891.5762 - custom_sequence_MMD_loss: 0.0500 - mean_absolute_percentage_error: 21.1494\n",
            "Epoch 45/50\n",
            "1276/1276 [==============================] - 76s 60ms/step - loss: 20891.7246 - custom_sequence_MMD_loss: 0.0500 - mean_absolute_percentage_error: 21.1478\n",
            "Epoch 46/50\n",
            "1276/1276 [==============================] - 76s 59ms/step - loss: 20847.0254 - custom_sequence_MMD_loss: 0.0500 - mean_absolute_percentage_error: 21.1327\n",
            "Epoch 47/50\n",
            "1276/1276 [==============================] - 76s 59ms/step - loss: 16845.7969 - custom_sequence_MMD_loss: 0.0500 - mean_absolute_percentage_error: 20.0179\n",
            "Epoch 48/50\n",
            "1276/1276 [==============================] - 75s 59ms/step - loss: 16451.6895 - custom_sequence_MMD_loss: 0.0500 - mean_absolute_percentage_error: 19.8705\n",
            "Epoch 49/50\n",
            "1276/1276 [==============================] - 76s 59ms/step - loss: 16452.8984 - custom_sequence_MMD_loss: 0.0500 - mean_absolute_percentage_error: 19.8726\n",
            "Epoch 50/50\n",
            "1276/1276 [==============================] - 77s 60ms/step - loss: 16452.3418 - custom_sequence_MMD_loss: 0.0500 - mean_absolute_percentage_error: 19.8677\n"
          ]
        }
      ]
    },
    {
      "cell_type": "code",
      "source": [
        "history_interpolation_only, glocal_interpolation_only = run_experiment(preprocessed_sampled_dataX, preprocessed_sampled_dataY,\n",
        "                                                                 batch_size=20, dropout=0.0, exclude_locgen=True,\n",
        "                                                                 epochs=25, use_mse=True, metrics=[JointLoss().custom_sequence_MMD_loss,\n",
        "                                                                tf.keras.losses.mean_absolute_percentage_error], validation_split=0.0)"
      ],
      "metadata": {
        "colab": {
          "base_uri": "https://localhost:8080/"
        },
        "id": "zDY6p981x_s3",
        "outputId": "39c3be43-5832-48f4-fdc5-f50d04b2ceff"
      },
      "execution_count": null,
      "outputs": [
        {
          "output_type": "stream",
          "name": "stdout",
          "text": [
            "Epoch 1/25\n",
            "1276/1276 [==============================] - 132s 53ms/step - loss: 121033.2656 - custom_sequence_MMD_loss: 0.0500 - mean_absolute_percentage_error: 61.4075\n",
            "Epoch 2/25\n",
            "1276/1276 [==============================] - 68s 53ms/step - loss: 52719.6641 - custom_sequence_MMD_loss: 0.0500 - mean_absolute_percentage_error: 32.3998\n",
            "Epoch 3/25\n",
            "1276/1276 [==============================] - 68s 53ms/step - loss: 49959.7383 - custom_sequence_MMD_loss: 0.0500 - mean_absolute_percentage_error: 31.3550\n",
            "Epoch 4/25\n",
            "1276/1276 [==============================] - 67s 52ms/step - loss: 49949.2422 - custom_sequence_MMD_loss: 0.0500 - mean_absolute_percentage_error: 31.3862\n",
            "Epoch 5/25\n",
            "1276/1276 [==============================] - 66s 51ms/step - loss: 49950.2383 - custom_sequence_MMD_loss: 0.0500 - mean_absolute_percentage_error: 31.3838\n",
            "Epoch 6/25\n",
            "1276/1276 [==============================] - 64s 50ms/step - loss: 49949.6289 - custom_sequence_MMD_loss: 0.0500 - mean_absolute_percentage_error: 31.3861\n",
            "Epoch 7/25\n",
            "1276/1276 [==============================] - 63s 50ms/step - loss: 49951.1289 - custom_sequence_MMD_loss: 0.0500 - mean_absolute_percentage_error: 31.3852\n",
            "Epoch 8/25\n",
            "1276/1276 [==============================] - 65s 51ms/step - loss: 44194.6094 - custom_sequence_MMD_loss: 0.0500 - mean_absolute_percentage_error: 28.9749\n",
            "Epoch 9/25\n",
            "1276/1276 [==============================] - 64s 50ms/step - loss: 25435.9238 - custom_sequence_MMD_loss: 0.0500 - mean_absolute_percentage_error: 20.5713\n",
            "Epoch 10/25\n",
            "1276/1276 [==============================] - 65s 51ms/step - loss: 21598.7383 - custom_sequence_MMD_loss: 0.0500 - mean_absolute_percentage_error: 18.5183\n",
            "Epoch 11/25\n",
            "1276/1276 [==============================] - 65s 51ms/step - loss: 21092.8887 - custom_sequence_MMD_loss: 0.0500 - mean_absolute_percentage_error: 17.8315\n",
            "Epoch 12/25\n",
            "1276/1276 [==============================] - 67s 52ms/step - loss: 20159.9102 - custom_sequence_MMD_loss: 0.0500 - mean_absolute_percentage_error: 16.3081\n",
            "Epoch 13/25\n",
            "1276/1276 [==============================] - 64s 50ms/step - loss: 15813.2832 - custom_sequence_MMD_loss: 0.0500 - mean_absolute_percentage_error: 14.4228\n",
            "Epoch 14/25\n",
            "1276/1276 [==============================] - 64s 50ms/step - loss: 15018.1426 - custom_sequence_MMD_loss: 0.0500 - mean_absolute_percentage_error: 13.7944\n",
            "Epoch 15/25\n",
            "1276/1276 [==============================] - 65s 51ms/step - loss: 14863.4121 - custom_sequence_MMD_loss: 0.0500 - mean_absolute_percentage_error: 13.5513\n",
            "Epoch 16/25\n",
            "1276/1276 [==============================] - 65s 51ms/step - loss: 14726.3799 - custom_sequence_MMD_loss: 0.0500 - mean_absolute_percentage_error: 13.3449\n",
            "Epoch 17/25\n",
            "1276/1276 [==============================] - 63s 50ms/step - loss: 14604.4561 - custom_sequence_MMD_loss: 0.0500 - mean_absolute_percentage_error: 13.1666\n",
            "Epoch 18/25\n",
            "1276/1276 [==============================] - 64s 50ms/step - loss: 12226.5488 - custom_sequence_MMD_loss: 0.0500 - mean_absolute_percentage_error: 12.3555\n",
            "Epoch 19/25\n",
            "1276/1276 [==============================] - 63s 49ms/step - loss: 9859.8848 - custom_sequence_MMD_loss: 0.0500 - mean_absolute_percentage_error: 11.4916\n",
            "Epoch 20/25\n",
            "1276/1276 [==============================] - 63s 49ms/step - loss: 9722.2656 - custom_sequence_MMD_loss: 0.0500 - mean_absolute_percentage_error: 11.3416\n",
            "Epoch 21/25\n",
            "1276/1276 [==============================] - 62s 49ms/step - loss: 9605.4756 - custom_sequence_MMD_loss: 0.0500 - mean_absolute_percentage_error: 11.1465\n",
            "Epoch 22/25\n",
            "1276/1276 [==============================] - 64s 50ms/step - loss: 9524.1787 - custom_sequence_MMD_loss: 0.0500 - mean_absolute_percentage_error: 11.0005\n",
            "Epoch 23/25\n",
            "1276/1276 [==============================] - 62s 48ms/step - loss: 9487.1406 - custom_sequence_MMD_loss: 0.0500 - mean_absolute_percentage_error: 10.9416\n",
            "Epoch 24/25\n",
            "1276/1276 [==============================] - 62s 49ms/step - loss: 9437.3779 - custom_sequence_MMD_loss: 0.0500 - mean_absolute_percentage_error: 10.8367\n",
            "Epoch 25/25\n",
            "1276/1276 [==============================] - 63s 49ms/step - loss: 9407.2666 - custom_sequence_MMD_loss: 0.0500 - mean_absolute_percentage_error: 10.7877\n"
          ]
        }
      ]
    },
    {
      "cell_type": "markdown",
      "source": [
        "## Running experiment with downsampling"
      ],
      "metadata": {
        "id": "3usu4ibvUV2t"
      }
    },
    {
      "cell_type": "code",
      "source": [
        "#Running experiment with downsampling\n",
        "history_preprocessed, glocal_model_preprocessed = run_experiment(preprocessed_downsampled_dataX, preprocessed_downsampled_dataY,\n",
        "                                                                 batch_size=20, dropout=0.0,\n",
        "                                                                 epochs=50, use_mse=True, output_diminsion=34,\n",
        "                                                                 metrics=[JointLoss().custom_sequence_MMD_loss,\n",
        "                                                                          tf.keras.losses.mean_absolute_percentage_error], \n",
        "                                                                 validation_split=0.0, interpolate_frames = 2)"
      ],
      "metadata": {
        "colab": {
          "base_uri": "https://localhost:8080/"
        },
        "id": "K8uq_0kfTUDp",
        "outputId": "b27fc7b6-922a-43e4-b45d-c99a1c289bd1"
      },
      "execution_count": null,
      "outputs": [
        {
          "output_type": "stream",
          "name": "stdout",
          "text": [
            "Epoch 1/50\n",
            "1276/1276 [==============================] - 183s 131ms/step - loss: 101101.1641 - custom_sequence_MMD_loss: 0.0500 - mean_absolute_percentage_error: 55.7003\n",
            "Epoch 2/50\n",
            "1276/1276 [==============================] - 161s 126ms/step - loss: 25824.4961 - custom_sequence_MMD_loss: 0.0500 - mean_absolute_percentage_error: 22.9006\n",
            "Epoch 3/50\n",
            "1276/1276 [==============================] - 160s 125ms/step - loss: 22838.1289 - custom_sequence_MMD_loss: 0.0500 - mean_absolute_percentage_error: 21.7719\n",
            "Epoch 4/50\n",
            "1276/1276 [==============================] - 162s 127ms/step - loss: 22826.3379 - custom_sequence_MMD_loss: 0.0500 - mean_absolute_percentage_error: 21.8074\n",
            "Epoch 5/50\n",
            "1276/1276 [==============================] - 162s 127ms/step - loss: 22829.1035 - custom_sequence_MMD_loss: 0.0500 - mean_absolute_percentage_error: 21.8030\n",
            "Epoch 6/50\n",
            "1276/1276 [==============================] - 155s 121ms/step - loss: 22828.0098 - custom_sequence_MMD_loss: 0.0500 - mean_absolute_percentage_error: 21.8088\n",
            "Epoch 7/50\n",
            "1276/1276 [==============================] - 156s 123ms/step - loss: 22827.8906 - custom_sequence_MMD_loss: 0.0500 - mean_absolute_percentage_error: 21.8044\n",
            "Epoch 8/50\n",
            "1276/1276 [==============================] - 152s 119ms/step - loss: 22826.9219 - custom_sequence_MMD_loss: 0.0500 - mean_absolute_percentage_error: 21.8032\n",
            "Epoch 9/50\n",
            "1276/1276 [==============================] - 154s 120ms/step - loss: 22826.1895 - custom_sequence_MMD_loss: 0.0500 - mean_absolute_percentage_error: 21.8074\n",
            "Epoch 10/50\n",
            "1276/1276 [==============================] - 153s 120ms/step - loss: 22826.5332 - custom_sequence_MMD_loss: 0.0500 - mean_absolute_percentage_error: 21.8068\n",
            "Epoch 11/50\n",
            "1276/1276 [==============================] - 151s 118ms/step - loss: 19014.0293 - custom_sequence_MMD_loss: 0.0500 - mean_absolute_percentage_error: 20.0123\n",
            "Epoch 12/50\n",
            "1276/1276 [==============================] - 154s 121ms/step - loss: 17472.1289 - custom_sequence_MMD_loss: 0.0500 - mean_absolute_percentage_error: 19.1867\n",
            "Epoch 13/50\n",
            "1276/1276 [==============================] - 151s 119ms/step - loss: 17469.4355 - custom_sequence_MMD_loss: 0.0500 - mean_absolute_percentage_error: 19.1942\n",
            "Epoch 14/50\n",
            "1276/1276 [==============================] - 153s 120ms/step - loss: 17468.8418 - custom_sequence_MMD_loss: 0.0500 - mean_absolute_percentage_error: 19.1974\n",
            "Epoch 15/50\n",
            "1276/1276 [==============================] - 153s 120ms/step - loss: 17466.1797 - custom_sequence_MMD_loss: 0.0500 - mean_absolute_percentage_error: 19.1891\n",
            "Epoch 16/50\n",
            "1276/1276 [==============================] - 154s 121ms/step - loss: 17464.1191 - custom_sequence_MMD_loss: 0.0500 - mean_absolute_percentage_error: 19.1909\n",
            "Epoch 17/50\n",
            "1276/1276 [==============================] - 155s 121ms/step - loss: 17462.4883 - custom_sequence_MMD_loss: 0.0500 - mean_absolute_percentage_error: 19.1833\n",
            "Epoch 18/50\n",
            "1276/1276 [==============================] - 156s 122ms/step - loss: 17462.7539 - custom_sequence_MMD_loss: 0.0500 - mean_absolute_percentage_error: 19.1750\n",
            "Epoch 19/50\n",
            "1276/1276 [==============================] - 154s 121ms/step - loss: 17489.2031 - custom_sequence_MMD_loss: 0.0500 - mean_absolute_percentage_error: 19.2103\n",
            "Epoch 20/50\n",
            "1276/1276 [==============================] - 155s 121ms/step - loss: 17460.4570 - custom_sequence_MMD_loss: 0.0500 - mean_absolute_percentage_error: 19.1816\n",
            "Epoch 21/50\n",
            "1276/1276 [==============================] - 152s 119ms/step - loss: 16623.5430 - custom_sequence_MMD_loss: 0.0500 - mean_absolute_percentage_error: 18.5009\n",
            "Epoch 22/50\n",
            "1276/1276 [==============================] - 152s 119ms/step - loss: 14801.3145 - custom_sequence_MMD_loss: 0.0500 - mean_absolute_percentage_error: 16.7175\n",
            "Epoch 23/50\n",
            "1276/1276 [==============================] - 153s 120ms/step - loss: 13711.1748 - custom_sequence_MMD_loss: 0.0500 - mean_absolute_percentage_error: 15.3543\n",
            "Epoch 24/50\n",
            "1276/1276 [==============================] - 151s 118ms/step - loss: 13387.7031 - custom_sequence_MMD_loss: 0.0500 - mean_absolute_percentage_error: 14.9043\n",
            "Epoch 25/50\n",
            "1276/1276 [==============================] - 150s 118ms/step - loss: 13179.7822 - custom_sequence_MMD_loss: 0.0500 - mean_absolute_percentage_error: 14.6015\n",
            "Epoch 26/50\n",
            " 471/1276 [==========>...................] - ETA: 1:39 - loss: 13083.6348 - custom_sequence_MMD_loss: 0.0500 - mean_absolute_percentage_error: 14.4955"
          ]
        }
      ]
    },
    {
      "cell_type": "code",
      "source": [
        "history_interpolation_only, glocal_interpolation_only = run_experiment(preprocessed_downsampled_dataX, preprocessed_downsampled_dataY,\n",
        "                                                                       batch_size=20, dropout=0.0, exclude_locgen=True,\n",
        "                                                                       epochs=30, use_mse=True, \n",
        "                                                                       metrics=[JointLoss().custom_sequence_MMD_loss,\n",
        "                                                                                tf.keras.losses.mean_absolute_percentage_error], \n",
        "                                                                       validation_split=0.0, interpolate_frames = 2)"
      ],
      "metadata": {
        "colab": {
          "base_uri": "https://localhost:8080/"
        },
        "id": "OvcEDqawr6dS",
        "outputId": "bb35a0d1-79e8-4322-d83f-8e534e7ed99e"
      },
      "execution_count": null,
      "outputs": [
        {
          "output_type": "stream",
          "name": "stdout",
          "text": [
            "Epoch 1/30\n",
            "1276/1276 [==============================] - 156s 110ms/step - loss: 107902.1328 - custom_sequence_MMD_loss: 0.0500 - mean_absolute_percentage_error: 57.0899\n",
            "Epoch 2/30\n",
            "1276/1276 [==============================] - 139s 109ms/step - loss: 31997.1133 - custom_sequence_MMD_loss: 0.0500 - mean_absolute_percentage_error: 24.8528\n",
            "Epoch 3/30\n",
            "1276/1276 [==============================] - 139s 109ms/step - loss: 28900.7832 - custom_sequence_MMD_loss: 0.0500 - mean_absolute_percentage_error: 23.6331\n",
            "Epoch 4/30\n",
            "1276/1276 [==============================] - 136s 107ms/step - loss: 28889.9883 - custom_sequence_MMD_loss: 0.0500 - mean_absolute_percentage_error: 23.6797\n",
            "Epoch 5/30\n",
            "1276/1276 [==============================] - 137s 107ms/step - loss: 28889.4648 - custom_sequence_MMD_loss: 0.0500 - mean_absolute_percentage_error: 23.6733\n",
            "Epoch 6/30\n",
            "1276/1276 [==============================] - 137s 108ms/step - loss: 28891.5488 - custom_sequence_MMD_loss: 0.0500 - mean_absolute_percentage_error: 23.6829\n",
            "Epoch 7/30\n",
            "1276/1276 [==============================] - 138s 108ms/step - loss: 28891.5645 - custom_sequence_MMD_loss: 0.0500 - mean_absolute_percentage_error: 23.6779\n",
            "Epoch 8/30\n",
            "1276/1276 [==============================] - 135s 106ms/step - loss: 28891.8828 - custom_sequence_MMD_loss: 0.0500 - mean_absolute_percentage_error: 23.6830\n",
            "Epoch 9/30\n",
            "1276/1276 [==============================] - 136s 107ms/step - loss: 28891.6230 - custom_sequence_MMD_loss: 0.0500 - mean_absolute_percentage_error: 23.6738\n",
            "Epoch 10/30\n",
            "1276/1276 [==============================] - 136s 107ms/step - loss: 28891.6406 - custom_sequence_MMD_loss: 0.0500 - mean_absolute_percentage_error: 23.6788\n",
            "Epoch 11/30\n",
            "1276/1276 [==============================] - 136s 106ms/step - loss: 25174.2344 - custom_sequence_MMD_loss: 0.0500 - mean_absolute_percentage_error: 22.4113\n",
            "Epoch 12/30\n",
            "1276/1276 [==============================] - 135s 106ms/step - loss: 11522.6416 - custom_sequence_MMD_loss: 0.0500 - mean_absolute_percentage_error: 16.8840\n",
            "Epoch 13/30\n",
            "1276/1276 [==============================] - 136s 107ms/step - loss: 7335.9912 - custom_sequence_MMD_loss: 0.0472 - mean_absolute_percentage_error: 14.6320\n",
            "Epoch 14/30\n",
            "1276/1276 [==============================] - 136s 107ms/step - loss: 4747.3188 - custom_sequence_MMD_loss: 0.0000e+00 - mean_absolute_percentage_error: 11.9053\n",
            "Epoch 15/30\n",
            "1276/1276 [==============================] - 136s 107ms/step - loss: 3896.8315 - custom_sequence_MMD_loss: 0.0000e+00 - mean_absolute_percentage_error: 10.5708\n",
            "Epoch 16/30\n",
            "1276/1276 [==============================] - 134s 105ms/step - loss: 3596.8145 - custom_sequence_MMD_loss: 0.0000e+00 - mean_absolute_percentage_error: 10.0464\n",
            "Epoch 17/30\n",
            "1276/1276 [==============================] - 131s 103ms/step - loss: 3418.0559 - custom_sequence_MMD_loss: 0.0000e+00 - mean_absolute_percentage_error: 9.7385\n",
            "Epoch 18/30\n",
            "1276/1276 [==============================] - 133s 104ms/step - loss: 3252.9573 - custom_sequence_MMD_loss: 0.0000e+00 - mean_absolute_percentage_error: 9.5181\n",
            "Epoch 19/30\n",
            "1276/1276 [==============================] - 131s 103ms/step - loss: 3073.4014 - custom_sequence_MMD_loss: 0.0000e+00 - mean_absolute_percentage_error: 9.2395\n",
            "Epoch 20/30\n",
            "1276/1276 [==============================] - 133s 104ms/step - loss: 2948.7515 - custom_sequence_MMD_loss: 0.0000e+00 - mean_absolute_percentage_error: 9.0168\n",
            "Epoch 21/30\n",
            "1276/1276 [==============================] - 132s 103ms/step - loss: 2877.2351 - custom_sequence_MMD_loss: 0.0000e+00 - mean_absolute_percentage_error: 8.8881\n",
            "Epoch 22/30\n",
            "1276/1276 [==============================] - 132s 104ms/step - loss: 2759.2927 - custom_sequence_MMD_loss: 0.0000e+00 - mean_absolute_percentage_error: 8.7096\n",
            "Epoch 23/30\n",
            "1276/1276 [==============================] - 133s 104ms/step - loss: 2680.6726 - custom_sequence_MMD_loss: 0.0000e+00 - mean_absolute_percentage_error: 8.5832\n",
            "Epoch 24/30\n",
            "1276/1276 [==============================] - 133s 104ms/step - loss: 2597.0625 - custom_sequence_MMD_loss: 0.0000e+00 - mean_absolute_percentage_error: 8.4583\n",
            "Epoch 25/30\n",
            "1276/1276 [==============================] - 132s 104ms/step - loss: 2484.9924 - custom_sequence_MMD_loss: 0.0000e+00 - mean_absolute_percentage_error: 8.2580\n",
            "Epoch 26/30\n",
            "1276/1276 [==============================] - 132s 104ms/step - loss: 2412.7632 - custom_sequence_MMD_loss: 0.0000e+00 - mean_absolute_percentage_error: 8.1271\n",
            "Epoch 27/30\n",
            "1276/1276 [==============================] - 130s 102ms/step - loss: 2295.2529 - custom_sequence_MMD_loss: 0.0000e+00 - mean_absolute_percentage_error: 7.9514\n",
            "Epoch 28/30\n",
            "1276/1276 [==============================] - 133s 104ms/step - loss: 2193.3501 - custom_sequence_MMD_loss: 0.0000e+00 - mean_absolute_percentage_error: 7.7759\n",
            "Epoch 29/30\n",
            "1276/1276 [==============================] - 132s 103ms/step - loss: 2081.8955 - custom_sequence_MMD_loss: 0.0000e+00 - mean_absolute_percentage_error: 7.5811\n",
            "Epoch 30/30\n",
            "1276/1276 [==============================] - 135s 106ms/step - loss: 2008.7568 - custom_sequence_MMD_loss: 0.0000e+00 - mean_absolute_percentage_error: 7.4381\n"
          ]
        }
      ]
    },
    {
      "cell_type": "code",
      "source": [
        "history_interpolation_only, glocal_interpolation_only= resume_training(glocal_interpolation_only,\n",
        "                                                                                        preprocessed_downsampled_dataX,\n",
        "                                                                                        preprocessed_downsampled_dataY,\n",
        "                                                                                        epochs=20, metrics=[JointLoss().custom_sequence_MMD_loss,\n",
        "                                                                tf.keras.losses.mean_absolute_percentage_error], use_mse=True,\n",
        "                                                                                        validation_split=0.0, batch_size=20)"
      ],
      "metadata": {
        "colab": {
          "base_uri": "https://localhost:8080/"
        },
        "id": "tAs7BWdd2BUM",
        "outputId": "2c253d42-b4a8-4505-bfc0-6949cbc2be7e"
      },
      "execution_count": null,
      "outputs": [
        {
          "output_type": "stream",
          "name": "stdout",
          "text": [
            "Epoch 1/20\n"
          ]
        },
        {
          "output_type": "error",
          "ename": "OperatorNotAllowedInGraphError",
          "evalue": "ignored",
          "traceback": [
            "\u001b[0;31m---------------------------------------------------------------------------\u001b[0m",
            "\u001b[0;31mOperatorNotAllowedInGraphError\u001b[0m            Traceback (most recent call last)",
            "\u001b[0;32m<ipython-input-59-73cb53f599ab>\u001b[0m in \u001b[0;36m<module>\u001b[0;34m\u001b[0m\n\u001b[1;32m      4\u001b[0m                                                                                         epochs=20, metrics=[JointLoss().custom_sequence_MMD_loss,\n\u001b[1;32m      5\u001b[0m                                                                 tf.keras.losses.mean_absolute_percentage_error], use_mse=True,\n\u001b[0;32m----> 6\u001b[0;31m                                                                                         validation_split=0.0, batch_size=20)\n\u001b[0m",
            "\u001b[0;32m<ipython-input-57-6942af837b6f>\u001b[0m in \u001b[0;36mresume_training\u001b[0;34m(glocal_model, sampled_dataX, sampled_dataY, learning_rate, lambda1, lambda2, use_mse, use_MMD, metrics, batch_size, epochs, validation_split)\u001b[0m\n\u001b[1;32m     16\u001b[0m     history = glocal_model.fit(sampled_dataX, sampled_dataY,\n\u001b[1;32m     17\u001b[0m                             \u001b[0mbatch_size\u001b[0m\u001b[0;34m=\u001b[0m\u001b[0mbatch_size\u001b[0m\u001b[0;34m,\u001b[0m\u001b[0;34m\u001b[0m\u001b[0;34m\u001b[0m\u001b[0m\n\u001b[0;32m---> 18\u001b[0;31m                             epochs=epochs, validation_split=validation_split)\n\u001b[0m\u001b[1;32m     19\u001b[0m     \u001b[0;32mreturn\u001b[0m \u001b[0mhistory\u001b[0m\u001b[0;34m,\u001b[0m \u001b[0mglocal_model\u001b[0m\u001b[0;34m\u001b[0m\u001b[0;34m\u001b[0m\u001b[0m\n",
            "\u001b[0;32m/usr/local/lib/python3.7/dist-packages/keras/utils/traceback_utils.py\u001b[0m in \u001b[0;36merror_handler\u001b[0;34m(*args, **kwargs)\u001b[0m\n\u001b[1;32m     65\u001b[0m     \u001b[0;32mexcept\u001b[0m \u001b[0mException\u001b[0m \u001b[0;32mas\u001b[0m \u001b[0me\u001b[0m\u001b[0;34m:\u001b[0m  \u001b[0;31m# pylint: disable=broad-except\u001b[0m\u001b[0;34m\u001b[0m\u001b[0;34m\u001b[0m\u001b[0m\n\u001b[1;32m     66\u001b[0m       \u001b[0mfiltered_tb\u001b[0m \u001b[0;34m=\u001b[0m \u001b[0m_process_traceback_frames\u001b[0m\u001b[0;34m(\u001b[0m\u001b[0me\u001b[0m\u001b[0;34m.\u001b[0m\u001b[0m__traceback__\u001b[0m\u001b[0;34m)\u001b[0m\u001b[0;34m\u001b[0m\u001b[0;34m\u001b[0m\u001b[0m\n\u001b[0;32m---> 67\u001b[0;31m       \u001b[0;32mraise\u001b[0m \u001b[0me\u001b[0m\u001b[0;34m.\u001b[0m\u001b[0mwith_traceback\u001b[0m\u001b[0;34m(\u001b[0m\u001b[0mfiltered_tb\u001b[0m\u001b[0;34m)\u001b[0m \u001b[0;32mfrom\u001b[0m \u001b[0;32mNone\u001b[0m\u001b[0;34m\u001b[0m\u001b[0;34m\u001b[0m\u001b[0m\n\u001b[0m\u001b[1;32m     68\u001b[0m     \u001b[0;32mfinally\u001b[0m\u001b[0;34m:\u001b[0m\u001b[0;34m\u001b[0m\u001b[0;34m\u001b[0m\u001b[0m\n\u001b[1;32m     69\u001b[0m       \u001b[0;32mdel\u001b[0m \u001b[0mfiltered_tb\u001b[0m\u001b[0;34m\u001b[0m\u001b[0;34m\u001b[0m\u001b[0m\n",
            "\u001b[0;32m/usr/local/lib/python3.7/dist-packages/tensorflow/python/framework/func_graph.py\u001b[0m in \u001b[0;36mautograph_handler\u001b[0;34m(*args, **kwargs)\u001b[0m\n\u001b[1;32m   1145\u001b[0m           \u001b[0;32mexcept\u001b[0m \u001b[0mException\u001b[0m \u001b[0;32mas\u001b[0m \u001b[0me\u001b[0m\u001b[0;34m:\u001b[0m  \u001b[0;31m# pylint:disable=broad-except\u001b[0m\u001b[0;34m\u001b[0m\u001b[0;34m\u001b[0m\u001b[0m\n\u001b[1;32m   1146\u001b[0m             \u001b[0;32mif\u001b[0m \u001b[0mhasattr\u001b[0m\u001b[0;34m(\u001b[0m\u001b[0me\u001b[0m\u001b[0;34m,\u001b[0m \u001b[0;34m\"ag_error_metadata\"\u001b[0m\u001b[0;34m)\u001b[0m\u001b[0;34m:\u001b[0m\u001b[0;34m\u001b[0m\u001b[0;34m\u001b[0m\u001b[0m\n\u001b[0;32m-> 1147\u001b[0;31m               \u001b[0;32mraise\u001b[0m \u001b[0me\u001b[0m\u001b[0;34m.\u001b[0m\u001b[0mag_error_metadata\u001b[0m\u001b[0;34m.\u001b[0m\u001b[0mto_exception\u001b[0m\u001b[0;34m(\u001b[0m\u001b[0me\u001b[0m\u001b[0;34m)\u001b[0m\u001b[0;34m\u001b[0m\u001b[0;34m\u001b[0m\u001b[0m\n\u001b[0m\u001b[1;32m   1148\u001b[0m             \u001b[0;32melse\u001b[0m\u001b[0;34m:\u001b[0m\u001b[0;34m\u001b[0m\u001b[0;34m\u001b[0m\u001b[0m\n\u001b[1;32m   1149\u001b[0m               \u001b[0;32mraise\u001b[0m\u001b[0;34m\u001b[0m\u001b[0;34m\u001b[0m\u001b[0m\n",
            "\u001b[0;31mOperatorNotAllowedInGraphError\u001b[0m: in user code:\n\n    File \"/usr/local/lib/python3.7/dist-packages/keras/engine/training.py\", line 1021, in train_function  *\n        return step_function(self, iterator)\n    File \"/usr/local/lib/python3.7/dist-packages/keras/engine/training.py\", line 1010, in step_function  **\n        outputs = model.distribute_strategy.run(run_step, args=(data,))\n    File \"/usr/local/lib/python3.7/dist-packages/keras/engine/training.py\", line 1000, in run_step  **\n        outputs = model.train_step(data)\n    File \"/usr/local/lib/python3.7/dist-packages/keras/engine/training.py\", line 859, in train_step\n        y_pred = self(x, training=True)\n    File \"/usr/local/lib/python3.7/dist-packages/keras/utils/traceback_utils.py\", line 67, in error_handler\n        raise e.with_traceback(filtered_tb) from None\n\n    OperatorNotAllowedInGraphError: Exception encountered when calling layer \"glocal_net\" (type GlocalNet).\n    \n    in user code:\n    \n        File \"<ipython-input-19-e4c79049aa99>\", line 40, in call  *\n            interpolated_frames = self.interpolation_layer(glogen_output)\n        File \"/usr/local/lib/python3.7/dist-packages/keras/utils/traceback_utils.py\", line 67, in error_handler  **\n            raise e.with_traceback(filtered_tb) from None\n        File \"<ipython-input-17-70d6cc57490d>\", line 42, in call\n            return self.interpolateFrames(inputs)\n        File \"<ipython-input-17-70d6cc57490d>\", line 23, in interpolateFrames\n            for batch in tf.range(tf.shape(inputs)[0]) :\n    \n        OperatorNotAllowedInGraphError: Exception encountered when calling layer \"interpolation_layer\" (type InterpolationLayer).\n        \n        iterating over `tf.Tensor` is not allowed: AutoGraph did convert this function. This might indicate you are trying to use an unsupported feature.\n        \n        Call arguments received:\n          • args=('tf.Tensor(shape=(20, 10, 64), dtype=float32)',)\n          • kwargs=<class 'inspect._empty'>\n    \n    \n    Call arguments received:\n      • inputs=tf.Tensor(shape=(20, 10, 74), dtype=float32)\n"
          ]
        }
      ]
    },
    {
      "cell_type": "markdown",
      "source": [
        "## Trying to run models with function create model"
      ],
      "metadata": {
        "id": "nozip8IVhhkg"
      }
    },
    {
      "cell_type": "code",
      "source": [
        "#Create model\n",
        "glocal_model = create_glocalNet_model(interpolation_frames=2)"
      ],
      "metadata": {
        "id": "Y2Tf2h5Phtif"
      },
      "execution_count": null,
      "outputs": []
    },
    {
      "cell_type": "code",
      "source": [
        "history, glocal_model = resume_training(glocal_model, preprocessed_downsampled_dataX,\n",
        "                                        preprocessed_downsampled_dataY, epochs=20, metrics=[JointLoss().custom_sequence_MMD_loss,\n",
        "                                                                tf.keras.losses.mean_absolute_percentage_error], use_mse=True,\n",
        "                                                                                        validation_split=0.0, batch_size=20)"
      ],
      "metadata": {
        "colab": {
          "base_uri": "https://localhost:8080/",
          "height": 519
        },
        "id": "IPPox7H8hi2_",
        "outputId": "3e7d52b5-e405-4d96-c0dd-1016d0f6c2a6"
      },
      "execution_count": null,
      "outputs": [
        {
          "output_type": "stream",
          "name": "stdout",
          "text": [
            "Epoch 1/20\n",
            "1276/1276 [==============================] - 148s 109ms/step - loss: 111516.4375 - custom_sequence_MMD_loss: 0.0500 - mean_absolute_percentage_error: 58.9935\n",
            "Epoch 2/20\n",
            "1276/1276 [==============================] - 140s 110ms/step - loss: 36232.0391 - custom_sequence_MMD_loss: 0.0500 - mean_absolute_percentage_error: 27.5385\n",
            "Epoch 3/20\n",
            "1276/1276 [==============================] - 140s 109ms/step - loss: 33126.2305 - custom_sequence_MMD_loss: 0.0500 - mean_absolute_percentage_error: 26.3246\n",
            "Epoch 4/20\n",
            "1276/1276 [==============================] - 140s 109ms/step - loss: 33114.9336 - custom_sequence_MMD_loss: 0.0500 - mean_absolute_percentage_error: 26.3629\n",
            "Epoch 5/20\n",
            " 824/1276 [==================>...........] - ETA: 49s - loss: 33054.0273 - custom_sequence_MMD_loss: 0.0500 - mean_absolute_percentage_error: 26.3581"
          ]
        },
        {
          "output_type": "error",
          "ename": "KeyboardInterrupt",
          "evalue": "ignored",
          "traceback": [
            "\u001b[0;31m---------------------------------------------------------------------------\u001b[0m",
            "\u001b[0;31mKeyboardInterrupt\u001b[0m                         Traceback (most recent call last)",
            "\u001b[0;32m<ipython-input-61-c5c25507dc21>\u001b[0m in \u001b[0;36m<module>\u001b[0;34m\u001b[0m\n\u001b[1;32m      2\u001b[0m                                         preprocessed_downsampled_dataY, epochs=20, metrics=[JointLoss().custom_sequence_MMD_loss,\n\u001b[1;32m      3\u001b[0m                                                                 tf.keras.losses.mean_absolute_percentage_error], use_mse=True,\n\u001b[0;32m----> 4\u001b[0;31m                                                                                         validation_split=0.0, batch_size=20)\n\u001b[0m",
            "\u001b[0;32m<ipython-input-57-6942af837b6f>\u001b[0m in \u001b[0;36mresume_training\u001b[0;34m(glocal_model, sampled_dataX, sampled_dataY, learning_rate, lambda1, lambda2, use_mse, use_MMD, metrics, batch_size, epochs, validation_split)\u001b[0m\n\u001b[1;32m     16\u001b[0m     history = glocal_model.fit(sampled_dataX, sampled_dataY,\n\u001b[1;32m     17\u001b[0m                             \u001b[0mbatch_size\u001b[0m\u001b[0;34m=\u001b[0m\u001b[0mbatch_size\u001b[0m\u001b[0;34m,\u001b[0m\u001b[0;34m\u001b[0m\u001b[0;34m\u001b[0m\u001b[0m\n\u001b[0;32m---> 18\u001b[0;31m                             epochs=epochs, validation_split=validation_split)\n\u001b[0m\u001b[1;32m     19\u001b[0m     \u001b[0;32mreturn\u001b[0m \u001b[0mhistory\u001b[0m\u001b[0;34m,\u001b[0m \u001b[0mglocal_model\u001b[0m\u001b[0;34m\u001b[0m\u001b[0;34m\u001b[0m\u001b[0m\n",
            "\u001b[0;32m/usr/local/lib/python3.7/dist-packages/keras/utils/traceback_utils.py\u001b[0m in \u001b[0;36merror_handler\u001b[0;34m(*args, **kwargs)\u001b[0m\n\u001b[1;32m     62\u001b[0m     \u001b[0mfiltered_tb\u001b[0m \u001b[0;34m=\u001b[0m \u001b[0;32mNone\u001b[0m\u001b[0;34m\u001b[0m\u001b[0;34m\u001b[0m\u001b[0m\n\u001b[1;32m     63\u001b[0m     \u001b[0;32mtry\u001b[0m\u001b[0;34m:\u001b[0m\u001b[0;34m\u001b[0m\u001b[0;34m\u001b[0m\u001b[0m\n\u001b[0;32m---> 64\u001b[0;31m       \u001b[0;32mreturn\u001b[0m \u001b[0mfn\u001b[0m\u001b[0;34m(\u001b[0m\u001b[0;34m*\u001b[0m\u001b[0margs\u001b[0m\u001b[0;34m,\u001b[0m \u001b[0;34m**\u001b[0m\u001b[0mkwargs\u001b[0m\u001b[0;34m)\u001b[0m\u001b[0;34m\u001b[0m\u001b[0;34m\u001b[0m\u001b[0m\n\u001b[0m\u001b[1;32m     65\u001b[0m     \u001b[0;32mexcept\u001b[0m \u001b[0mException\u001b[0m \u001b[0;32mas\u001b[0m \u001b[0me\u001b[0m\u001b[0;34m:\u001b[0m  \u001b[0;31m# pylint: disable=broad-except\u001b[0m\u001b[0;34m\u001b[0m\u001b[0;34m\u001b[0m\u001b[0m\n\u001b[1;32m     66\u001b[0m       \u001b[0mfiltered_tb\u001b[0m \u001b[0;34m=\u001b[0m \u001b[0m_process_traceback_frames\u001b[0m\u001b[0;34m(\u001b[0m\u001b[0me\u001b[0m\u001b[0;34m.\u001b[0m\u001b[0m__traceback__\u001b[0m\u001b[0;34m)\u001b[0m\u001b[0;34m\u001b[0m\u001b[0;34m\u001b[0m\u001b[0m\n",
            "\u001b[0;32m/usr/local/lib/python3.7/dist-packages/keras/engine/training.py\u001b[0m in \u001b[0;36mfit\u001b[0;34m(self, x, y, batch_size, epochs, verbose, callbacks, validation_split, validation_data, shuffle, class_weight, sample_weight, initial_epoch, steps_per_epoch, validation_steps, validation_batch_size, validation_freq, max_queue_size, workers, use_multiprocessing)\u001b[0m\n\u001b[1;32m   1382\u001b[0m                 _r=1):\n\u001b[1;32m   1383\u001b[0m               \u001b[0mcallbacks\u001b[0m\u001b[0;34m.\u001b[0m\u001b[0mon_train_batch_begin\u001b[0m\u001b[0;34m(\u001b[0m\u001b[0mstep\u001b[0m\u001b[0;34m)\u001b[0m\u001b[0;34m\u001b[0m\u001b[0;34m\u001b[0m\u001b[0m\n\u001b[0;32m-> 1384\u001b[0;31m               \u001b[0mtmp_logs\u001b[0m \u001b[0;34m=\u001b[0m \u001b[0mself\u001b[0m\u001b[0;34m.\u001b[0m\u001b[0mtrain_function\u001b[0m\u001b[0;34m(\u001b[0m\u001b[0miterator\u001b[0m\u001b[0;34m)\u001b[0m\u001b[0;34m\u001b[0m\u001b[0;34m\u001b[0m\u001b[0m\n\u001b[0m\u001b[1;32m   1385\u001b[0m               \u001b[0;32mif\u001b[0m \u001b[0mdata_handler\u001b[0m\u001b[0;34m.\u001b[0m\u001b[0mshould_sync\u001b[0m\u001b[0;34m:\u001b[0m\u001b[0;34m\u001b[0m\u001b[0;34m\u001b[0m\u001b[0m\n\u001b[1;32m   1386\u001b[0m                 \u001b[0mcontext\u001b[0m\u001b[0;34m.\u001b[0m\u001b[0masync_wait\u001b[0m\u001b[0;34m(\u001b[0m\u001b[0;34m)\u001b[0m\u001b[0;34m\u001b[0m\u001b[0;34m\u001b[0m\u001b[0m\n",
            "\u001b[0;32m/usr/local/lib/python3.7/dist-packages/tensorflow/python/util/traceback_utils.py\u001b[0m in \u001b[0;36merror_handler\u001b[0;34m(*args, **kwargs)\u001b[0m\n\u001b[1;32m    148\u001b[0m     \u001b[0mfiltered_tb\u001b[0m \u001b[0;34m=\u001b[0m \u001b[0;32mNone\u001b[0m\u001b[0;34m\u001b[0m\u001b[0;34m\u001b[0m\u001b[0m\n\u001b[1;32m    149\u001b[0m     \u001b[0;32mtry\u001b[0m\u001b[0;34m:\u001b[0m\u001b[0;34m\u001b[0m\u001b[0;34m\u001b[0m\u001b[0m\n\u001b[0;32m--> 150\u001b[0;31m       \u001b[0;32mreturn\u001b[0m \u001b[0mfn\u001b[0m\u001b[0;34m(\u001b[0m\u001b[0;34m*\u001b[0m\u001b[0margs\u001b[0m\u001b[0;34m,\u001b[0m \u001b[0;34m**\u001b[0m\u001b[0mkwargs\u001b[0m\u001b[0;34m)\u001b[0m\u001b[0;34m\u001b[0m\u001b[0;34m\u001b[0m\u001b[0m\n\u001b[0m\u001b[1;32m    151\u001b[0m     \u001b[0;32mexcept\u001b[0m \u001b[0mException\u001b[0m \u001b[0;32mas\u001b[0m \u001b[0me\u001b[0m\u001b[0;34m:\u001b[0m\u001b[0;34m\u001b[0m\u001b[0;34m\u001b[0m\u001b[0m\n\u001b[1;32m    152\u001b[0m       \u001b[0mfiltered_tb\u001b[0m \u001b[0;34m=\u001b[0m \u001b[0m_process_traceback_frames\u001b[0m\u001b[0;34m(\u001b[0m\u001b[0me\u001b[0m\u001b[0;34m.\u001b[0m\u001b[0m__traceback__\u001b[0m\u001b[0;34m)\u001b[0m\u001b[0;34m\u001b[0m\u001b[0;34m\u001b[0m\u001b[0m\n",
            "\u001b[0;32m/usr/local/lib/python3.7/dist-packages/tensorflow/python/eager/def_function.py\u001b[0m in \u001b[0;36m__call__\u001b[0;34m(self, *args, **kwds)\u001b[0m\n\u001b[1;32m    913\u001b[0m \u001b[0;34m\u001b[0m\u001b[0m\n\u001b[1;32m    914\u001b[0m       \u001b[0;32mwith\u001b[0m \u001b[0mOptionalXlaContext\u001b[0m\u001b[0;34m(\u001b[0m\u001b[0mself\u001b[0m\u001b[0;34m.\u001b[0m\u001b[0m_jit_compile\u001b[0m\u001b[0;34m)\u001b[0m\u001b[0;34m:\u001b[0m\u001b[0;34m\u001b[0m\u001b[0;34m\u001b[0m\u001b[0m\n\u001b[0;32m--> 915\u001b[0;31m         \u001b[0mresult\u001b[0m \u001b[0;34m=\u001b[0m \u001b[0mself\u001b[0m\u001b[0;34m.\u001b[0m\u001b[0m_call\u001b[0m\u001b[0;34m(\u001b[0m\u001b[0;34m*\u001b[0m\u001b[0margs\u001b[0m\u001b[0;34m,\u001b[0m \u001b[0;34m**\u001b[0m\u001b[0mkwds\u001b[0m\u001b[0;34m)\u001b[0m\u001b[0;34m\u001b[0m\u001b[0;34m\u001b[0m\u001b[0m\n\u001b[0m\u001b[1;32m    916\u001b[0m \u001b[0;34m\u001b[0m\u001b[0m\n\u001b[1;32m    917\u001b[0m       \u001b[0mnew_tracing_count\u001b[0m \u001b[0;34m=\u001b[0m \u001b[0mself\u001b[0m\u001b[0;34m.\u001b[0m\u001b[0mexperimental_get_tracing_count\u001b[0m\u001b[0;34m(\u001b[0m\u001b[0;34m)\u001b[0m\u001b[0;34m\u001b[0m\u001b[0;34m\u001b[0m\u001b[0m\n",
            "\u001b[0;32m/usr/local/lib/python3.7/dist-packages/tensorflow/python/eager/def_function.py\u001b[0m in \u001b[0;36m_call\u001b[0;34m(self, *args, **kwds)\u001b[0m\n\u001b[1;32m    945\u001b[0m       \u001b[0;31m# In this case we have created variables on the first call, so we run the\u001b[0m\u001b[0;34m\u001b[0m\u001b[0;34m\u001b[0m\u001b[0;34m\u001b[0m\u001b[0m\n\u001b[1;32m    946\u001b[0m       \u001b[0;31m# defunned version which is guaranteed to never create variables.\u001b[0m\u001b[0;34m\u001b[0m\u001b[0;34m\u001b[0m\u001b[0;34m\u001b[0m\u001b[0m\n\u001b[0;32m--> 947\u001b[0;31m       \u001b[0;32mreturn\u001b[0m \u001b[0mself\u001b[0m\u001b[0;34m.\u001b[0m\u001b[0m_stateless_fn\u001b[0m\u001b[0;34m(\u001b[0m\u001b[0;34m*\u001b[0m\u001b[0margs\u001b[0m\u001b[0;34m,\u001b[0m \u001b[0;34m**\u001b[0m\u001b[0mkwds\u001b[0m\u001b[0;34m)\u001b[0m  \u001b[0;31m# pylint: disable=not-callable\u001b[0m\u001b[0;34m\u001b[0m\u001b[0;34m\u001b[0m\u001b[0m\n\u001b[0m\u001b[1;32m    948\u001b[0m     \u001b[0;32melif\u001b[0m \u001b[0mself\u001b[0m\u001b[0;34m.\u001b[0m\u001b[0m_stateful_fn\u001b[0m \u001b[0;32mis\u001b[0m \u001b[0;32mnot\u001b[0m \u001b[0;32mNone\u001b[0m\u001b[0;34m:\u001b[0m\u001b[0;34m\u001b[0m\u001b[0;34m\u001b[0m\u001b[0m\n\u001b[1;32m    949\u001b[0m       \u001b[0;31m# Release the lock early so that multiple threads can perform the call\u001b[0m\u001b[0;34m\u001b[0m\u001b[0;34m\u001b[0m\u001b[0;34m\u001b[0m\u001b[0m\n",
            "\u001b[0;32m/usr/local/lib/python3.7/dist-packages/tensorflow/python/eager/function.py\u001b[0m in \u001b[0;36m__call__\u001b[0;34m(self, *args, **kwargs)\u001b[0m\n\u001b[1;32m   2955\u001b[0m        filtered_flat_args) = self._maybe_define_function(args, kwargs)\n\u001b[1;32m   2956\u001b[0m     return graph_function._call_flat(\n\u001b[0;32m-> 2957\u001b[0;31m         filtered_flat_args, captured_inputs=graph_function.captured_inputs)  # pylint: disable=protected-access\n\u001b[0m\u001b[1;32m   2958\u001b[0m \u001b[0;34m\u001b[0m\u001b[0m\n\u001b[1;32m   2959\u001b[0m   \u001b[0;34m@\u001b[0m\u001b[0mproperty\u001b[0m\u001b[0;34m\u001b[0m\u001b[0;34m\u001b[0m\u001b[0m\n",
            "\u001b[0;32m/usr/local/lib/python3.7/dist-packages/tensorflow/python/eager/function.py\u001b[0m in \u001b[0;36m_call_flat\u001b[0;34m(self, args, captured_inputs, cancellation_manager)\u001b[0m\n\u001b[1;32m   1852\u001b[0m       \u001b[0;31m# No tape is watching; skip to running the function.\u001b[0m\u001b[0;34m\u001b[0m\u001b[0;34m\u001b[0m\u001b[0;34m\u001b[0m\u001b[0m\n\u001b[1;32m   1853\u001b[0m       return self._build_call_outputs(self._inference_function.call(\n\u001b[0;32m-> 1854\u001b[0;31m           ctx, args, cancellation_manager=cancellation_manager))\n\u001b[0m\u001b[1;32m   1855\u001b[0m     forward_backward = self._select_forward_and_backward_functions(\n\u001b[1;32m   1856\u001b[0m         \u001b[0margs\u001b[0m\u001b[0;34m,\u001b[0m\u001b[0;34m\u001b[0m\u001b[0;34m\u001b[0m\u001b[0m\n",
            "\u001b[0;32m/usr/local/lib/python3.7/dist-packages/tensorflow/python/eager/function.py\u001b[0m in \u001b[0;36mcall\u001b[0;34m(self, ctx, args, cancellation_manager)\u001b[0m\n\u001b[1;32m    502\u001b[0m               \u001b[0minputs\u001b[0m\u001b[0;34m=\u001b[0m\u001b[0margs\u001b[0m\u001b[0;34m,\u001b[0m\u001b[0;34m\u001b[0m\u001b[0;34m\u001b[0m\u001b[0m\n\u001b[1;32m    503\u001b[0m               \u001b[0mattrs\u001b[0m\u001b[0;34m=\u001b[0m\u001b[0mattrs\u001b[0m\u001b[0;34m,\u001b[0m\u001b[0;34m\u001b[0m\u001b[0;34m\u001b[0m\u001b[0m\n\u001b[0;32m--> 504\u001b[0;31m               ctx=ctx)\n\u001b[0m\u001b[1;32m    505\u001b[0m         \u001b[0;32melse\u001b[0m\u001b[0;34m:\u001b[0m\u001b[0;34m\u001b[0m\u001b[0;34m\u001b[0m\u001b[0m\n\u001b[1;32m    506\u001b[0m           outputs = execute.execute_with_cancellation(\n",
            "\u001b[0;32m/usr/local/lib/python3.7/dist-packages/tensorflow/python/eager/execute.py\u001b[0m in \u001b[0;36mquick_execute\u001b[0;34m(op_name, num_outputs, inputs, attrs, ctx, name)\u001b[0m\n\u001b[1;32m     53\u001b[0m     \u001b[0mctx\u001b[0m\u001b[0;34m.\u001b[0m\u001b[0mensure_initialized\u001b[0m\u001b[0;34m(\u001b[0m\u001b[0;34m)\u001b[0m\u001b[0;34m\u001b[0m\u001b[0;34m\u001b[0m\u001b[0m\n\u001b[1;32m     54\u001b[0m     tensors = pywrap_tfe.TFE_Py_Execute(ctx._handle, device_name, op_name,\n\u001b[0;32m---> 55\u001b[0;31m                                         inputs, attrs, num_outputs)\n\u001b[0m\u001b[1;32m     56\u001b[0m   \u001b[0;32mexcept\u001b[0m \u001b[0mcore\u001b[0m\u001b[0;34m.\u001b[0m\u001b[0m_NotOkStatusException\u001b[0m \u001b[0;32mas\u001b[0m \u001b[0me\u001b[0m\u001b[0;34m:\u001b[0m\u001b[0;34m\u001b[0m\u001b[0;34m\u001b[0m\u001b[0m\n\u001b[1;32m     57\u001b[0m     \u001b[0;32mif\u001b[0m \u001b[0mname\u001b[0m \u001b[0;32mis\u001b[0m \u001b[0;32mnot\u001b[0m \u001b[0;32mNone\u001b[0m\u001b[0;34m:\u001b[0m\u001b[0;34m\u001b[0m\u001b[0;34m\u001b[0m\u001b[0m\n",
            "\u001b[0;31mKeyboardInterrupt\u001b[0m: "
          ]
        }
      ]
    },
    {
      "cell_type": "code",
      "source": [
        "#Create model\n",
        "glocal_model_interpolation_only = create_glocalNet_model(interpolation_frames=2, exclude_locgen=True)"
      ],
      "metadata": {
        "id": "Le7Q7K-0CIgJ"
      },
      "execution_count": null,
      "outputs": []
    },
    {
      "cell_type": "code",
      "source": [
        "history_interpolation_only, glocal_model_interpolation_only = resume_training(glocal_model_interpolation_only, preprocessed_downsampled_dataX,\n",
        "                                        preprocessed_downsampled_dataY, epochs=10, metrics=[JointLoss().custom_sequence_MMD_loss,\n",
        "                                                                tf.keras.losses.mean_absolute_percentage_error], use_mse=True,\n",
        "                                                                                        validation_split=0.0, batch_size=20)"
      ],
      "metadata": {
        "colab": {
          "base_uri": "https://localhost:8080/"
        },
        "id": "43IkPYBUCCLR",
        "outputId": "aa9a40f3-9c31-40e5-ffce-02fd8039b976"
      },
      "execution_count": null,
      "outputs": [
        {
          "output_type": "stream",
          "name": "stdout",
          "text": [
            "Epoch 1/10\n",
            "1276/1276 [==============================] - 147s 109ms/step - loss: 112842.7109 - custom_sequence_MMD_loss: 0.0500 - mean_absolute_percentage_error: 58.6196\n",
            "Epoch 2/10\n",
            "1276/1276 [==============================] - 135s 106ms/step - loss: 39222.7109 - custom_sequence_MMD_loss: 0.0500 - mean_absolute_percentage_error: 27.4622\n",
            "Epoch 3/10\n",
            "1276/1276 [==============================] - 135s 105ms/step - loss: 36251.5234 - custom_sequence_MMD_loss: 0.0500 - mean_absolute_percentage_error: 26.3324\n",
            "Epoch 4/10\n",
            "1276/1276 [==============================] - 136s 107ms/step - loss: 36240.9648 - custom_sequence_MMD_loss: 0.0500 - mean_absolute_percentage_error: 26.3746\n",
            "Epoch 5/10\n",
            "1276/1276 [==============================] - 133s 105ms/step - loss: 36242.1094 - custom_sequence_MMD_loss: 0.0500 - mean_absolute_percentage_error: 26.3687\n",
            "Epoch 6/10\n",
            "1276/1276 [==============================] - 134s 105ms/step - loss: 36242.1484 - custom_sequence_MMD_loss: 0.0500 - mean_absolute_percentage_error: 26.3723\n",
            "Epoch 7/10\n",
            "1276/1276 [==============================] - 133s 104ms/step - loss: 36242.4492 - custom_sequence_MMD_loss: 0.0500 - mean_absolute_percentage_error: 26.3781\n",
            "Epoch 8/10\n",
            "1276/1276 [==============================] - 132s 104ms/step - loss: 36242.6406 - custom_sequence_MMD_loss: 0.0500 - mean_absolute_percentage_error: 26.3738\n",
            "Epoch 9/10\n",
            "1276/1276 [==============================] - 133s 104ms/step - loss: 18018.9570 - custom_sequence_MMD_loss: 0.0500 - mean_absolute_percentage_error: 19.5854\n",
            "Epoch 10/10\n",
            "1276/1276 [==============================] - 132s 103ms/step - loss: 12772.0410 - custom_sequence_MMD_loss: 0.0500 - mean_absolute_percentage_error: 16.3282\n"
          ]
        }
      ]
    },
    {
      "cell_type": "code",
      "source": [
        "history_interpolation_only, glocal_model_interpolation_only = resume_training(glocal_model_interpolation_only, preprocessed_downsampled_dataX,\n",
        "                                        preprocessed_downsampled_dataY, epochs=10, metrics=[JointLoss().custom_sequence_MMD_loss,\n",
        "                                                                tf.keras.losses.mean_absolute_percentage_error], use_mse=True,\n",
        "                                                                                        validation_split=0.0, batch_size=20)"
      ],
      "metadata": {
        "colab": {
          "base_uri": "https://localhost:8080/"
        },
        "id": "r4JCHTMMH47h",
        "outputId": "8602ca28-de16-4592-eb33-7d466c85c4a9"
      },
      "execution_count": null,
      "outputs": [
        {
          "output_type": "stream",
          "name": "stdout",
          "text": [
            "Epoch 1/10\n",
            "1276/1276 [==============================] - 137s 102ms/step - loss: 11911.0127 - custom_sequence_MMD_loss: 0.0500 - mean_absolute_percentage_error: 15.0896\n",
            "Epoch 2/10\n",
            "1276/1276 [==============================] - 130s 102ms/step - loss: 10850.7783 - custom_sequence_MMD_loss: 0.0500 - mean_absolute_percentage_error: 13.3697\n",
            "Epoch 3/10\n",
            "1276/1276 [==============================] - 130s 102ms/step - loss: 10477.5576 - custom_sequence_MMD_loss: 0.0500 - mean_absolute_percentage_error: 12.7002\n",
            "Epoch 4/10\n",
            "1276/1276 [==============================] - 131s 102ms/step - loss: 10315.3428 - custom_sequence_MMD_loss: 0.0500 - mean_absolute_percentage_error: 12.4256\n",
            "Epoch 5/10\n",
            "1276/1276 [==============================] - 130s 102ms/step - loss: 10149.4160 - custom_sequence_MMD_loss: 0.0500 - mean_absolute_percentage_error: 12.1875\n",
            "Epoch 6/10\n",
            "1276/1276 [==============================] - 128s 100ms/step - loss: 9894.6084 - custom_sequence_MMD_loss: 0.0500 - mean_absolute_percentage_error: 11.8523\n",
            "Epoch 7/10\n",
            "1276/1276 [==============================] - 131s 103ms/step - loss: 9598.3086 - custom_sequence_MMD_loss: 0.0500 - mean_absolute_percentage_error: 11.4115\n",
            "Epoch 8/10\n",
            "1276/1276 [==============================] - 130s 102ms/step - loss: 9364.0020 - custom_sequence_MMD_loss: 0.0500 - mean_absolute_percentage_error: 11.0323\n",
            "Epoch 9/10\n",
            "1276/1276 [==============================] - 130s 102ms/step - loss: 9192.7773 - custom_sequence_MMD_loss: 0.0500 - mean_absolute_percentage_error: 10.7406\n",
            "Epoch 10/10\n",
            "1276/1276 [==============================] - 130s 102ms/step - loss: 9104.0586 - custom_sequence_MMD_loss: 0.0500 - mean_absolute_percentage_error: 10.5522\n"
          ]
        }
      ]
    },
    {
      "cell_type": "markdown",
      "source": [
        "##Visualization"
      ],
      "metadata": {
        "id": "3XaBTxF3Pbmo"
      }
    },
    {
      "cell_type": "code",
      "source": [
        "def visualize_frames(sample, dynamic_joints_only=False,\n",
        "                    num_frames_to_visualize=10,\n",
        "                    joints_to_ignore=[4,5,9,10,11,16,20,21,22,23,24,28,29,30,31]) :\n",
        "    \"\"\"\n",
        "    Visualization function to draw a certain number of frames in a given sample\n",
        "    ignoring the joints mentioned in joints_to_ignore array\n",
        "    \"\"\"\n",
        "    assert num_frames_to_visualize <= sample.shape[0], f\"number of frames should be less than or equal to the total frames in the sample\"\n",
        "    fig, axs = plt.subplots(ncols=num_frames_to_visualize, figsize=(15, 8))\n",
        "    fig.tight_layout(pad=1.0)\n",
        "    for t in range(num_frames_to_visualize) :\n",
        "        #Removing unnecessary joints for visualization\n",
        "        if(dynamic_joints_only) :\n",
        "            #Check if no joints needs to be removed\n",
        "            truncated_frame = sample[t]\n",
        "        else :\n",
        "            #Removing the joints based on joints_to_ignore\n",
        "            joints_to_ignore_2d = [element * 2 for element in joints_to_ignore]\n",
        "            for i in range(len(joints_to_ignore_2d)) :\n",
        "                joints_to_ignore_2d.append(joints_to_ignore_2d[i]+1)\n",
        "            truncated_frame = np.delete(sample[t], joints_to_ignore_2d)   \n",
        "\n",
        "        #In case of including only moving joints for Human3.6M(17 joints)      \n",
        "        x_axis_array = truncated_frame[0:34:2]\n",
        "        y_axis_array = truncated_frame[1:35:2]\n",
        "        #Scattering all the 17 joints\n",
        "        axs[t].scatter(x_axis_array, y_axis_array)\n",
        "        #Plotting right leg\n",
        "        axs[t].plot(x_axis_array[:4], y_axis_array[:4], \"tab:blue\")\n",
        "        #plotting left leg\n",
        "        axs[t].plot(x_axis_array[[0, 4, 5, 6]], y_axis_array[[0, 4, 5, 6]])\n",
        "        #plotting from hip to head\n",
        "        axs[t].plot(x_axis_array[[0, 7, 8, 9, 10]], y_axis_array[[0, 7, 8, 9, 10]])\n",
        "        #plotting from neck to left shoulder\n",
        "        axs[t].plot(x_axis_array[[9, 11, 12, 13]], y_axis_array[[9, 11, 12, 13]])\n",
        "        #plotting from neck to right shoulder\n",
        "        axs[t].plot(x_axis_array[[9, 14, 15, 16]], y_axis_array[[9, 14, 15, 16]])\n",
        "        axs[t].invert_yaxis()\n",
        "        axs[t].set_xticks([])\n",
        "        axs[t].set_yticks([])\n",
        "    plt.show()"
      ],
      "metadata": {
        "id": "CIHR8VGhPfHf"
      },
      "execution_count": null,
      "outputs": []
    },
    {
      "cell_type": "code",
      "source": [
        "predictions = glocal_interpolation_only.predict(preprocessed_downsampled_dataX)"
      ],
      "metadata": {
        "id": "rUzWVYT9ckVt"
      },
      "execution_count": null,
      "outputs": []
    },
    {
      "cell_type": "code",
      "source": [
        "predictions_glocal = glocal_model_preprocessed(preprocessed_downsampled_dataX[:1000])"
      ],
      "metadata": {
        "id": "S2o96rA2orU5"
      },
      "execution_count": null,
      "outputs": []
    },
    {
      "cell_type": "code",
      "source": [
        "predictions.shape"
      ],
      "metadata": {
        "colab": {
          "base_uri": "https://localhost:8080/"
        },
        "id": "e3jJ3YdilDUw",
        "outputId": "4d033766-b33d-4f33-f884-d1e86cdf3758"
      },
      "execution_count": null,
      "outputs": [
        {
          "output_type": "execute_result",
          "data": {
            "text/plain": [
              "TensorShape([1000, 20, 64])"
            ]
          },
          "metadata": {},
          "execution_count": 55
        }
      ]
    },
    {
      "cell_type": "code",
      "source": [
        "predictions[0, 0]"
      ],
      "metadata": {
        "colab": {
          "base_uri": "https://localhost:8080/"
        },
        "id": "JSV0NBlQb_vk",
        "outputId": "d73b19a8-860c-4206-80f7-da60eb9b4f37"
      },
      "execution_count": null,
      "outputs": [
        {
          "output_type": "execute_result",
          "data": {
            "text/plain": [
              "array([451.56577, 454.25308, 468.94785, 452.36102,   0.     , 529.5493 ,\n",
              "       458.19006, 619.64685, 455.3011 , 624.9727 , 455.11966, 621.46906,\n",
              "       433.17438, 456.40485, 423.32407, 532.86176, 427.82333, 624.4586 ,\n",
              "       421.51144, 626.70905, 418.1145 , 621.7645 , 451.04324, 453.97513,\n",
              "       452.57632, 400.5071 , 451.77573, 345.8369 , 450.3638 , 330.66556,\n",
              "       452.86798, 308.32825, 451.6349 , 345.99356, 432.012  , 357.4587 ,\n",
              "       410.84802, 408.78702, 412.2707 , 426.9592 , 411.9597 , 426.88635,\n",
              "       415.99817, 418.14444, 408.7223 , 429.97964, 409.02606, 430.13068,\n",
              "       451.5844 , 345.5225 , 470.71594, 359.75812, 485.21948, 411.1448 ,\n",
              "       474.98096, 421.56848, 474.82556, 421.26617, 472.12268, 412.61395,\n",
              "       473.70282, 422.007  , 473.85184,   0.     ], dtype=float32)"
            ]
          },
          "metadata": {},
          "execution_count": 85
        }
      ]
    },
    {
      "cell_type": "code",
      "source": [
        "predictions.shape"
      ],
      "metadata": {
        "colab": {
          "base_uri": "https://localhost:8080/"
        },
        "id": "oCSCSNh7kq5K",
        "outputId": "69c6d2fe-1f16-4b03-c36b-ea6bc0ad85e5"
      },
      "execution_count": null,
      "outputs": [
        {
          "output_type": "execute_result",
          "data": {
            "text/plain": [
              "TensorShape([1000, 20, 64])"
            ]
          },
          "metadata": {},
          "execution_count": 51
        }
      ]
    },
    {
      "cell_type": "code",
      "source": [
        "predictions[150, 0:50:4].shape"
      ],
      "metadata": {
        "colab": {
          "base_uri": "https://localhost:8080/"
        },
        "id": "Seu1ASypkizp",
        "outputId": "a022a63c-cc05-45b7-e30e-88c5ae4187e2"
      },
      "execution_count": null,
      "outputs": [
        {
          "output_type": "execute_result",
          "data": {
            "text/plain": [
              "TensorShape([5, 64])"
            ]
          },
          "metadata": {},
          "execution_count": 50
        }
      ]
    },
    {
      "cell_type": "code",
      "source": [
        "predictions[910, 0:20:2]"
      ],
      "metadata": {
        "colab": {
          "base_uri": "https://localhost:8080/"
        },
        "id": "miLNGpspt7Sy",
        "outputId": "04060dae-b941-446b-c33c-60da87597e9a"
      },
      "execution_count": null,
      "outputs": [
        {
          "output_type": "execute_result",
          "data": {
            "text/plain": [
              "<tf.Tensor: shape=(10, 64), dtype=float32, numpy=\n",
              "array([[599.934  , 433.4522 , 627.59155, 431.59116, 645.27075, 459.73172,\n",
              "        634.62134, 540.52734, 639.5732 , 543.00146, 644.79333, 539.0089 ,\n",
              "        572.60645, 435.27048, 584.0764 , 460.4823 , 600.1011 , 542.4445 ,\n",
              "        601.933  , 543.0666 , 601.6524 , 538.21124, 599.85425, 433.48285,\n",
              "        599.2806 , 385.38815, 601.2577 , 336.1908 , 605.55634, 322.19537,\n",
              "        605.4941 , 301.56146, 601.2019 , 334.77145, 570.87537, 347.28848,\n",
              "        548.77356, 403.64914, 567.3755 , 431.3358 , 567.3335 , 433.69504,\n",
              "        574.5749 , 424.66946, 567.99445, 438.03885, 568.13434, 438.09763,\n",
              "        601.2005 , 334.70712, 630.93317, 349.19455, 658.3205 , 407.58994,\n",
              "        644.93713, 436.8463 , 644.9713 , 436.685  , 639.148  , 428.01227,\n",
              "        648.3766 , 447.16125, 648.3258 , 447.20547],\n",
              "       [604.8303 , 431.90866, 632.7451 , 430.15793, 650.146  , 458.371  ,\n",
              "        639.11945, 537.2402 , 643.8425 , 539.4434 , 647.6748 , 535.19794,\n",
              "        577.3251 , 433.60043, 586.8884 , 459.99982, 603.49646, 540.41315,\n",
              "        604.7502 , 541.0402 , 604.15845, 536.0998 , 604.7599 , 431.95895,\n",
              "        604.25037, 385.23004, 606.0966 , 336.12256, 610.5109 , 322.797  ,\n",
              "        610.0859 , 302.78925, 606.08765, 335.48648, 575.511  , 347.80435,\n",
              "        553.9015 , 401.1856 , 571.8156 , 428.83188, 571.77167, 429.85767,\n",
              "        578.94855, 422.1353 , 572.0718 , 435.09244, 572.2396 , 435.1656 ,\n",
              "        606.0763 , 335.4064 , 636.5511 , 349.74258, 665.3949 , 405.407  ,\n",
              "        653.3154 , 431.7905 , 653.33466, 431.61264, 646.7069 , 423.49728,\n",
              "        657.39685, 440.93924, 657.35925, 440.99527],\n",
              "       [602.43024, 431.28638, 629.9182 , 429.47363, 647.5594 , 457.10138,\n",
              "        636.6585 , 535.39233, 640.99426, 537.5891 , 644.6943 , 533.41547,\n",
              "        575.2872 , 432.94766, 585.03204, 458.8267 , 601.49176, 538.58014,\n",
              "        602.59564, 539.3397 , 601.9688 , 534.45984, 602.3494 , 431.3122 ,\n",
              "        601.992  , 384.89398, 603.8512 , 336.12402, 608.2091 , 322.9725 ,\n",
              "        607.7306 , 303.04028, 603.85046, 335.51422, 573.751  , 347.87054,\n",
              "        552.62115, 401.40387, 570.4197 , 429.01843, 570.41583, 429.9665 ,\n",
              "        577.3993 , 422.34766, 570.7903 , 435.28363, 570.8809 , 435.34515,\n",
              "        603.8961 , 335.43204, 634.01715, 349.7142 , 662.3177 , 405.32327,\n",
              "        650.03906, 431.9097 , 650.1147 , 431.76276, 643.3532 , 423.69003,\n",
              "        653.957  , 441.2713 , 653.9305 , 441.311  ],\n",
              "       [601.3886 , 430.76727, 628.6788 , 428.9798 , 646.5962 , 456.29016,\n",
              "        635.925  , 534.09485, 640.26794, 536.2072 , 643.87964, 531.98737,\n",
              "        574.3837 , 432.44766, 584.2667 , 458.02936, 600.8063 , 537.4164 ,\n",
              "        601.80426, 538.0669 , 601.13513, 533.1813 , 601.336  , 430.76013,\n",
              "        600.86774, 384.5603 , 602.71185, 335.91986, 607.004  , 322.85706,\n",
              "        606.5638 , 303.02686, 602.7007 , 335.3458 , 572.7968 , 347.65717,\n",
              "        551.8232 , 401.29846, 569.4636 , 428.68356, 569.47437, 429.60782,\n",
              "        576.4121 , 422.03964, 569.89124, 434.9737 , 569.9706 , 434.9815 ,\n",
              "        602.76434, 335.26376, 632.6796 , 349.47275, 660.9882 , 404.9263 ,\n",
              "        648.75653, 431.64713, 648.8343 , 431.52765, 642.0614 , 423.43008,\n",
              "        652.6165 , 441.05905, 652.618  , 441.09314],\n",
              "       [601.09283, 430.74243, 628.4123 , 428.97644, 646.5537 , 456.40118,\n",
              "        636.04694, 534.10364, 640.4145 , 536.15814, 643.7647 , 531.91406,\n",
              "        573.96765, 432.40518, 583.9483 , 458.1274 , 600.784  , 537.45197,\n",
              "        601.6868 , 538.0676 , 600.97705, 533.16394, 601.053  , 430.72333,\n",
              "        600.48834, 384.58743, 602.2759 , 335.9583 , 606.51965, 322.9021 ,\n",
              "        606.16565, 303.131  , 602.2916 , 335.37814, 572.30475, 347.6505 ,\n",
              "        551.3412 , 401.37637, 569.0181 , 428.6358 , 569.0394 , 429.56577,\n",
              "        576.01086, 422.02896, 569.5218 , 434.95993, 569.5959 , 434.94992,\n",
              "        602.3355 , 335.31363, 632.29694, 349.50467, 660.67993, 404.92407,\n",
              "        648.3215 , 431.7705 , 648.37085, 431.66537, 641.6585 , 423.51978,\n",
              "        652.13666, 441.23578, 652.1447 , 441.2704 ],\n",
              "       [599.8037 , 429.88498, 627.2901 , 428.1521 , 645.73584, 455.83252,\n",
              "        635.56067, 533.303  , 639.946  , 535.3187 , 642.9365 , 531.0679 ,\n",
              "        572.45105, 431.51004, 582.4937 , 457.4686 , 599.97675, 536.65356,\n",
              "        600.70935, 537.2374 , 599.9182 , 532.321  , 599.7402 , 429.86313,\n",
              "        599.09644, 383.86472, 600.76886, 335.406  , 604.9323 , 322.38672,\n",
              "        604.66565, 302.6973 , 600.8034 , 334.82175, 570.62946, 347.02448,\n",
              "        549.5877 , 400.80084, 567.4949 , 427.97318, 567.52106, 428.94632,\n",
              "        574.55914, 421.43045, 568.0813 , 434.36844, 568.143  , 434.3593 ,\n",
              "        600.80286, 334.74646, 630.9792 , 348.93445, 659.4423 , 404.27057,\n",
              "        646.7999 , 431.367  , 646.83215, 431.2805 , 640.1904 , 423.11392,\n",
              "        650.5196 , 440.9927 , 650.53845, 441.02087],\n",
              "       [598.01764, 428.47522, 625.7506 , 426.78397, 644.22516, 454.7213 ,\n",
              "        634.0742 , 532.243  , 638.4152 , 534.2966 , 641.00073, 530.1026 ,\n",
              "        570.4263 , 430.0964 , 580.5074 , 456.32544, 598.37   , 535.5066 ,\n",
              "        599.0336 , 536.14575, 598.20233, 531.2979 , 597.9349 , 428.46658,\n",
              "        597.34076, 382.51855, 598.942  , 334.19397, 603.04425, 321.2213 ,\n",
              "        602.83795, 301.55405, 598.968  , 333.61884, 568.5928 , 345.7516 ,\n",
              "        547.42725, 399.39496, 565.60004, 426.58774, 565.6402 , 427.56296,\n",
              "        572.7493 , 420.05814, 566.26636, 433.01797, 566.31915, 433.00363,\n",
              "        598.9288 , 333.54938, 629.34753, 347.70856, 657.8077 , 402.9622 ,\n",
              "        644.9086 , 430.1111 , 644.90356, 430.0248 , 638.34644, 421.83606,\n",
              "        648.5918 , 439.75464, 648.6154 , 439.81247],\n",
              "       [597.69727, 428.18665, 625.5376 , 426.50427, 643.9978 , 454.67487,\n",
              "        633.87585, 532.2373 , 638.2282 , 534.31573, 640.634  , 530.12036,\n",
              "        569.9828 , 429.79935, 580.0241 , 456.22748, 598.0784 , 535.4731 ,\n",
              "        598.70984, 536.12604, 597.861  , 531.2868 , 597.60535, 428.17838,\n",
              "        596.99615, 382.2431 , 598.5517 , 333.96014, 602.6325 , 320.98306,\n",
              "        602.4653 , 301.32986, 598.59125, 333.3776 , 568.0938 , 345.4976 ,\n",
              "        546.871  , 399.10236, 565.1787 , 426.29535, 565.2198 , 427.30402,\n",
              "        572.36694, 419.76987, 565.8641 , 432.7326 , 565.91003, 432.73236,\n",
              "        598.532  , 333.30133, 629.0675 , 347.47223, 657.52734, 402.7142 ,\n",
              "        644.5081 , 429.87613, 644.5046 , 429.7947 , 637.98627, 421.5845 ,\n",
              "        648.17377, 439.54263, 648.2028 , 439.59003],\n",
              "       [598.4727 , 428.74368, 626.2311 , 427.04517, 644.5446 , 455.10052,\n",
              "        634.26904, 532.84265, 638.5969 , 534.9376 , 641.2358 , 530.75757,\n",
              "        570.8743 , 430.37585, 580.8908 , 456.724  , 598.62573, 536.0675 ,\n",
              "        599.3481 , 536.74866, 598.5396 , 531.9195 , 598.3885 , 428.74823,\n",
              "        597.8239 , 382.68268, 599.43115, 334.2873 , 603.54193, 321.2559 ,\n",
              "        603.32635, 301.53314, 599.46014, 333.67282, 569.05597, 345.83295,\n",
              "        547.86487, 399.4483 , 566.04913, 426.67218, 566.09296, 427.69827,\n",
              "        573.20776, 420.11798, 566.69434, 433.06012, 566.7504 , 433.06894,\n",
              "        599.414  , 333.60852, 629.85284, 347.77563, 658.2703 , 403.08362,\n",
              "        645.3979 , 430.12738, 645.3887 , 430.02682, 638.84564, 421.8347 ,\n",
              "        649.1072 , 439.69144, 649.12756, 439.74832],\n",
              "       [598.4727 , 428.74368, 626.2311 , 427.04517, 644.5446 , 455.10052,\n",
              "        634.26904, 532.84265, 638.5969 , 534.9376 , 641.2358 , 530.75757,\n",
              "        570.8743 , 430.37585, 580.8908 , 456.724  , 598.62573, 536.0675 ,\n",
              "        599.3481 , 536.74866, 598.5396 , 531.9195 , 598.3885 , 428.74823,\n",
              "        597.8239 , 382.68268, 599.43115, 334.2873 , 603.54193, 321.2559 ,\n",
              "        603.32635, 301.53314, 599.46014, 333.67282, 569.05597, 345.83295,\n",
              "        547.86487, 399.4483 , 566.04913, 426.67218, 566.09296, 427.69827,\n",
              "        573.20776, 420.11798, 566.69434, 433.06012, 566.7504 , 433.06894,\n",
              "        599.414  , 333.60852, 629.85284, 347.77563, 658.2703 , 403.08362,\n",
              "        645.3979 , 430.12738, 645.3887 , 430.02682, 638.84564, 421.8347 ,\n",
              "        649.1072 , 439.69144, 649.12756, 439.74832]], dtype=float32)>"
            ]
          },
          "metadata": {},
          "execution_count": 83
        }
      ]
    },
    {
      "cell_type": "code",
      "source": [
        "visualize_frames(predictions[1300, 0:20:2], num_frames_to_visualize=10)"
      ],
      "metadata": {
        "colab": {
          "base_uri": "https://localhost:8080/",
          "height": 569
        },
        "id": "OCnqQzyZh1vI",
        "outputId": "3b931b42-d393-4338-99fb-116ea2f0eb4f"
      },
      "execution_count": null,
      "outputs": [
        {
          "output_type": "display_data",
          "data": {
            "text/plain": [
              "<Figure size 1080x576 with 10 Axes>"
            ],
            "image/png": "[encoded data removed]"
          },
          "metadata": {}
        }
      ]
    },
    {
      "cell_type": "code",
      "source": [
        "visualize_frames(preprocessed_downsampled_dataX[1300], num_frames_to_visualize=10)"
      ],
      "metadata": {
        "colab": {
          "base_uri": "https://localhost:8080/",
          "height": 569
        },
        "id": "ny_-wC9PiDqh",
        "outputId": "0a140735-88c0-4b0b-c9c2-f335a00907bd"
      },
      "execution_count": null,
      "outputs": [
        {
          "output_type": "display_data",
          "data": {
            "text/plain": [
              "<Figure size 1080x576 with 10 Axes>"
            ],
            "image/png": "[encoded data removed]"
          },
          "metadata": {}
        }
      ]
    },
    {
      "cell_type": "markdown",
      "source": [
        "## Saving models"
      ],
      "metadata": {
        "id": "cLI1eb8k-vbC"
      }
    },
    {
      "cell_type": "code",
      "source": [
        "glocal_interpolation_only.save('minterpolation_only_downsampled20',save_format='tf')"
      ],
      "metadata": {
        "colab": {
          "base_uri": "https://localhost:8080/",
          "height": 467
        },
        "id": "DgZoK7bg-uoi",
        "outputId": "ff4bb0e5-2200-41eb-ebc1-e856b167809c"
      },
      "execution_count": null,
      "outputs": [
        {
          "output_type": "stream",
          "name": "stderr",
          "text": [
            "WARNING:tensorflow:Skipping full serialization of Keras layer <keras.layers.recurrent_v2.LSTM object at 0x7f2f7e7313d0>, because it is not built.\n",
            "WARNING:tensorflow:Skipping full serialization of Keras layer <keras.layers.recurrent_v2.LSTM object at 0x7f2f7e743310>, because it is not built.\n",
            "WARNING:tensorflow:Skipping full serialization of Keras layer <keras.layers.wrappers.TimeDistributed object at 0x7f2f7e727bd0>, because it is not built.\n"
          ]
        },
        {
          "output_type": "error",
          "ename": "OperatorNotAllowedInGraphError",
          "evalue": "ignored",
          "traceback": [
            "\u001b[0;31m---------------------------------------------------------------------------\u001b[0m",
            "\u001b[0;31mOperatorNotAllowedInGraphError\u001b[0m            Traceback (most recent call last)",
            "\u001b[0;32m<ipython-input-53-0a60508ac53c>\u001b[0m in \u001b[0;36m<module>\u001b[0;34m\u001b[0m\n\u001b[0;32m----> 1\u001b[0;31m \u001b[0mglocal_interpolation_only\u001b[0m\u001b[0;34m.\u001b[0m\u001b[0msave\u001b[0m\u001b[0;34m(\u001b[0m\u001b[0;34m'minterpolation_only_downsampled20'\u001b[0m\u001b[0;34m,\u001b[0m\u001b[0msave_format\u001b[0m\u001b[0;34m=\u001b[0m\u001b[0;34m'tf'\u001b[0m\u001b[0;34m)\u001b[0m\u001b[0;34m\u001b[0m\u001b[0;34m\u001b[0m\u001b[0m\n\u001b[0m",
            "\u001b[0;32m/usr/local/lib/python3.7/dist-packages/keras/utils/traceback_utils.py\u001b[0m in \u001b[0;36merror_handler\u001b[0;34m(*args, **kwargs)\u001b[0m\n\u001b[1;32m     65\u001b[0m     \u001b[0;32mexcept\u001b[0m \u001b[0mException\u001b[0m \u001b[0;32mas\u001b[0m \u001b[0me\u001b[0m\u001b[0;34m:\u001b[0m  \u001b[0;31m# pylint: disable=broad-except\u001b[0m\u001b[0;34m\u001b[0m\u001b[0;34m\u001b[0m\u001b[0m\n\u001b[1;32m     66\u001b[0m       \u001b[0mfiltered_tb\u001b[0m \u001b[0;34m=\u001b[0m \u001b[0m_process_traceback_frames\u001b[0m\u001b[0;34m(\u001b[0m\u001b[0me\u001b[0m\u001b[0;34m.\u001b[0m\u001b[0m__traceback__\u001b[0m\u001b[0;34m)\u001b[0m\u001b[0;34m\u001b[0m\u001b[0;34m\u001b[0m\u001b[0m\n\u001b[0;32m---> 67\u001b[0;31m       \u001b[0;32mraise\u001b[0m \u001b[0me\u001b[0m\u001b[0;34m.\u001b[0m\u001b[0mwith_traceback\u001b[0m\u001b[0;34m(\u001b[0m\u001b[0mfiltered_tb\u001b[0m\u001b[0;34m)\u001b[0m \u001b[0;32mfrom\u001b[0m \u001b[0;32mNone\u001b[0m\u001b[0;34m\u001b[0m\u001b[0;34m\u001b[0m\u001b[0m\n\u001b[0m\u001b[1;32m     68\u001b[0m     \u001b[0;32mfinally\u001b[0m\u001b[0;34m:\u001b[0m\u001b[0;34m\u001b[0m\u001b[0;34m\u001b[0m\u001b[0m\n\u001b[1;32m     69\u001b[0m       \u001b[0;32mdel\u001b[0m \u001b[0mfiltered_tb\u001b[0m\u001b[0;34m\u001b[0m\u001b[0;34m\u001b[0m\u001b[0m\n",
            "\u001b[0;32m/usr/lib/python3.7/contextlib.py\u001b[0m in \u001b[0;36m__exit__\u001b[0;34m(self, type, value, traceback)\u001b[0m\n\u001b[1;32m    117\u001b[0m         \u001b[0;32mif\u001b[0m \u001b[0mtype\u001b[0m \u001b[0;32mis\u001b[0m \u001b[0;32mNone\u001b[0m\u001b[0;34m:\u001b[0m\u001b[0;34m\u001b[0m\u001b[0;34m\u001b[0m\u001b[0m\n\u001b[1;32m    118\u001b[0m             \u001b[0;32mtry\u001b[0m\u001b[0;34m:\u001b[0m\u001b[0;34m\u001b[0m\u001b[0;34m\u001b[0m\u001b[0m\n\u001b[0;32m--> 119\u001b[0;31m                 \u001b[0mnext\u001b[0m\u001b[0;34m(\u001b[0m\u001b[0mself\u001b[0m\u001b[0;34m.\u001b[0m\u001b[0mgen\u001b[0m\u001b[0;34m)\u001b[0m\u001b[0;34m\u001b[0m\u001b[0;34m\u001b[0m\u001b[0m\n\u001b[0m\u001b[1;32m    120\u001b[0m             \u001b[0;32mexcept\u001b[0m \u001b[0mStopIteration\u001b[0m\u001b[0;34m:\u001b[0m\u001b[0;34m\u001b[0m\u001b[0;34m\u001b[0m\u001b[0m\n\u001b[1;32m    121\u001b[0m                 \u001b[0;32mreturn\u001b[0m \u001b[0;32mFalse\u001b[0m\u001b[0;34m\u001b[0m\u001b[0;34m\u001b[0m\u001b[0m\n",
            "\u001b[0;32m<ipython-input-19-e4c79049aa99>\u001b[0m in \u001b[0;36mcall\u001b[0;34m(self, inputs)\u001b[0m\n\u001b[1;32m     38\u001b[0m \u001b[0;34m\u001b[0m\u001b[0m\n\u001b[1;32m     39\u001b[0m         \u001b[0;31m#Interpolation call\u001b[0m\u001b[0;34m\u001b[0m\u001b[0;34m\u001b[0m\u001b[0;34m\u001b[0m\u001b[0m\n\u001b[0;32m---> 40\u001b[0;31m         \u001b[0minterpolated_frames\u001b[0m \u001b[0;34m=\u001b[0m \u001b[0mself\u001b[0m\u001b[0;34m.\u001b[0m\u001b[0minterpolation_layer\u001b[0m\u001b[0;34m(\u001b[0m\u001b[0mglogen_output\u001b[0m\u001b[0;34m)\u001b[0m\u001b[0;34m\u001b[0m\u001b[0;34m\u001b[0m\u001b[0m\n\u001b[0m\u001b[1;32m     41\u001b[0m \u001b[0;34m\u001b[0m\u001b[0m\n\u001b[1;32m     42\u001b[0m         \u001b[0;32mif\u001b[0m \u001b[0mself\u001b[0m\u001b[0;34m.\u001b[0m\u001b[0mexclude_locgen\u001b[0m \u001b[0;34m:\u001b[0m\u001b[0;34m\u001b[0m\u001b[0;34m\u001b[0m\u001b[0m\n",
            "\u001b[0;32m<ipython-input-17-70d6cc57490d>\u001b[0m in \u001b[0;36mcall\u001b[0;34m(self, inputs)\u001b[0m\n\u001b[1;32m     40\u001b[0m \u001b[0;34m\u001b[0m\u001b[0m\n\u001b[1;32m     41\u001b[0m     \u001b[0;32mdef\u001b[0m \u001b[0mcall\u001b[0m\u001b[0;34m(\u001b[0m\u001b[0mself\u001b[0m\u001b[0;34m,\u001b[0m \u001b[0minputs\u001b[0m\u001b[0;34m)\u001b[0m\u001b[0;34m:\u001b[0m\u001b[0;34m\u001b[0m\u001b[0;34m\u001b[0m\u001b[0m\n\u001b[0;32m---> 42\u001b[0;31m       \u001b[0;32mreturn\u001b[0m \u001b[0mself\u001b[0m\u001b[0;34m.\u001b[0m\u001b[0minterpolateFrames\u001b[0m\u001b[0;34m(\u001b[0m\u001b[0minputs\u001b[0m\u001b[0;34m)\u001b[0m\u001b[0;34m\u001b[0m\u001b[0;34m\u001b[0m\u001b[0m\n\u001b[0m",
            "\u001b[0;32m<ipython-input-17-70d6cc57490d>\u001b[0m in \u001b[0;36minterpolateFrames\u001b[0;34m(self, inputs)\u001b[0m\n\u001b[1;32m     21\u001b[0m       \u001b[0minterpolated_frames\u001b[0m \u001b[0;34m=\u001b[0m \u001b[0mtf\u001b[0m\u001b[0;34m.\u001b[0m\u001b[0mzeros\u001b[0m\u001b[0;34m(\u001b[0m\u001b[0;34m[\u001b[0m\u001b[0;36m0\u001b[0m\u001b[0;34m,\u001b[0m \u001b[0mfeatures\u001b[0m\u001b[0;34m]\u001b[0m\u001b[0;34m)\u001b[0m\u001b[0;34m\u001b[0m\u001b[0;34m\u001b[0m\u001b[0m\n\u001b[1;32m     22\u001b[0m \u001b[0;34m\u001b[0m\u001b[0m\n\u001b[0;32m---> 23\u001b[0;31m       \u001b[0;32mfor\u001b[0m \u001b[0mbatch\u001b[0m \u001b[0;32min\u001b[0m \u001b[0mtf\u001b[0m\u001b[0;34m.\u001b[0m\u001b[0mrange\u001b[0m\u001b[0;34m(\u001b[0m\u001b[0mtf\u001b[0m\u001b[0;34m.\u001b[0m\u001b[0mshape\u001b[0m\u001b[0;34m(\u001b[0m\u001b[0minputs\u001b[0m\u001b[0;34m)\u001b[0m\u001b[0;34m[\u001b[0m\u001b[0;36m0\u001b[0m\u001b[0;34m]\u001b[0m\u001b[0;34m)\u001b[0m \u001b[0;34m:\u001b[0m\u001b[0;34m\u001b[0m\u001b[0;34m\u001b[0m\u001b[0m\n\u001b[0m\u001b[1;32m     24\u001b[0m         tf.autograph.experimental.set_loop_options(\n\u001b[1;32m     25\u001b[0m         shape_invariants=[(interpolated_frames, tf.TensorShape([None, features]))])\n",
            "\u001b[0;31mOperatorNotAllowedInGraphError\u001b[0m: Exception encountered when calling layer \"interpolation_layer\" (type InterpolationLayer).\n\niterating over `tf.Tensor` is not allowed: AutoGraph did convert this function. This might indicate you are trying to use an unsupported feature.\n\nCall arguments received:\n  • args=('tf.Tensor(shape=(None, 10, 64), dtype=float32)',)\n  • kwargs=<class 'inspect._empty'>"
          ]
        }
      ]
    },
    {
      "cell_type": "markdown",
      "source": [
        "#References\n",
        "\n",
        "[1] https://github.com/una-dinosauria/3d-pose-baseline/blob/master/src/data_utils.py"
      ],
      "metadata": {
        "id": "QWZSPjKM9u-z"
      }
    }
  ],
  "metadata": {
    "colab": {
      "collapsed_sections": [
        "KTHffB1KrfBy",
        "H-ekHZVlrq1o",
        "hQg05uuoRtEi",
        "nozip8IVhhkg"
      ],
      "provenance": []
    },
    "kernelspec": {
      "display_name": "Python 3 (ipykernel)",
      "language": "python",
      "name": "python3"
    },
    "language_info": {
      "codemirror_mode": {
        "name": "ipython",
        "version": 3
      },
      "file_extension": ".py",
      "mimetype": "text/x-python",
      "name": "python",
      "nbconvert_exporter": "python",
      "pygments_lexer": "ipython3",
      "version": "3.8.12"
    },
    "accelerator": "GPU"
  },
  "nbformat": 4,
  "nbformat_minor": 0
}
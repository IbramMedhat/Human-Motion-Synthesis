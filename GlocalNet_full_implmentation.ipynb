{
  "cells": [
    {
      "cell_type": "markdown",
      "source": [
        "##Importing and installing need libraries"
      ],
      "metadata": {
        "id": "N5bGejq7QySe"
      }
    },
    {
      "cell_type": "code",
      "execution_count": null,
      "metadata": {
        "colab": {
          "base_uri": "https://localhost:8080/"
        },
        "id": "p6oWUCJCnPmT",
        "outputId": "f2ad25f9-037e-4f33-bc44-82532ac603c5"
      },
      "outputs": [
        {
          "output_type": "stream",
          "name": "stdout",
          "text": [
            "2.8.0\n"
          ]
        }
      ],
      "source": [
        "import numpy as np\n",
        "from tensorflow.keras import Model as Model_\n",
        "from tensorflow.keras.layers import Input, ReLU, LSTM, Dense, TimeDistributed, Bidirectional, Normalization, GaussianNoise \n",
        "from tensorflow.keras.optimizers import Adam\n",
        "from tensorflow.keras import backend\n",
        "from tensorflow.keras.models import Sequential\n",
        "import tensorflow as tf\n",
        "from tqdm.auto import tqdm\n",
        "import matplotlib.pyplot as plt\n",
        "import pandas as pd\n",
        "\n",
        "print(tf.keras.__version__)"
      ]
    },
    {
      "cell_type": "code",
      "source": [
        "#Need only to be used with google colab\n",
        "from google.colab import drive\n",
        "drive.mount('/content/drive')"
      ],
      "metadata": {
        "colab": {
          "base_uri": "https://localhost:8080/"
        },
        "id": "v1wLcoRN_q6H",
        "outputId": "5775dacb-5736-4c4a-a28a-5a02910c5d6b"
      },
      "execution_count": null,
      "outputs": [
        {
          "output_type": "stream",
          "name": "stdout",
          "text": [
            "Mounted at /content/drive\n"
          ]
        }
      ]
    },
    {
      "cell_type": "code",
      "source": [
        "!pip install tensorflow_model_remediation"
      ],
      "metadata": {
        "colab": {
          "base_uri": "https://localhost:8080/"
        },
        "id": "BVYkmolC_bDI",
        "outputId": "4d8910c0-0819-448d-caaf-3d4f493ee3cf"
      },
      "execution_count": null,
      "outputs": [
        {
          "output_type": "stream",
          "name": "stdout",
          "text": [
            "Looking in indexes: https://pypi.org/simple, https://us-python.pkg.dev/colab-wheels/public/simple/\n",
            "Collecting tensorflow_model_remediation\n",
            "  Downloading tensorflow_model_remediation-0.1.7.1-py3-none-any.whl (142 kB)\n",
            "\u001b[K     |████████████████████████████████| 142 kB 7.3 MB/s \n",
            "\u001b[?25hRequirement already satisfied: pandas in /usr/local/lib/python3.7/dist-packages (from tensorflow_model_remediation) (1.3.5)\n",
            "Requirement already satisfied: dill in /usr/local/lib/python3.7/dist-packages (from tensorflow_model_remediation) (0.3.5.1)\n",
            "Requirement already satisfied: tensorflow>=2.0.0 in /usr/local/lib/python3.7/dist-packages (from tensorflow_model_remediation) (2.8.2+zzzcolab20220719082949)\n",
            "Requirement already satisfied: tensorflow-hub in /usr/local/lib/python3.7/dist-packages (from tensorflow_model_remediation) (0.12.0)\n",
            "Collecting mock\n",
            "  Downloading mock-4.0.3-py3-none-any.whl (28 kB)\n",
            "Requirement already satisfied: setuptools in /usr/local/lib/python3.7/dist-packages (from tensorflow>=2.0.0->tensorflow_model_remediation) (57.4.0)\n",
            "Requirement already satisfied: tensorboard<2.9,>=2.8 in /usr/local/lib/python3.7/dist-packages (from tensorflow>=2.0.0->tensorflow_model_remediation) (2.8.0)\n",
            "Requirement already satisfied: grpcio<2.0,>=1.24.3 in /usr/local/lib/python3.7/dist-packages (from tensorflow>=2.0.0->tensorflow_model_remediation) (1.48.1)\n",
            "Requirement already satisfied: opt-einsum>=2.3.2 in /usr/local/lib/python3.7/dist-packages (from tensorflow>=2.0.0->tensorflow_model_remediation) (3.3.0)\n",
            "Requirement already satisfied: numpy>=1.20 in /usr/local/lib/python3.7/dist-packages (from tensorflow>=2.0.0->tensorflow_model_remediation) (1.21.6)\n",
            "Requirement already satisfied: keras-preprocessing>=1.1.1 in /usr/local/lib/python3.7/dist-packages (from tensorflow>=2.0.0->tensorflow_model_remediation) (1.1.2)\n",
            "Requirement already satisfied: gast>=0.2.1 in /usr/local/lib/python3.7/dist-packages (from tensorflow>=2.0.0->tensorflow_model_remediation) (0.5.3)\n",
            "Requirement already satisfied: absl-py>=0.4.0 in /usr/local/lib/python3.7/dist-packages (from tensorflow>=2.0.0->tensorflow_model_remediation) (1.2.0)\n",
            "Requirement already satisfied: libclang>=9.0.1 in /usr/local/lib/python3.7/dist-packages (from tensorflow>=2.0.0->tensorflow_model_remediation) (14.0.6)\n",
            "Requirement already satisfied: keras<2.9,>=2.8.0rc0 in /usr/local/lib/python3.7/dist-packages (from tensorflow>=2.0.0->tensorflow_model_remediation) (2.8.0)\n",
            "Requirement already satisfied: tensorflow-io-gcs-filesystem>=0.23.1 in /usr/local/lib/python3.7/dist-packages (from tensorflow>=2.0.0->tensorflow_model_remediation) (0.26.0)\n",
            "Requirement already satisfied: wrapt>=1.11.0 in /usr/local/lib/python3.7/dist-packages (from tensorflow>=2.0.0->tensorflow_model_remediation) (1.14.1)\n",
            "Requirement already satisfied: google-pasta>=0.1.1 in /usr/local/lib/python3.7/dist-packages (from tensorflow>=2.0.0->tensorflow_model_remediation) (0.2.0)\n",
            "Requirement already satisfied: termcolor>=1.1.0 in /usr/local/lib/python3.7/dist-packages (from tensorflow>=2.0.0->tensorflow_model_remediation) (1.1.0)\n",
            "Requirement already satisfied: flatbuffers>=1.12 in /usr/local/lib/python3.7/dist-packages (from tensorflow>=2.0.0->tensorflow_model_remediation) (2.0.7)\n",
            "Requirement already satisfied: astunparse>=1.6.0 in /usr/local/lib/python3.7/dist-packages (from tensorflow>=2.0.0->tensorflow_model_remediation) (1.6.3)\n",
            "Requirement already satisfied: h5py>=2.9.0 in /usr/local/lib/python3.7/dist-packages (from tensorflow>=2.0.0->tensorflow_model_remediation) (3.1.0)\n",
            "Requirement already satisfied: six>=1.12.0 in /usr/local/lib/python3.7/dist-packages (from tensorflow>=2.0.0->tensorflow_model_remediation) (1.15.0)\n",
            "Requirement already satisfied: protobuf<3.20,>=3.9.2 in /usr/local/lib/python3.7/dist-packages (from tensorflow>=2.0.0->tensorflow_model_remediation) (3.17.3)\n",
            "Requirement already satisfied: tensorflow-estimator<2.9,>=2.8 in /usr/local/lib/python3.7/dist-packages (from tensorflow>=2.0.0->tensorflow_model_remediation) (2.8.0)\n",
            "Requirement already satisfied: typing-extensions>=3.6.6 in /usr/local/lib/python3.7/dist-packages (from tensorflow>=2.0.0->tensorflow_model_remediation) (4.1.1)\n",
            "Requirement already satisfied: wheel<1.0,>=0.23.0 in /usr/local/lib/python3.7/dist-packages (from astunparse>=1.6.0->tensorflow>=2.0.0->tensorflow_model_remediation) (0.37.1)\n",
            "Requirement already satisfied: cached-property in /usr/local/lib/python3.7/dist-packages (from h5py>=2.9.0->tensorflow>=2.0.0->tensorflow_model_remediation) (1.5.2)\n",
            "Requirement already satisfied: google-auth<3,>=1.6.3 in /usr/local/lib/python3.7/dist-packages (from tensorboard<2.9,>=2.8->tensorflow>=2.0.0->tensorflow_model_remediation) (1.35.0)\n",
            "Requirement already satisfied: requests<3,>=2.21.0 in /usr/local/lib/python3.7/dist-packages (from tensorboard<2.9,>=2.8->tensorflow>=2.0.0->tensorflow_model_remediation) (2.23.0)\n",
            "Requirement already satisfied: tensorboard-data-server<0.7.0,>=0.6.0 in /usr/local/lib/python3.7/dist-packages (from tensorboard<2.9,>=2.8->tensorflow>=2.0.0->tensorflow_model_remediation) (0.6.1)\n",
            "Requirement already satisfied: markdown>=2.6.8 in /usr/local/lib/python3.7/dist-packages (from tensorboard<2.9,>=2.8->tensorflow>=2.0.0->tensorflow_model_remediation) (3.4.1)\n",
            "Requirement already satisfied: werkzeug>=0.11.15 in /usr/local/lib/python3.7/dist-packages (from tensorboard<2.9,>=2.8->tensorflow>=2.0.0->tensorflow_model_remediation) (1.0.1)\n",
            "Requirement already satisfied: google-auth-oauthlib<0.5,>=0.4.1 in /usr/local/lib/python3.7/dist-packages (from tensorboard<2.9,>=2.8->tensorflow>=2.0.0->tensorflow_model_remediation) (0.4.6)\n",
            "Requirement already satisfied: tensorboard-plugin-wit>=1.6.0 in /usr/local/lib/python3.7/dist-packages (from tensorboard<2.9,>=2.8->tensorflow>=2.0.0->tensorflow_model_remediation) (1.8.1)\n",
            "Requirement already satisfied: rsa<5,>=3.1.4 in /usr/local/lib/python3.7/dist-packages (from google-auth<3,>=1.6.3->tensorboard<2.9,>=2.8->tensorflow>=2.0.0->tensorflow_model_remediation) (4.9)\n",
            "Requirement already satisfied: cachetools<5.0,>=2.0.0 in /usr/local/lib/python3.7/dist-packages (from google-auth<3,>=1.6.3->tensorboard<2.9,>=2.8->tensorflow>=2.0.0->tensorflow_model_remediation) (4.2.4)\n",
            "Requirement already satisfied: pyasn1-modules>=0.2.1 in /usr/local/lib/python3.7/dist-packages (from google-auth<3,>=1.6.3->tensorboard<2.9,>=2.8->tensorflow>=2.0.0->tensorflow_model_remediation) (0.2.8)\n",
            "Requirement already satisfied: requests-oauthlib>=0.7.0 in /usr/local/lib/python3.7/dist-packages (from google-auth-oauthlib<0.5,>=0.4.1->tensorboard<2.9,>=2.8->tensorflow>=2.0.0->tensorflow_model_remediation) (1.3.1)\n",
            "Requirement already satisfied: importlib-metadata>=4.4 in /usr/local/lib/python3.7/dist-packages (from markdown>=2.6.8->tensorboard<2.9,>=2.8->tensorflow>=2.0.0->tensorflow_model_remediation) (4.12.0)\n",
            "Requirement already satisfied: zipp>=0.5 in /usr/local/lib/python3.7/dist-packages (from importlib-metadata>=4.4->markdown>=2.6.8->tensorboard<2.9,>=2.8->tensorflow>=2.0.0->tensorflow_model_remediation) (3.8.1)\n",
            "Requirement already satisfied: pyasn1<0.5.0,>=0.4.6 in /usr/local/lib/python3.7/dist-packages (from pyasn1-modules>=0.2.1->google-auth<3,>=1.6.3->tensorboard<2.9,>=2.8->tensorflow>=2.0.0->tensorflow_model_remediation) (0.4.8)\n",
            "Requirement already satisfied: idna<3,>=2.5 in /usr/local/lib/python3.7/dist-packages (from requests<3,>=2.21.0->tensorboard<2.9,>=2.8->tensorflow>=2.0.0->tensorflow_model_remediation) (2.10)\n",
            "Requirement already satisfied: certifi>=2017.4.17 in /usr/local/lib/python3.7/dist-packages (from requests<3,>=2.21.0->tensorboard<2.9,>=2.8->tensorflow>=2.0.0->tensorflow_model_remediation) (2022.6.15)\n",
            "Requirement already satisfied: urllib3!=1.25.0,!=1.25.1,<1.26,>=1.21.1 in /usr/local/lib/python3.7/dist-packages (from requests<3,>=2.21.0->tensorboard<2.9,>=2.8->tensorflow>=2.0.0->tensorflow_model_remediation) (1.24.3)\n",
            "Requirement already satisfied: chardet<4,>=3.0.2 in /usr/local/lib/python3.7/dist-packages (from requests<3,>=2.21.0->tensorboard<2.9,>=2.8->tensorflow>=2.0.0->tensorflow_model_remediation) (3.0.4)\n",
            "Requirement already satisfied: oauthlib>=3.0.0 in /usr/local/lib/python3.7/dist-packages (from requests-oauthlib>=0.7.0->google-auth-oauthlib<0.5,>=0.4.1->tensorboard<2.9,>=2.8->tensorflow>=2.0.0->tensorflow_model_remediation) (3.2.0)\n",
            "Requirement already satisfied: pytz>=2017.3 in /usr/local/lib/python3.7/dist-packages (from pandas->tensorflow_model_remediation) (2022.2.1)\n",
            "Requirement already satisfied: python-dateutil>=2.7.3 in /usr/local/lib/python3.7/dist-packages (from pandas->tensorflow_model_remediation) (2.8.2)\n",
            "Installing collected packages: mock, tensorflow-model-remediation\n",
            "Successfully installed mock-4.0.3 tensorflow-model-remediation-0.1.7.1\n"
          ]
        }
      ]
    },
    {
      "cell_type": "code",
      "source": [
        "import tensorflow_model_remediation.min_diff.losses.mmd_loss as MMD\n",
        "import tensorflow_model_remediation.min_diff.losses.adjusted_mmd_loss as adjustedMMD"
      ],
      "metadata": {
        "id": "ueL6mTdUwhcp"
      },
      "execution_count": null,
      "outputs": []
    },
    {
      "cell_type": "markdown",
      "source": [
        "##Dataset reading"
      ],
      "metadata": {
        "id": "6tUdJibeQWdF"
      }
    },
    {
      "cell_type": "code",
      "source": [
        "#Was done in the preprocessing in [1]\n",
        "# Joints in H3.6M -- data has 32 joints, but only 17 that move; these are the indices.\n",
        "H36M_NAMES = ['']*32\n",
        "H36M_NAMES[0]  = 'Hip'\n",
        "H36M_NAMES[1]  = 'RHip'\n",
        "H36M_NAMES[2]  = 'RKnee'\n",
        "H36M_NAMES[3]  = 'RFoot'\n",
        "H36M_NAMES[6]  = 'LHip'\n",
        "H36M_NAMES[7]  = 'LKnee'\n",
        "H36M_NAMES[8]  = 'LFoot'\n",
        "H36M_NAMES[12] = 'Spine'\n",
        "H36M_NAMES[13] = 'Thorax'\n",
        "H36M_NAMES[14] = 'Neck/Nose'\n",
        "H36M_NAMES[15] = 'Head'\n",
        "H36M_NAMES[17] = 'LShoulder'\n",
        "H36M_NAMES[18] = 'LElbow'\n",
        "H36M_NAMES[19] = 'LWrist'\n",
        "H36M_NAMES[25] = 'RShoulder'\n",
        "H36M_NAMES[26] = 'RElbow'\n",
        "H36M_NAMES[27] = 'RWrist'"
      ],
      "metadata": {
        "id": "VYTyMttRQVHV"
      },
      "execution_count": null,
      "outputs": []
    },
    {
      "cell_type": "code",
      "execution_count": null,
      "metadata": {
        "id": "ikRIhsrrnhlH"
      },
      "outputs": [],
      "source": [
        "import os\n",
        "import re\n",
        "\n",
        "class Dataset_Preprocessing:\n",
        "    def __init__(self, dir_path, include_dimension = 2, sample_size = 50, total_classes = 17, datatype = 'float32'):\n",
        "        \n",
        "        #Dataset Directory path\n",
        "        self.dir_path = dir_path\n",
        "        \n",
        "        #Which Dimension file to include, possible values: 2 and 3\n",
        "        self.include_dimension = include_dimension\n",
        "        \n",
        "        #Total frames in one Sample\n",
        "        self.sample_size = sample_size\n",
        "        \n",
        "        #Default Datatype for all the samples\n",
        "        self.datatype = datatype\n",
        "        \n",
        "        #Activity classes to include\n",
        "        self.classes = ['SittingDown', 'Walking', 'Directions', 'Discussion', 'Sitting', 'Phoning', 'Eating', 'Posing', 'Greeting', 'Smoking']\n",
        "        \n",
        "        #Total activity classes\n",
        "        self.total_classes = len(self.classes)\n",
        "        \n",
        "        #Subject Folders names in the Dataset\n",
        "        self.internal_folders = ['S1', 'S5','S6','S7','S8','S9','S11']\n",
        "    \n",
        "    def read_dataset(self):\n",
        "        try:\n",
        "            #Contains all the different activity vectors\n",
        "            activity_vector = {}\n",
        "            \n",
        "            #Contains the overall dataset\n",
        "            sampled_data = None\n",
        "            \n",
        "            #Based on dimensions, which folder to use for extracting the dataset files\n",
        "            data_folder = 'Poses_D2_Positions' if self.include_dimension == 2 else 'Poses_D3_Positions'\n",
        "            \n",
        "            #Checking if the dataset path is valid\n",
        "            if not os.path.exists(self.dir_path):\n",
        "                print('The Data Directory Does not Exist!')\n",
        "                return None\n",
        "\n",
        "            #Iterating over all the subject folders\n",
        "            for fld in self.internal_folders:\n",
        "                #Iterating for each file in the specified folder\n",
        "                for file in os.listdir(os.path.join(self.dir_path, fld, data_folder)):\n",
        "                    #Extracting the activity from the filename\n",
        "                    activity = self.__extract_activity(file)\n",
        "                    \n",
        "                    if activity not in self.classes:\n",
        "                        continue\n",
        "                    \n",
        "                    #Reading the CSV file using Pandas\n",
        "                    data = pd.read_csv(os.path.join(self.dir_path, fld, data_folder, file), header=None)\n",
        "\n",
        "                    #Formulating the activity vector using one hot encoding\n",
        "                    if activity not in activity_vector:\n",
        "                        total_keys = len(activity_vector.keys())\n",
        "                        activity_vector[activity] = np.zeros(self.total_classes)\n",
        "                        activity_vector[activity][total_keys] = 1\n",
        "                    vector = activity_vector[activity]\n",
        "                    \n",
        "                    #Sampling the dataset\n",
        "                    grouped_sample = self.__group_samples(data, self.sample_size, vector)\n",
        "                    sampled_data = grouped_sample if sampled_data is None else np.append(sampled_data, grouped_sample, axis=0)\n",
        "            \n",
        "            #Changing the Datatype\n",
        "            sampled_data = sampled_data.astype(self.datatype)\n",
        "            \n",
        "            return sampled_data\n",
        "        except Exception as e:\n",
        "            print(e)\n",
        "    \n",
        "    def __extract_activity(self, filename):\n",
        "        try:\n",
        "            #Extracting the filename and excluding the extension\n",
        "            name = os.path.splitext(filename)[0]\n",
        "            \n",
        "            #Substituting the empty string with characters other than english alphabets\n",
        "            activity = re.sub('[^A-Za-z]+' , '' , name)\n",
        "            return activity\n",
        "        except Exception as e:\n",
        "            print(e)\n",
        "    \n",
        "    def __group_samples(self, dataset, sample_size, activity):\n",
        "        try:\n",
        "            #Checking if the dataset is a Pandas Dataframe\n",
        "            if not isinstance(dataset, pd.DataFrame):\n",
        "                print('Expecting Pandas Dataframe, but got {}'.format(type(dataset)))\n",
        "                return None\n",
        "            \n",
        "            #Appending activity class to each row in the dataset\n",
        "            dataset = pd.concat([dataset, pd.DataFrame(np.tile(activity, (dataset.shape[0],1)))], axis=1)\n",
        "            \n",
        "            #Reshaping the dataset into sample batches\n",
        "            total_samples = dataset.shape[0]//sample_size\n",
        "            total_features = dataset.shape[1]\n",
        "            grouped_rows = dataset.to_numpy()[:total_samples*self.sample_size].reshape((-1,self.sample_size, total_features))\n",
        "            \n",
        "            return grouped_rows\n",
        "        except Exception as e:\n",
        "            print(e)"
      ]
    },
    {
      "cell_type": "code",
      "execution_count": null,
      "metadata": {
        "id": "f8PgK1UVnkrw"
      },
      "outputs": [],
      "source": [
        "#For long term prediction, we need a sample size of 60(10 frames input sequance, 50 frames predicted sequance)\n",
        "sampled_data = Dataset_Preprocessing('/content/drive/MyDrive/Colab Notebooks/H3.6csv', sample_size=60).read_dataset()"
      ]
    },
    {
      "cell_type": "code",
      "execution_count": null,
      "metadata": {
        "id": "8nABIG0rnxl_"
      },
      "outputs": [],
      "source": [
        "def split_to_features_labels(dataset, input_sequance_size=10) :\n",
        "    \"\"\"\n",
        "    Function for splitting the data into features(with sequance size=iput_sequance_size)\n",
        "    and labels which should be the remainder of the sample length \n",
        "    \"\"\"\n",
        "    assert input_sequance_size < dataset.shape[1], f\"input sequance should be smaller than the total sample size\"\n",
        "    features = dataset[:, np.s_[0:input_sequance_size], :]\n",
        "    labels = dataset[:,np.s_[input_sequance_size:], :64]\n",
        "    \n",
        "    return features, labels"
      ]
    },
    {
      "cell_type": "code",
      "source": [
        "#To make the data divisible for batch size of 20\n",
        "total_batches = sampled_data.shape[0]\n",
        "sampled_data = sampled_data[:total_batches-(total_batches%20)]"
      ],
      "metadata": {
        "id": "lw6Tvviol_Ch"
      },
      "execution_count": null,
      "outputs": []
    },
    {
      "cell_type": "code",
      "execution_count": null,
      "metadata": {
        "id": "h6bSQTwdn2Fo"
      },
      "outputs": [],
      "source": [
        "sampled_dataX, sampled_dataY = split_to_features_labels(sampled_data, input_sequance_size=10)"
      ]
    },
    {
      "cell_type": "code",
      "execution_count": null,
      "metadata": {
        "colab": {
          "base_uri": "https://localhost:8080/"
        },
        "id": "CVXQiscVn4O2",
        "outputId": "16b74b2e-2707-4115-943d-dc1b320fc83e"
      },
      "outputs": [
        {
          "output_type": "stream",
          "name": "stdout",
          "text": [
            "Total Samples: 25520\n",
            "Total Frames: 50\n",
            "Total Features: 64\n"
          ]
        }
      ],
      "source": [
        "print('Total Samples: {}'.format(sampled_dataY.shape[0]))\n",
        "print('Total Frames: {}'.format(sampled_dataY.shape[1]))\n",
        "print('Total Features: {}'.format(sampled_dataY.shape[2]))"
      ]
    },
    {
      "cell_type": "markdown",
      "source": [
        "##Adding Preprocessing steps to improve model performance and robustness"
      ],
      "metadata": {
        "id": "snGEPtNOKLvg"
      }
    },
    {
      "cell_type": "code",
      "source": [
        "#Downsampling to be implemented\n",
        "def preprocess_data(sampled_dataX, sampled_dataY, normalize=True, add_noise=True\n",
        "                    , downsample= False , stddev=0.05) :\n",
        "    \"\"\"\n",
        "    Function to preprocess data by normalizing input features and adding guassian\n",
        "    noise to increase model robustness\n",
        "    \"\"\"  \n",
        "    if normalize :\n",
        "      sampled_dataX =  tf.keras.utils.normalize(sampled_dataX, axis=2)\n",
        "    if add_noise :\n",
        "      guassian_noise_layer = tf.keras.layers.GaussianNoise(stddev=stddev)\n",
        "      sampled_dataX = guassian_noise_layer(sampled_dataX)\n",
        "    return sampled_dataX, sampled_dataY"
      ],
      "metadata": {
        "id": "VzjeqMm1KNjQ"
      },
      "execution_count": null,
      "outputs": []
    },
    {
      "cell_type": "code",
      "source": [
        "preprocessed_sampled_dataX, preprocessed_sampled_dataY = preprocess_data(sampled_dataX, sampled_dataY) "
      ],
      "metadata": {
        "id": "4bR0E_RfMlHg"
      },
      "execution_count": null,
      "outputs": []
    },
    {
      "cell_type": "code",
      "source": [
        "preprocessed_sampled_dataY.shape == sampled_dataY.shape"
      ],
      "metadata": {
        "colab": {
          "base_uri": "https://localhost:8080/"
        },
        "id": "KAi8XtxJmMBu",
        "outputId": "feb03f31-dfd8-4022-869b-881427dcac94"
      },
      "execution_count": null,
      "outputs": [
        {
          "output_type": "execute_result",
          "data": {
            "text/plain": [
              "True"
            ]
          },
          "metadata": {},
          "execution_count": 15
        }
      ]
    },
    {
      "cell_type": "markdown",
      "source": [
        "##Defining different components of the model"
      ],
      "metadata": {
        "id": "kwCrXubfJka4"
      }
    },
    {
      "cell_type": "code",
      "execution_count": null,
      "metadata": {
        "id": "QsfCMT-0zRTs"
      },
      "outputs": [],
      "source": [
        "class InterpolationLayer(tf.keras.layers.Layer):\n",
        "    \"\"\"\n",
        "    Custom interpolation layer extending the keras layer class\n",
        "    it has one attribute num_frames to be interpolated between each two consecutive \n",
        "    timesteps\n",
        "    it has one main function interpolateFrames  \n",
        "    \"\"\"\n",
        "  \n",
        "    def __init__(self, num_frames=5):\n",
        "        super(InterpolationLayer, self).__init__()\n",
        "        self.num_frames = num_frames\n",
        "       \n",
        "    def interpolateFrames(self, inputs):\n",
        "      \"\"\"\n",
        "      Takes input tensors of shape(batch_size, timesteps, features)\n",
        "      returns interpolated frames with shape(batch_size, timesteps*num_frames, features)\n",
        "      \"\"\"\n",
        "      batch_size = inputs.shape[0]\n",
        "      timesteps = inputs.shape[1]\n",
        "      features = inputs.shape[2]\n",
        "      interpolated_frames = tf.zeros([0, features])\n",
        "\n",
        "      for batch in range(batch_size) :\n",
        "        for t in range(timesteps) :\n",
        "          for j in range(self.num_frames) :\n",
        "            X_i0 = inputs[batch, t]\n",
        "            if(t == timesteps-1) :\n",
        "              X_i1 = inputs[batch, t]\n",
        "            else :  \n",
        "              X_i1 = inputs[batch, t+1]\n",
        "            alpha_j = j/self.num_frames\n",
        "            current_frame = alpha_j*X_i0 + (1-alpha_j)*X_i1\n",
        "            current_frame = tf.reshape(current_frame, [1, features])\n",
        "            interpolated_frames = tf.concat((interpolated_frames, current_frame), axis=0)\n",
        "            \n",
        "      interpolated_frames = tf.reshape(interpolated_frames,\n",
        "                                       [batch_size, (timesteps)*self.num_frames, features])\n",
        "      return interpolated_frames\n",
        "\n",
        "    def call(self, inputs):\n",
        "      return self.interpolateFrames(inputs)"
      ]
    },
    {
      "cell_type": "code",
      "execution_count": null,
      "metadata": {
        "id": "7PIJXvLaaEvY"
      },
      "outputs": [],
      "source": [
        "class GlocalNet(Model_):\n",
        "    \"\"\"\n",
        "    A full GlocalNet implementation include the three main stages\n",
        "    Glogen generating initial sparse frames\n",
        "    Interpolation layer generating dense frames from Glogen output\n",
        "    Locgen generating the final output by smoothing the interpolated frames\n",
        "    \"\"\"\n",
        "    def __init__(self, enocder_hidden_state=200, decoder_hidden_state=200, \n",
        "                 output_diminsion=64, LSTM_dropout=0.25, dense_activation='relu',\n",
        "                 interpolation_frames=5, exclude_locgen=False):\n",
        "        super(GlocalNet, self).__init__()\n",
        "        self.exclude_locgen = exclude_locgen\n",
        "        #Glogen layers\n",
        "        self.glogen_encoder = LSTM(enocder_hidden_state, return_state=True\n",
        "                                   , return_sequences=True, dropout=LSTM_dropout)\n",
        "        self.glogen_decoder = LSTM(decoder_hidden_state, return_sequences=True,\n",
        "                                   return_state=True, dropout=LSTM_dropout)\n",
        "        #Locgen layers\n",
        "        self.locgen_encoder = LSTM(enocder_hidden_state, return_sequences=True,\n",
        "                                   return_state=True, dropout=LSTM_dropout)\n",
        "        self.locgen_decoder = LSTM(decoder_hidden_state, return_sequences=True,\n",
        "                                   return_state=True, dropout=LSTM_dropout)\n",
        "        #Glogen dense layer\n",
        "        self.glogen_dense_layer = TimeDistributed(Dense(output_diminsion,\n",
        "                                                        activation=dense_activation)) \n",
        "        #Interpolation layer\n",
        "        self.interpolation_layer = InterpolationLayer(num_frames=interpolation_frames)\n",
        "        #Locgen dense layer\n",
        "        self.locgen_dense_layer = TimeDistributed(Dense(output_diminsion,\n",
        "                                                        activation=dense_activation)) \n",
        "        \n",
        "    def call(self, inputs):\n",
        "        #Glogen calls      \n",
        "        encoder_outputs, state_h, state_c = self.glogen_encoder(inputs)\n",
        "        encoder_states = [state_h, state_c]\n",
        "        output, _, _ = self.glogen_decoder(encoder_outputs, initial_state=encoder_states)\n",
        "        glogen_output = self.glogen_dense_layer(output)\n",
        "\n",
        "        #Interpolation call\n",
        "        interpolated_frames = self.interpolation_layer(glogen_output)\n",
        "        \n",
        "        if self.exclude_locgen :\n",
        "          return interpolated_frames\n",
        "\n",
        "        #Locgen calls\n",
        "        locgen_encoder_outputs, locgen_state_h, locgen_state_c = self.locgen_encoder(interpolated_frames)\n",
        "        locgen_encoder_states = [locgen_state_h, locgen_state_c]\n",
        "        locgen_output, _, _ = self.locgen_decoder(locgen_encoder_outputs, initial_state=locgen_encoder_states)\n",
        "        final_output = self.locgen_dense_layer(locgen_output)\n",
        "        return final_output"
      ]
    },
    {
      "cell_type": "code",
      "execution_count": null,
      "metadata": {
        "id": "bVUFJsv3fVYh"
      },
      "outputs": [],
      "source": [
        "class JointLoss() :\n",
        "    \"\"\"\n",
        "    Joint loss class with two weight attributes for two different losses\n",
        "    first one is the loss joint and the second is the loss_motion_flow\n",
        "    \"\"\"\n",
        "    def __init__(self, lambda1=0.5, lambda2=0.5, mmd_kernel='gaussian') :\n",
        "        self.lambda1 = lambda1\n",
        "        self.lambda2 = lambda2\n",
        "        self.mmd_kernel = mmd_kernel\n",
        "\n",
        "    def loss_joint(self, predicted_sequance_batch, target_sequance_batch) :\n",
        "        \"\"\"\n",
        "        Loss between the joint positions and its corresponding counterparts in the groundtruth\n",
        "        \"\"\"\n",
        "        diff_norm_2 = tf.math.reduce_sum(tf.square(tf.subtract(predicted_sequance_batch, target_sequance_batch)), axis=2)\n",
        "        return tf.reduce_sum(diff_norm_2, axis=1) \n",
        "\n",
        "    def loss_motion_flow(self, predicted_sequance_batch, target_sequance_batch) :\n",
        "        \"\"\"\n",
        "        Loss between the motion flow of predicted sequance and the ground truth\n",
        "        where the motion flow is the euclidean distance between each two consecutive frames\n",
        "        \"\"\"\n",
        "        predictions_tomporal_diffs = tf.experimental.numpy.diff(predicted_sequance_batch, axis=1)\n",
        "        real_tomporal_diffs = tf.experimental.numpy.diff(target_sequance_batch, axis=1)\n",
        "        prediction_motion_flow_diff_norm_2 = tf.reduce_sum(tf.square(tf.subtract(predictions_tomporal_diffs, real_tomporal_diffs)), axis=2)\n",
        "        return tf.reduce_sum(prediction_motion_flow_diff_norm_2, axis=1)\n",
        "\n",
        "\n",
        "    def total_loss(self, target_sequance_batch, predicted_sequance_batch) :\n",
        "        \"\"\"\n",
        "        calculating the total loss through a combination of the joint_loss and motion_flow_loss\n",
        "        \"\"\"\n",
        "        joints_loss = self.loss_joint(predicted_sequance_batch, target_sequance_batch)\n",
        "        motion_flow_loss = self.loss_motion_flow(predicted_sequance_batch, target_sequance_batch)\n",
        "        return self.lambda1*joints_loss + self.lambda2*motion_flow_loss\n",
        "\n",
        "    def custom_sequence_MMD_loss(self, target_sequance_batch, predicted_sequance_batch):\n",
        "        \"\"\"\n",
        "        Calculating the Sequence MMD Loss between prediction and the ground Truth.\n",
        "         Additionally combining the last two dimensions \n",
        "        \"\"\"\n",
        "        mmd_loss = MMD.MMDLoss(kernel=self.mmd_kernel)\n",
        "        total_batches = predicted_sequance_batch.shape[0]\n",
        "        frames_per_batch = predicted_sequance_batch.shape[1] * predicted_sequance_batch.shape[2]\n",
        "        return mmd_loss(tf.reshape(predicted_sequance_batch, [total_batches, frames_per_batch]),\n",
        "                        tf.reshape(target_sequance_batch, [total_batches, frames_per_batch]))"
      ]
    },
    {
      "cell_type": "markdown",
      "source": [
        "##Running experiment with different hyperparameters"
      ],
      "metadata": {
        "id": "Az25davkJq9Y"
      }
    },
    {
      "cell_type": "code",
      "execution_count": null,
      "metadata": {
        "id": "labA65KEakkZ"
      },
      "outputs": [],
      "source": [
        "def run_experiment(sampled_dataX, sampled_dataY, learning_rate=0.002, lambda1=0.5,\n",
        "                   lambda2=0.5, use_mse=False, use_MMD=False, metrics=None,\n",
        "                   batch_size=100, epochs=50, validation_split=0.2, activation=\"relu\",\n",
        "                   dropout=0.25, exclude_locgen=False) :\n",
        "    \"\"\"\n",
        "    Method takes all hyperparameters as input paramters and returns the model and history as\n",
        "    a result\n",
        "    \"\"\"\n",
        "    glocal_model = GlocalNet(dense_activation=activation, LSTM_dropout=dropout,\n",
        "                             exclude_locgen=exclude_locgen)\n",
        "    if use_mse :\n",
        "        loss_function = tf.keras.losses.mean_squared_error\n",
        "    elif use_MMD :\n",
        "        loss_function = JointLoss().custom_sequence_MMD_loss\n",
        "    else :\n",
        "        loss_function = JointLoss(lambda1=lambda1, lambda2=lambda2).total_loss\n",
        "\n",
        "    glocal_model.compile(optimizer=tf.keras.optimizers.Adam(learning_rate=learning_rate),\n",
        "                       loss=loss_function, metrics=metrics)\n",
        "    history = glocal_model.fit(sampled_dataX, sampled_dataY,\n",
        "                              batch_size=batch_size,\n",
        "                              epochs=epochs, validation_split=validation_split)\n",
        "    return history, glocal_model"
      ]
    },
    {
      "cell_type": "markdown",
      "metadata": {
        "id": "KTHffB1KrfBy"
      },
      "source": [
        "## Experiment Running for MSE and joint loss"
      ]
    },
    {
      "cell_type": "code",
      "execution_count": null,
      "metadata": {
        "colab": {
          "base_uri": "https://localhost:8080/"
        },
        "id": "sQ-XPaUFd4D0",
        "outputId": "bf808cf3-cea2-4283-e53f-4d4e2dbba85b"
      },
      "outputs": [
        {
          "name": "stdout",
          "output_type": "stream",
          "text": [
            "Epoch 1/10\n",
            "255/255 [==============================] - 415s 240ms/step - loss: 197673.3438 - mean_absolute_percentage_error: 88.2866\n",
            "Epoch 2/10\n",
            "255/255 [==============================] - 63s 248ms/step - loss: 128336.4766 - mean_absolute_percentage_error: 67.4349\n",
            "Epoch 3/10\n",
            "255/255 [==============================] - 62s 243ms/step - loss: 82020.9609 - mean_absolute_percentage_error: 50.1100\n",
            "Epoch 4/10\n",
            "255/255 [==============================] - 64s 250ms/step - loss: 52302.0547 - mean_absolute_percentage_error: 37.0668\n",
            "Epoch 5/10\n",
            "255/255 [==============================] - 61s 240ms/step - loss: 34254.2656 - mean_absolute_percentage_error: 28.3228\n",
            "Epoch 6/10\n",
            "255/255 [==============================] - 61s 241ms/step - loss: 23976.3828 - mean_absolute_percentage_error: 23.0670\n",
            "Epoch 7/10\n",
            "255/255 [==============================] - 63s 245ms/step - loss: 18552.9414 - mean_absolute_percentage_error: 20.3186\n",
            "Epoch 8/10\n",
            "255/255 [==============================] - 61s 241ms/step - loss: 15939.6357 - mean_absolute_percentage_error: 19.0722\n",
            "Epoch 9/10\n",
            "255/255 [==============================] - 62s 242ms/step - loss: 14812.7559 - mean_absolute_percentage_error: 18.6462\n",
            "Epoch 10/10\n",
            "255/255 [==============================] - 62s 245ms/step - loss: 14385.7510 - mean_absolute_percentage_error: 18.5867\n"
          ]
        }
      ],
      "source": [
        "history_mse, glocal_model_mse = run_experiment(epochs=10, use_mse=True, metrics=[tf.keras.losses.mean_absolute_percentage_error])"
      ]
    },
    {
      "cell_type": "code",
      "execution_count": null,
      "metadata": {
        "colab": {
          "base_uri": "https://localhost:8080/"
        },
        "id": "a7FQ-HQ4bPVi",
        "outputId": "89e882cb-f5fd-4d5f-d5af-1497efaba172"
      },
      "outputs": [
        {
          "name": "stdout",
          "output_type": "stream",
          "text": [
            "Epoch 1/10\n",
            "255/255 [==============================] - 419s 248ms/step - loss: 318235136.0000 - mean_absolute_percentage_error: 88.8408\n",
            "Epoch 2/10\n",
            "255/255 [==============================] - 63s 248ms/step - loss: 209204064.0000 - mean_absolute_percentage_error: 68.7124\n",
            "Epoch 3/10\n",
            "255/255 [==============================] - 64s 252ms/step - loss: 136290848.0000 - mean_absolute_percentage_error: 52.0030\n",
            "Epoch 4/10\n",
            "255/255 [==============================] - 63s 248ms/step - loss: 89421984.0000 - mean_absolute_percentage_error: 39.3298\n",
            "Epoch 5/10\n",
            "255/255 [==============================] - 64s 251ms/step - loss: 60899012.0000 - mean_absolute_percentage_error: 30.7696\n",
            "Epoch 6/10\n",
            "255/255 [==============================] - 65s 254ms/step - loss: 44627976.0000 - mean_absolute_percentage_error: 25.5873\n",
            "Epoch 7/10\n",
            "255/255 [==============================] - 64s 250ms/step - loss: 36028060.0000 - mean_absolute_percentage_error: 22.8682\n",
            "Epoch 8/10\n",
            "255/255 [==============================] - 64s 251ms/step - loss: 31884704.0000 - mean_absolute_percentage_error: 21.6249\n",
            "Epoch 9/10\n",
            "255/255 [==============================] - 63s 248ms/step - loss: 30101348.0000 - mean_absolute_percentage_error: 21.2003\n",
            "Epoch 10/10\n",
            "255/255 [==============================] - 64s 252ms/step - loss: 29427098.0000 - mean_absolute_percentage_error: 21.1448\n"
          ]
        }
      ],
      "source": [
        "history_jointLoss, glocal_model_jointLoss = run_experiment(epochs=10, lambda1=0.5, lambda2=0.5, metrics=[tf.keras.losses.mean_absolute_percentage_error])"
      ]
    },
    {
      "cell_type": "markdown",
      "metadata": {
        "id": "H-ekHZVlrq1o"
      },
      "source": [
        "## Running experiment with MMD"
      ]
    },
    {
      "cell_type": "code",
      "execution_count": null,
      "metadata": {
        "colab": {
          "base_uri": "https://localhost:8080/"
        },
        "id": "KayDheMuk7oE",
        "outputId": "4cc7a0d2-53c9-4b41-e24d-dc7990f26a29"
      },
      "outputs": [
        {
          "output_type": "stream",
          "name": "stdout",
          "text": [
            "Epoch 1/10\n",
            "204/204 [==============================] - 495s 663ms/step - loss: 205974.6562 - custom_sequence_MMD_loss: 0.0100 - mean_absolute_percentage_error: 90.6578 - val_loss: 171432.6875 - val_custom_sequence_MMD_loss: 0.0100 - val_mean_absolute_percentage_error: 81.5120\n",
            "Epoch 2/10\n",
            "204/204 [==============================] - 56s 273ms/step - loss: 145359.6406 - custom_sequence_MMD_loss: 0.0100 - mean_absolute_percentage_error: 73.3579 - val_loss: 120135.9531 - val_custom_sequence_MMD_loss: 0.0100 - val_mean_absolute_percentage_error: 65.2601\n",
            "Epoch 3/10\n",
            "204/204 [==============================] - 55s 270ms/step - loss: 101290.3203 - custom_sequence_MMD_loss: 0.0100 - mean_absolute_percentage_error: 58.3517 - val_loss: 83172.4062 - val_custom_sequence_MMD_loss: 0.0100 - val_mean_absolute_percentage_error: 51.2563\n",
            "Epoch 4/10\n",
            "204/204 [==============================] - 55s 269ms/step - loss: 69855.6406 - custom_sequence_MMD_loss: 0.0100 - mean_absolute_percentage_error: 45.7777 - val_loss: 57228.5938 - val_custom_sequence_MMD_loss: 0.0100 - val_mean_absolute_percentage_error: 40.0328\n",
            "Epoch 5/10\n",
            "204/204 [==============================] - 57s 279ms/step - loss: 48098.1797 - custom_sequence_MMD_loss: 0.0100 - mean_absolute_percentage_error: 36.0964 - val_loss: 39625.2891 - val_custom_sequence_MMD_loss: 0.0100 - val_mean_absolute_percentage_error: 31.7929\n",
            "Epoch 6/10\n",
            "204/204 [==============================] - 56s 273ms/step - loss: 33573.5547 - custom_sequence_MMD_loss: 0.0100 - mean_absolute_percentage_error: 29.0808 - val_loss: 28160.0840 - val_custom_sequence_MMD_loss: 0.0100 - val_mean_absolute_percentage_error: 26.0605\n",
            "Epoch 7/10\n",
            "204/204 [==============================] - 56s 274ms/step - loss: 24280.4746 - custom_sequence_MMD_loss: 0.0100 - mean_absolute_percentage_error: 24.3429 - val_loss: 21030.3418 - val_custom_sequence_MMD_loss: 0.0100 - val_mean_absolute_percentage_error: 22.4952\n",
            "Epoch 8/10\n",
            "204/204 [==============================] - 68s 332ms/step - loss: 18608.1836 - custom_sequence_MMD_loss: 0.0100 - mean_absolute_percentage_error: 21.4388 - val_loss: 16818.1855 - val_custom_sequence_MMD_loss: 0.0100 - val_mean_absolute_percentage_error: 20.4412\n",
            "Epoch 9/10\n",
            "204/204 [==============================] - 65s 321ms/step - loss: 15331.3564 - custom_sequence_MMD_loss: 0.0100 - mean_absolute_percentage_error: 19.7880 - val_loss: 14482.0156 - val_custom_sequence_MMD_loss: 0.0100 - val_mean_absolute_percentage_error: 19.4006\n",
            "Epoch 10/10\n",
            "204/204 [==============================] - 56s 273ms/step - loss: 13556.4111 - custom_sequence_MMD_loss: 0.0100 - mean_absolute_percentage_error: 18.9364 - val_loss: 13288.5156 - val_custom_sequence_MMD_loss: 0.0100 - val_mean_absolute_percentage_error: 19.0172\n"
          ]
        }
      ],
      "source": [
        "history_mmd, glocal_model_mmd = run_experiment(epochs=10, use_mse=True, metrics=[JointLoss().custom_sequence_MMD_loss,\n",
        "                                                                                  tf.keras.losses.mean_absolute_percentage_error])"
      ]
    },
    {
      "cell_type": "code",
      "source": [
        "history_low_learning_rate, glocal_low_learning_rate = run_experiment(epochs=15, use_mse=True,learning_rate=0.0005,\n",
        "                                                                     metrics=[JointLoss().custom_sequence_MMD_loss, \n",
        "                                                                              tf.keras.losses.mean_absolute_percentage_error])"
      ],
      "metadata": {
        "id": "vkHRFMEpaXHB",
        "colab": {
          "base_uri": "https://localhost:8080/"
        },
        "outputId": "ca615ec4-b99d-4f19-b255-eafd3dd12ed7"
      },
      "execution_count": null,
      "outputs": [
        {
          "output_type": "stream",
          "name": "stdout",
          "text": [
            "Epoch 1/15\n",
            "204/204 [==============================] - 508s 688ms/step - loss: 232722.3750 - custom_sequence_MMD_loss: 0.0100 - mean_absolute_percentage_error: 97.5425 - val_loss: 222185.7188 - val_custom_sequence_MMD_loss: 0.0100 - val_mean_absolute_percentage_error: 95.1817\n",
            "Epoch 2/15\n",
            "204/204 [==============================] - 56s 275ms/step - loss: 214970.2344 - custom_sequence_MMD_loss: 0.0100 - mean_absolute_percentage_error: 93.0554 - val_loss: 205736.5312 - val_custom_sequence_MMD_loss: 0.0100 - val_mean_absolute_percentage_error: 90.8953\n",
            "Epoch 3/15\n",
            "204/204 [==============================] - 55s 271ms/step - loss: 199166.1562 - custom_sequence_MMD_loss: 0.0100 - mean_absolute_percentage_error: 88.8794 - val_loss: 190633.7812 - val_custom_sequence_MMD_loss: 0.0100 - val_mean_absolute_percentage_error: 86.7782\n",
            "Epoch 4/15\n",
            "204/204 [==============================] - 55s 272ms/step - loss: 184554.7031 - custom_sequence_MMD_loss: 0.0100 - mean_absolute_percentage_error: 84.8329 - val_loss: 176609.2656 - val_custom_sequence_MMD_loss: 0.0100 - val_mean_absolute_percentage_error: 82.7779\n",
            "Epoch 5/15\n",
            "204/204 [==============================] - 57s 278ms/step - loss: 170966.2969 - custom_sequence_MMD_loss: 0.0100 - mean_absolute_percentage_error: 80.9081 - val_loss: 163556.3281 - val_custom_sequence_MMD_loss: 0.0100 - val_mean_absolute_percentage_error: 78.8806\n",
            "Epoch 6/15\n",
            "204/204 [==============================] - 57s 279ms/step - loss: 158307.3438 - custom_sequence_MMD_loss: 0.0100 - mean_absolute_percentage_error: 77.0799 - val_loss: 151408.1562 - val_custom_sequence_MMD_loss: 0.0100 - val_mean_absolute_percentage_error: 75.0791\n",
            "Epoch 7/15\n",
            "204/204 [==============================] - 55s 270ms/step - loss: 146525.1875 - custom_sequence_MMD_loss: 0.0100 - mean_absolute_percentage_error: 73.3434 - val_loss: 140096.4062 - val_custom_sequence_MMD_loss: 0.0100 - val_mean_absolute_percentage_error: 71.3684\n",
            "Epoch 8/15\n",
            "204/204 [==============================] - 56s 276ms/step - loss: 135561.1406 - custom_sequence_MMD_loss: 0.0100 - mean_absolute_percentage_error: 69.7049 - val_loss: 129581.9531 - val_custom_sequence_MMD_loss: 0.0100 - val_mean_absolute_percentage_error: 67.7499\n",
            "Epoch 9/15\n",
            "204/204 [==============================] - 55s 271ms/step - loss: 125370.8203 - custom_sequence_MMD_loss: 0.0100 - mean_absolute_percentage_error: 66.1570 - val_loss: 119813.8203 - val_custom_sequence_MMD_loss: 0.0100 - val_mean_absolute_percentage_error: 64.2217\n",
            "Epoch 10/15\n",
            "204/204 [==============================] - 55s 270ms/step - loss: 115911.8047 - custom_sequence_MMD_loss: 0.0100 - mean_absolute_percentage_error: 62.7157 - val_loss: 110761.0625 - val_custom_sequence_MMD_loss: 0.0100 - val_mean_absolute_percentage_error: 60.7990\n",
            "Epoch 11/15\n",
            "204/204 [==============================] - 56s 276ms/step - loss: 107145.1094 - custom_sequence_MMD_loss: 0.0100 - mean_absolute_percentage_error: 59.3836 - val_loss: 102378.7656 - val_custom_sequence_MMD_loss: 0.0100 - val_mean_absolute_percentage_error: 57.4870\n",
            "Epoch 12/15\n",
            "204/204 [==============================] - 55s 272ms/step - loss: 99038.8906 - custom_sequence_MMD_loss: 0.0100 - mean_absolute_percentage_error: 56.1696 - val_loss: 94645.6562 - val_custom_sequence_MMD_loss: 0.0100 - val_mean_absolute_percentage_error: 54.3009\n",
            "Epoch 13/15\n",
            "204/204 [==============================] - 56s 272ms/step - loss: 91559.8984 - custom_sequence_MMD_loss: 0.0100 - mean_absolute_percentage_error: 53.0907 - val_loss: 87516.0078 - val_custom_sequence_MMD_loss: 0.0100 - val_mean_absolute_percentage_error: 51.2596\n",
            "Epoch 14/15\n",
            "204/204 [==============================] - 57s 279ms/step - loss: 84679.2969 - custom_sequence_MMD_loss: 0.0100 - mean_absolute_percentage_error: 50.1581 - val_loss: 80973.3047 - val_custom_sequence_MMD_loss: 0.0100 - val_mean_absolute_percentage_error: 48.3909\n",
            "Epoch 15/15\n",
            "204/204 [==============================] - 62s 305ms/step - loss: 78370.8203 - custom_sequence_MMD_loss: 0.0100 - mean_absolute_percentage_error: 47.3890 - val_loss: 74984.5156 - val_custom_sequence_MMD_loss: 0.0100 - val_mean_absolute_percentage_error: 45.7008\n"
          ]
        }
      ]
    },
    {
      "cell_type": "code",
      "execution_count": null,
      "metadata": {
        "id": "3wKSm6QMuGuc",
        "colab": {
          "base_uri": "https://localhost:8080/"
        },
        "outputId": "e4be73cf-1c86-4ec8-d4d1-36b52558e78f"
      },
      "outputs": [
        {
          "output_type": "stream",
          "name": "stdout",
          "text": [
            "Epoch 1/10\n",
            "255/255 [==============================] - 414s 249ms/step - loss: 197403.2812 - custom_sequence_MMD_loss: 0.0100 - mean_absolute_percentage_error: 88.3660\n",
            "Epoch 2/10\n",
            "255/255 [==============================] - 63s 248ms/step - loss: 127435.2109 - custom_sequence_MMD_loss: 0.0100 - mean_absolute_percentage_error: 67.5425\n",
            "Epoch 3/10\n",
            "255/255 [==============================] - 63s 248ms/step - loss: 80680.4375 - custom_sequence_MMD_loss: 0.0100 - mean_absolute_percentage_error: 50.2697\n",
            "Epoch 4/10\n",
            "255/255 [==============================] - 64s 250ms/step - loss: 50611.1797 - custom_sequence_MMD_loss: 0.0100 - mean_absolute_percentage_error: 37.2520\n",
            "Epoch 5/10\n",
            "255/255 [==============================] - 63s 249ms/step - loss: 32317.2383 - custom_sequence_MMD_loss: 0.0100 - mean_absolute_percentage_error: 28.5100\n",
            "Epoch 6/10\n",
            "255/255 [==============================] - 63s 247ms/step - loss: 21881.8242 - custom_sequence_MMD_loss: 0.0100 - mean_absolute_percentage_error: 23.2072\n",
            "Epoch 7/10\n",
            "255/255 [==============================] - 63s 248ms/step - loss: 16363.6934 - custom_sequence_MMD_loss: 0.0100 - mean_absolute_percentage_error: 20.4176\n",
            "Epoch 8/10\n",
            "255/255 [==============================] - 63s 249ms/step - loss: 13689.2500 - custom_sequence_MMD_loss: 0.0100 - mean_absolute_percentage_error: 19.1406\n",
            "Epoch 9/10\n",
            "255/255 [==============================] - 64s 250ms/step - loss: 12545.0088 - custom_sequence_MMD_loss: 0.0100 - mean_absolute_percentage_error: 18.7035\n",
            "Epoch 10/10\n",
            "255/255 [==============================] - 68s 266ms/step - loss: 12116.4082 - custom_sequence_MMD_loss: 0.0100 - mean_absolute_percentage_error: 18.6410\n"
          ]
        }
      ],
      "source": [
        "#Running MMD with laplacian kernel\n",
        "history_laplacian, glocal_model_laplacian = run_experiment(epochs=10, use_mse=True, metrics=[JointLoss(mmd_kernel=\"laplacian\").custom_sequence_MMD_loss,\n",
        "                                                                                   tf.keras.losses.mean_absolute_percentage_error])"
      ]
    },
    {
      "cell_type": "markdown",
      "source": [
        "##Running Experiment with preprocessing"
      ],
      "metadata": {
        "id": "hQg05uuoRtEi"
      }
    },
    {
      "cell_type": "code",
      "source": [
        "history_preprocessed, glocal_model_preprocessed = run_experiment(preprocessed_sampled_dataX, preprocessed_sampled_dataY,\n",
        "                                                                 batch_size=20, dropout=0.0,\n",
        "                                                                 epochs=50, use_mse=True, metrics=[JointLoss().custom_sequence_MMD_loss,\n",
        "                                                                tf.keras.losses.mean_absolute_percentage_error], validation_split=0.0)"
      ],
      "metadata": {
        "colab": {
          "base_uri": "https://localhost:8080/"
        },
        "id": "On6oHsxuRxFS",
        "outputId": "649b7b9d-9b2f-449e-f315-57fa90653182"
      },
      "execution_count": null,
      "outputs": [
        {
          "output_type": "stream",
          "name": "stdout",
          "text": [
            "Epoch 1/50\n",
            "1276/1276 [==============================] - 166s 72ms/step - loss: 103226.2188 - custom_sequence_MMD_loss: 0.0500 - mean_absolute_percentage_error: 55.7368\n",
            "Epoch 2/50\n",
            "1276/1276 [==============================] - 92s 72ms/step - loss: 24137.4199 - custom_sequence_MMD_loss: 0.0500 - mean_absolute_percentage_error: 22.3288\n",
            "Epoch 3/50\n",
            "1276/1276 [==============================] - 91s 71ms/step - loss: 20904.3418 - custom_sequence_MMD_loss: 0.0500 - mean_absolute_percentage_error: 21.1100\n",
            "Epoch 4/50\n",
            "1276/1276 [==============================] - 92s 72ms/step - loss: 20891.6875 - custom_sequence_MMD_loss: 0.0500 - mean_absolute_percentage_error: 21.1437\n",
            "Epoch 5/50\n",
            "1276/1276 [==============================] - 90s 71ms/step - loss: 20892.7051 - custom_sequence_MMD_loss: 0.0500 - mean_absolute_percentage_error: 21.1492\n",
            "Epoch 6/50\n",
            "1276/1276 [==============================] - 91s 72ms/step - loss: 20892.3887 - custom_sequence_MMD_loss: 0.0500 - mean_absolute_percentage_error: 21.1576\n",
            "Epoch 7/50\n",
            "1276/1276 [==============================] - 91s 71ms/step - loss: 20893.9570 - custom_sequence_MMD_loss: 0.0500 - mean_absolute_percentage_error: 21.1507\n",
            "Epoch 8/50\n",
            "1276/1276 [==============================] - 92s 72ms/step - loss: 20894.3379 - custom_sequence_MMD_loss: 0.0500 - mean_absolute_percentage_error: 21.1451\n",
            "Epoch 9/50\n",
            "1276/1276 [==============================] - 88s 69ms/step - loss: 20892.3398 - custom_sequence_MMD_loss: 0.0500 - mean_absolute_percentage_error: 21.1532\n",
            "Epoch 10/50\n",
            "1276/1276 [==============================] - 89s 70ms/step - loss: 20892.7656 - custom_sequence_MMD_loss: 0.0500 - mean_absolute_percentage_error: 21.1454\n",
            "Epoch 11/50\n",
            "1276/1276 [==============================] - 87s 68ms/step - loss: 20892.8594 - custom_sequence_MMD_loss: 0.0500 - mean_absolute_percentage_error: 21.1544\n",
            "Epoch 12/50\n",
            "1276/1276 [==============================] - 88s 69ms/step - loss: 20892.6387 - custom_sequence_MMD_loss: 0.0500 - mean_absolute_percentage_error: 21.1529\n",
            "Epoch 13/50\n",
            "1276/1276 [==============================] - 79s 62ms/step - loss: 20892.6016 - custom_sequence_MMD_loss: 0.0500 - mean_absolute_percentage_error: 21.1466\n",
            "Epoch 14/50\n",
            "1276/1276 [==============================] - 84s 66ms/step - loss: 20891.5254 - custom_sequence_MMD_loss: 0.0500 - mean_absolute_percentage_error: 21.1537\n",
            "Epoch 15/50\n",
            "1276/1276 [==============================] - 81s 64ms/step - loss: 20893.5840 - custom_sequence_MMD_loss: 0.0500 - mean_absolute_percentage_error: 21.1415\n",
            "Epoch 16/50\n",
            "1276/1276 [==============================] - 82s 64ms/step - loss: 20891.6914 - custom_sequence_MMD_loss: 0.0500 - mean_absolute_percentage_error: 21.1525\n",
            "Epoch 17/50\n",
            "1276/1276 [==============================] - 80s 63ms/step - loss: 20893.8828 - custom_sequence_MMD_loss: 0.0500 - mean_absolute_percentage_error: 21.1266\n",
            "Epoch 18/50\n",
            "1276/1276 [==============================] - 81s 64ms/step - loss: 20891.4668 - custom_sequence_MMD_loss: 0.0500 - mean_absolute_percentage_error: 21.1537\n",
            "Epoch 19/50\n",
            "1276/1276 [==============================] - 84s 66ms/step - loss: 20891.4004 - custom_sequence_MMD_loss: 0.0500 - mean_absolute_percentage_error: 21.1475\n",
            "Epoch 20/50\n",
            "1276/1276 [==============================] - 82s 64ms/step - loss: 20890.9160 - custom_sequence_MMD_loss: 0.0500 - mean_absolute_percentage_error: 21.1509\n",
            "Epoch 21/50\n",
            "1276/1276 [==============================] - 84s 66ms/step - loss: 20890.1426 - custom_sequence_MMD_loss: 0.0500 - mean_absolute_percentage_error: 21.1470\n",
            "Epoch 22/50\n",
            "1276/1276 [==============================] - 83s 65ms/step - loss: 20893.1621 - custom_sequence_MMD_loss: 0.0500 - mean_absolute_percentage_error: 21.1516\n",
            "Epoch 23/50\n",
            "1276/1276 [==============================] - 83s 65ms/step - loss: 20891.1270 - custom_sequence_MMD_loss: 0.0500 - mean_absolute_percentage_error: 21.1490\n",
            "Epoch 24/50\n",
            "1276/1276 [==============================] - 82s 64ms/step - loss: 20891.0820 - custom_sequence_MMD_loss: 0.0500 - mean_absolute_percentage_error: 21.1510\n",
            "Epoch 25/50\n",
            "1276/1276 [==============================] - 82s 64ms/step - loss: 20890.9922 - custom_sequence_MMD_loss: 0.0500 - mean_absolute_percentage_error: 21.1505\n",
            "Epoch 26/50\n",
            "1276/1276 [==============================] - 81s 63ms/step - loss: 20891.9316 - custom_sequence_MMD_loss: 0.0500 - mean_absolute_percentage_error: 21.1495\n",
            "Epoch 27/50\n",
            "1276/1276 [==============================] - 81s 63ms/step - loss: 20890.8613 - custom_sequence_MMD_loss: 0.0500 - mean_absolute_percentage_error: 21.1452\n",
            "Epoch 28/50\n",
            "1276/1276 [==============================] - 82s 64ms/step - loss: 20893.4023 - custom_sequence_MMD_loss: 0.0500 - mean_absolute_percentage_error: 21.1563\n",
            "Epoch 29/50\n",
            "1276/1276 [==============================] - 80s 63ms/step - loss: 20890.4180 - custom_sequence_MMD_loss: 0.0500 - mean_absolute_percentage_error: 21.1436\n",
            "Epoch 30/50\n",
            "1276/1276 [==============================] - 80s 63ms/step - loss: 20891.4512 - custom_sequence_MMD_loss: 0.0500 - mean_absolute_percentage_error: 21.1494\n",
            "Epoch 31/50\n",
            "1276/1276 [==============================] - 81s 63ms/step - loss: 20890.2148 - custom_sequence_MMD_loss: 0.0500 - mean_absolute_percentage_error: 21.1497\n",
            "Epoch 32/50\n",
            "1276/1276 [==============================] - 80s 63ms/step - loss: 20891.4316 - custom_sequence_MMD_loss: 0.0500 - mean_absolute_percentage_error: 21.1495\n",
            "Epoch 33/50\n",
            "1276/1276 [==============================] - 80s 63ms/step - loss: 20891.1074 - custom_sequence_MMD_loss: 0.0500 - mean_absolute_percentage_error: 21.1475\n",
            "Epoch 34/50\n",
            "1276/1276 [==============================] - 83s 65ms/step - loss: 20891.1797 - custom_sequence_MMD_loss: 0.0500 - mean_absolute_percentage_error: 21.1516\n",
            "Epoch 35/50\n",
            "1276/1276 [==============================] - 78s 61ms/step - loss: 20890.7441 - custom_sequence_MMD_loss: 0.0500 - mean_absolute_percentage_error: 21.1466\n",
            "Epoch 36/50\n",
            "1276/1276 [==============================] - 76s 60ms/step - loss: 20892.6719 - custom_sequence_MMD_loss: 0.0500 - mean_absolute_percentage_error: 21.1564\n",
            "Epoch 37/50\n",
            "1276/1276 [==============================] - 79s 62ms/step - loss: 20890.1465 - custom_sequence_MMD_loss: 0.0500 - mean_absolute_percentage_error: 21.1457\n",
            "Epoch 38/50\n",
            "1276/1276 [==============================] - 78s 61ms/step - loss: 20891.5918 - custom_sequence_MMD_loss: 0.0500 - mean_absolute_percentage_error: 21.1513\n",
            "Epoch 39/50\n",
            "1276/1276 [==============================] - 77s 61ms/step - loss: 20891.3555 - custom_sequence_MMD_loss: 0.0500 - mean_absolute_percentage_error: 21.1536\n",
            "Epoch 40/50\n",
            "1276/1276 [==============================] - 76s 60ms/step - loss: 20892.0371 - custom_sequence_MMD_loss: 0.0500 - mean_absolute_percentage_error: 21.1442\n",
            "Epoch 41/50\n",
            "1276/1276 [==============================] - 76s 60ms/step - loss: 20891.4160 - custom_sequence_MMD_loss: 0.0500 - mean_absolute_percentage_error: 21.1492\n",
            "Epoch 42/50\n",
            "1276/1276 [==============================] - 76s 60ms/step - loss: 20891.0586 - custom_sequence_MMD_loss: 0.0500 - mean_absolute_percentage_error: 21.1541\n",
            "Epoch 43/50\n",
            "1276/1276 [==============================] - 76s 60ms/step - loss: 20891.2246 - custom_sequence_MMD_loss: 0.0500 - mean_absolute_percentage_error: 21.1514\n",
            "Epoch 44/50\n",
            "1276/1276 [==============================] - 76s 60ms/step - loss: 20891.5762 - custom_sequence_MMD_loss: 0.0500 - mean_absolute_percentage_error: 21.1494\n",
            "Epoch 45/50\n",
            "1276/1276 [==============================] - 76s 60ms/step - loss: 20891.7246 - custom_sequence_MMD_loss: 0.0500 - mean_absolute_percentage_error: 21.1478\n",
            "Epoch 46/50\n",
            "1276/1276 [==============================] - 76s 59ms/step - loss: 20847.0254 - custom_sequence_MMD_loss: 0.0500 - mean_absolute_percentage_error: 21.1327\n",
            "Epoch 47/50\n",
            "1276/1276 [==============================] - 76s 59ms/step - loss: 16845.7969 - custom_sequence_MMD_loss: 0.0500 - mean_absolute_percentage_error: 20.0179\n",
            "Epoch 48/50\n",
            "1276/1276 [==============================] - 75s 59ms/step - loss: 16451.6895 - custom_sequence_MMD_loss: 0.0500 - mean_absolute_percentage_error: 19.8705\n",
            "Epoch 49/50\n",
            "1276/1276 [==============================] - 76s 59ms/step - loss: 16452.8984 - custom_sequence_MMD_loss: 0.0500 - mean_absolute_percentage_error: 19.8726\n",
            "Epoch 50/50\n",
            "1276/1276 [==============================] - 77s 60ms/step - loss: 16452.3418 - custom_sequence_MMD_loss: 0.0500 - mean_absolute_percentage_error: 19.8677\n"
          ]
        }
      ]
    },
    {
      "cell_type": "code",
      "source": [
        "history_interpolation_only, glocal_interpolation_only = run_experiment(preprocessed_sampled_dataX, preprocessed_sampled_dataY,\n",
        "                                                                 batch_size=20, dropout=0.0, exclude_locgen=True,\n",
        "                                                                 epochs=50, use_mse=True, metrics=[JointLoss().custom_sequence_MMD_loss,\n",
        "                                                                tf.keras.losses.mean_absolute_percentage_error], validation_split=0.0)"
      ],
      "metadata": {
        "colab": {
          "base_uri": "https://localhost:8080/"
        },
        "id": "zDY6p981x_s3",
        "outputId": "a0d804dd-fe9b-4534-9fa8-aa22b2ec7f4d"
      },
      "execution_count": null,
      "outputs": [
        {
          "output_type": "stream",
          "name": "stdout",
          "text": [
            "Epoch 1/50\n",
            "1276/1276 [==============================] - 141s 59ms/step - loss: 110383.3906 - custom_sequence_MMD_loss: 0.0500 - mean_absolute_percentage_error: 58.7814\n",
            "Epoch 2/50\n",
            "1276/1276 [==============================] - 74s 58ms/step - loss: 35301.2734 - custom_sequence_MMD_loss: 0.0500 - mean_absolute_percentage_error: 27.5795\n",
            "Epoch 3/50\n",
            "1276/1276 [==============================] - 74s 58ms/step - loss: 32216.2832 - custom_sequence_MMD_loss: 0.0500 - mean_absolute_percentage_error: 26.4099\n",
            "Epoch 4/50\n",
            "1276/1276 [==============================] - 74s 58ms/step - loss: 32205.5293 - custom_sequence_MMD_loss: 0.0500 - mean_absolute_percentage_error: 26.4392\n",
            "Epoch 5/50\n",
            "1276/1276 [==============================] - 75s 59ms/step - loss: 32207.2930 - custom_sequence_MMD_loss: 0.0500 - mean_absolute_percentage_error: 26.4488\n",
            "Epoch 6/50\n",
            "1276/1276 [==============================] - 73s 57ms/step - loss: 32206.7930 - custom_sequence_MMD_loss: 0.0500 - mean_absolute_percentage_error: 26.4467\n",
            "Epoch 7/50\n",
            "1276/1276 [==============================] - 73s 57ms/step - loss: 32208.0723 - custom_sequence_MMD_loss: 0.0500 - mean_absolute_percentage_error: 26.4365\n",
            "Epoch 8/50\n",
            "1276/1276 [==============================] - 74s 58ms/step - loss: 32208.6699 - custom_sequence_MMD_loss: 0.0500 - mean_absolute_percentage_error: 26.4471\n",
            "Epoch 9/50\n",
            "1276/1276 [==============================] - 79s 61ms/step - loss: 31052.4609 - custom_sequence_MMD_loss: 0.0500 - mean_absolute_percentage_error: 25.7580\n",
            "Epoch 10/50\n",
            "1276/1276 [==============================] - 71s 55ms/step - loss: 17402.7324 - custom_sequence_MMD_loss: 0.0500 - mean_absolute_percentage_error: 19.2080\n",
            "Epoch 11/50\n",
            "1276/1276 [==============================] - 71s 56ms/step - loss: 11134.5576 - custom_sequence_MMD_loss: 0.0500 - mean_absolute_percentage_error: 16.0893\n",
            "Epoch 12/50\n",
            "1276/1276 [==============================] - 75s 59ms/step - loss: 9938.0078 - custom_sequence_MMD_loss: 0.0500 - mean_absolute_percentage_error: 14.7238\n",
            "Epoch 13/50\n",
            "1276/1276 [==============================] - 76s 60ms/step - loss: 9018.7461 - custom_sequence_MMD_loss: 0.0500 - mean_absolute_percentage_error: 13.2362\n",
            "Epoch 14/50\n",
            "1276/1276 [==============================] - 75s 59ms/step - loss: 6610.1406 - custom_sequence_MMD_loss: 0.0500 - mean_absolute_percentage_error: 11.7061\n",
            "Epoch 15/50\n",
            "1276/1276 [==============================] - 77s 60ms/step - loss: 5734.7432 - custom_sequence_MMD_loss: 0.0500 - mean_absolute_percentage_error: 11.0053\n",
            "Epoch 16/50\n",
            "1276/1276 [==============================] - 76s 60ms/step - loss: 5612.8594 - custom_sequence_MMD_loss: 0.0500 - mean_absolute_percentage_error: 10.8247\n",
            "Epoch 17/50\n",
            "1276/1276 [==============================] - 77s 60ms/step - loss: 5456.1230 - custom_sequence_MMD_loss: 0.0500 - mean_absolute_percentage_error: 10.5986\n",
            "Epoch 18/50\n",
            "1276/1276 [==============================] - 78s 61ms/step - loss: 3430.4412 - custom_sequence_MMD_loss: 0.0059 - mean_absolute_percentage_error: 9.3402\n",
            "Epoch 19/50\n",
            "1276/1276 [==============================] - 77s 60ms/step - loss: 2807.2917 - custom_sequence_MMD_loss: 0.0000e+00 - mean_absolute_percentage_error: 8.8020\n",
            "Epoch 20/50\n",
            "1276/1276 [==============================] - 79s 62ms/step - loss: 2728.2947 - custom_sequence_MMD_loss: 0.0000e+00 - mean_absolute_percentage_error: 8.6634\n",
            "Epoch 21/50\n",
            "1276/1276 [==============================] - 78s 61ms/step - loss: 2608.4736 - custom_sequence_MMD_loss: 0.0000e+00 - mean_absolute_percentage_error: 8.4890\n",
            "Epoch 22/50\n",
            "1276/1276 [==============================] - 75s 59ms/step - loss: 2509.5115 - custom_sequence_MMD_loss: 0.0000e+00 - mean_absolute_percentage_error: 8.3174\n",
            "Epoch 23/50\n",
            "1276/1276 [==============================] - 74s 58ms/step - loss: 2456.7878 - custom_sequence_MMD_loss: 0.0000e+00 - mean_absolute_percentage_error: 8.2158\n",
            "Epoch 24/50\n",
            "1276/1276 [==============================] - 74s 58ms/step - loss: 2400.3535 - custom_sequence_MMD_loss: 0.0000e+00 - mean_absolute_percentage_error: 8.0894\n",
            "Epoch 25/50\n",
            "1276/1276 [==============================] - 74s 58ms/step - loss: 2341.5864 - custom_sequence_MMD_loss: 0.0000e+00 - mean_absolute_percentage_error: 7.9903\n",
            "Epoch 26/50\n",
            "1276/1276 [==============================] - 73s 57ms/step - loss: 2347.4827 - custom_sequence_MMD_loss: 0.0000e+00 - mean_absolute_percentage_error: 7.9664\n",
            "Epoch 27/50\n",
            "1276/1276 [==============================] - 75s 58ms/step - loss: 2280.2651 - custom_sequence_MMD_loss: 0.0000e+00 - mean_absolute_percentage_error: 7.8612\n",
            "Epoch 28/50\n",
            "1276/1276 [==============================] - 75s 59ms/step - loss: 2234.0859 - custom_sequence_MMD_loss: 0.0000e+00 - mean_absolute_percentage_error: 7.7568\n",
            "Epoch 29/50\n",
            "1276/1276 [==============================] - 78s 61ms/step - loss: 2178.2563 - custom_sequence_MMD_loss: 0.0000e+00 - mean_absolute_percentage_error: 7.6225\n",
            "Epoch 30/50\n",
            "1276/1276 [==============================] - 79s 62ms/step - loss: 2167.1228 - custom_sequence_MMD_loss: 0.0000e+00 - mean_absolute_percentage_error: 7.6043\n",
            "Epoch 31/50\n",
            "1276/1276 [==============================] - 79s 62ms/step - loss: 2118.1819 - custom_sequence_MMD_loss: 0.0000e+00 - mean_absolute_percentage_error: 7.5015\n",
            "Epoch 32/50\n",
            "1276/1276 [==============================] - 79s 62ms/step - loss: 2099.0730 - custom_sequence_MMD_loss: 0.0000e+00 - mean_absolute_percentage_error: 7.4640\n",
            "Epoch 33/50\n",
            "1276/1276 [==============================] - 78s 61ms/step - loss: 2079.8726 - custom_sequence_MMD_loss: 0.0000e+00 - mean_absolute_percentage_error: 7.4219\n",
            "Epoch 34/50\n",
            "1276/1276 [==============================] - 79s 62ms/step - loss: 2054.1216 - custom_sequence_MMD_loss: 0.0000e+00 - mean_absolute_percentage_error: 7.3609\n",
            "Epoch 35/50\n",
            "1276/1276 [==============================] - 80s 63ms/step - loss: 2029.0934 - custom_sequence_MMD_loss: 0.0000e+00 - mean_absolute_percentage_error: 7.3138\n",
            "Epoch 36/50\n",
            "1276/1276 [==============================] - 79s 62ms/step - loss: 2025.1219 - custom_sequence_MMD_loss: 0.0000e+00 - mean_absolute_percentage_error: 7.3075\n",
            "Epoch 37/50\n",
            "1276/1276 [==============================] - 81s 63ms/step - loss: 2004.4445 - custom_sequence_MMD_loss: 0.0000e+00 - mean_absolute_percentage_error: 7.2750\n",
            "Epoch 38/50\n",
            "1276/1276 [==============================] - 78s 61ms/step - loss: 1980.0215 - custom_sequence_MMD_loss: 0.0000e+00 - mean_absolute_percentage_error: 7.2169\n",
            "Epoch 39/50\n",
            "1276/1276 [==============================] - 80s 62ms/step - loss: 1973.3044 - custom_sequence_MMD_loss: 0.0000e+00 - mean_absolute_percentage_error: 7.2060\n",
            "Epoch 40/50\n",
            "1276/1276 [==============================] - 79s 62ms/step - loss: 1955.3142 - custom_sequence_MMD_loss: 0.0000e+00 - mean_absolute_percentage_error: 7.1663\n",
            "Epoch 41/50\n",
            "1276/1276 [==============================] - 79s 62ms/step - loss: 1924.5496 - custom_sequence_MMD_loss: 0.0000e+00 - mean_absolute_percentage_error: 7.1028\n",
            "Epoch 42/50\n",
            "1276/1276 [==============================] - 80s 63ms/step - loss: 1909.6586 - custom_sequence_MMD_loss: 0.0000e+00 - mean_absolute_percentage_error: 7.0678\n",
            "Epoch 43/50\n",
            "1276/1276 [==============================] - 80s 62ms/step - loss: 1906.1503 - custom_sequence_MMD_loss: 0.0000e+00 - mean_absolute_percentage_error: 7.0604\n",
            "Epoch 44/50\n",
            "1276/1276 [==============================] - 81s 64ms/step - loss: 1873.4423 - custom_sequence_MMD_loss: 0.0000e+00 - mean_absolute_percentage_error: 7.0053\n",
            "Epoch 45/50\n",
            "1276/1276 [==============================] - 80s 63ms/step - loss: 1865.8287 - custom_sequence_MMD_loss: 0.0000e+00 - mean_absolute_percentage_error: 6.9831\n",
            "Epoch 46/50\n",
            "1276/1276 [==============================] - 81s 63ms/step - loss: 1845.3713 - custom_sequence_MMD_loss: 0.0000e+00 - mean_absolute_percentage_error: 6.9450\n",
            "Epoch 47/50\n",
            "1276/1276 [==============================] - 79s 62ms/step - loss: 1824.6331 - custom_sequence_MMD_loss: 0.0000e+00 - mean_absolute_percentage_error: 6.8967\n",
            "Epoch 48/50\n",
            "1276/1276 [==============================] - 78s 61ms/step - loss: 1813.9498 - custom_sequence_MMD_loss: 0.0000e+00 - mean_absolute_percentage_error: 6.8666\n",
            "Epoch 49/50\n",
            "1276/1276 [==============================] - 79s 62ms/step - loss: 1812.5973 - custom_sequence_MMD_loss: 0.0000e+00 - mean_absolute_percentage_error: 6.8693\n",
            "Epoch 50/50\n",
            "1276/1276 [==============================] - 78s 61ms/step - loss: 1782.2324 - custom_sequence_MMD_loss: 0.0000e+00 - mean_absolute_percentage_error: 6.8044\n"
          ]
        }
      ]
    },
    {
      "cell_type": "code",
      "source": [
        "predictions = glocal_interpolation_only(sampled_dataX[:1000])"
      ],
      "metadata": {
        "id": "twUcXJOzrSSF"
      },
      "execution_count": null,
      "outputs": []
    },
    {
      "cell_type": "code",
      "source": [
        "predictions_sum = np.sum(np.reshape(predictions, (1000, 50*64)), axis=1)"
      ],
      "metadata": {
        "id": "Ce3ilE9P2CuD"
      },
      "execution_count": null,
      "outputs": []
    },
    {
      "cell_type": "code",
      "source": [
        "plt.plot(np.arange(0,1000), predictions_sum)"
      ],
      "metadata": {
        "colab": {
          "base_uri": "https://localhost:8080/",
          "height": 293
        },
        "id": "KIDvGYUVtTYx",
        "outputId": "0499b3da-6ea3-45fd-fac1-df036a72524a"
      },
      "execution_count": null,
      "outputs": [
        {
          "output_type": "execute_result",
          "data": {
            "text/plain": [
              "[<matplotlib.lines.Line2D at 0x7fb8d21090d0>]"
            ]
          },
          "metadata": {},
          "execution_count": 64
        },
        {
          "output_type": "display_data",
          "data": {
            "text/plain": [
              "<Figure size 432x288 with 1 Axes>"
            ],
            "image/png": "[encoded data removed]"
          },
          "metadata": {
            "needs_background": "light"
          }
        }
      ]
    },
    {
      "cell_type": "code",
      "source": [
        "mse = tf.keras.losses.mean_squared_error"
      ],
      "metadata": {
        "id": "zz_bB_9cYo2W"
      },
      "execution_count": null,
      "outputs": []
    },
    {
      "cell_type": "code",
      "source": [
        "plt.pl"
      ],
      "metadata": {
        "id": "6ZiroMTpvyhP"
      },
      "execution_count": null,
      "outputs": []
    },
    {
      "cell_type": "code",
      "source": [
        "predictions[20, 49]"
      ],
      "metadata": {
        "colab": {
          "base_uri": "https://localhost:8080/"
        },
        "id": "DePBtlZo2eH4",
        "outputId": "fe632b29-c54f-4917-a8e8-86050fa12014"
      },
      "execution_count": null,
      "outputs": [
        {
          "output_type": "execute_result",
          "data": {
            "text/plain": [
              "<tf.Tensor: shape=(64,), dtype=float32, numpy=\n",
              "array([331.61377, 342.0508 , 306.89346, 341.13757, 313.0569 , 411.27042,\n",
              "       335.07977, 470.82068, 334.46423, 481.72702, 332.0476 , 482.7702 ,\n",
              "       356.9006 , 344.98157, 350.715  , 421.1177 , 363.5104 , 483.12622,\n",
              "       361.35007, 494.30164, 358.9537 , 495.31927, 331.22574, 343.5066 ,\n",
              "       325.4273 , 293.38205, 316.54694, 244.82776, 311.11917, 232.46948,\n",
              "       307.3178 , 212.47342, 317.18335, 244.44084, 345.10678, 255.69342,\n",
              "       363.2992 , 284.75778, 336.17474, 276.68   , 336.4658 , 277.30698,\n",
              "       331.31744, 269.54764, 330.53067, 268.93393, 331.1772 , 269.7399 ,\n",
              "       317.08914, 245.1553 , 292.69614, 246.87712, 276.51407, 254.45528,\n",
              "       283.7733 , 212.46138, 283.797  , 212.99539, 284.31198, 208.70956,\n",
              "       278.86697, 185.01717, 279.21387, 184.78568], dtype=float32)>"
            ]
          },
          "metadata": {},
          "execution_count": 77
        }
      ]
    },
    {
      "cell_type": "code",
      "source": [
        "sampled_dataY[20,49]"
      ],
      "metadata": {
        "colab": {
          "base_uri": "https://localhost:8080/"
        },
        "id": "3axSdTYG2svm",
        "outputId": "84b48e61-3abb-476c-9efe-a1a4b484a77c"
      },
      "execution_count": null,
      "outputs": [
        {
          "output_type": "execute_result",
          "data": {
            "text/plain": [
              "array([498.604 , 440.8677, 516.5279, 437.589 , 516.6267, 534.8171,\n",
              "       524.4138, 633.6529, 500.6313, 634.5847, 490.1004, 630.0981,\n",
              "       479.9355, 444.2901, 485.037 , 543.6649, 495.4914, 644.5163,\n",
              "       477.1306, 640.0597, 468.7667, 635.347 , 498.6013, 440.8454,\n",
              "       513.3393, 390.6767, 519.0526, 333.6856, 510.002 , 314.2453,\n",
              "       514.1255, 289.2972, 519.0526, 333.6856, 508.132 , 350.7095,\n",
              "       492.3096, 403.0401, 442.7956, 367.246 , 442.7956, 367.246 ,\n",
              "       439.7667, 351.2053, 424.2761, 356.8705, 424.2761, 356.8705,\n",
              "       519.0526, 333.6856, 531.2093, 337.6028, 502.8679, 313.5227,\n",
              "       464.7892, 287.6596, 464.7892, 287.6596, 447.3541, 292.1199,\n",
              "       449.4048, 270.7354, 449.4048, 270.7354], dtype=float32)"
            ]
          },
          "metadata": {},
          "execution_count": 76
        }
      ]
    },
    {
      "cell_type": "code",
      "source": [
        "predictions[0,20]"
      ],
      "metadata": {
        "colab": {
          "base_uri": "https://localhost:8080/"
        },
        "id": "VtvRxsBQ2mcX",
        "outputId": "0fa47d39-b36a-4de0-ba4d-268a18676c20"
      },
      "execution_count": null,
      "outputs": [
        {
          "output_type": "execute_result",
          "data": {
            "text/plain": [
              "<tf.Tensor: shape=(64,), dtype=float32, numpy=\n",
              "array([443.58624, 369.5602 , 442.23962, 367.2112 , 439.67337, 439.1234 ,\n",
              "       439.26096, 513.185  , 439.73978, 519.701  , 440.11786, 521.55237,\n",
              "       440.64777,   0.     , 438.39886, 440.63422, 438.5919 ,   0.     ,\n",
              "       440.1264 , 473.18774, 441.13992,   0.     ,   0.     , 370.99512,\n",
              "       442.1821 ,   0.     , 440.93433, 275.13818, 444.66776, 261.7531 ,\n",
              "       444.07687, 241.81474, 441.33365, 274.4613 , 440.67145, 285.65732,\n",
              "       437.76538, 326.78577, 439.63312, 341.17798, 439.83072, 333.09637,\n",
              "       442.03882, 336.001  , 441.0297 ,   0.     , 436.82785, 344.29208,\n",
              "       442.54062, 274.3468 , 441.92145, 286.24762, 440.9555 , 329.27298,\n",
              "       440.2855 , 332.70413, 442.79596, 333.49255, 440.80023, 324.20325,\n",
              "       441.44162, 333.43457, 436.45276, 322.73215], dtype=float32)>"
            ]
          },
          "metadata": {},
          "execution_count": 58
        }
      ]
    },
    {
      "cell_type": "code",
      "source": [
        "predictions_sum"
      ],
      "metadata": {
        "colab": {
          "base_uri": "https://localhost:8080/"
        },
        "id": "KlbzBryCtvUn",
        "outputId": "4c95fd16-4af5-42eb-acf7-5c83ff21c563"
      },
      "execution_count": null,
      "outputs": [
        {
          "output_type": "execute_result",
          "data": {
            "text/plain": [
              "array([1160054.2 , 1139419.5 , 1139419.5 , 1139156.6 , 1139419.5 ,\n",
              "       1139419.5 , 1169055.8 , 1190666.  , 1175398.5 , 1173626.1 ,\n",
              "       1173626.1 , 1190746.9 , 1191585.5 , 1174099.8 , 1178801.2 ,\n",
              "       1173499.9 , 1173986.  , 1139419.5 , 1173886.  , 1163687.2 ,\n",
              "       1155465.2 , 1162337.9 , 1175908.  , 1149197.6 , 1173986.2 ,\n",
              "       1174099.8 , 1157047.2 , 1157047.2 , 1157047.2 , 1157047.2 ,\n",
              "       1157047.2 , 1157047.2 , 1157047.2 , 1165152.  , 1157047.2 ,\n",
              "       1171234.  , 1204183.5 , 1200475.1 , 1174860.6 , 1157047.2 ,\n",
              "       1157059.5 , 1191921.9 , 1191548.  , 1191921.9 , 1154890.8 ,\n",
              "       1171015.9 , 1156491.4 , 1156489.6 , 1156603.8 , 1157047.2 ,\n",
              "       1177176.5 , 1172458.4 , 1227210.5 , 1194433.4 , 1168862.  ,\n",
              "       1166813.8 , 1194276.  , 1194272.2 , 1168856.5 , 1180656.4 ,\n",
              "       1166873.  , 1182095.8 , 1180682.2 , 1180681.9 , 1208876.8 ,\n",
              "       1223079.4 , 1221949.2 , 1169363.5 , 1165725.2 , 1166026.4 ,\n",
              "       1166936.8 , 1180913.4 , 1180741.6 , 1180963.8 , 1178053.1 ,\n",
              "       1182199.8 , 1226943.  , 1227210.8 , 1227210.5 , 1223565.  ,\n",
              "       1200488.9 , 1180570.8 , 1184322.6 , 1167174.8 , 1180656.2 ,\n",
              "       1180656.2 , 1180656.2 , 1180681.9 , 1180658.1 , 1166950.  ,\n",
              "       1215177.  , 1205493.2 , 1187219.2 , 1180684.8 , 1180681.8 ,\n",
              "       1200090.5 , 1200313.1 , 1165312.9 , 1180559.6 , 1165669.  ,\n",
              "       1227210.5 , 1160054.2 , 1153998.6 , 1173986.  , 1173986.  ,\n",
              "       1173986.  , 1164505.  , 1190398.2 , 1190398.2 , 1190398.2 ,\n",
              "       1174087.6 , 1173626.1 , 1163687.2 , 1159395.2 , 1170008.5 ,\n",
              "       1171571.8 , 1191745.5 , 1174102.5 , 1169997.2 , 1186879.  ,\n",
              "       1173986.2 , 1174099.8 , 1174099.8 , 1161386.2 , 1175394.8 ,\n",
              "       1161286.2 , 1165686.2 , 1161295.  , 1175394.8 , 1175394.8 ,\n",
              "       1160170.8 , 1172670.4 , 1165583.2 , 1161279.6 , 1161279.6 ,\n",
              "       1172779.8 , 1168386.8 , 1160170.8 , 1160170.8 , 1160170.8 ,\n",
              "       1160170.8 , 1160054.2 , 1165434.4 , 1163687.2 , 1158679.8 ,\n",
              "       1164354.5 , 1160265.5 , 1165921.5 , 1160170.8 , 1160170.8 ,\n",
              "       1174898.6 , 1174099.8 , 1174099.8 , 1169157.1 , 1174099.8 ,\n",
              "       1160170.8 , 1174082.8 , 1174099.8 , 1176660.5 , 1167156.  ,\n",
              "       1173995.2 , 1160171.8 , 1172583.2 , 1174099.8 , 1174020.8 ,\n",
              "       1160170.8 , 1172779.2 , 1172779.8 , 1172779.8 , 1172780.  ,\n",
              "       1172779.8 , 1160170.8 , 1172779.8 , 1160170.8 , 1160170.8 ,\n",
              "       1172779.8 , 1171724.8 , 1174599.4 , 1160170.8 , 1162864.5 ,\n",
              "       1161197.8 , 1174099.  , 1161401.6 , 1139419.6 , 1139419.8 ,\n",
              "       1169806.5 , 1142997.9 , 1159550.4 , 1171004.2 , 1171004.2 ,\n",
              "       1159047.5 , 1171004.2 , 1171004.2 , 1195546.  , 1157429.5 ,\n",
              "       1190399.2 , 1205861.  , 1201097.2 , 1196531.5 , 1165444.5 ,\n",
              "       1171004.5 , 1180020.5 , 1171004.2 , 1164324.8 , 1158751.  ,\n",
              "       1169028.2 , 1170008.5 , 1167745.  , 1171570.1 , 1170008.5 ,\n",
              "       1171004.2 , 1171004.2 , 1171004.2 , 1191745.5 , 1178115.1 ,\n",
              "       1178115.1 , 1178115.2 , 1191745.5 , 1191745.5 , 1178115.1 ,\n",
              "       1177275.9 , 1178118.5 , 1178115.1 , 1178115.1 , 1171513.2 ,\n",
              "       1176727.9 , 1167515.5 , 1166346.9 , 1183403.  , 1189296.9 ,\n",
              "       1177725.8 , 1179903.9 , 1170622.2 , 1157252.4 , 1157086.1 ,\n",
              "       1166346.8 , 1177297.8 , 1166415.8 , 1178115.  , 1177289.8 ,\n",
              "       1177275.9 , 1177275.9 , 1177406.2 , 1191745.5 , 1177451.1 ,\n",
              "       1177275.9 , 1177475.5 , 1177275.9 , 1191744.8 , 1177276.  ,\n",
              "       1177275.9 , 1191492.8 , 1177344.  , 1177277.8 , 1166173.4 ,\n",
              "       1177359.5 , 1177276.  , 1177275.9 , 1177276.2 , 1177275.9 ,\n",
              "       1177275.9 , 1180221.6 , 1169862.9 , 1177605.5 , 1177275.9 ,\n",
              "       1189296.9 , 1173970.6 , 1189296.9 , 1177275.9 , 1177275.9 ,\n",
              "       1178152.2 , 1177276.  , 1166347.1 , 1177551.1 , 1185625.2 ,\n",
              "       1177275.9 , 1157593.8 , 1172149.6 , 1171004.2 , 1171004.2 ,\n",
              "       1171004.2 , 1159091.2 , 1185953.1 , 1185953.1 , 1212411.4 ,\n",
              "       1203061.  , 1197337.  , 1171504.  , 1098735.5 , 1073549.2 ,\n",
              "       1060698.  , 1182922.5 , 1170008.5 , 1184414.8 , 1181292.5 ,\n",
              "       1172568.4 , 1200775.2 , 1171237.1 , 1182003.5 , 1164859.4 ,\n",
              "       1166590.8 , 1178115.  , 1157048.9 , 1178114.8 , 1157047.2 ,\n",
              "       1182123.9 , 1203795.4 , 1198148.4 , 1203293.  , 1203293.  ,\n",
              "       1156489.6 , 1177442.4 , 1177434.5 , 1159581.  , 1176297.8 ,\n",
              "       1178187.5 , 1177633.9 , 1177287.  , 1194755.  , 1190398.2 ,\n",
              "       1178001.9 , 1190213.  , 1173628.5 , 1163687.2 , 1163687.2 ,\n",
              "       1173099.6 , 1163687.2 , 1163687.2 , 1185076.5 , 1181683.5 ,\n",
              "       1181683.5 , 1190398.2 , 1163687.2 , 1163683.  , 1174540.2 ,\n",
              "       1163687.8 , 1181819.5 , 1168073.5 , 1190284.5 , 1163693.4 ,\n",
              "       1130942.  , 1098573.8 , 1163687.2 , 1163689.8 , 1163687.1 ,\n",
              "       1163676.6 , 1174175.2 , 1098585.6 , 1098540.8 , 1130942.  ,\n",
              "       1130942.  , 1098573.8 , 1098573.8 , 1098573.8 , 1098573.8 ,\n",
              "       1130942.  , 1130942.  , 1163687.2 , 1162677.5 , 1130942.  ,\n",
              "       1130942.  , 1163687.2 , 1130942.  , 1163964.8 , 1163687.2 ,\n",
              "       1163687.2 , 1165055.8 , 1097989.4 , 1165431.2 , 1163687.2 ,\n",
              "       1163687.2 , 1163869.6 , 1129070.6 , 1129070.6 , 1129094.  ,\n",
              "       1163703.4 , 1131001.8 , 1111912.4 , 1098573.8 , 1098613.9 ,\n",
              "       1103820.2 , 1098782.4 , 1097846.1 , 1097991.  , 1085763.4 ,\n",
              "       1095205.6 , 1187374.1 , 1187374.1 , 1187374.1 , 1187374.1 ,\n",
              "       1187374.1 , 1187374.1 , 1214263.1 , 1195436.  , 1187374.1 ,\n",
              "       1187372.8 , 1187319.8 , 1199781.8 , 1213295.  , 1215290.  ,\n",
              "       1200374.8 , 1193846.1 , 1208547.2 , 1215290.  , 1187374.1 ,\n",
              "       1187374.1 , 1187374.1 , 1187374.1 , 1187374.1 , 1187374.1 ,\n",
              "       1211883.9 , 1215290.  , 1187374.1 , 1187374.1 , 1187374.1 ,\n",
              "       1187374.1 , 1187374.1 , 1187374.1 , 1187374.1 , 1187374.1 ,\n",
              "       1187374.1 , 1187374.1 , 1187374.1 , 1187406.9 , 1187374.1 ,\n",
              "       1187374.1 , 1187374.1 , 1213996.5 , 1187372.9 , 1187335.  ,\n",
              "       1187374.1 , 1187285.8 , 1187275.5 , 1202614.8 , 1199945.2 ,\n",
              "       1215177.5 , 1215181.4 , 1187373.9 , 1215310.5 , 1187374.1 ,\n",
              "       1215290.  , 1202375.8 , 1205364.5 , 1196968.5 , 1215290.  ,\n",
              "       1187374.1 , 1187374.1 , 1200938.8 , 1187374.1 , 1172655.  ,\n",
              "       1167045.2 , 1175730.8 , 1184620.2 , 1186930.5 , 1191745.5 ,\n",
              "       1186879.  , 1174176.4 , 1174099.8 , 1173103.5 , 1178713.  ,\n",
              "       1191745.5 , 1174099.8 , 1179217.4 , 1174164.9 , 1172654.1 ,\n",
              "       1175407.4 , 1178016.4 , 1177275.9 , 1177276.5 , 1177275.9 ,\n",
              "       1191744.5 , 1191745.5 , 1177684.5 , 1191743.8 , 1191798.  ,\n",
              "       1177598.5 , 1177275.9 , 1177275.9 , 1178136.1 , 1178115.  ,\n",
              "       1178115.1 , 1172076.2 , 1166346.8 , 1177275.9 , 1177450.2 ,\n",
              "       1177428.5 , 1177275.9 , 1177275.9 , 1177508.6 , 1177275.9 ,\n",
              "       1181821.2 , 1177450.  , 1189686.9 , 1191745.5 , 1196038.9 ,\n",
              "       1172654.1 , 1177432.8 , 1191745.5 , 1191745.5 , 1191745.5 ,\n",
              "       1191742.1 , 1191745.5 , 1191745.5 , 1177286.4 , 1177276.  ,\n",
              "       1177275.9 , 1177275.9 , 1177276.8 , 1177275.9 , 1178117.5 ,\n",
              "       1178115.  , 1178752.2 , 1181730.  , 1227210.5 , 1215257.4 ,\n",
              "       1210983.4 , 1187374.1 , 1194786.2 , 1180550.6 , 1180552.8 ,\n",
              "       1193451.  , 1194215.9 , 1195985.1 , 1215177.2 , 1187374.1 ,\n",
              "       1187374.1 , 1207511.  , 1193303.5 , 1227211.  , 1187374.1 ,\n",
              "       1187374.1 , 1215290.  , 1187374.1 , 1193007.4 , 1185686.2 ,\n",
              "       1181680.5 , 1187373.  , 1182115.  , 1187373.2 , 1215290.  ,\n",
              "       1201143.9 , 1215290.  , 1200920.1 , 1200920.1 , 1200920.9 ,\n",
              "       1200920.5 , 1201303.5 , 1200931.9 , 1187374.1 , 1187430.5 ,\n",
              "       1205430.1 , 1201793.8 , 1215290.  , 1215290.  , 1194682.5 ,\n",
              "       1187374.1 , 1200897.8 , 1187374.1 , 1214594.4 , 1222271.8 ,\n",
              "       1187374.5 , 1187374.1 , 1187374.1 , 1187374.1 , 1187374.1 ,\n",
              "       1187374.1 , 1187373.6 , 1187302.8 , 1187309.5 , 1201872.6 ,\n",
              "       1201978.2 , 1201157.5 , 1215230.2 , 1187374.1 , 1214512.2 ,\n",
              "       1187374.1 , 1187601.2 , 1120318.1 , 1098460.1 , 1098540.8 ,\n",
              "       1089791.8 , 1129070.6 , 1105616.2 , 1098470.2 , 1112125.4 ,\n",
              "       1097993.5 , 1076340.2 , 1083243.  , 1098086.8 , 1096928.9 ,\n",
              "       1098458.8 , 1098486.4 , 1130942.  , 1099947.6 , 1104265.2 ,\n",
              "       1098209.2 ,  981341.6 ,  982382.25,  982382.25, 1098573.8 ,\n",
              "       1098616.2 , 1098458.8 , 1104346.5 , 1098573.8 , 1129070.6 ,\n",
              "       1099238.4 , 1143789.2 , 1163687.2 , 1163687.2 , 1129070.6 ,\n",
              "       1163687.2 , 1129070.5 , 1163870.2 , 1140784.5 , 1130942.1 ,\n",
              "       1163687.2 , 1129070.9 , 1098573.8 , 1097848.8 , 1135685.5 ,\n",
              "       1130942.1 , 1098440.  , 1130942.  , 1130942.  , 1104422.  ,\n",
              "       1130942.  , 1112715.2 , 1115106.1 , 1098121.  , 1147609.4 ,\n",
              "       1163687.2 , 1163687.2 , 1162168.  , 1144467.8 , 1152756.1 ,\n",
              "       1141978.8 , 1098017.5 , 1098536.4 , 1104003.8 , 1098001.2 ,\n",
              "       1166346.8 , 1178589.1 , 1177276.  , 1166346.8 , 1178419.  ,\n",
              "       1178115.1 , 1178101.  , 1178053.1 , 1178114.5 , 1178114.5 ,\n",
              "       1166346.8 , 1180598.9 , 1177278.2 , 1172654.1 , 1183238.1 ,\n",
              "       1172654.1 , 1177442.4 , 1177442.4 , 1172779.8 , 1177442.4 ,\n",
              "       1166362.2 , 1178616.4 , 1177275.9 , 1166346.8 , 1177719.6 ,\n",
              "       1176123.8 , 1170710.4 , 1173306.  , 1172779.8 , 1161330.6 ,\n",
              "       1172779.8 , 1172779.8 , 1161280.1 , 1177275.9 , 1161279.6 ,\n",
              "       1177433.  , 1177442.4 , 1177368.  , 1177339.6 , 1173731.9 ,\n",
              "       1161279.6 , 1177442.5 , 1177442.4 , 1177283.8 , 1189897.9 ,\n",
              "       1171375.  , 1172654.1 , 1173852.8 , 1162214.8 , 1191745.5 ,\n",
              "       1191745.5 , 1175394.8 , 1175469.8 , 1172992.2 , 1161279.6 ,\n",
              "       1172780.2 , 1164712.6 , 1160182.2 , 1172779.8 , 1172779.8 ,\n",
              "       1161283.1 , 1161535.2 , 1161776.8 , 1161500.8 , 1177725.8 ,\n",
              "       1177725.8 , 1189296.9 , 1177725.8 , 1177725.8 , 1166356.5 ,\n",
              "       1177725.8 , 1189296.9 , 1189296.9 , 1189296.9 , 1189296.9 ,\n",
              "       1183382.8 , 1185503.8 , 1177275.9 , 1189296.9 , 1189296.9 ,\n",
              "       1186208.9 , 1177275.9 , 1189296.9 , 1171907.  , 1166192.1 ,\n",
              "       1189642.5 , 1179905.  , 1166310.5 , 1166318.8 , 1177178.2 ,\n",
              "       1192277.4 , 1209528.1 , 1215290.  , 1212942.4 , 1178056.6 ,\n",
              "       1172777.8 , 1160170.8 , 1207808.2 , 1200848.2 , 1227373.8 ,\n",
              "       1227210.5 , 1227210.5 , 1227210.5 , 1165858.2 , 1177725.8 ,\n",
              "       1177725.8 , 1177725.8 , 1177725.8 , 1177725.8 , 1177725.8 ,\n",
              "       1177725.8 , 1190092.1 , 1189296.9 , 1189302.2 , 1189296.9 ,\n",
              "       1177725.8 , 1177725.8 , 1190034.5 , 1178115.  , 1177725.8 ,\n",
              "       1177725.8 , 1178996.1 , 1178087.5 , 1177725.8 , 1177725.8 ,\n",
              "       1176371.5 , 1165725.8 , 1166251.8 , 1166163.4 , 1165834.  ,\n",
              "       1165861.  , 1178111.9 , 1177446.4 , 1178115.1 , 1157047.2 ,\n",
              "       1227210.4 , 1221862.2 , 1227210.5 , 1227210.5 , 1227210.5 ,\n",
              "       1191508.1 , 1227216.2 , 1208797.1 , 1188846.5 , 1156007.8 ,\n",
              "       1174111.  , 1177275.9 , 1192373.5 , 1227210.5 , 1227210.5 ,\n",
              "       1226031.2 , 1227210.5 , 1227210.5 , 1227210.5 , 1227210.5 ,\n",
              "       1227160.9 , 1227210.5 , 1227210.5 , 1227210.5 , 1227210.2 ,\n",
              "       1227210.5 , 1227210.5 , 1227210.5 , 1227210.5 , 1227210.5 ,\n",
              "       1213459.8 , 1227210.5 , 1227210.5 , 1227210.5 , 1227210.5 ,\n",
              "       1227210.5 , 1227210.5 , 1227210.5 , 1227210.5 , 1207560.  ,\n",
              "       1176972.2 , 1120109.8 , 1189172.  , 1211339.8 , 1215182.5 ,\n",
              "       1215250.5 , 1191954.8 , 1190396.8 , 1125584.9 , 1166346.8 ,\n",
              "       1166346.8 , 1151344.  , 1226590.2 , 1227210.5 , 1227212.  ,\n",
              "       1227210.4 , 1225803.5 , 1213975.2 , 1185442.2 , 1187374.1 ,\n",
              "       1187374.1 , 1187374.1 , 1200807.4 , 1227210.4 , 1187374.2 ,\n",
              "       1187374.1 , 1187374.1 , 1187374.1 , 1187374.1 , 1187258.8 ,\n",
              "       1186346.2 , 1187163.  , 1187250.  , 1138305.2 , 1125573.8 ,\n",
              "       1103548.  , 1137968.5 , 1137909.  , 1137567.  , 1138047.2 ,\n",
              "       1137843.  , 1137854.2 , 1138046.5 , 1137690.  , 1138090.  ,\n",
              "       1137567.  , 1137564.5 , 1137723.5 , 1137567.  , 1137568.  ,\n",
              "       1137567.  , 1138032.2 , 1137567.2 , 1137567.  , 1137567.  ,\n",
              "       1137961.  , 1141196.  , 1138031.6 , 1115894.2 , 1107145.5 ,\n",
              "        985008.5 , 1004089.7 , 1185974.6 , 1191921.9 , 1178056.8 ,\n",
              "       1172732.8 , 1056857.8 ,  987741.4 ,  996230.94, 1053070.2 ,\n",
              "       1053029.  , 1117147.6 , 1172654.1 , 1172654.1 , 1173718.2 ,\n",
              "       1174944.4 , 1160073.2 , 1191510.2 , 1190398.2 , 1191745.5 ,\n",
              "       1177449.4 , 1175394.8 , 1161279.6 , 1172654.1 , 1161887.5 ,\n",
              "       1190398.2 , 1174236.4 , 1174886.2 , 1173626.1 , 1189796.8 ,\n",
              "       1173626.1 , 1190398.2 , 1173626.1 , 1227210.5 , 1227210.5 ,\n",
              "       1225902.  , 1226013.5 , 1227210.5 , 1227210.5 , 1227210.5 ,\n",
              "       1227210.5 , 1227208.  , 1227210.5 , 1227210.5 , 1227208.  ,\n",
              "       1227210.5 , 1226535.  , 1227210.5 , 1227210.5 , 1227210.5 ,\n",
              "       1227210.5 , 1227210.5 , 1227210.5 , 1226012.1 , 1226012.1 ,\n",
              "       1227210.5 , 1227210.5 , 1227210.5 , 1227210.5 , 1227210.5 ,\n",
              "       1227210.5 , 1226548.8 , 1187187.8 , 1215178.  , 1207730.8 ,\n",
              "       1177277.  , 1165318.5 , 1117033.2 , 1156443.9 , 1175165.2 ,\n",
              "       1194091.6 , 1157047.2 , 1182105.1 , 1192271.5 , 1207867.9 ,\n",
              "       1187261.9 , 1180547.2 , 1171004.2 , 1157047.2 , 1157048.8 ,\n",
              "       1176780.  , 1157047.2 , 1157047.2 , 1157047.2 , 1157047.5 ,\n",
              "       1166336.1 , 1170357.8 , 1166356.6 , 1178321.  , 1166347.  ,\n",
              "       1179158.9 , 1171004.2 , 1157047.2 , 1157047.2 , 1192070.2 ,\n",
              "       1191585.5 , 1157047.2 , 1172804.1 , 1192243.  , 1164493.  ,\n",
              "       1169278.6 , 1157047.2 , 1157047.2 , 1157047.2 , 1194853.1 ,\n",
              "       1195822.2 , 1180857.  , 1192999.2 , 1019444.3 , 1083470.5 ,\n",
              "       1165145.2 , 1222576.1 , 1180656.2 , 1180747.8 , 1166913.8 ,\n",
              "       1170200.2 , 1189603.  , 1103355.2 , 1103418.1 , 1112081.5 ,\n",
              "       1138032.2 , 1103559.5 , 1103418.5 , 1103418.1 , 1103418.1 ],\n",
              "      dtype=float32)"
            ]
          },
          "metadata": {},
          "execution_count": 55
        }
      ]
    },
    {
      "cell_type": "code",
      "source": [
        "predictions[1,20]"
      ],
      "metadata": {
        "colab": {
          "base_uri": "https://localhost:8080/"
        },
        "id": "0fgfyOwgsOn8",
        "outputId": "17f11efc-b7fb-4880-b960-39eb75285ad3"
      },
      "execution_count": null,
      "outputs": [
        {
          "output_type": "execute_result",
          "data": {
            "text/plain": [
              "<tf.Tensor: shape=(64,), dtype=float32, numpy=\n",
              "array([530.94775, 425.6861 , 530.23944, 424.00946, 529.30835, 492.00867,\n",
              "       528.04156, 575.09564, 528.47095, 585.08746, 528.69666, 584.4934 ,\n",
              "       531.6108 , 427.43073, 531.9095 , 494.02744, 529.5448 , 577.68335,\n",
              "       530.5533 , 585.51886, 531.1571 , 583.38934, 530.949  , 425.67795,\n",
              "       531.71704, 374.9985 , 532.9671 ,   0.     , 533.7336 , 307.53113,\n",
              "       533.91907, 285.0529 , 532.96826, 321.42844, 533.49445, 332.89484,\n",
              "       533.4907 ,   0.     , 534.10645, 393.93924, 534.1124 , 393.94028,\n",
              "       534.48303, 385.5388 , 534.5305 , 396.38873, 534.5232 , 396.38828,\n",
              "       532.96906, 321.42596, 531.7403 , 333.57785, 529.7442 , 377.8631 ,\n",
              "       529.9651 , 383.5723 , 529.9628 , 383.57132, 530.5732 , 375.54   ,\n",
              "       530.1568 , 383.54843, 530.1601 , 383.54987], dtype=float32)>"
            ]
          },
          "metadata": {},
          "execution_count": 38
        }
      ]
    },
    {
      "cell_type": "markdown",
      "source": [
        "##Visualization"
      ],
      "metadata": {
        "id": "3XaBTxF3Pbmo"
      }
    },
    {
      "cell_type": "code",
      "source": [
        "def visualize_frames(sample, dynamic_joints_only=False,\n",
        "                    num_frames_to_visualize=10,\n",
        "                    joints_to_ignore=[4,5,9,10,11,16,20,21,22,23,24,28,29,30,31]) :\n",
        "    \"\"\"\n",
        "    Visualization function to draw a certain number of frames in a given sample\n",
        "    ignoring the joints mentioned in joints_to_ignore array\n",
        "    \"\"\"\n",
        "    assert num_frames_to_visualize <= sample.shape[0], f\"number of frames should be less than or equal to the total frames in the sample\"\n",
        "    fig, axs = plt.subplots(ncols=num_frames_to_visualize, figsize=(15, 8))\n",
        "    fig.tight_layout(pad=5.0)\n",
        "    for t in range(num_frames_to_visualize) :\n",
        "        #Removing unnecessary joints for visualization\n",
        "        if(dynamic_joints_only) :\n",
        "            #Check if no joints needs to be removed\n",
        "            truncated_frame = sample[t]\n",
        "        else :\n",
        "            #Removing the joints based on joints_to_ignore\n",
        "            joints_to_ignore_2d = [element * 2 for element in joints_to_ignore]\n",
        "            for i in range(len(joints_to_ignore_2d)) :\n",
        "                joints_to_ignore_2d.append(joints_to_ignore_2d[i]+1)\n",
        "            truncated_frame = np.delete(sample[t], joints_to_ignore_2d)   \n",
        "\n",
        "        #In case of including only moving joints for Human3.6M(17 joints)      \n",
        "        x_axis_array = truncated_frame[0:34:2]\n",
        "        y_axis_array = truncated_frame[1:35:2]\n",
        "        #Scattering all the 17 joints\n",
        "        #axs[t].scatter(x_axis_array, y_axis_array)\n",
        "        #Plotting right leg\n",
        "        axs[t].plot(x_axis_array[:4], y_axis_array[:4], \"tab:blue\")\n",
        "        #plotting left leg\n",
        "        axs[t].plot(x_axis_array[[0, 4, 5, 6]], y_axis_array[[0, 4, 5, 6]])\n",
        "        #plotting from hip to head\n",
        "        axs[t].plot(x_axis_array[[0, 7, 8, 9, 10]], y_axis_array[[0, 7, 8, 9, 10]])\n",
        "        #plotting from neck to left shoulder\n",
        "        axs[t].plot(x_axis_array[[9, 11, 12, 13]], y_axis_array[[9, 11, 12, 13]])\n",
        "        #plotting from neck to right shoulder\n",
        "        axs[t].plot(x_axis_array[[9, 14, 15, 16]], y_axis_array[[9, 14, 15, 16]])\n",
        "        axs[t].invert_yaxis()\n",
        "        axs[t].set_xticks([])\n",
        "        axs[t].set_yticks([])\n",
        "    plt.show()"
      ],
      "metadata": {
        "id": "CIHR8VGhPfHf"
      },
      "execution_count": null,
      "outputs": []
    },
    {
      "cell_type": "code",
      "source": [
        "visualize_frames(sampled_data[950, 0:50:4], num_frames_to_visualize=10)"
      ],
      "metadata": {
        "colab": {
          "base_uri": "https://localhost:8080/",
          "height": 585
        },
        "id": "vXRd_A3sPsUu",
        "outputId": "7c8b920a-7b2b-4494-8dbc-39a09d972915"
      },
      "execution_count": null,
      "outputs": [
        {
          "output_type": "display_data",
          "data": {
            "text/plain": [
              "<Figure size 1080x576 with 10 Axes>"
            ],
            "image/png": "[encoded data removed]"
          },
          "metadata": {}
        }
      ]
    },
    {
      "cell_type": "markdown",
      "source": [
        "#References\n",
        "\n",
        "[1] https://github.com/una-dinosauria/3d-pose-baseline/blob/master/src/data_utils.py"
      ],
      "metadata": {
        "id": "QWZSPjKM9u-z"
      }
    }
  ],
  "metadata": {
    "colab": {
      "collapsed_sections": [
        "N5bGejq7QySe",
        "6tUdJibeQWdF",
        "snGEPtNOKLvg",
        "kwCrXubfJka4",
        "Az25davkJq9Y",
        "KTHffB1KrfBy",
        "H-ekHZVlrq1o",
        "hQg05uuoRtEi"
      ],
      "provenance": []
    },
    "kernelspec": {
      "display_name": "Python 3 (ipykernel)",
      "language": "python",
      "name": "python3"
    },
    "language_info": {
      "codemirror_mode": {
        "name": "ipython",
        "version": 3
      },
      "file_extension": ".py",
      "mimetype": "text/x-python",
      "name": "python",
      "nbconvert_exporter": "python",
      "pygments_lexer": "ipython3",
      "version": "3.8.12"
    }
  },
  "nbformat": 4,
  "nbformat_minor": 0
}
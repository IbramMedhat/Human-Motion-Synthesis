{
 "cells": [
  {
   "cell_type": "code",
   "execution_count": 1,
   "metadata": {
    "colab": {
     "base_uri": "https://localhost:8080/"
    },
    "id": "p6oWUCJCnPmT",
    "outputId": "ff69467f-8448-4bca-9677-0f6de49a4388"
   },
   "outputs": [
    {
     "name": "stdout",
     "output_type": "stream",
     "text": [
      "2.9.0\n"
     ]
    }
   ],
   "source": [
    "import numpy as np\n",
    "from tensorflow.keras import Model as Model_\n",
    "from tensorflow.keras.layers import Input, ReLU, LSTM, Dense, TimeDistributed, Bidirectional, Normalization, GaussianNoise \n",
    "from tensorflow.keras.optimizers import Adam\n",
    "from tensorflow.keras import backend\n",
    "from tensorflow.keras.models import Sequential\n",
    "import tensorflow as tf\n",
    "from tqdm.auto import tqdm\n",
    "import matplotlib.pyplot as plt\n",
    "import pandas as pd\n",
    "\n",
    "import tensorflow_model_remediation.min_diff.losses.mmd_loss as MMD\n",
    "import tensorflow_model_remediation.min_diff.losses.adjusted_mmd_loss as adjustedMMD\n",
    "\n",
    "print(tf.keras.__version__)"
   ]
  },
  {
   "cell_type": "code",
   "execution_count": null,
   "metadata": {
    "colab": {
     "base_uri": "https://localhost:8080/"
    },
    "id": "v1wLcoRN_q6H",
    "outputId": "2539f137-5031-49c5-97e6-58097f137e1c"
   },
   "outputs": [],
   "source": [
    "#Need only to be used with google colab\n",
    "from google.colab import drive\n",
    "drive.mount('/content/drive')"
   ]
  },
  {
   "cell_type": "code",
   "execution_count": null,
   "metadata": {
    "colab": {
     "base_uri": "https://localhost:8080/"
    },
    "id": "BVYkmolC_bDI",
    "outputId": "343f646f-7dab-4c4d-eb9f-6b4f3f26e0d7"
   },
   "outputs": [],
   "source": [
    "!pip install tensorflow_model_remediation"
   ]
  },
  {
   "cell_type": "code",
   "execution_count": 2,
   "metadata": {
    "id": "ikRIhsrrnhlH"
   },
   "outputs": [],
   "source": [
    "import os\n",
    "import re\n",
    "\n",
    "class Dataset_Preprocessing:\n",
    "    def __init__(self, dir_path, include_dimension = 2, sample_size = 50, total_classes = 17, datatype = 'float32'):\n",
    "        \n",
    "        #Dataset Directory path\n",
    "        self.dir_path = dir_path\n",
    "        \n",
    "        #Which Dimension file to include, possible values: 2 and 3\n",
    "        self.include_dimension = include_dimension\n",
    "        \n",
    "        #Total frames in one Sample\n",
    "        self.sample_size = sample_size\n",
    "        \n",
    "        #Default Datatype for all the samples\n",
    "        self.datatype = datatype\n",
    "        \n",
    "        #Activity classes to include\n",
    "        self.classes = ['SittingDown', 'Walking', 'Directions', 'Discussion', 'Sitting', 'Phoning', 'Eating', 'Posing', 'Greeting', 'Smoking']\n",
    "        \n",
    "        #Total activity classes\n",
    "        self.total_classes = len(self.classes)\n",
    "        \n",
    "        #Subject Folders names in the Dataset\n",
    "        self.internal_folders = ['S1', 'S5','S6','S7','S8','S9','S11']\n",
    "    \n",
    "    def read_dataset(self):\n",
    "        try:\n",
    "            #Contains all the different activity vectors\n",
    "            activity_vector = {}\n",
    "            \n",
    "            #Contains the overall dataset\n",
    "            sampled_data = None\n",
    "            \n",
    "            #Based on dimensions, which folder to use for extracting the dataset files\n",
    "            data_folder = 'Poses_D2_Positions' if self.include_dimension == 2 else 'Poses_D3_Positions'\n",
    "            \n",
    "            #Checking if the dataset path is valid\n",
    "            if not os.path.exists(self.dir_path):\n",
    "                print('The Data Directory Does not Exist!')\n",
    "                return None\n",
    "\n",
    "            #Iterating over all the subject folders\n",
    "            for fld in self.internal_folders:\n",
    "                #Iterating for each file in the specified folder\n",
    "                for file in os.listdir(os.path.join(self.dir_path, fld, data_folder)):\n",
    "                    #Extracting the activity from the filename\n",
    "                    activity = self.__extract_activity(file)\n",
    "                    \n",
    "                    if activity not in self.classes:\n",
    "                        continue\n",
    "                    \n",
    "                    #Reading the CSV file using Pandas\n",
    "                    data = pd.read_csv(os.path.join(self.dir_path, fld, data_folder, file), header=None)\n",
    "\n",
    "                    #Formulating the activity vector using one hot encoding\n",
    "                    if activity not in activity_vector:\n",
    "                        total_keys = len(activity_vector.keys())\n",
    "                        activity_vector[activity] = np.zeros(self.total_classes)\n",
    "                        activity_vector[activity][total_keys] = 1\n",
    "                    vector = activity_vector[activity]\n",
    "                    \n",
    "                    #Sampling the dataset\n",
    "                    grouped_sample = self.__group_samples(data, self.sample_size, vector)\n",
    "                    sampled_data = grouped_sample if sampled_data is None else np.append(sampled_data, grouped_sample, axis=0)\n",
    "            \n",
    "            #Changing the Datatype\n",
    "            sampled_data = sampled_data.astype(self.datatype)\n",
    "            \n",
    "            return sampled_data\n",
    "        except Exception as e:\n",
    "            print(e)\n",
    "    \n",
    "    def __extract_activity(self, filename):\n",
    "        try:\n",
    "            #Extracting the filename and excluding the extension\n",
    "            name = os.path.splitext(filename)[0]\n",
    "            \n",
    "            #Substituting the empty string with characters other than english alphabets\n",
    "            activity = re.sub('[^A-Za-z]+' , '' , name)\n",
    "            return activity\n",
    "        except Exception as e:\n",
    "            print(e)\n",
    "    \n",
    "    def __group_samples(self, dataset, sample_size, activity):\n",
    "        try:\n",
    "            #Checking if the dataset is a Pandas Dataframe\n",
    "            if not isinstance(dataset, pd.DataFrame):\n",
    "                print('Expecting Pandas Dataframe, but got {}'.format(type(dataset)))\n",
    "                return None\n",
    "            \n",
    "            #Appending activity class to each row in the dataset\n",
    "            dataset = pd.concat([dataset, pd.DataFrame(np.tile(activity, (dataset.shape[0],1)))], axis=1)\n",
    "            \n",
    "            #Reshaping the dataset into sample batches\n",
    "            total_samples = dataset.shape[0]//sample_size\n",
    "            total_features = dataset.shape[1]\n",
    "            grouped_rows = dataset.to_numpy()[:total_samples*self.sample_size].reshape((-1,self.sample_size, total_features))\n",
    "            \n",
    "            return grouped_rows\n",
    "        except Exception as e:\n",
    "            print(e)"
   ]
  },
  {
   "cell_type": "code",
   "execution_count": 3,
   "metadata": {
    "id": "f8PgK1UVnkrw"
   },
   "outputs": [],
   "source": [
    "#For long term prediction, we need a sample size of 60(10 frames input sequance, 50 frames predicted sequance)\n",
    "sampled_data = Dataset_Preprocessing('./H3.6csv', sample_size=60).read_dataset()"
   ]
  },
  {
   "cell_type": "markdown",
   "metadata": {
    "id": "ZJ4Vt5JFJYLY"
   },
   "source": [
    "## Splitting dataset to features and labels"
   ]
  },
  {
   "cell_type": "code",
   "execution_count": 4,
   "metadata": {
    "id": "8nABIG0rnxl_"
   },
   "outputs": [],
   "source": [
    "def split_to_features_labels(dataset, input_sequance_size=10) :\n",
    "    \"\"\"\n",
    "    Function for splitting the data into features(with sequance size=iput_sequance_size)\n",
    "    and labels which should be the remainder of the sample length \n",
    "    \"\"\"\n",
    "    assert input_sequance_size < dataset.shape[1], f\"input sequance should be smaller than the total sample size\"\n",
    "    features = dataset[:, np.s_[0:input_sequance_size], :]\n",
    "    labels = dataset[:,np.s_[input_sequance_size:], :64]\n",
    "    \n",
    "    return features, labels"
   ]
  },
  {
   "cell_type": "code",
   "execution_count": 5,
   "metadata": {
    "id": "lw6Tvviol_Ch"
   },
   "outputs": [],
   "source": [
    "#To make the data divisible for batch size of 20\n",
    "total_batches = sampled_data.shape[0]\n",
    "sampled_data = sampled_data[:total_batches-(total_batches%20)]"
   ]
  },
  {
   "cell_type": "code",
   "execution_count": 6,
   "metadata": {
    "id": "h6bSQTwdn2Fo"
   },
   "outputs": [],
   "source": [
    "sampled_dataX, sampled_dataY = split_to_features_labels(sampled_data, input_sequance_size=10)"
   ]
  },
  {
   "cell_type": "code",
   "execution_count": 7,
   "metadata": {
    "colab": {
     "base_uri": "https://localhost:8080/"
    },
    "id": "CVXQiscVn4O2",
    "outputId": "16b74b2e-2707-4115-943d-dc1b320fc83e"
   },
   "outputs": [
    {
     "name": "stdout",
     "output_type": "stream",
     "text": [
      "Total Samples: 25520\n",
      "Total Frames: 50\n",
      "Total Features: 64\n"
     ]
    }
   ],
   "source": [
    "print('Total Samples: {}'.format(sampled_dataY.shape[0]))\n",
    "print('Total Frames: {}'.format(sampled_dataY.shape[1]))\n",
    "print('Total Features: {}'.format(sampled_dataY.shape[2]))"
   ]
  },
  {
   "cell_type": "markdown",
   "metadata": {
    "id": "snGEPtNOKLvg"
   },
   "source": [
    "## Adding Preprocessing steps to improve model performance and robustness"
   ]
  },
  {
   "cell_type": "markdown",
   "metadata": {},
   "source": [
    "### Downsampling the Samples"
   ]
  },
  {
   "cell_type": "code",
   "execution_count": 8,
   "metadata": {},
   "outputs": [],
   "source": [
    "def downsampling(sampled_data, downsample_technique = 'skip'):\n",
    "    \"\"\"\n",
    "    The function used to down-sample the data using two different techniques. In Skip, one frame is skipped consecutively and\n",
    "    in the mean technique, two frames are averaged consecutively.\n",
    "    \"\"\"\n",
    "    samples_per_batch = int(sampled_data.shape[1] / 2)\n",
    "    total_features = sampled_data.shape[2]\n",
    "    downsampled_data = np.empty(shape=(0, samples_per_batch, total_features))\n",
    "    \n",
    "    if downsample_technique == 'skip':\n",
    "        downsampled_data = sampled_data[:,::2,:]\n",
    "    else:\n",
    "        for batch in sampled_data:\n",
    "            averaged_batch = np.empty(shape=(0, total_features))\n",
    "            for i in range(0, batch.shape[0], 2):\n",
    "                averaged_batch = np.append(averaged_batch, np.mean(batch[i:i+2, :], axis = 0).reshape((1, total_features)), axis = 0)\n",
    "            downsampled_data = np.append(downsampled_data, averaged_batch.reshape((1, samples_per_batch, total_features)), axis = 0)\n",
    "    return downsampled_data"
   ]
  },
  {
   "cell_type": "code",
   "execution_count": 9,
   "metadata": {
    "id": "VzjeqMm1KNjQ"
   },
   "outputs": [],
   "source": [
    "def preprocess_data(sampled_dataX, sampled_dataY, normalize=True, add_noise=True, stddev=0.05) :\n",
    "    \"\"\"\n",
    "    Function to preprocess data by normalizing input features and adding guassian\n",
    "    noise to increase model robustness\n",
    "    \"\"\"  \n",
    "    if normalize :\n",
    "        sampled_dataX =  tf.keras.utils.normalize(sampled_dataX, axis=2)\n",
    "    if add_noise :\n",
    "        guassian_noise_layer = tf.keras.layers.GaussianNoise(stddev=stddev)\n",
    "        sampled_dataX = guassian_noise_layer(sampled_dataX)\n",
    "    return sampled_dataX, sampled_dataY"
   ]
  },
  {
   "cell_type": "code",
   "execution_count": 10,
   "metadata": {
    "id": "4bR0E_RfMlHg"
   },
   "outputs": [],
   "source": [
    "preprocessed_sampled_dataX, preprocessed_sampled_dataY = preprocess_data(sampled_dataX, sampled_dataY) "
   ]
  },
  {
   "cell_type": "code",
   "execution_count": 11,
   "metadata": {},
   "outputs": [],
   "source": [
    "downsampled_data = downsampling(sampled_data, 'skip')"
   ]
  },
  {
   "cell_type": "code",
   "execution_count": 12,
   "metadata": {},
   "outputs": [],
   "source": [
    "downsampled_dataX, downsampled_dataY = split_to_features_labels(downsampled_data, input_sequance_size=10)\n",
    "preprocessed_downsampled_dataX, preprocessed_downsampled_dataY = preprocess_data(downsampled_dataX, downsampled_dataY) "
   ]
  },
  {
   "cell_type": "markdown",
   "metadata": {
    "id": "kwCrXubfJka4"
   },
   "source": [
    "## Defining different components of the model"
   ]
  },
  {
   "cell_type": "code",
   "execution_count": 13,
   "metadata": {
    "id": "QsfCMT-0zRTs"
   },
   "outputs": [],
   "source": [
    "class InterpolationLayer(tf.keras.layers.Layer):\n",
    "    \"\"\"\n",
    "    Custom interpolation layer extending the keras layer class\n",
    "    it has one attribute num_frames to be interpolated between each two consecutive \n",
    "    timesteps\n",
    "    it has one main function interpolateFrames  \n",
    "    \"\"\"\n",
    "  \n",
    "    def __init__(self, num_frames=5):\n",
    "        super(InterpolationLayer, self).__init__()\n",
    "        self.num_frames = num_frames\n",
    "       \n",
    "    def interpolateFrames(self, inputs):\n",
    "        \"\"\"\n",
    "        Takes input tensors of shape(batch_size, timesteps, features)\n",
    "        returns interpolated frames with shape(batch_size, timesteps*num_frames, features)\n",
    "        \"\"\"\n",
    "        batch_size = inputs.shape[0]\n",
    "        timesteps = inputs.shape[1]\n",
    "        features = inputs.shape[2]\n",
    "        interpolated_frames = tf.zeros([0, features])\n",
    "\n",
    "        for batch in range(batch_size) :\n",
    "            for t in range(timesteps) :\n",
    "                for j in range(self.num_frames) :\n",
    "                    X_i0 = inputs[batch, t]\n",
    "                    if(t == timesteps-1) :\n",
    "                        X_i1 = inputs[batch, t]\n",
    "                    else :  \n",
    "                        X_i1 = inputs[batch, t+1]\n",
    "                    alpha_j = j/self.num_frames\n",
    "                    current_frame = alpha_j*X_i0 + (1-alpha_j)*X_i1\n",
    "                    current_frame = tf.reshape(current_frame, [1, features])\n",
    "                    interpolated_frames = tf.concat((interpolated_frames, current_frame), axis=0)\n",
    "\n",
    "        interpolated_frames = tf.reshape(interpolated_frames, [batch_size, (timesteps)*self.num_frames, features])\n",
    "        return interpolated_frames\n",
    "\n",
    "    def call(self, inputs):\n",
    "        return self.interpolateFrames(inputs)"
   ]
  },
  {
   "cell_type": "code",
   "execution_count": 14,
   "metadata": {
    "id": "7PIJXvLaaEvY"
   },
   "outputs": [],
   "source": [
    "class GlocalNet(Model_):\n",
    "    \"\"\"\n",
    "    A full GlocalNet implementation include the three main stages\n",
    "    Glogen generating initial sparse frames\n",
    "    Interpolation layer generating dense frames from Glogen output\n",
    "    Locgen generating the final output by smoothing the interpolated frames\n",
    "    \"\"\"\n",
    "    def __init__(self, enocder_hidden_state=200, decoder_hidden_state=200, \n",
    "                 output_diminsion=64, LSTM_dropout=0.25, dense_activation='relu',\n",
    "                 interpolation_frames=5, exclude_locgen=False):\n",
    "        super(GlocalNet, self).__init__()\n",
    "        self.exclude_locgen = exclude_locgen\n",
    "        #Glogen layers\n",
    "        self.glogen_encoder = LSTM(enocder_hidden_state, return_state=True\n",
    "                                   , return_sequences=True, dropout=LSTM_dropout)\n",
    "        self.glogen_decoder = LSTM(decoder_hidden_state, return_sequences=True,\n",
    "                                   return_state=True, dropout=LSTM_dropout)\n",
    "        #Locgen layers\n",
    "        self.locgen_encoder = LSTM(enocder_hidden_state, return_sequences=True,\n",
    "                                   return_state=True, dropout=LSTM_dropout)\n",
    "        self.locgen_decoder = LSTM(decoder_hidden_state, return_sequences=True,\n",
    "                                   return_state=True, dropout=LSTM_dropout)\n",
    "        #Glogen dense layer\n",
    "        self.glogen_dense_layer = TimeDistributed(Dense(output_diminsion,\n",
    "                                                        activation=dense_activation)) \n",
    "        #Interpolation layer\n",
    "        self.interpolation_layer = InterpolationLayer(num_frames=interpolation_frames)\n",
    "        #Locgen dense layer\n",
    "        self.locgen_dense_layer = TimeDistributed(Dense(output_diminsion,\n",
    "                                                        activation=dense_activation)) \n",
    "        \n",
    "    def call(self, inputs):\n",
    "        #Glogen calls      \n",
    "        encoder_outputs, state_h, state_c = self.glogen_encoder(inputs)\n",
    "        encoder_states = [state_h, state_c]\n",
    "        output, _, _ = self.glogen_decoder(encoder_outputs, initial_state=encoder_states)\n",
    "        glogen_output = self.glogen_dense_layer(output)\n",
    "\n",
    "        #Interpolation call\n",
    "        interpolated_frames = self.interpolation_layer(glogen_output)\n",
    "        \n",
    "        if self.exclude_locgen :\n",
    "            return interpolated_frames\n",
    "\n",
    "        #Locgen calls\n",
    "        locgen_encoder_outputs, locgen_state_h, locgen_state_c = self.locgen_encoder(interpolated_frames)\n",
    "        locgen_encoder_states = [locgen_state_h, locgen_state_c]\n",
    "        locgen_output, _, _ = self.locgen_decoder(locgen_encoder_outputs, initial_state=locgen_encoder_states)\n",
    "        final_output = self.locgen_dense_layer(locgen_output)\n",
    "        return final_output"
   ]
  },
  {
   "cell_type": "code",
   "execution_count": 15,
   "metadata": {
    "id": "bVUFJsv3fVYh"
   },
   "outputs": [],
   "source": [
    "class JointLoss() :\n",
    "    \"\"\"\n",
    "    Joint loss class with two weight attributes for two different losses\n",
    "    first one is the loss joint and the second is the loss_motion_flow\n",
    "    \"\"\"\n",
    "    def __init__(self, lambda1=0.5, lambda2=0.5, mmd_kernel='gaussian') :\n",
    "        self.lambda1 = lambda1\n",
    "        self.lambda2 = lambda2\n",
    "        self.mmd_kernel = mmd_kernel\n",
    "\n",
    "    def loss_joint(self, predicted_sequance_batch, target_sequance_batch) :\n",
    "        \"\"\"\n",
    "        Loss between the joint positions and its corresponding counterparts in the groundtruth\n",
    "        \"\"\"\n",
    "        diff_norm_2 = tf.math.reduce_sum(tf.square(tf.subtract(predicted_sequance_batch, target_sequance_batch)), axis=2)\n",
    "        return tf.reduce_sum(diff_norm_2, axis=1) \n",
    "\n",
    "    def loss_motion_flow(self, predicted_sequance_batch, target_sequance_batch) :\n",
    "        \"\"\"\n",
    "        Loss between the motion flow of predicted sequance and the ground truth\n",
    "        where the motion flow is the euclidean distance between each two consecutive frames\n",
    "        \"\"\"\n",
    "        predictions_tomporal_diffs = tf.experimental.numpy.diff(predicted_sequance_batch, axis=1)\n",
    "        real_tomporal_diffs = tf.experimental.numpy.diff(target_sequance_batch, axis=1)\n",
    "        prediction_motion_flow_diff_norm_2 = tf.reduce_sum(tf.square(tf.subtract(predictions_tomporal_diffs, real_tomporal_diffs)), axis=2)\n",
    "        return tf.reduce_sum(prediction_motion_flow_diff_norm_2, axis=1)\n",
    "\n",
    "\n",
    "    def total_loss(self, target_sequance_batch, predicted_sequance_batch) :\n",
    "        \"\"\"\n",
    "        calculating the total loss through a combination of the joint_loss and motion_flow_loss\n",
    "        \"\"\"\n",
    "        joints_loss = self.loss_joint(predicted_sequance_batch, target_sequance_batch)\n",
    "        motion_flow_loss = self.loss_motion_flow(predicted_sequance_batch, target_sequance_batch)\n",
    "        return self.lambda1*joints_loss + self.lambda2*motion_flow_loss\n",
    "\n",
    "    def custom_sequence_MMD_loss(self, target_sequance_batch, predicted_sequance_batch):\n",
    "        \"\"\"\n",
    "        Calculating the Sequence MMD Loss between prediction and the ground Truth.\n",
    "         Additionally combining the last two dimensions \n",
    "        \"\"\"\n",
    "        mmd_loss = MMD.MMDLoss(kernel=self.mmd_kernel)\n",
    "        total_batches = predicted_sequance_batch.shape[0]\n",
    "        frames_per_batch = predicted_sequance_batch.shape[1] * predicted_sequance_batch.shape[2]\n",
    "        return mmd_loss(tf.reshape(predicted_sequance_batch, [total_batches, frames_per_batch]),\n",
    "                        tf.reshape(target_sequance_batch, [total_batches, frames_per_batch]))"
   ]
  },
  {
   "cell_type": "markdown",
   "metadata": {
    "id": "Az25davkJq9Y"
   },
   "source": [
    "## Running experiment with different hyperparameters"
   ]
  },
  {
   "cell_type": "code",
   "execution_count": 32,
   "metadata": {
    "id": "labA65KEakkZ"
   },
   "outputs": [],
   "source": [
    "def run_experiment(sampled_dataX, sampled_dataY, learning_rate=0.002, lambda1=0.5,\n",
    "                   lambda2=0.5, use_mse=False, use_MMD=False, metrics=None,\n",
    "                   batch_size=100, epochs=50, validation_split=0.2, activation=\"relu\",\n",
    "                   dropout=0.25, exclude_locgen=False, interpolate_frames = 5) :\n",
    "    \"\"\"\n",
    "    Method takes all hyperparameters as input paramters and returns the model and history as\n",
    "    a result\n",
    "    \"\"\"\n",
    "    glocal_model = GlocalNet(dense_activation=activation, LSTM_dropout=dropout,\n",
    "                             exclude_locgen=exclude_locgen, interpolation_frames = interpolate_frames)\n",
    "    if use_mse :\n",
    "        loss_function = tf.keras.losses.mean_squared_error\n",
    "    elif use_MMD :\n",
    "        loss_function = JointLoss().custom_sequence_MMD_loss\n",
    "    else :\n",
    "        loss_function = JointLoss(lambda1=lambda1, lambda2=lambda2).total_loss\n",
    "\n",
    "    glocal_model.compile(optimizer=tf.keras.optimizers.Adam(learning_rate=learning_rate),\n",
    "                       loss=loss_function, metrics=metrics)\n",
    "    history = glocal_model.fit(sampled_dataX, sampled_dataY,\n",
    "                              batch_size=batch_size,\n",
    "                              epochs=epochs, validation_split=validation_split)\n",
    "    return history, glocal_model"
   ]
  },
  {
   "cell_type": "markdown",
   "metadata": {
    "id": "KTHffB1KrfBy"
   },
   "source": [
    "## Experiment Running for MSE and joint loss"
   ]
  },
  {
   "cell_type": "code",
   "execution_count": 17,
   "metadata": {
    "colab": {
     "base_uri": "https://localhost:8080/"
    },
    "id": "sQ-XPaUFd4D0",
    "outputId": "bf808cf3-cea2-4283-e53f-4d4e2dbba85b"
   },
   "outputs": [
    {
     "name": "stdout",
     "output_type": "stream",
     "text": [
      "Epoch 1/10\n",
      "1276/1276 [==============================] - 342s 209ms/step - loss: 106904.7812 - mean_absolute_percentage_error: 56.2039\n",
      "Epoch 2/10\n",
      "1276/1276 [==============================] - 264s 207ms/step - loss: 30513.5723 - mean_absolute_percentage_error: 23.5763\n",
      "Epoch 3/10\n",
      "1276/1276 [==============================] - 265s 208ms/step - loss: 27432.4473 - mean_absolute_percentage_error: 22.4088\n",
      "Epoch 4/10\n",
      "1276/1276 [==============================] - 265s 207ms/step - loss: 27421.8906 - mean_absolute_percentage_error: 22.4447\n",
      "Epoch 5/10\n",
      "1276/1276 [==============================] - 265s 207ms/step - loss: 27422.8105 - mean_absolute_percentage_error: 22.4478\n",
      "Epoch 6/10\n",
      "1276/1276 [==============================] - 266s 208ms/step - loss: 27424.5762 - mean_absolute_percentage_error: 22.4538\n",
      "Epoch 7/10\n",
      "1276/1276 [==============================] - 270s 212ms/step - loss: 27424.1348 - mean_absolute_percentage_error: 22.4491\n",
      "Epoch 8/10\n",
      "1276/1276 [==============================] - 266s 208ms/step - loss: 27424.6250 - mean_absolute_percentage_error: 22.4539\n",
      "Epoch 9/10\n",
      "1276/1276 [==============================] - 266s 209ms/step - loss: 27424.2188 - mean_absolute_percentage_error: 22.4520\n",
      "Epoch 10/10\n",
      "1276/1276 [==============================] - 266s 208ms/step - loss: 27423.6309 - mean_absolute_percentage_error: 22.4506\n"
     ]
    }
   ],
   "source": [
    "history_mse, glocal_model_mse = run_experiment(sampled_dataX, sampled_dataY, epochs=10, \n",
    "                                               use_mse=True, validation_split=0.0,\n",
    "                                               batch_size=20, dropout=0.0,\n",
    "                                               metrics=[tf.keras.losses.mean_absolute_percentage_error])"
   ]
  },
  {
   "cell_type": "code",
   "execution_count": 18,
   "metadata": {
    "colab": {
     "base_uri": "https://localhost:8080/"
    },
    "id": "a7FQ-HQ4bPVi",
    "outputId": "89e882cb-f5fd-4d5f-d5af-1497efaba172"
   },
   "outputs": [
    {
     "name": "stdout",
     "output_type": "stream",
     "text": [
      "Epoch 1/10\n",
      "1276/1276 [==============================] - 319s 210ms/step - loss: 159290336.0000 - mean_absolute_percentage_error: 54.1721\n",
      "Epoch 2/10\n",
      "1276/1276 [==============================] - 267s 209ms/step - loss: 29314212.0000 - mean_absolute_percentage_error: 20.0524\n",
      "Epoch 3/10\n",
      "1276/1276 [==============================] - 584s 458ms/step - loss: 23970064.0000 - mean_absolute_percentage_error: 18.8663\n",
      "Epoch 4/10\n",
      "1276/1276 [==============================] - 689s 540ms/step - loss: 23963464.0000 - mean_absolute_percentage_error: 18.8958\n",
      "Epoch 5/10\n",
      "1276/1276 [==============================] - 308s 241ms/step - loss: 23954730.0000 - mean_absolute_percentage_error: 18.9114\n",
      "Epoch 6/10\n",
      "1276/1276 [==============================] - 275s 216ms/step - loss: 23952396.0000 - mean_absolute_percentage_error: 18.9197\n",
      "Epoch 7/10\n",
      "1276/1276 [==============================] - 277s 217ms/step - loss: 23953500.0000 - mean_absolute_percentage_error: 18.9220\n",
      "Epoch 8/10\n",
      "1276/1276 [==============================] - 275s 215ms/step - loss: 23954034.0000 - mean_absolute_percentage_error: 18.9170\n",
      "Epoch 9/10\n",
      "1276/1276 [==============================] - 276s 217ms/step - loss: 23952172.0000 - mean_absolute_percentage_error: 18.9269\n",
      "Epoch 10/10\n",
      "1276/1276 [==============================] - 275s 215ms/step - loss: 23953862.0000 - mean_absolute_percentage_error: 18.9082\n"
     ]
    }
   ],
   "source": [
    "history_jointLoss, glocal_model_jointLoss = run_experiment(sampled_dataX, sampled_dataY, epochs=10, \n",
    "                                                           lambda1=0.5, lambda2=0.5, validation_split=0.0,\n",
    "                                                           batch_size=20, dropout=0.0,\n",
    "                                                           metrics=[tf.keras.losses.mean_absolute_percentage_error])"
   ]
  },
  {
   "cell_type": "markdown",
   "metadata": {
    "id": "H-ekHZVlrq1o"
   },
   "source": [
    "## Running experiment with MMD"
   ]
  },
  {
   "cell_type": "code",
   "execution_count": 19,
   "metadata": {
    "colab": {
     "base_uri": "https://localhost:8080/"
    },
    "id": "KayDheMuk7oE",
    "outputId": "4cc7a0d2-53c9-4b41-e24d-dc7990f26a29",
    "tags": []
   },
   "outputs": [
    {
     "name": "stdout",
     "output_type": "stream",
     "text": [
      "Epoch 1/10\n",
      "1276/1276 [==============================] - 340s 219ms/step - loss: 101695.4688 - custom_sequence_MMD_loss: 0.0500 - mean_absolute_percentage_error: 54.8955\n",
      "Epoch 2/10\n",
      "1276/1276 [==============================] - 281s 220ms/step - loss: 21887.8906 - custom_sequence_MMD_loss: 0.0500 - mean_absolute_percentage_error: 21.1720\n",
      "Epoch 3/10\n",
      "1276/1276 [==============================] - 304s 238ms/step - loss: 18643.6797 - custom_sequence_MMD_loss: 0.0500 - mean_absolute_percentage_error: 19.9711\n",
      "Epoch 4/10\n",
      "1276/1276 [==============================] - 324s 254ms/step - loss: 18629.8809 - custom_sequence_MMD_loss: 0.0500 - mean_absolute_percentage_error: 20.0053\n",
      "Epoch 5/10\n",
      "1276/1276 [==============================] - 322s 252ms/step - loss: 18632.0918 - custom_sequence_MMD_loss: 0.0500 - mean_absolute_percentage_error: 20.0130\n",
      "Epoch 6/10\n",
      "1276/1276 [==============================] - 290s 227ms/step - loss: 18632.3281 - custom_sequence_MMD_loss: 0.0500 - mean_absolute_percentage_error: 20.0231\n",
      "Epoch 7/10\n",
      "1276/1276 [==============================] - 290s 227ms/step - loss: 18633.0547 - custom_sequence_MMD_loss: 0.0500 - mean_absolute_percentage_error: 20.0110\n",
      "Epoch 8/10\n",
      "1276/1276 [==============================] - 289s 227ms/step - loss: 18632.6289 - custom_sequence_MMD_loss: 0.0500 - mean_absolute_percentage_error: 20.0120\n",
      "Epoch 9/10\n",
      "1276/1276 [==============================] - 300s 235ms/step - loss: 17242.5586 - custom_sequence_MMD_loss: 0.0500 - mean_absolute_percentage_error: 19.6462\n",
      "Epoch 10/10\n",
      "1276/1276 [==============================] - 287s 225ms/step - loss: 14217.1201 - custom_sequence_MMD_loss: 0.0500 - mean_absolute_percentage_error: 18.7485\n"
     ]
    }
   ],
   "source": [
    "history_mmd, glocal_model_mmd = run_experiment(sampled_dataX, sampled_dataY, epochs=10, \n",
    "                                               use_mse=True, validation_split=0.0,\n",
    "                                               batch_size=20, dropout=0.0,\n",
    "                                               metrics=[JointLoss().custom_sequence_MMD_loss,\n",
    "                                                        tf.keras.losses.mean_absolute_percentage_error])"
   ]
  },
  {
   "cell_type": "code",
   "execution_count": 20,
   "metadata": {
    "colab": {
     "base_uri": "https://localhost:8080/"
    },
    "id": "vkHRFMEpaXHB",
    "outputId": "ca615ec4-b99d-4f19-b255-eafd3dd12ed7"
   },
   "outputs": [
    {
     "name": "stdout",
     "output_type": "stream",
     "text": [
      "Epoch 1/15\n",
      "1276/1276 [==============================] - 357s 226ms/step - loss: 192679.7656 - custom_sequence_MMD_loss: 0.0500 - mean_absolute_percentage_error: 86.6784\n",
      "Epoch 2/15\n",
      "1276/1276 [==============================] - 287s 225ms/step - loss: 121112.6094 - custom_sequence_MMD_loss: 0.0500 - mean_absolute_percentage_error: 63.7301\n",
      "Epoch 3/15\n",
      "1276/1276 [==============================] - 286s 224ms/step - loss: 76994.1797 - custom_sequence_MMD_loss: 0.0500 - mean_absolute_percentage_error: 45.4688\n",
      "Epoch 4/15\n",
      "1276/1276 [==============================] - 285s 223ms/step - loss: 52473.2070 - custom_sequence_MMD_loss: 0.0500 - mean_absolute_percentage_error: 33.6978\n",
      "Epoch 5/15\n",
      "1276/1276 [==============================] - 288s 225ms/step - loss: 41279.4219 - custom_sequence_MMD_loss: 0.0500 - mean_absolute_percentage_error: 28.0725\n",
      "Epoch 6/15\n",
      "1276/1276 [==============================] - 286s 224ms/step - loss: 37684.4453 - custom_sequence_MMD_loss: 0.0500 - mean_absolute_percentage_error: 26.4507\n",
      "Epoch 7/15\n",
      "1276/1276 [==============================] - 286s 225ms/step - loss: 37085.0430 - custom_sequence_MMD_loss: 0.0500 - mean_absolute_percentage_error: 26.3734\n",
      "Epoch 8/15\n",
      "1276/1276 [==============================] - 284s 222ms/step - loss: 37053.7266 - custom_sequence_MMD_loss: 0.0500 - mean_absolute_percentage_error: 26.4477\n",
      "Epoch 9/15\n",
      "1276/1276 [==============================] - 302s 236ms/step - loss: 37053.4375 - custom_sequence_MMD_loss: 0.0500 - mean_absolute_percentage_error: 26.4424\n",
      "Epoch 10/15\n",
      "1276/1276 [==============================] - 726s 569ms/step - loss: 37054.0742 - custom_sequence_MMD_loss: 0.0500 - mean_absolute_percentage_error: 26.4474\n",
      "Epoch 11/15\n",
      "1276/1276 [==============================] - 578s 453ms/step - loss: 37053.5156 - custom_sequence_MMD_loss: 0.0500 - mean_absolute_percentage_error: 26.4484\n",
      "Epoch 12/15\n",
      "1276/1276 [==============================] - 279s 219ms/step - loss: 37053.4102 - custom_sequence_MMD_loss: 0.0500 - mean_absolute_percentage_error: 26.4458\n",
      "Epoch 13/15\n",
      "1276/1276 [==============================] - 278s 218ms/step - loss: 37053.5703 - custom_sequence_MMD_loss: 0.0500 - mean_absolute_percentage_error: 26.4584\n",
      "Epoch 14/15\n",
      "1276/1276 [==============================] - 279s 219ms/step - loss: 37053.7422 - custom_sequence_MMD_loss: 0.0500 - mean_absolute_percentage_error: 26.4381\n",
      "Epoch 15/15\n",
      "1276/1276 [==============================] - 280s 219ms/step - loss: 37054.1172 - custom_sequence_MMD_loss: 0.0500 - mean_absolute_percentage_error: 26.4454\n"
     ]
    }
   ],
   "source": [
    "history_low_learning_rate, glocal_low_learning_rate = run_experiment(sampled_dataX, sampled_dataY, epochs=15, \n",
    "                                                                     use_mse=True, learning_rate=0.0005, validation_split=0.0,\n",
    "                                                                     batch_size=20, dropout=0.0,\n",
    "                                                                     metrics=[JointLoss().custom_sequence_MMD_loss, \n",
    "                                                                              tf.keras.losses.mean_absolute_percentage_error])"
   ]
  },
  {
   "cell_type": "code",
   "execution_count": 21,
   "metadata": {
    "colab": {
     "base_uri": "https://localhost:8080/"
    },
    "id": "3wKSm6QMuGuc",
    "outputId": "e4be73cf-1c86-4ec8-d4d1-36b52558e78f"
   },
   "outputs": [
    {
     "name": "stdout",
     "output_type": "stream",
     "text": [
      "Epoch 1/10\n",
      "1276/1276 [==============================] - 340s 222ms/step - loss: 98099.7656 - custom_sequence_MMD_loss: 0.0500 - mean_absolute_percentage_error: 54.4614\n",
      "Epoch 2/10\n",
      "1276/1276 [==============================] - 282s 221ms/step - loss: 15513.4570 - custom_sequence_MMD_loss: 0.0500 - mean_absolute_percentage_error: 19.9811\n",
      "Epoch 3/10\n",
      "1276/1276 [==============================] - 283s 221ms/step - loss: 12093.3916 - custom_sequence_MMD_loss: 0.0500 - mean_absolute_percentage_error: 18.7132\n",
      "Epoch 4/10\n",
      "1276/1276 [==============================] - 281s 220ms/step - loss: 12078.9902 - custom_sequence_MMD_loss: 0.0500 - mean_absolute_percentage_error: 18.7472\n",
      "Epoch 5/10\n",
      "1276/1276 [==============================] - 281s 220ms/step - loss: 12080.1641 - custom_sequence_MMD_loss: 0.0500 - mean_absolute_percentage_error: 18.7579\n",
      "Epoch 6/10\n",
      "1276/1276 [==============================] - 282s 221ms/step - loss: 12077.4541 - custom_sequence_MMD_loss: 0.0500 - mean_absolute_percentage_error: 18.7503\n",
      "Epoch 7/10\n",
      "1276/1276 [==============================] - 283s 222ms/step - loss: 12078.2842 - custom_sequence_MMD_loss: 0.0500 - mean_absolute_percentage_error: 18.7561\n",
      "Epoch 8/10\n",
      "1276/1276 [==============================] - 283s 221ms/step - loss: 12080.4824 - custom_sequence_MMD_loss: 0.0500 - mean_absolute_percentage_error: 18.7572\n",
      "Epoch 9/10\n",
      "1276/1276 [==============================] - 283s 222ms/step - loss: 12081.6865 - custom_sequence_MMD_loss: 0.0500 - mean_absolute_percentage_error: 18.7487\n",
      "Epoch 10/10\n",
      "1276/1276 [==============================] - 282s 221ms/step - loss: 12078.7900 - custom_sequence_MMD_loss: 0.0500 - mean_absolute_percentage_error: 18.7555\n"
     ]
    }
   ],
   "source": [
    "#Running MMD with laplacian kernel\n",
    "history_laplacian, glocal_model_laplacian = run_experiment(sampled_dataX, sampled_dataY, epochs=10, \n",
    "                                                           use_mse=True, validation_split=0.0,\n",
    "                                                           batch_size=20, dropout=0.0,\n",
    "                                                           metrics=[JointLoss(mmd_kernel=\"laplacian\").custom_sequence_MMD_loss,\n",
    "                                                                    tf.keras.losses.mean_absolute_percentage_error])"
   ]
  },
  {
   "cell_type": "markdown",
   "metadata": {
    "id": "hQg05uuoRtEi"
   },
   "source": [
    "## Running Experiment with preprocessing"
   ]
  },
  {
   "cell_type": "markdown",
   "metadata": {},
   "source": [
    "### Without Downsampling"
   ]
  },
  {
   "cell_type": "code",
   "execution_count": 22,
   "metadata": {
    "colab": {
     "base_uri": "https://localhost:8080/"
    },
    "id": "On6oHsxuRxFS",
    "outputId": "63b6e4bc-0e4d-40ed-97e3-730159a49bc3"
   },
   "outputs": [
    {
     "name": "stdout",
     "output_type": "stream",
     "text": [
      "Epoch 1/50\n",
      "1276/1276 [==============================] - 333s 220ms/step - loss: 102243.4297 - custom_sequence_MMD_loss: 0.0500 - mean_absolute_percentage_error: 54.8054\n",
      "Epoch 2/50\n",
      "1276/1276 [==============================] - 283s 221ms/step - loss: 22807.3809 - custom_sequence_MMD_loss: 0.0500 - mean_absolute_percentage_error: 21.3080\n",
      "Epoch 3/50\n",
      "1276/1276 [==============================] - 286s 224ms/step - loss: 19574.1797 - custom_sequence_MMD_loss: 0.0500 - mean_absolute_percentage_error: 20.1709\n",
      "Epoch 4/50\n",
      "1276/1276 [==============================] - 293s 230ms/step - loss: 19563.6543 - custom_sequence_MMD_loss: 0.0500 - mean_absolute_percentage_error: 20.2226\n",
      "Epoch 5/50\n",
      "1276/1276 [==============================] - 298s 234ms/step - loss: 19563.9805 - custom_sequence_MMD_loss: 0.0500 - mean_absolute_percentage_error: 20.2183\n",
      "Epoch 6/50\n",
      "1276/1276 [==============================] - 295s 231ms/step - loss: 19564.6504 - custom_sequence_MMD_loss: 0.0500 - mean_absolute_percentage_error: 20.2179\n",
      "Epoch 7/50\n",
      "1276/1276 [==============================] - 279s 218ms/step - loss: 19565.3965 - custom_sequence_MMD_loss: 0.0500 - mean_absolute_percentage_error: 20.2242\n",
      "Epoch 8/50\n",
      "1276/1276 [==============================] - 270s 211ms/step - loss: 19876.5586 - custom_sequence_MMD_loss: 0.0500 - mean_absolute_percentage_error: 20.3339\n",
      "Epoch 9/50\n",
      "1276/1276 [==============================] - 271s 212ms/step - loss: 19547.0430 - custom_sequence_MMD_loss: 0.0500 - mean_absolute_percentage_error: 20.2048\n",
      "Epoch 10/50\n",
      "1276/1276 [==============================] - 270s 211ms/step - loss: 19547.3691 - custom_sequence_MMD_loss: 0.0500 - mean_absolute_percentage_error: 20.2068\n",
      "Epoch 11/50\n",
      "1276/1276 [==============================] - 270s 212ms/step - loss: 19547.6855 - custom_sequence_MMD_loss: 0.0500 - mean_absolute_percentage_error: 20.1995\n",
      "Epoch 12/50\n",
      "1276/1276 [==============================] - 276s 216ms/step - loss: 19546.9961 - custom_sequence_MMD_loss: 0.0500 - mean_absolute_percentage_error: 20.2056\n",
      "Epoch 13/50\n",
      "1276/1276 [==============================] - 283s 222ms/step - loss: 19547.5449 - custom_sequence_MMD_loss: 0.0500 - mean_absolute_percentage_error: 20.2052\n",
      "Epoch 14/50\n",
      "1276/1276 [==============================] - 284s 222ms/step - loss: 19545.5078 - custom_sequence_MMD_loss: 0.0500 - mean_absolute_percentage_error: 20.1989\n",
      "Epoch 15/50\n",
      "1276/1276 [==============================] - 283s 222ms/step - loss: 19546.7617 - custom_sequence_MMD_loss: 0.0500 - mean_absolute_percentage_error: 20.2123\n",
      "Epoch 16/50\n",
      "1276/1276 [==============================] - 283s 222ms/step - loss: 19547.0703 - custom_sequence_MMD_loss: 0.0500 - mean_absolute_percentage_error: 20.2025\n",
      "Epoch 17/50\n",
      "1276/1276 [==============================] - 285s 224ms/step - loss: 19546.5566 - custom_sequence_MMD_loss: 0.0500 - mean_absolute_percentage_error: 20.2090\n",
      "Epoch 18/50\n",
      "1276/1276 [==============================] - 285s 223ms/step - loss: 19546.3633 - custom_sequence_MMD_loss: 0.0500 - mean_absolute_percentage_error: 20.1997\n",
      "Epoch 19/50\n",
      "1276/1276 [==============================] - 282s 221ms/step - loss: 19546.8613 - custom_sequence_MMD_loss: 0.0500 - mean_absolute_percentage_error: 20.1996\n",
      "Epoch 20/50\n",
      "1276/1276 [==============================] - 283s 221ms/step - loss: 19546.1230 - custom_sequence_MMD_loss: 0.0500 - mean_absolute_percentage_error: 20.2176\n",
      "Epoch 21/50\n",
      "1276/1276 [==============================] - 280s 219ms/step - loss: 19546.1816 - custom_sequence_MMD_loss: 0.0500 - mean_absolute_percentage_error: 20.1951\n",
      "Epoch 22/50\n",
      "1276/1276 [==============================] - 272s 213ms/step - loss: 19547.0098 - custom_sequence_MMD_loss: 0.0500 - mean_absolute_percentage_error: 20.2085\n",
      "Epoch 23/50\n",
      "1276/1276 [==============================] - 286s 224ms/step - loss: 19546.0762 - custom_sequence_MMD_loss: 0.0500 - mean_absolute_percentage_error: 20.2026\n",
      "Epoch 24/50\n",
      "1276/1276 [==============================] - 312s 244ms/step - loss: 19546.0430 - custom_sequence_MMD_loss: 0.0500 - mean_absolute_percentage_error: 20.2044\n",
      "Epoch 25/50\n",
      "1276/1276 [==============================] - 325s 255ms/step - loss: 19548.2695 - custom_sequence_MMD_loss: 0.0500 - mean_absolute_percentage_error: 20.1990\n",
      "Epoch 26/50\n",
      "1276/1276 [==============================] - 326s 255ms/step - loss: 19546.4121 - custom_sequence_MMD_loss: 0.0500 - mean_absolute_percentage_error: 20.2095\n",
      "Epoch 27/50\n",
      "1276/1276 [==============================] - 324s 254ms/step - loss: 19547.0527 - custom_sequence_MMD_loss: 0.0500 - mean_absolute_percentage_error: 20.2036\n",
      "Epoch 28/50\n",
      "1276/1276 [==============================] - 324s 254ms/step - loss: 19547.1445 - custom_sequence_MMD_loss: 0.0500 - mean_absolute_percentage_error: 20.2043\n",
      "Epoch 29/50\n",
      "1276/1276 [==============================] - 307s 240ms/step - loss: 19545.5781 - custom_sequence_MMD_loss: 0.0500 - mean_absolute_percentage_error: 20.2055\n",
      "Epoch 30/50\n",
      "1276/1276 [==============================] - 285s 224ms/step - loss: 19547.4902 - custom_sequence_MMD_loss: 0.0500 - mean_absolute_percentage_error: 20.2063\n",
      "Epoch 31/50\n",
      "1276/1276 [==============================] - 284s 223ms/step - loss: 19546.9629 - custom_sequence_MMD_loss: 0.0500 - mean_absolute_percentage_error: 20.1890\n",
      "Epoch 32/50\n",
      "1276/1276 [==============================] - 287s 225ms/step - loss: 19547.8457 - custom_sequence_MMD_loss: 0.0500 - mean_absolute_percentage_error: 20.2103\n",
      "Epoch 33/50\n",
      "1276/1276 [==============================] - 289s 227ms/step - loss: 19544.9004 - custom_sequence_MMD_loss: 0.0500 - mean_absolute_percentage_error: 20.2049\n",
      "Epoch 34/50\n",
      "1276/1276 [==============================] - 325s 255ms/step - loss: 19548.8594 - custom_sequence_MMD_loss: 0.0500 - mean_absolute_percentage_error: 20.2009\n",
      "Epoch 35/50\n",
      "1276/1276 [==============================] - 327s 257ms/step - loss: 19546.0078 - custom_sequence_MMD_loss: 0.0500 - mean_absolute_percentage_error: 20.2132\n",
      "Epoch 36/50\n",
      "1276/1276 [==============================] - 324s 254ms/step - loss: 19546.9766 - custom_sequence_MMD_loss: 0.0500 - mean_absolute_percentage_error: 20.2006\n",
      "Epoch 37/50\n",
      "1276/1276 [==============================] - 323s 253ms/step - loss: 19546.4336 - custom_sequence_MMD_loss: 0.0500 - mean_absolute_percentage_error: 20.1979\n",
      "Epoch 38/50\n",
      "1276/1276 [==============================] - 323s 253ms/step - loss: 19547.1230 - custom_sequence_MMD_loss: 0.0500 - mean_absolute_percentage_error: 20.1854\n",
      "Epoch 39/50\n",
      "1276/1276 [==============================] - 328s 257ms/step - loss: 19546.2188 - custom_sequence_MMD_loss: 0.0500 - mean_absolute_percentage_error: 20.1986\n",
      "Epoch 40/50\n",
      "1276/1276 [==============================] - 328s 257ms/step - loss: 19547.2695 - custom_sequence_MMD_loss: 0.0500 - mean_absolute_percentage_error: 20.2008\n",
      "Epoch 41/50\n",
      "1276/1276 [==============================] - 325s 255ms/step - loss: 17998.8457 - custom_sequence_MMD_loss: 0.0500 - mean_absolute_percentage_error: 18.8445\n",
      "Epoch 42/50\n",
      "1276/1276 [==============================] - 331s 260ms/step - loss: 15878.1914 - custom_sequence_MMD_loss: 0.0500 - mean_absolute_percentage_error: 16.6782\n",
      "Epoch 43/50\n",
      "1276/1276 [==============================] - 345s 271ms/step - loss: 15459.3555 - custom_sequence_MMD_loss: 0.0500 - mean_absolute_percentage_error: 16.0620\n",
      "Epoch 44/50\n",
      "1276/1276 [==============================] - 341s 267ms/step - loss: 15311.7266 - custom_sequence_MMD_loss: 0.0500 - mean_absolute_percentage_error: 15.8171\n",
      "Epoch 45/50\n",
      "1276/1276 [==============================] - 342s 268ms/step - loss: 15367.7275 - custom_sequence_MMD_loss: 0.0500 - mean_absolute_percentage_error: 15.8945\n",
      "Epoch 46/50\n",
      "1276/1276 [==============================] - 340s 266ms/step - loss: 15052.6592 - custom_sequence_MMD_loss: 0.0500 - mean_absolute_percentage_error: 15.5256\n",
      "Epoch 47/50\n",
      "1276/1276 [==============================] - 341s 267ms/step - loss: 14837.5879 - custom_sequence_MMD_loss: 0.0500 - mean_absolute_percentage_error: 15.2160\n",
      "Epoch 48/50\n",
      "1276/1276 [==============================] - 340s 267ms/step - loss: 14306.8604 - custom_sequence_MMD_loss: 0.0500 - mean_absolute_percentage_error: 14.3320\n",
      "Epoch 49/50\n",
      "1276/1276 [==============================] - 340s 267ms/step - loss: 13901.2764 - custom_sequence_MMD_loss: 0.0500 - mean_absolute_percentage_error: 13.6856\n",
      "Epoch 50/50\n",
      "1276/1276 [==============================] - 342s 268ms/step - loss: 13532.5078 - custom_sequence_MMD_loss: 0.0500 - mean_absolute_percentage_error: 13.0091\n"
     ]
    }
   ],
   "source": [
    "history_preprocessed, glocal_model_preprocessed = run_experiment(preprocessed_sampled_dataX, preprocessed_sampled_dataY,\n",
    "                                                                 batch_size=20, dropout=0.0,\n",
    "                                                                 epochs=50, use_mse=True, \n",
    "                                                                 metrics=[JointLoss().custom_sequence_MMD_loss,\n",
    "                                                                          tf.keras.losses.mean_absolute_percentage_error], \n",
    "                                                                 validation_split=0.0)"
   ]
  },
  {
   "cell_type": "code",
   "execution_count": 23,
   "metadata": {
    "colab": {
     "base_uri": "https://localhost:8080/"
    },
    "id": "zDY6p981x_s3",
    "outputId": "a0d804dd-fe9b-4534-9fa8-aa22b2ec7f4d"
   },
   "outputs": [
    {
     "name": "stdout",
     "output_type": "stream",
     "text": [
      "Epoch 1/50\n",
      "1276/1276 [==============================] - 319s 192ms/step - loss: 113417.9297 - custom_sequence_MMD_loss: 0.0500 - mean_absolute_percentage_error: 58.3448\n",
      "Epoch 2/50\n",
      "1276/1276 [==============================] - 243s 190ms/step - loss: 40860.0938 - custom_sequence_MMD_loss: 0.0500 - mean_absolute_percentage_error: 27.8470\n",
      "Epoch 3/50\n",
      "1276/1276 [==============================] - 239s 187ms/step - loss: 37959.8750 - custom_sequence_MMD_loss: 0.0500 - mean_absolute_percentage_error: 26.9271\n",
      "Epoch 4/50\n",
      "1276/1276 [==============================] - 246s 193ms/step - loss: 37954.3594 - custom_sequence_MMD_loss: 0.0500 - mean_absolute_percentage_error: 26.9771\n",
      "Epoch 5/50\n",
      "1276/1276 [==============================] - 225s 176ms/step - loss: 37954.8828 - custom_sequence_MMD_loss: 0.0500 - mean_absolute_percentage_error: 26.9749\n",
      "Epoch 6/50\n",
      "1276/1276 [==============================] - 217s 170ms/step - loss: 37955.5938 - custom_sequence_MMD_loss: 0.0500 - mean_absolute_percentage_error: 26.9748\n",
      "Epoch 7/50\n",
      "1276/1276 [==============================] - 217s 170ms/step - loss: 37957.1797 - custom_sequence_MMD_loss: 0.0500 - mean_absolute_percentage_error: 26.9696\n",
      "Epoch 8/50\n",
      "1276/1276 [==============================] - 217s 170ms/step - loss: 28303.0254 - custom_sequence_MMD_loss: 0.0500 - mean_absolute_percentage_error: 22.5673\n",
      "Epoch 9/50\n",
      "1276/1276 [==============================] - 219s 172ms/step - loss: 23438.4668 - custom_sequence_MMD_loss: 0.0500 - mean_absolute_percentage_error: 18.8634\n",
      "Epoch 10/50\n",
      "1276/1276 [==============================] - 217s 170ms/step - loss: 21729.9766 - custom_sequence_MMD_loss: 0.0500 - mean_absolute_percentage_error: 16.7379\n",
      "Epoch 11/50\n",
      "1276/1276 [==============================] - 216s 169ms/step - loss: 18847.7070 - custom_sequence_MMD_loss: 0.0500 - mean_absolute_percentage_error: 14.6365\n",
      "Epoch 12/50\n",
      "1276/1276 [==============================] - 219s 172ms/step - loss: 18526.4785 - custom_sequence_MMD_loss: 0.0500 - mean_absolute_percentage_error: 14.0891\n",
      "Epoch 13/50\n",
      "1276/1276 [==============================] - 222s 174ms/step - loss: 18390.1855 - custom_sequence_MMD_loss: 0.0500 - mean_absolute_percentage_error: 13.8789\n",
      "Epoch 14/50\n",
      "1276/1276 [==============================] - 215s 169ms/step - loss: 15813.0947 - custom_sequence_MMD_loss: 0.0500 - mean_absolute_percentage_error: 13.1241\n",
      "Epoch 15/50\n",
      "1276/1276 [==============================] - 217s 170ms/step - loss: 12763.3154 - custom_sequence_MMD_loss: 0.0500 - mean_absolute_percentage_error: 11.9781\n",
      "Epoch 16/50\n",
      "1276/1276 [==============================] - 296s 232ms/step - loss: 12575.9111 - custom_sequence_MMD_loss: 0.0500 - mean_absolute_percentage_error: 11.7059\n",
      "Epoch 17/50\n",
      "1276/1276 [==============================] - 342s 268ms/step - loss: 12451.5059 - custom_sequence_MMD_loss: 0.0500 - mean_absolute_percentage_error: 11.5129\n",
      "Epoch 18/50\n",
      "1276/1276 [==============================] - 449s 352ms/step - loss: 12364.3340 - custom_sequence_MMD_loss: 0.0500 - mean_absolute_percentage_error: 11.3726\n",
      "Epoch 19/50\n",
      "1276/1276 [==============================] - 389s 305ms/step - loss: 12276.3057 - custom_sequence_MMD_loss: 0.0500 - mean_absolute_percentage_error: 11.2099\n",
      "Epoch 20/50\n",
      "1276/1276 [==============================] - 191s 150ms/step - loss: 12205.5840 - custom_sequence_MMD_loss: 0.0500 - mean_absolute_percentage_error: 11.0857\n",
      "Epoch 21/50\n",
      "1276/1276 [==============================] - 192s 150ms/step - loss: 12156.3320 - custom_sequence_MMD_loss: 0.0500 - mean_absolute_percentage_error: 10.9881\n",
      "Epoch 22/50\n",
      "1276/1276 [==============================] - 191s 150ms/step - loss: 12138.7412 - custom_sequence_MMD_loss: 0.0500 - mean_absolute_percentage_error: 10.9523\n",
      "Epoch 23/50\n",
      "1276/1276 [==============================] - 191s 149ms/step - loss: 12065.5752 - custom_sequence_MMD_loss: 0.0500 - mean_absolute_percentage_error: 10.8266\n",
      "Epoch 24/50\n",
      "1276/1276 [==============================] - 190s 149ms/step - loss: 12034.6846 - custom_sequence_MMD_loss: 0.0500 - mean_absolute_percentage_error: 10.7482\n",
      "Epoch 25/50\n",
      "1276/1276 [==============================] - 191s 149ms/step - loss: 12005.9775 - custom_sequence_MMD_loss: 0.0500 - mean_absolute_percentage_error: 10.6772\n",
      "Epoch 26/50\n",
      "1276/1276 [==============================] - 190s 149ms/step - loss: 11957.5098 - custom_sequence_MMD_loss: 0.0500 - mean_absolute_percentage_error: 10.5867\n",
      "Epoch 27/50\n",
      "1276/1276 [==============================] - 190s 149ms/step - loss: 11962.7109 - custom_sequence_MMD_loss: 0.0500 - mean_absolute_percentage_error: 10.5750\n",
      "Epoch 28/50\n",
      "1276/1276 [==============================] - 192s 150ms/step - loss: 11891.8066 - custom_sequence_MMD_loss: 0.0500 - mean_absolute_percentage_error: 10.4259\n",
      "Epoch 29/50\n",
      "1276/1276 [==============================] - 190s 149ms/step - loss: 11870.8779 - custom_sequence_MMD_loss: 0.0500 - mean_absolute_percentage_error: 10.3663\n",
      "Epoch 30/50\n",
      "1276/1276 [==============================] - 192s 150ms/step - loss: 11860.3916 - custom_sequence_MMD_loss: 0.0500 - mean_absolute_percentage_error: 10.3397\n",
      "Epoch 31/50\n",
      "1276/1276 [==============================] - 191s 150ms/step - loss: 11847.7432 - custom_sequence_MMD_loss: 0.0500 - mean_absolute_percentage_error: 10.3070\n",
      "Epoch 32/50\n",
      "1276/1276 [==============================] - 190s 149ms/step - loss: 11817.0420 - custom_sequence_MMD_loss: 0.0500 - mean_absolute_percentage_error: 10.2401\n",
      "Epoch 33/50\n",
      "1276/1276 [==============================] - 190s 149ms/step - loss: 11799.4023 - custom_sequence_MMD_loss: 0.0500 - mean_absolute_percentage_error: 10.1967\n",
      "Epoch 34/50\n",
      "1276/1276 [==============================] - 191s 150ms/step - loss: 11781.6475 - custom_sequence_MMD_loss: 0.0500 - mean_absolute_percentage_error: 10.1692\n",
      "Epoch 35/50\n",
      "1276/1276 [==============================] - 191s 149ms/step - loss: 11762.4648 - custom_sequence_MMD_loss: 0.0500 - mean_absolute_percentage_error: 10.1356\n",
      "Epoch 36/50\n",
      "1276/1276 [==============================] - 190s 149ms/step - loss: 11749.0547 - custom_sequence_MMD_loss: 0.0500 - mean_absolute_percentage_error: 10.1054\n",
      "Epoch 37/50\n",
      "1276/1276 [==============================] - 192s 151ms/step - loss: 11727.7217 - custom_sequence_MMD_loss: 0.0500 - mean_absolute_percentage_error: 10.0739\n",
      "Epoch 38/50\n",
      "1276/1276 [==============================] - 191s 150ms/step - loss: 11690.7891 - custom_sequence_MMD_loss: 0.0500 - mean_absolute_percentage_error: 9.9924\n",
      "Epoch 39/50\n",
      "1276/1276 [==============================] - 192s 150ms/step - loss: 11720.7637 - custom_sequence_MMD_loss: 0.0500 - mean_absolute_percentage_error: 10.0442\n",
      "Epoch 40/50\n",
      "1276/1276 [==============================] - 193s 151ms/step - loss: 11672.9023 - custom_sequence_MMD_loss: 0.0500 - mean_absolute_percentage_error: 9.9634\n",
      "Epoch 41/50\n",
      "1276/1276 [==============================] - 191s 150ms/step - loss: 11677.7705 - custom_sequence_MMD_loss: 0.0500 - mean_absolute_percentage_error: 9.9641\n",
      "Epoch 42/50\n",
      "1276/1276 [==============================] - 190s 149ms/step - loss: 11628.7891 - custom_sequence_MMD_loss: 0.0500 - mean_absolute_percentage_error: 9.8657\n",
      "Epoch 43/50\n",
      "1276/1276 [==============================] - 192s 150ms/step - loss: 11626.8438 - custom_sequence_MMD_loss: 0.0500 - mean_absolute_percentage_error: 9.8511\n",
      "Epoch 44/50\n",
      "1276/1276 [==============================] - 192s 150ms/step - loss: 11604.6279 - custom_sequence_MMD_loss: 0.0500 - mean_absolute_percentage_error: 9.8186\n",
      "Epoch 45/50\n",
      "1276/1276 [==============================] - 191s 150ms/step - loss: 11601.2012 - custom_sequence_MMD_loss: 0.0500 - mean_absolute_percentage_error: 9.8135\n",
      "Epoch 46/50\n",
      "1276/1276 [==============================] - 193s 151ms/step - loss: 11568.5381 - custom_sequence_MMD_loss: 0.0500 - mean_absolute_percentage_error: 9.7437\n",
      "Epoch 47/50\n",
      "1276/1276 [==============================] - 191s 150ms/step - loss: 11581.9971 - custom_sequence_MMD_loss: 0.0500 - mean_absolute_percentage_error: 9.7643\n",
      "Epoch 48/50\n",
      "1276/1276 [==============================] - 192s 151ms/step - loss: 11561.6367 - custom_sequence_MMD_loss: 0.0500 - mean_absolute_percentage_error: 9.7231\n",
      "Epoch 49/50\n",
      "1276/1276 [==============================] - 193s 151ms/step - loss: 11558.2842 - custom_sequence_MMD_loss: 0.0500 - mean_absolute_percentage_error: 9.6980\n",
      "Epoch 50/50\n",
      "1276/1276 [==============================] - 194s 152ms/step - loss: 11502.7764 - custom_sequence_MMD_loss: 0.0500 - mean_absolute_percentage_error: 9.6023\n"
     ]
    }
   ],
   "source": [
    "history_interpolation_only, glocal_interpolation_only = run_experiment(preprocessed_sampled_dataX, preprocessed_sampled_dataY,\n",
    "                                                                       batch_size=20, dropout=0.0, exclude_locgen=True,\n",
    "                                                                       epochs=50, use_mse=True, \n",
    "                                                                       metrics=[JointLoss().custom_sequence_MMD_loss,\n",
    "                                                                                tf.keras.losses.mean_absolute_percentage_error], \n",
    "                                                                       validation_split=0.0)"
   ]
  },
  {
   "cell_type": "markdown",
   "metadata": {},
   "source": [
    "### With Downsampling"
   ]
  },
  {
   "cell_type": "code",
   "execution_count": 33,
   "metadata": {},
   "outputs": [
    {
     "name": "stdout",
     "output_type": "stream",
     "text": [
      "Epoch 1/50\n",
      "1276/1276 [==============================] - 156s 101ms/step - loss: 104523.2422 - custom_sequence_MMD_loss: 0.0500 - mean_absolute_percentage_error: 56.6736\n",
      "Epoch 2/50\n",
      "1276/1276 [==============================] - 133s 104ms/step - loss: 25759.8691 - custom_sequence_MMD_loss: 0.0500 - mean_absolute_percentage_error: 23.7290\n",
      "Epoch 3/50\n",
      "1276/1276 [==============================] - 132s 103ms/step - loss: 22486.5449 - custom_sequence_MMD_loss: 0.0500 - mean_absolute_percentage_error: 22.4776\n",
      "Epoch 4/50\n",
      "1276/1276 [==============================] - 134s 105ms/step - loss: 22474.7441 - custom_sequence_MMD_loss: 0.0500 - mean_absolute_percentage_error: 22.5231\n",
      "Epoch 5/50\n",
      "1276/1276 [==============================] - 134s 105ms/step - loss: 22474.8770 - custom_sequence_MMD_loss: 0.0500 - mean_absolute_percentage_error: 22.5234\n",
      "Epoch 6/50\n",
      "1276/1276 [==============================] - 134s 105ms/step - loss: 22476.1328 - custom_sequence_MMD_loss: 0.0500 - mean_absolute_percentage_error: 22.5247\n",
      "Epoch 7/50\n",
      "1276/1276 [==============================] - 135s 105ms/step - loss: 22473.2793 - custom_sequence_MMD_loss: 0.0500 - mean_absolute_percentage_error: 22.5240\n",
      "Epoch 8/50\n",
      "1276/1276 [==============================] - 134s 105ms/step - loss: 22472.5410 - custom_sequence_MMD_loss: 0.0500 - mean_absolute_percentage_error: 22.5158\n",
      "Epoch 9/50\n",
      "1276/1276 [==============================] - 131s 102ms/step - loss: 22470.8340 - custom_sequence_MMD_loss: 0.0500 - mean_absolute_percentage_error: 22.5200\n",
      "Epoch 10/50\n",
      "1276/1276 [==============================] - 131s 102ms/step - loss: 22470.7285 - custom_sequence_MMD_loss: 0.0500 - mean_absolute_percentage_error: 22.5165\n",
      "Epoch 11/50\n",
      "1276/1276 [==============================] - 131s 102ms/step - loss: 22469.5898 - custom_sequence_MMD_loss: 0.0500 - mean_absolute_percentage_error: 22.5173\n",
      "Epoch 12/50\n",
      "1276/1276 [==============================] - 132s 103ms/step - loss: 22467.1934 - custom_sequence_MMD_loss: 0.0500 - mean_absolute_percentage_error: 22.5068\n",
      "Epoch 13/50\n",
      "1276/1276 [==============================] - 131s 103ms/step - loss: 22441.7637 - custom_sequence_MMD_loss: 0.0500 - mean_absolute_percentage_error: 22.4901\n",
      "Epoch 14/50\n",
      "1276/1276 [==============================] - 131s 103ms/step - loss: 22441.6133 - custom_sequence_MMD_loss: 0.0500 - mean_absolute_percentage_error: 22.4943\n",
      "Epoch 15/50\n",
      "1276/1276 [==============================] - 131s 103ms/step - loss: 22440.2832 - custom_sequence_MMD_loss: 0.0500 - mean_absolute_percentage_error: 22.4888\n",
      "Epoch 16/50\n",
      "1276/1276 [==============================] - 131s 103ms/step - loss: 22438.7812 - custom_sequence_MMD_loss: 0.0500 - mean_absolute_percentage_error: 22.4859\n",
      "Epoch 17/50\n",
      "1276/1276 [==============================] - 132s 103ms/step - loss: 22440.4395 - custom_sequence_MMD_loss: 0.0500 - mean_absolute_percentage_error: 22.4937\n",
      "Epoch 18/50\n",
      "1276/1276 [==============================] - 130s 102ms/step - loss: 22439.0664 - custom_sequence_MMD_loss: 0.0500 - mean_absolute_percentage_error: 22.4896\n",
      "Epoch 19/50\n",
      "1276/1276 [==============================] - 130s 102ms/step - loss: 22437.8750 - custom_sequence_MMD_loss: 0.0500 - mean_absolute_percentage_error: 22.4905\n",
      "Epoch 20/50\n",
      "1276/1276 [==============================] - 130s 102ms/step - loss: 22437.5645 - custom_sequence_MMD_loss: 0.0500 - mean_absolute_percentage_error: 22.4863\n",
      "Epoch 21/50\n",
      "1276/1276 [==============================] - 130s 102ms/step - loss: 20145.4512 - custom_sequence_MMD_loss: 0.0500 - mean_absolute_percentage_error: 21.8837\n",
      "Epoch 22/50\n",
      "1276/1276 [==============================] - 130s 102ms/step - loss: 18033.2949 - custom_sequence_MMD_loss: 0.0500 - mean_absolute_percentage_error: 21.2767\n",
      "Epoch 23/50\n",
      "1276/1276 [==============================] - 131s 103ms/step - loss: 18024.9238 - custom_sequence_MMD_loss: 0.0500 - mean_absolute_percentage_error: 21.2952\n",
      "Epoch 24/50\n",
      "1276/1276 [==============================] - 130s 102ms/step - loss: 18026.7363 - custom_sequence_MMD_loss: 0.0500 - mean_absolute_percentage_error: 21.2779\n",
      "Epoch 25/50\n",
      "1276/1276 [==============================] - 130s 102ms/step - loss: 18029.1055 - custom_sequence_MMD_loss: 0.0500 - mean_absolute_percentage_error: 21.2630\n",
      "Epoch 26/50\n",
      "1276/1276 [==============================] - 131s 102ms/step - loss: 17861.1211 - custom_sequence_MMD_loss: 0.0500 - mean_absolute_percentage_error: 21.1685\n",
      "Epoch 27/50\n",
      "1276/1276 [==============================] - 131s 103ms/step - loss: 14890.9375 - custom_sequence_MMD_loss: 0.0408 - mean_absolute_percentage_error: 19.4252\n",
      "Epoch 28/50\n",
      "1276/1276 [==============================] - 133s 104ms/step - loss: 6667.2158 - custom_sequence_MMD_loss: 0.0000e+00 - mean_absolute_percentage_error: 14.4836\n",
      "Epoch 29/50\n",
      "1276/1276 [==============================] - 135s 106ms/step - loss: 5572.4810 - custom_sequence_MMD_loss: 0.0000e+00 - mean_absolute_percentage_error: 13.1754\n",
      "Epoch 30/50\n",
      "1276/1276 [==============================] - 135s 106ms/step - loss: 5312.6616 - custom_sequence_MMD_loss: 0.0000e+00 - mean_absolute_percentage_error: 12.8564\n",
      "Epoch 31/50\n",
      "1276/1276 [==============================] - 135s 106ms/step - loss: 5260.6973 - custom_sequence_MMD_loss: 0.0000e+00 - mean_absolute_percentage_error: 12.7664\n",
      "Epoch 32/50\n",
      "1276/1276 [==============================] - 135s 105ms/step - loss: 5008.2544 - custom_sequence_MMD_loss: 0.0000e+00 - mean_absolute_percentage_error: 12.4088\n",
      "Epoch 33/50\n",
      "1276/1276 [==============================] - 134s 105ms/step - loss: 4269.0679 - custom_sequence_MMD_loss: 0.0000e+00 - mean_absolute_percentage_error: 11.2798\n",
      "Epoch 34/50\n",
      "1276/1276 [==============================] - 134s 105ms/step - loss: 4397.8071 - custom_sequence_MMD_loss: 0.0000e+00 - mean_absolute_percentage_error: 11.4716\n",
      "Epoch 35/50\n",
      "1276/1276 [==============================] - 135s 106ms/step - loss: 3816.6189 - custom_sequence_MMD_loss: 0.0000e+00 - mean_absolute_percentage_error: 10.4905\n",
      "Epoch 36/50\n",
      "1276/1276 [==============================] - 135s 105ms/step - loss: 3637.5239 - custom_sequence_MMD_loss: 0.0000e+00 - mean_absolute_percentage_error: 10.1216\n",
      "Epoch 37/50\n",
      "1276/1276 [==============================] - 134s 105ms/step - loss: 3587.5054 - custom_sequence_MMD_loss: 0.0000e+00 - mean_absolute_percentage_error: 10.0329\n",
      "Epoch 38/50\n",
      "1276/1276 [==============================] - 135s 106ms/step - loss: 3515.2883 - custom_sequence_MMD_loss: 0.0000e+00 - mean_absolute_percentage_error: 9.8918\n",
      "Epoch 39/50\n",
      "1276/1276 [==============================] - 135s 106ms/step - loss: 3517.3398 - custom_sequence_MMD_loss: 0.0000e+00 - mean_absolute_percentage_error: 9.8980\n",
      "Epoch 40/50\n",
      "1276/1276 [==============================] - 135s 106ms/step - loss: 3480.8083 - custom_sequence_MMD_loss: 0.0000e+00 - mean_absolute_percentage_error: 9.8334\n",
      "Epoch 41/50\n",
      "1276/1276 [==============================] - 135s 106ms/step - loss: 3456.3469 - custom_sequence_MMD_loss: 0.0000e+00 - mean_absolute_percentage_error: 9.7928\n",
      "Epoch 42/50\n",
      "1276/1276 [==============================] - 136s 106ms/step - loss: 3365.3809 - custom_sequence_MMD_loss: 0.0000e+00 - mean_absolute_percentage_error: 9.6541\n",
      "Epoch 43/50\n",
      "1276/1276 [==============================] - 135s 106ms/step - loss: 3339.9333 - custom_sequence_MMD_loss: 0.0000e+00 - mean_absolute_percentage_error: 9.6366\n",
      "Epoch 44/50\n",
      "1276/1276 [==============================] - 136s 106ms/step - loss: 3272.6724 - custom_sequence_MMD_loss: 0.0000e+00 - mean_absolute_percentage_error: 9.5626\n",
      "Epoch 45/50\n",
      "1276/1276 [==============================] - 135s 106ms/step - loss: 3198.0208 - custom_sequence_MMD_loss: 0.0000e+00 - mean_absolute_percentage_error: 9.4357\n",
      "Epoch 46/50\n",
      "1276/1276 [==============================] - 135s 106ms/step - loss: 3172.9148 - custom_sequence_MMD_loss: 0.0000e+00 - mean_absolute_percentage_error: 9.4253\n",
      "Epoch 47/50\n",
      "1276/1276 [==============================] - 135s 106ms/step - loss: 3091.6167 - custom_sequence_MMD_loss: 0.0000e+00 - mean_absolute_percentage_error: 9.2885\n",
      "Epoch 48/50\n",
      "1276/1276 [==============================] - 136s 106ms/step - loss: 3033.7979 - custom_sequence_MMD_loss: 0.0000e+00 - mean_absolute_percentage_error: 9.2228\n",
      "Epoch 49/50\n",
      "1276/1276 [==============================] - 135s 106ms/step - loss: 2944.5581 - custom_sequence_MMD_loss: 0.0000e+00 - mean_absolute_percentage_error: 9.0871\n",
      "Epoch 50/50\n",
      "1276/1276 [==============================] - 135s 106ms/step - loss: 2811.3049 - custom_sequence_MMD_loss: 0.0000e+00 - mean_absolute_percentage_error: 8.8767\n"
     ]
    }
   ],
   "source": [
    "history_preprocessed, glocal_model_preprocessed = run_experiment(preprocessed_downsampled_dataX, preprocessed_downsampled_dataY,\n",
    "                                                                 batch_size=20, dropout=0.0,\n",
    "                                                                 epochs=50, use_mse=True, \n",
    "                                                                 metrics=[JointLoss().custom_sequence_MMD_loss,\n",
    "                                                                          tf.keras.losses.mean_absolute_percentage_error], \n",
    "                                                                 validation_split=0.0, interpolate_frames = 2)"
   ]
  },
  {
   "cell_type": "code",
   "execution_count": 34,
   "metadata": {},
   "outputs": [
    {
     "name": "stdout",
     "output_type": "stream",
     "text": [
      "Epoch 1/50\n",
      "1276/1276 [==============================] - 106s 64ms/step - loss: 102362.4844 - custom_sequence_MMD_loss: 0.0500 - mean_absolute_percentage_error: 55.6589\n",
      "Epoch 2/50\n",
      "1276/1276 [==============================] - 83s 65ms/step - loss: 23386.0957 - custom_sequence_MMD_loss: 0.0500 - mean_absolute_percentage_error: 22.3700\n",
      "Epoch 3/50\n",
      "1276/1276 [==============================] - 83s 65ms/step - loss: 20204.5078 - custom_sequence_MMD_loss: 0.0500 - mean_absolute_percentage_error: 21.1436\n",
      "Epoch 4/50\n",
      "1276/1276 [==============================] - 83s 65ms/step - loss: 20193.9922 - custom_sequence_MMD_loss: 0.0500 - mean_absolute_percentage_error: 21.1928\n",
      "Epoch 5/50\n",
      "1276/1276 [==============================] - 83s 65ms/step - loss: 20195.3789 - custom_sequence_MMD_loss: 0.0500 - mean_absolute_percentage_error: 21.1889\n",
      "Epoch 6/50\n",
      "1276/1276 [==============================] - 82s 64ms/step - loss: 20195.5820 - custom_sequence_MMD_loss: 0.0500 - mean_absolute_percentage_error: 21.1916\n",
      "Epoch 7/50\n",
      "1276/1276 [==============================] - 84s 66ms/step - loss: 20195.6055 - custom_sequence_MMD_loss: 0.0500 - mean_absolute_percentage_error: 21.1882\n",
      "Epoch 8/50\n",
      "1276/1276 [==============================] - 84s 66ms/step - loss: 18607.9883 - custom_sequence_MMD_loss: 0.0500 - mean_absolute_percentage_error: 20.7833\n",
      "Epoch 9/50\n",
      "1276/1276 [==============================] - 81s 64ms/step - loss: 15204.7100 - custom_sequence_MMD_loss: 0.0500 - mean_absolute_percentage_error: 19.4427\n",
      "Epoch 10/50\n",
      "1276/1276 [==============================] - 78s 61ms/step - loss: 12606.2285 - custom_sequence_MMD_loss: 0.0500 - mean_absolute_percentage_error: 17.0080\n",
      "Epoch 11/50\n",
      "1276/1276 [==============================] - 78s 61ms/step - loss: 11666.5479 - custom_sequence_MMD_loss: 0.0500 - mean_absolute_percentage_error: 15.7348\n",
      "Epoch 12/50\n",
      "1276/1276 [==============================] - 78s 61ms/step - loss: 10777.0957 - custom_sequence_MMD_loss: 0.0500 - mean_absolute_percentage_error: 14.3562\n",
      "Epoch 13/50\n",
      "1276/1276 [==============================] - 77s 61ms/step - loss: 10041.6699 - custom_sequence_MMD_loss: 0.0500 - mean_absolute_percentage_error: 13.1581\n",
      "Epoch 14/50\n",
      "1276/1276 [==============================] - 77s 60ms/step - loss: 9787.0840 - custom_sequence_MMD_loss: 0.0500 - mean_absolute_percentage_error: 12.6983\n",
      "Epoch 15/50\n",
      "1276/1276 [==============================] - 77s 60ms/step - loss: 9669.6133 - custom_sequence_MMD_loss: 0.0500 - mean_absolute_percentage_error: 12.5054\n",
      "Epoch 16/50\n",
      "1276/1276 [==============================] - 77s 60ms/step - loss: 9502.6162 - custom_sequence_MMD_loss: 0.0500 - mean_absolute_percentage_error: 12.2698\n",
      "Epoch 17/50\n",
      "1276/1276 [==============================] - 77s 60ms/step - loss: 9080.1416 - custom_sequence_MMD_loss: 0.0500 - mean_absolute_percentage_error: 11.8266\n",
      "Epoch 18/50\n",
      "1276/1276 [==============================] - 77s 61ms/step - loss: 7501.6494 - custom_sequence_MMD_loss: 0.0500 - mean_absolute_percentage_error: 10.3601\n",
      "Epoch 19/50\n",
      "1276/1276 [==============================] - 78s 61ms/step - loss: 7291.7598 - custom_sequence_MMD_loss: 0.0500 - mean_absolute_percentage_error: 10.0343\n",
      "Epoch 20/50\n",
      "1276/1276 [==============================] - 77s 61ms/step - loss: 7176.9175 - custom_sequence_MMD_loss: 0.0500 - mean_absolute_percentage_error: 9.8173\n",
      "Epoch 21/50\n",
      "1276/1276 [==============================] - 77s 60ms/step - loss: 7074.4771 - custom_sequence_MMD_loss: 0.0500 - mean_absolute_percentage_error: 9.6200\n",
      "Epoch 22/50\n",
      "1276/1276 [==============================] - 77s 60ms/step - loss: 6989.7861 - custom_sequence_MMD_loss: 0.0500 - mean_absolute_percentage_error: 9.4779\n",
      "Epoch 23/50\n",
      "1276/1276 [==============================] - 77s 60ms/step - loss: 6875.1606 - custom_sequence_MMD_loss: 0.0500 - mean_absolute_percentage_error: 9.2823\n",
      "Epoch 24/50\n",
      "1276/1276 [==============================] - 77s 61ms/step - loss: 6749.9565 - custom_sequence_MMD_loss: 0.0500 - mean_absolute_percentage_error: 9.0668\n",
      "Epoch 25/50\n",
      "1276/1276 [==============================] - 77s 60ms/step - loss: 6675.3506 - custom_sequence_MMD_loss: 0.0500 - mean_absolute_percentage_error: 8.9258\n",
      "Epoch 26/50\n",
      "1276/1276 [==============================] - 77s 60ms/step - loss: 6588.8413 - custom_sequence_MMD_loss: 0.0500 - mean_absolute_percentage_error: 8.7657\n",
      "Epoch 27/50\n",
      "1276/1276 [==============================] - 78s 61ms/step - loss: 6535.8242 - custom_sequence_MMD_loss: 0.0500 - mean_absolute_percentage_error: 8.6537\n",
      "Epoch 28/50\n",
      "1276/1276 [==============================] - 77s 60ms/step - loss: 6479.0879 - custom_sequence_MMD_loss: 0.0500 - mean_absolute_percentage_error: 8.5269\n",
      "Epoch 29/50\n",
      "1276/1276 [==============================] - 77s 60ms/step - loss: 6450.4966 - custom_sequence_MMD_loss: 0.0500 - mean_absolute_percentage_error: 8.4526\n",
      "Epoch 30/50\n",
      "1276/1276 [==============================] - 77s 60ms/step - loss: 6412.5405 - custom_sequence_MMD_loss: 0.0500 - mean_absolute_percentage_error: 8.3667\n",
      "Epoch 31/50\n",
      "1276/1276 [==============================] - 78s 61ms/step - loss: 6367.7637 - custom_sequence_MMD_loss: 0.0500 - mean_absolute_percentage_error: 8.2699\n",
      "Epoch 32/50\n",
      "1276/1276 [==============================] - 78s 61ms/step - loss: 6315.1694 - custom_sequence_MMD_loss: 0.0500 - mean_absolute_percentage_error: 8.1687\n",
      "Epoch 33/50\n",
      "1276/1276 [==============================] - 78s 61ms/step - loss: 6309.7480 - custom_sequence_MMD_loss: 0.0500 - mean_absolute_percentage_error: 8.1503\n",
      "Epoch 34/50\n",
      "1276/1276 [==============================] - 78s 61ms/step - loss: 6253.3110 - custom_sequence_MMD_loss: 0.0500 - mean_absolute_percentage_error: 8.0256\n",
      "Epoch 35/50\n",
      "1276/1276 [==============================] - 79s 62ms/step - loss: 6231.1162 - custom_sequence_MMD_loss: 0.0500 - mean_absolute_percentage_error: 7.9793\n",
      "Epoch 36/50\n",
      "1276/1276 [==============================] - 78s 61ms/step - loss: 6199.4092 - custom_sequence_MMD_loss: 0.0500 - mean_absolute_percentage_error: 7.9049\n",
      "Epoch 37/50\n",
      "1276/1276 [==============================] - 78s 61ms/step - loss: 6175.4951 - custom_sequence_MMD_loss: 0.0500 - mean_absolute_percentage_error: 7.8599\n",
      "Epoch 38/50\n",
      "1276/1276 [==============================] - 77s 61ms/step - loss: 6157.4512 - custom_sequence_MMD_loss: 0.0500 - mean_absolute_percentage_error: 7.8256\n",
      "Epoch 39/50\n",
      "1276/1276 [==============================] - 78s 61ms/step - loss: 6112.8350 - custom_sequence_MMD_loss: 0.0500 - mean_absolute_percentage_error: 7.7254\n",
      "Epoch 40/50\n",
      "1276/1276 [==============================] - 77s 61ms/step - loss: 6095.4951 - custom_sequence_MMD_loss: 0.0500 - mean_absolute_percentage_error: 7.6849\n",
      "Epoch 41/50\n",
      "1276/1276 [==============================] - 78s 61ms/step - loss: 6083.7158 - custom_sequence_MMD_loss: 0.0500 - mean_absolute_percentage_error: 7.6618\n",
      "Epoch 42/50\n",
      "1276/1276 [==============================] - 78s 61ms/step - loss: 6049.3682 - custom_sequence_MMD_loss: 0.0500 - mean_absolute_percentage_error: 7.5797\n",
      "Epoch 43/50\n",
      "1276/1276 [==============================] - 78s 61ms/step - loss: 6045.3330 - custom_sequence_MMD_loss: 0.0500 - mean_absolute_percentage_error: 7.5717\n",
      "Epoch 44/50\n",
      "1276/1276 [==============================] - 78s 61ms/step - loss: 6014.7983 - custom_sequence_MMD_loss: 0.0500 - mean_absolute_percentage_error: 7.4996\n",
      "Epoch 45/50\n",
      "1276/1276 [==============================] - 78s 61ms/step - loss: 5999.8833 - custom_sequence_MMD_loss: 0.0500 - mean_absolute_percentage_error: 7.4664\n",
      "Epoch 46/50\n",
      "1276/1276 [==============================] - 78s 61ms/step - loss: 5990.2646 - custom_sequence_MMD_loss: 0.0500 - mean_absolute_percentage_error: 7.4427\n",
      "Epoch 47/50\n",
      "1276/1276 [==============================] - 78s 61ms/step - loss: 5974.2520 - custom_sequence_MMD_loss: 0.0500 - mean_absolute_percentage_error: 7.4076\n",
      "Epoch 48/50\n",
      "1276/1276 [==============================] - 78s 61ms/step - loss: 5958.9116 - custom_sequence_MMD_loss: 0.0500 - mean_absolute_percentage_error: 7.3671\n",
      "Epoch 49/50\n",
      "1276/1276 [==============================] - 78s 61ms/step - loss: 5932.5391 - custom_sequence_MMD_loss: 0.0500 - mean_absolute_percentage_error: 7.2964\n",
      "Epoch 50/50\n",
      "1276/1276 [==============================] - 79s 62ms/step - loss: 5914.9751 - custom_sequence_MMD_loss: 0.0500 - mean_absolute_percentage_error: 7.2483\n"
     ]
    }
   ],
   "source": [
    "history_interpolation_only, glocal_interpolation_only = run_experiment(preprocessed_downsampled_dataX, preprocessed_downsampled_dataY,\n",
    "                                                                       batch_size=20, dropout=0.0, exclude_locgen=True,\n",
    "                                                                       epochs=50, use_mse=True, \n",
    "                                                                       metrics=[JointLoss().custom_sequence_MMD_loss,\n",
    "                                                                                tf.keras.losses.mean_absolute_percentage_error], \n",
    "                                                                       validation_split=0.0, interpolate_frames = 2)"
   ]
  },
  {
   "cell_type": "code",
   "execution_count": null,
   "metadata": {
    "id": "fnqZvA_2S7xD"
   },
   "outputs": [],
   "source": [
    "predictions = glocal_model_preprocessed(sampled_dataX[:500])"
   ]
  },
  {
   "cell_type": "code",
   "execution_count": 52,
   "metadata": {
    "id": "twUcXJOzrSSF"
   },
   "outputs": [],
   "source": [
    "predictions = glocal_interpolation_only(sampled_dataX[:1000])"
   ]
  },
  {
   "cell_type": "code",
   "execution_count": 53,
   "metadata": {
    "id": "Ce3ilE9P2CuD"
   },
   "outputs": [],
   "source": [
    "predictions_sum = np.sum(np.reshape(predictions, (1000, 50*64)), axis=1)"
   ]
  },
  {
   "cell_type": "code",
   "execution_count": 54,
   "metadata": {
    "colab": {
     "base_uri": "https://localhost:8080/",
     "height": 293
    },
    "id": "KIDvGYUVtTYx",
    "outputId": "ea1dddd2-0587-4901-8050-5c82ac7456e5"
   },
   "outputs": [
    {
     "data": {
      "text/plain": [
       "[<matplotlib.lines.Line2D at 0x7fb8dd9afd10>]"
      ]
     },
     "execution_count": 54,
     "metadata": {},
     "output_type": "execute_result"
    },
    {
     "data": {
      "image/png": "[encoded data removed]",
      "text/plain": [
       "<Figure size 432x288 with 1 Axes>"
      ]
     },
     "metadata": {
      "needs_background": "light"
     },
     "output_type": "display_data"
    }
   ],
   "source": [
    "plt.plot(np.arange(0,1000), predictions_sum)"
   ]
  }
 ],
 "metadata": {
  "accelerator": "GPU",
  "colab": {
   "collapsed_sections": [
    "snGEPtNOKLvg",
    "KTHffB1KrfBy",
    "H-ekHZVlrq1o"
   ],
   "provenance": []
  },
  "kernelspec": {
   "display_name": "tensorflow-gpu",
   "language": "python",
   "name": "tensorflow-gpu"
  },
  "language_info": {
   "codemirror_mode": {
    "name": "ipython",
    "version": 3
   },
   "file_extension": ".py",
   "mimetype": "text/x-python",
   "name": "python",
   "nbconvert_exporter": "python",
   "pygments_lexer": "ipython3",
   "version": "3.8.12"
  }
 },
 "nbformat": 4,
 "nbformat_minor": 4
}

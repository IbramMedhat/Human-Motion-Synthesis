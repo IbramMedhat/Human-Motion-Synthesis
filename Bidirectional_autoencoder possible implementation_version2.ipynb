{
 "cells": [
  {
   "cell_type": "code",
   "execution_count": 38,
   "id": "09f81dd7",
   "metadata": {},
   "outputs": [],
   "source": [
    "from tensorflow.keras.layers import LSTM,Bidirectional,Input,Concatenate,Dense\n",
    "from tensorflow.keras.models import Model as Model_\n",
    "\n",
    "\n",
    "class GloGen_Bidirectional_RNN_Encoder(Model_):\n",
    "    def __init__(self, num_recurrent_neurons=64):\n",
    "        super(GloGen_Bidirectional_RNN_Encoder, self).__init__()\n",
    "        self.encoder = Bidirectional(LSTM(num_recurrent_neurons, return_state=True))       \n",
    "\n",
    "    def call(self, input_x):\n",
    "        self.encoder_outputs, self.forward_h, self.forward_c, self.backward_h, self.backward_c = self.encoder(input_x)\n",
    "        hidden_state = Concatenate()([self.forward_h, self.backward_h])\n",
    "        cell_state = Concatenate()([self.forward_c, self.backward_c])\n",
    "        return [hidden_state,cell_state]\n",
    "    \n",
    "class GloGen_Bidirectional_RNN_Decoder(Model_):\n",
    "    def __init__(self, num_recurrent_neurons=64):\n",
    "        super(GloGen_Bidirectional_RNN_Decoder, self).__init__()\n",
    "        self.decoder = LSTM(num_recurrent_neurons*2, return_sequences=True, return_state=True)\n",
    "        #self.decoder = Bidirectional(LSTM(num_recurrent_neurons, return_sequences=True, return_state=True)) \n",
    "        self.decoder_input=Input(shape=(10, num_recurrent_neurons))\n",
    "        \n",
    "\n",
    "    def call(self, encoder_hidden_state,num_recurrent_neurons=64):\n",
    "        self.decoder_outputs, _, _ = self.decoder(self.decoder_input,encoder_hidden_state)\n",
    "        self.decoder_dense = Dense(num_recurrent_neurons, activation='softmax')\n",
    "        decoder_outputs = self.decoder_dense(self.decoder_outputs)\n",
    "        return decoder_outputs\n",
    "    \n",
    "#ref: https://stackoverflow.com/questions/50815354/seq2seq-bidirectional-encoder-decoder-in-keras"
   ]
  },
  {
   "cell_type": "code",
   "execution_count": 39,
   "id": "254fb08d",
   "metadata": {},
   "outputs": [
    {
     "data": {
      "text/plain": [
       "(10, 10, 64)"
      ]
     },
     "execution_count": 39,
     "metadata": {},
     "output_type": "execute_result"
    }
   ],
   "source": [
    "import pandas as pd\n",
    "import numpy as np\n",
    "direction_csv_file = pd.read_csv(\"Directions 1.54138969.csv\", header=None)\n",
    "direction_data_array = np.asarray(direction_csv_file)\n",
    "direction_data_array = np.reshape(direction_data_array[:100], (10, 10, 64))\n",
    "direction_data_array.shape"
   ]
  },
  {
   "cell_type": "code",
   "execution_count": 40,
   "id": "a8d6a3b0",
   "metadata": {},
   "outputs": [
    {
     "name": "stdout",
     "output_type": "stream",
     "text": [
      "WARNING:tensorflow:Layer glo_gen__bidirectional_rnn__encoder_11 is casting an input tensor from dtype float64 to the layer's dtype of float32, which is new behavior in TensorFlow 2.  The layer has dtype float32 because its dtype defaults to floatx.\n",
      "\n",
      "If you intended to run this layer in float32, you can safely ignore this warning. If in doubt, this warning is likely only an issue if you are porting a TensorFlow 1.X model to TensorFlow 2.\n",
      "\n",
      "To change all layers to have dtype float64 by default, call `tf.keras.backend.set_floatx('float64')`. To change just this layer, pass dtype='float64' to the layer constructor. If you are the author of this layer, you can disable autocasting by passing autocast=False to the base Layer constructor.\n",
      "\n"
     ]
    },
    {
     "data": {
      "text/plain": [
       "[<tf.Tensor: shape=(10, 128), dtype=float32, numpy=\n",
       " array([[-0.0000000e+00, -1.0000000e+00,  0.0000000e+00, ...,\n",
       "          0.0000000e+00,  0.0000000e+00, -4.4779837e-25],\n",
       "        [-0.0000000e+00, -1.0000000e+00,  0.0000000e+00, ...,\n",
       "          0.0000000e+00,  0.0000000e+00, -1.4728992e-21],\n",
       "        [-0.0000000e+00, -1.0000000e+00,  0.0000000e+00, ...,\n",
       "          0.0000000e+00,  0.0000000e+00, -1.0503201e-18],\n",
       "        ...,\n",
       "        [-0.0000000e+00, -1.0000000e+00,  0.0000000e+00, ...,\n",
       "          0.0000000e+00,  0.0000000e+00, -3.8445863e-35],\n",
       "        [-0.0000000e+00, -1.0000000e+00,  0.0000000e+00, ...,\n",
       "          0.0000000e+00,  0.0000000e+00, -7.9705662e-34],\n",
       "        [-0.0000000e+00, -1.0000000e+00,  0.0000000e+00, ...,\n",
       "          0.0000000e+00,  0.0000000e+00, -4.7956878e-33]], dtype=float32)>,\n",
       " <tf.Tensor: shape=(10, 128), dtype=float32, numpy=\n",
       " array([[-1.0000000e+00, -1.0000000e+01,  1.0000000e+01, ...,\n",
       "          0.0000000e+00,  0.0000000e+00, -4.4779837e-25],\n",
       "        [-1.0000000e+00, -1.0000000e+01,  1.0000000e+01, ...,\n",
       "          0.0000000e+00,  0.0000000e+00, -1.4728992e-21],\n",
       "        [-1.0000000e+00, -1.0000000e+01,  1.0000000e+01, ...,\n",
       "          0.0000000e+00,  0.0000000e+00, -1.0503201e-18],\n",
       "        ...,\n",
       "        [-1.0000000e+00, -1.0000000e+01,  1.0000000e+01, ...,\n",
       "          0.0000000e+00,  0.0000000e+00, -3.8445863e-35],\n",
       "        [-1.0000000e+00, -1.0000000e+01,  1.0000000e+01, ...,\n",
       "          0.0000000e+00,  0.0000000e+00, -7.9705662e-34],\n",
       "        [-1.0000000e+00, -1.0000000e+01,  1.0000000e+01, ...,\n",
       "          0.0000000e+00,  0.0000000e+00, -4.7956878e-33]], dtype=float32)>]"
      ]
     },
     "execution_count": 40,
     "metadata": {},
     "output_type": "execute_result"
    }
   ],
   "source": [
    "glogen_bidirectional_RNN_Encoder = GloGen_Bidirectional_RNN_Encoder()\n",
    "output_encoder = glogen_bidirectional_RNN_Encoder(direction_data_array)\n",
    "output_encoder"
   ]
  },
  {
   "cell_type": "code",
   "execution_count": 41,
   "id": "428c2e0a",
   "metadata": {},
   "outputs": [
    {
     "name": "stdout",
     "output_type": "stream",
     "text": [
      "(10, 10, 64)\n"
     ]
    },
    {
     "data": {
      "text/plain": [
       "<tf.Tensor 'dense_2/truediv:0' shape=(10, 10, 64) dtype=float32>"
      ]
     },
     "execution_count": 41,
     "metadata": {},
     "output_type": "execute_result"
    }
   ],
   "source": [
    "glogen_decoder = GloGen_Bidirectional_RNN_Decoder()\n",
    "glogen_sparse_output_predictions = glogen_decoder(output_encoder)\n",
    "print(glogen_sparse_output_predictions.shape)\n",
    "glogen_sparse_output_predictions"
   ]
  },
  {
   "cell_type": "code",
   "execution_count": null,
   "id": "7de505c3",
   "metadata": {},
   "outputs": [],
   "source": []
  },
  {
   "cell_type": "code",
   "execution_count": null,
   "id": "0278211a",
   "metadata": {},
   "outputs": [],
   "source": []
  }
 ],
 "metadata": {
  "kernelspec": {
   "display_name": "Python 3",
   "language": "python",
   "name": "python3"
  },
  "language_info": {
   "codemirror_mode": {
    "name": "ipython",
    "version": 3
   },
   "file_extension": ".py",
   "mimetype": "text/x-python",
   "name": "python",
   "nbconvert_exporter": "python",
   "pygments_lexer": "ipython3",
   "version": "3.8.8"
  }
 },
 "nbformat": 4,
 "nbformat_minor": 5
}

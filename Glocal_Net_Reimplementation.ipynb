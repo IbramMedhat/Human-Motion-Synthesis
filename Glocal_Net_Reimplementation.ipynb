{
  "nbformat": 4,
  "nbformat_minor": 0,
  "metadata": {
    "colab": {
      "name": "Glocal_Net_Reimplementation.ipynb",
      "provenance": [],
      "collapsed_sections": [],
      "include_colab_link": true
    },
    "kernelspec": {
      "name": "python3",
      "display_name": "Python 3"
    },
    "language_info": {
      "name": "python"
    }
  },
  "cells": [
    {
      "cell_type": "markdown",
      "metadata": {
        "id": "view-in-github",
        "colab_type": "text"
      },
      "source": [
        "<a href=\"https://colab.research.google.com/github/IbramMedhat/Human-Motion-Synthesis/blob/main/Glocal_Net_Reimplementation.ipynb\" target=\"_parent\"><img src=\"https://colab.research.google.com/assets/colab-badge.svg\" alt=\"Open In Colab\"/></a>"
      ]
    },
    {
      "cell_type": "code",
      "execution_count": null,
      "metadata": {
        "colab": {
          "base_uri": "https://localhost:8080/"
        },
        "id": "QImRR28hJtIK",
        "outputId": "dd023c5d-631b-45f2-8138-fa12bc10b1f7"
      },
      "outputs": [
        {
          "output_type": "stream",
          "name": "stdout",
          "text": [
            "2.8.0\n"
          ]
        }
      ],
      "source": [
        "import numpy as np\n",
        "from tensorflow.keras import Model as Model_\n",
        "from tensorflow.keras.layers import Input, PReLU, LeakyReLU, MaxPooling2D, Dropout, concatenate, UpSampling2D, ReLU, Conv2D, Flatten, Reshape, Conv1D, LSTM\n",
        "from tensorflow.keras.optimizers import Adam\n",
        "from tensorflow.keras import backend\n",
        "from tensorflow.keras.models import Sequential\n",
        "import tensorflow as tf\n",
        "from tensorflow.keras.layers import Conv2DTranspose, Dense, BatchNormalization\n",
        "from tensorflow.keras.datasets import mnist, cifar10\n",
        "from tqdm.auto import tqdm\n",
        "\n",
        "import matplotlib.pyplot as plt\n",
        "import pandas as pd\n",
        "\n",
        "\n",
        "# torch.manual_seed(0) # Set for testing purposes, please do not change!\n",
        "\n",
        "print(tf.__version__)"
      ]
    },
    {
      "cell_type": "code",
      "source": [
        "direction_csv_file = pd.read_csv(\"/content/drive/MyDrive/Colab Notebooks/H3.6M/Directions 1.54138969.csv\", header=None)"
      ],
      "metadata": {
        "id": "5xx23v8EJzGR"
      },
      "execution_count": null,
      "outputs": []
    },
    {
      "cell_type": "code",
      "source": [
        "direction_csv_file"
      ],
      "metadata": {
        "colab": {
          "base_uri": "https://localhost:8080/",
          "height": 488
        },
        "id": "ngWhbiCqLbiq",
        "outputId": "74bcf485-6807-401b-9f09-800f7bd06e90"
      },
      "execution_count": null,
      "outputs": [
        {
          "output_type": "execute_result",
          "data": {
            "text/plain": [
              "            0         1         2         3         4         5         6   \\\n",
              "0     473.6836  444.9424  500.9961  448.0299  479.8393  530.7856  506.2184   \n",
              "1     473.6876  444.9526  500.9847  448.0307  479.8167  530.7855  506.2182   \n",
              "2     473.6931  444.9663  500.9775  448.0403  479.7976  530.7957  506.2265   \n",
              "3     473.7039  444.9854  500.9819  448.0659  479.7655  530.8015  506.2534   \n",
              "4     473.7261  445.0067  501.0016  448.0924  479.7466  530.8076  506.2579   \n",
              "...        ...       ...       ...       ...       ...       ...       ...   \n",
              "1378  508.8683  435.9992  531.6415  432.5145  531.7281  525.6750  536.5560   \n",
              "1379  508.8894  435.9756  531.7077  432.5069  531.7758  525.6630  536.5682   \n",
              "1380  508.9090  435.9860  531.6987  432.5204  531.7960  525.6733  536.5767   \n",
              "1381  508.9323  435.9888  531.6935  432.5264  531.8196  525.6773  536.5802   \n",
              "1382  508.9461  435.9793  531.6711  432.5156  531.7913  525.6635  536.5890   \n",
              "\n",
              "            7         8         9   ...        54        55        56  \\\n",
              "0     622.5688  493.6608  621.9954  ...  515.4715  456.4298  515.4715   \n",
              "1     622.5726  493.6592  621.9958  ...  514.9991  456.2006  514.9991   \n",
              "2     622.5868  493.6538  621.9990  ...  514.7042  456.0592  514.7042   \n",
              "3     622.5867  493.6528  622.0079  ...  514.5616  455.9726  514.5616   \n",
              "4     622.5981  493.6506  622.0058  ...  514.6009  455.9780  514.6009   \n",
              "...        ...       ...       ...  ...       ...       ...       ...   \n",
              "1378  619.7991  507.8583  621.3291  ...  552.5535  450.4184  552.5535   \n",
              "1379  619.7924  507.8712  621.3207  ...  551.9902  450.3370  551.9902   \n",
              "1380  619.8024  507.8655  621.3173  ...  551.3666  450.2951  551.3666   \n",
              "1381  619.8096  507.8681  621.3137  ...  550.6077  450.2511  550.6077   \n",
              "1382  619.7971  507.8838  621.3116  ...  549.7629  450.2849  549.7629   \n",
              "\n",
              "            57        58        59        60        61        62        63  \n",
              "0     456.4298  499.2511  448.2281  515.0607  479.1209  515.0607  479.1209  \n",
              "1     456.2006  498.6736  447.8242  514.2874  478.6892  514.2874  478.6892  \n",
              "2     456.0592  498.3504  447.4883  513.7126  478.3876  513.7126  478.3876  \n",
              "3     455.9726  498.1750  447.2817  513.3622  478.2127  513.3622  478.2127  \n",
              "4     455.9780  498.1767  447.2362  513.2590  478.2043  513.2590  478.2043  \n",
              "...        ...       ...       ...       ...       ...       ...       ...  \n",
              "1378  450.4184  535.6805  447.9043  557.0486  475.3463  557.0486  475.3463  \n",
              "1379  450.3370  535.2592  447.4315  556.0175  475.3270  556.0175  475.3270  \n",
              "1380  450.2951  534.9061  446.8693  554.7869  475.3963  554.7869  475.3963  \n",
              "1381  450.2511  534.4236  446.4702  553.4522  475.5750  553.4522  475.5750  \n",
              "1382  450.2849  533.8069  446.1633  552.0135  475.7899  552.0135  475.7899  \n",
              "\n",
              "[1383 rows x 64 columns]"
            ],
            "text/html": [
              "\n",
              "  <div id=\"df-613c256b-f91b-46d3-b2c4-cd8191482373\">\n",
              "    <div class=\"colab-df-container\">\n",
              "      <div>\n",
              "<style scoped>\n",
              "    .dataframe tbody tr th:only-of-type {\n",
              "        vertical-align: middle;\n",
              "    }\n",
              "\n",
              "    .dataframe tbody tr th {\n",
              "        vertical-align: top;\n",
              "    }\n",
              "\n",
              "    .dataframe thead th {\n",
              "        text-align: right;\n",
              "    }\n",
              "</style>\n",
              "<table border=\"1\" class=\"dataframe\">\n",
              "  <thead>\n",
              "    <tr style=\"text-align: right;\">\n",
              "      <th></th>\n",
              "      <th>0</th>\n",
              "      <th>1</th>\n",
              "      <th>2</th>\n",
              "      <th>3</th>\n",
              "      <th>4</th>\n",
              "      <th>5</th>\n",
              "      <th>6</th>\n",
              "      <th>7</th>\n",
              "      <th>8</th>\n",
              "      <th>9</th>\n",
              "      <th>...</th>\n",
              "      <th>54</th>\n",
              "      <th>55</th>\n",
              "      <th>56</th>\n",
              "      <th>57</th>\n",
              "      <th>58</th>\n",
              "      <th>59</th>\n",
              "      <th>60</th>\n",
              "      <th>61</th>\n",
              "      <th>62</th>\n",
              "      <th>63</th>\n",
              "    </tr>\n",
              "  </thead>\n",
              "  <tbody>\n",
              "    <tr>\n",
              "      <th>0</th>\n",
              "      <td>473.6836</td>\n",
              "      <td>444.9424</td>\n",
              "      <td>500.9961</td>\n",
              "      <td>448.0299</td>\n",
              "      <td>479.8393</td>\n",
              "      <td>530.7856</td>\n",
              "      <td>506.2184</td>\n",
              "      <td>622.5688</td>\n",
              "      <td>493.6608</td>\n",
              "      <td>621.9954</td>\n",
              "      <td>...</td>\n",
              "      <td>515.4715</td>\n",
              "      <td>456.4298</td>\n",
              "      <td>515.4715</td>\n",
              "      <td>456.4298</td>\n",
              "      <td>499.2511</td>\n",
              "      <td>448.2281</td>\n",
              "      <td>515.0607</td>\n",
              "      <td>479.1209</td>\n",
              "      <td>515.0607</td>\n",
              "      <td>479.1209</td>\n",
              "    </tr>\n",
              "    <tr>\n",
              "      <th>1</th>\n",
              "      <td>473.6876</td>\n",
              "      <td>444.9526</td>\n",
              "      <td>500.9847</td>\n",
              "      <td>448.0307</td>\n",
              "      <td>479.8167</td>\n",
              "      <td>530.7855</td>\n",
              "      <td>506.2182</td>\n",
              "      <td>622.5726</td>\n",
              "      <td>493.6592</td>\n",
              "      <td>621.9958</td>\n",
              "      <td>...</td>\n",
              "      <td>514.9991</td>\n",
              "      <td>456.2006</td>\n",
              "      <td>514.9991</td>\n",
              "      <td>456.2006</td>\n",
              "      <td>498.6736</td>\n",
              "      <td>447.8242</td>\n",
              "      <td>514.2874</td>\n",
              "      <td>478.6892</td>\n",
              "      <td>514.2874</td>\n",
              "      <td>478.6892</td>\n",
              "    </tr>\n",
              "    <tr>\n",
              "      <th>2</th>\n",
              "      <td>473.6931</td>\n",
              "      <td>444.9663</td>\n",
              "      <td>500.9775</td>\n",
              "      <td>448.0403</td>\n",
              "      <td>479.7976</td>\n",
              "      <td>530.7957</td>\n",
              "      <td>506.2265</td>\n",
              "      <td>622.5868</td>\n",
              "      <td>493.6538</td>\n",
              "      <td>621.9990</td>\n",
              "      <td>...</td>\n",
              "      <td>514.7042</td>\n",
              "      <td>456.0592</td>\n",
              "      <td>514.7042</td>\n",
              "      <td>456.0592</td>\n",
              "      <td>498.3504</td>\n",
              "      <td>447.4883</td>\n",
              "      <td>513.7126</td>\n",
              "      <td>478.3876</td>\n",
              "      <td>513.7126</td>\n",
              "      <td>478.3876</td>\n",
              "    </tr>\n",
              "    <tr>\n",
              "      <th>3</th>\n",
              "      <td>473.7039</td>\n",
              "      <td>444.9854</td>\n",
              "      <td>500.9819</td>\n",
              "      <td>448.0659</td>\n",
              "      <td>479.7655</td>\n",
              "      <td>530.8015</td>\n",
              "      <td>506.2534</td>\n",
              "      <td>622.5867</td>\n",
              "      <td>493.6528</td>\n",
              "      <td>622.0079</td>\n",
              "      <td>...</td>\n",
              "      <td>514.5616</td>\n",
              "      <td>455.9726</td>\n",
              "      <td>514.5616</td>\n",
              "      <td>455.9726</td>\n",
              "      <td>498.1750</td>\n",
              "      <td>447.2817</td>\n",
              "      <td>513.3622</td>\n",
              "      <td>478.2127</td>\n",
              "      <td>513.3622</td>\n",
              "      <td>478.2127</td>\n",
              "    </tr>\n",
              "    <tr>\n",
              "      <th>4</th>\n",
              "      <td>473.7261</td>\n",
              "      <td>445.0067</td>\n",
              "      <td>501.0016</td>\n",
              "      <td>448.0924</td>\n",
              "      <td>479.7466</td>\n",
              "      <td>530.8076</td>\n",
              "      <td>506.2579</td>\n",
              "      <td>622.5981</td>\n",
              "      <td>493.6506</td>\n",
              "      <td>622.0058</td>\n",
              "      <td>...</td>\n",
              "      <td>514.6009</td>\n",
              "      <td>455.9780</td>\n",
              "      <td>514.6009</td>\n",
              "      <td>455.9780</td>\n",
              "      <td>498.1767</td>\n",
              "      <td>447.2362</td>\n",
              "      <td>513.2590</td>\n",
              "      <td>478.2043</td>\n",
              "      <td>513.2590</td>\n",
              "      <td>478.2043</td>\n",
              "    </tr>\n",
              "    <tr>\n",
              "      <th>...</th>\n",
              "      <td>...</td>\n",
              "      <td>...</td>\n",
              "      <td>...</td>\n",
              "      <td>...</td>\n",
              "      <td>...</td>\n",
              "      <td>...</td>\n",
              "      <td>...</td>\n",
              "      <td>...</td>\n",
              "      <td>...</td>\n",
              "      <td>...</td>\n",
              "      <td>...</td>\n",
              "      <td>...</td>\n",
              "      <td>...</td>\n",
              "      <td>...</td>\n",
              "      <td>...</td>\n",
              "      <td>...</td>\n",
              "      <td>...</td>\n",
              "      <td>...</td>\n",
              "      <td>...</td>\n",
              "      <td>...</td>\n",
              "      <td>...</td>\n",
              "    </tr>\n",
              "    <tr>\n",
              "      <th>1378</th>\n",
              "      <td>508.8683</td>\n",
              "      <td>435.9992</td>\n",
              "      <td>531.6415</td>\n",
              "      <td>432.5145</td>\n",
              "      <td>531.7281</td>\n",
              "      <td>525.6750</td>\n",
              "      <td>536.5560</td>\n",
              "      <td>619.7991</td>\n",
              "      <td>507.8583</td>\n",
              "      <td>621.3291</td>\n",
              "      <td>...</td>\n",
              "      <td>552.5535</td>\n",
              "      <td>450.4184</td>\n",
              "      <td>552.5535</td>\n",
              "      <td>450.4184</td>\n",
              "      <td>535.6805</td>\n",
              "      <td>447.9043</td>\n",
              "      <td>557.0486</td>\n",
              "      <td>475.3463</td>\n",
              "      <td>557.0486</td>\n",
              "      <td>475.3463</td>\n",
              "    </tr>\n",
              "    <tr>\n",
              "      <th>1379</th>\n",
              "      <td>508.8894</td>\n",
              "      <td>435.9756</td>\n",
              "      <td>531.7077</td>\n",
              "      <td>432.5069</td>\n",
              "      <td>531.7758</td>\n",
              "      <td>525.6630</td>\n",
              "      <td>536.5682</td>\n",
              "      <td>619.7924</td>\n",
              "      <td>507.8712</td>\n",
              "      <td>621.3207</td>\n",
              "      <td>...</td>\n",
              "      <td>551.9902</td>\n",
              "      <td>450.3370</td>\n",
              "      <td>551.9902</td>\n",
              "      <td>450.3370</td>\n",
              "      <td>535.2592</td>\n",
              "      <td>447.4315</td>\n",
              "      <td>556.0175</td>\n",
              "      <td>475.3270</td>\n",
              "      <td>556.0175</td>\n",
              "      <td>475.3270</td>\n",
              "    </tr>\n",
              "    <tr>\n",
              "      <th>1380</th>\n",
              "      <td>508.9090</td>\n",
              "      <td>435.9860</td>\n",
              "      <td>531.6987</td>\n",
              "      <td>432.5204</td>\n",
              "      <td>531.7960</td>\n",
              "      <td>525.6733</td>\n",
              "      <td>536.5767</td>\n",
              "      <td>619.8024</td>\n",
              "      <td>507.8655</td>\n",
              "      <td>621.3173</td>\n",
              "      <td>...</td>\n",
              "      <td>551.3666</td>\n",
              "      <td>450.2951</td>\n",
              "      <td>551.3666</td>\n",
              "      <td>450.2951</td>\n",
              "      <td>534.9061</td>\n",
              "      <td>446.8693</td>\n",
              "      <td>554.7869</td>\n",
              "      <td>475.3963</td>\n",
              "      <td>554.7869</td>\n",
              "      <td>475.3963</td>\n",
              "    </tr>\n",
              "    <tr>\n",
              "      <th>1381</th>\n",
              "      <td>508.9323</td>\n",
              "      <td>435.9888</td>\n",
              "      <td>531.6935</td>\n",
              "      <td>432.5264</td>\n",
              "      <td>531.8196</td>\n",
              "      <td>525.6773</td>\n",
              "      <td>536.5802</td>\n",
              "      <td>619.8096</td>\n",
              "      <td>507.8681</td>\n",
              "      <td>621.3137</td>\n",
              "      <td>...</td>\n",
              "      <td>550.6077</td>\n",
              "      <td>450.2511</td>\n",
              "      <td>550.6077</td>\n",
              "      <td>450.2511</td>\n",
              "      <td>534.4236</td>\n",
              "      <td>446.4702</td>\n",
              "      <td>553.4522</td>\n",
              "      <td>475.5750</td>\n",
              "      <td>553.4522</td>\n",
              "      <td>475.5750</td>\n",
              "    </tr>\n",
              "    <tr>\n",
              "      <th>1382</th>\n",
              "      <td>508.9461</td>\n",
              "      <td>435.9793</td>\n",
              "      <td>531.6711</td>\n",
              "      <td>432.5156</td>\n",
              "      <td>531.7913</td>\n",
              "      <td>525.6635</td>\n",
              "      <td>536.5890</td>\n",
              "      <td>619.7971</td>\n",
              "      <td>507.8838</td>\n",
              "      <td>621.3116</td>\n",
              "      <td>...</td>\n",
              "      <td>549.7629</td>\n",
              "      <td>450.2849</td>\n",
              "      <td>549.7629</td>\n",
              "      <td>450.2849</td>\n",
              "      <td>533.8069</td>\n",
              "      <td>446.1633</td>\n",
              "      <td>552.0135</td>\n",
              "      <td>475.7899</td>\n",
              "      <td>552.0135</td>\n",
              "      <td>475.7899</td>\n",
              "    </tr>\n",
              "  </tbody>\n",
              "</table>\n",
              "<p>1383 rows × 64 columns</p>\n",
              "</div>\n",
              "      <button class=\"colab-df-convert\" onclick=\"convertToInteractive('df-613c256b-f91b-46d3-b2c4-cd8191482373')\"\n",
              "              title=\"Convert this dataframe to an interactive table.\"\n",
              "              style=\"display:none;\">\n",
              "        \n",
              "  <svg xmlns=\"http://www.w3.org/2000/svg\" height=\"24px\"viewBox=\"0 0 24 24\"\n",
              "       width=\"24px\">\n",
              "    <path d=\"M0 0h24v24H0V0z\" fill=\"none\"/>\n",
              "    <path d=\"M18.56 5.44l.94 2.06.94-2.06 2.06-.94-2.06-.94-.94-2.06-.94 2.06-2.06.94zm-11 1L8.5 8.5l.94-2.06 2.06-.94-2.06-.94L8.5 2.5l-.94 2.06-2.06.94zm10 10l.94 2.06.94-2.06 2.06-.94-2.06-.94-.94-2.06-.94 2.06-2.06.94z\"/><path d=\"M17.41 7.96l-1.37-1.37c-.4-.4-.92-.59-1.43-.59-.52 0-1.04.2-1.43.59L10.3 9.45l-7.72 7.72c-.78.78-.78 2.05 0 2.83L4 21.41c.39.39.9.59 1.41.59.51 0 1.02-.2 1.41-.59l7.78-7.78 2.81-2.81c.8-.78.8-2.07 0-2.86zM5.41 20L4 18.59l7.72-7.72 1.47 1.35L5.41 20z\"/>\n",
              "  </svg>\n",
              "      </button>\n",
              "      \n",
              "  <style>\n",
              "    .colab-df-container {\n",
              "      display:flex;\n",
              "      flex-wrap:wrap;\n",
              "      gap: 12px;\n",
              "    }\n",
              "\n",
              "    .colab-df-convert {\n",
              "      background-color: #E8F0FE;\n",
              "      border: none;\n",
              "      border-radius: 50%;\n",
              "      cursor: pointer;\n",
              "      display: none;\n",
              "      fill: #1967D2;\n",
              "      height: 32px;\n",
              "      padding: 0 0 0 0;\n",
              "      width: 32px;\n",
              "    }\n",
              "\n",
              "    .colab-df-convert:hover {\n",
              "      background-color: #E2EBFA;\n",
              "      box-shadow: 0px 1px 2px rgba(60, 64, 67, 0.3), 0px 1px 3px 1px rgba(60, 64, 67, 0.15);\n",
              "      fill: #174EA6;\n",
              "    }\n",
              "\n",
              "    [theme=dark] .colab-df-convert {\n",
              "      background-color: #3B4455;\n",
              "      fill: #D2E3FC;\n",
              "    }\n",
              "\n",
              "    [theme=dark] .colab-df-convert:hover {\n",
              "      background-color: #434B5C;\n",
              "      box-shadow: 0px 1px 3px 1px rgba(0, 0, 0, 0.15);\n",
              "      filter: drop-shadow(0px 1px 2px rgba(0, 0, 0, 0.3));\n",
              "      fill: #FFFFFF;\n",
              "    }\n",
              "  </style>\n",
              "\n",
              "      <script>\n",
              "        const buttonEl =\n",
              "          document.querySelector('#df-613c256b-f91b-46d3-b2c4-cd8191482373 button.colab-df-convert');\n",
              "        buttonEl.style.display =\n",
              "          google.colab.kernel.accessAllowed ? 'block' : 'none';\n",
              "\n",
              "        async function convertToInteractive(key) {\n",
              "          const element = document.querySelector('#df-613c256b-f91b-46d3-b2c4-cd8191482373');\n",
              "          const dataTable =\n",
              "            await google.colab.kernel.invokeFunction('convertToInteractive',\n",
              "                                                     [key], {});\n",
              "          if (!dataTable) return;\n",
              "\n",
              "          const docLinkHtml = 'Like what you see? Visit the ' +\n",
              "            '<a target=\"_blank\" href=https://colab.research.google.com/notebooks/data_table.ipynb>data table notebook</a>'\n",
              "            + ' to learn more about interactive tables.';\n",
              "          element.innerHTML = '';\n",
              "          dataTable['output_type'] = 'display_data';\n",
              "          await google.colab.output.renderOutput(dataTable, element);\n",
              "          const docLink = document.createElement('div');\n",
              "          docLink.innerHTML = docLinkHtml;\n",
              "          element.appendChild(docLink);\n",
              "        }\n",
              "      </script>\n",
              "    </div>\n",
              "  </div>\n",
              "  "
            ]
          },
          "metadata": {},
          "execution_count": 3
        }
      ]
    },
    {
      "cell_type": "code",
      "source": [
        "#Convert to numpy array\n",
        "direction_data_array = np.asarray(direction_csv_file)"
      ],
      "metadata": {
        "id": "t_H6gABPa_PQ"
      },
      "execution_count": null,
      "outputs": []
    },
    {
      "cell_type": "code",
      "source": [
        "\n",
        "class GloGen_Bidirectional_RNN_Encoder(Model_):\n",
        "  def __init__(self, num_recurrent_neurons=200):\n",
        "    super(GloGen_Bidirectional_RNN_Encoder, self).__init__()\n",
        "    \n",
        "    self.recurrent_layer = LSTM(num_recurrent_neurons)\n",
        "\n",
        "  def call(self, input_x):\n",
        "    output = self.recurrent_layer(np.expand_dims(input_x, 2))\n",
        "    #output = tf.one_hot(tf.argmax(output, axis = 1), depth=3)\n",
        "    return output"
      ],
      "metadata": {
        "id": "KAwzUZ8KLdJS"
      },
      "execution_count": null,
      "outputs": []
    },
    {
      "cell_type": "code",
      "source": [
        "#Not sure of the output shape from the glonet\n",
        "class GloGen_Bidirectional_RNN_decoder(Model_):\n",
        "  def __init__(self, num_recurrent_neurons=64):\n",
        "    super(GloGen_Bidirectional_RNN_decoder, self).__init__()\n",
        "    \n",
        "    self.recurrent_layer = LSTM(num_recurrent_neurons)\n",
        "\n",
        "  def call(self, encoder_output):\n",
        "    glogen_output = self.recurrent_layer(np.expand_dims(encoder_output, 2))\n",
        "    #output = tf.one_hot(tf.argmax(output, axis = 1), depth=3)\n",
        "    return glogen_output"
      ],
      "metadata": {
        "id": "TqFfWtIpSXIC"
      },
      "execution_count": null,
      "outputs": []
    },
    {
      "cell_type": "code",
      "source": [
        "class LocGen_Bidirectional_RNN_encoder(Model_) :\n",
        "  def __init__(self, num_recurrent_neurons=200) :\n",
        "    super(LocGen_Bidirectional_RNN_encoder, self).__init__()\n",
        "    self.recurrent_layer = LSTM(num_recurrent_neurons)\n",
        "\n",
        "  def call(self, interpolated_output) :\n",
        "    predictions = self.recurrent_layer(interpolated_output)\n",
        "    return predictions"
      ],
      "metadata": {
        "id": "JQ3DZUkxLAQA"
      },
      "execution_count": null,
      "outputs": []
    },
    {
      "cell_type": "code",
      "source": [
        "class LocGen_Bidirectional_RNN_decoder(Model_) :\n",
        "  def __init__(self, num_recurrent_neurons=200) :\n",
        "    super(LocGen_Bidirectional_RNN_decoder, self).__init__()\n",
        "    self.recurrent_layer = LSTM(num_recurrent_neurons)\n",
        "\n",
        "  def call(self, interpolated_output) :\n",
        "    predictions = self.recurrent_layer(interpolated_output)\n",
        "    return predictions"
      ],
      "metadata": {
        "id": "zZPdNS_Em6dX"
      },
      "execution_count": null,
      "outputs": []
    },
    {
      "cell_type": "code",
      "source": [
        "glogen_bidirectional_RNN_Encoder = GloGen_Bidirectional_RNN_Encoder()"
      ],
      "metadata": {
        "id": "QizN2JrjaobT"
      },
      "execution_count": null,
      "outputs": []
    },
    {
      "cell_type": "code",
      "source": [
        "#Should have diminsions 100x60x64 as batch_siZe x timesteps x features\n",
        "direction_data_array.shape"
      ],
      "metadata": {
        "colab": {
          "base_uri": "https://localhost:8080/"
        },
        "id": "SyfF1RfGbkgE",
        "outputId": "45e9fec1-eafb-4310-f3c6-eb5e25ba86f1"
      },
      "execution_count": null,
      "outputs": [
        {
          "output_type": "execute_result",
          "data": {
            "text/plain": [
              "(1383, 64)"
            ]
          },
          "metadata": {},
          "execution_count": 10
        }
      ]
    },
    {
      "cell_type": "code",
      "source": [
        "output = bidirectional_RNN_Encoder(direction_data_array[:10])"
      ],
      "metadata": {
        "id": "MNaOr-LGauZP"
      },
      "execution_count": null,
      "outputs": []
    },
    {
      "cell_type": "code",
      "source": [
        "output.shape"
      ],
      "metadata": {
        "colab": {
          "base_uri": "https://localhost:8080/"
        },
        "id": "IqNyaMUPa8LA",
        "outputId": "9a2fb03b-6379-4430-a2e6-a228ec1f18da"
      },
      "execution_count": null,
      "outputs": [
        {
          "output_type": "execute_result",
          "data": {
            "text/plain": [
              "TensorShape([10, 200])"
            ]
          },
          "metadata": {},
          "execution_count": 15
        }
      ]
    },
    {
      "cell_type": "code",
      "source": [
        "output"
      ],
      "metadata": {
        "colab": {
          "base_uri": "https://localhost:8080/"
        },
        "id": "fH2rV982fR9x",
        "outputId": "6663286b-f28d-4e2c-c7c2-89820607eb21"
      },
      "execution_count": null,
      "outputs": [
        {
          "output_type": "execute_result",
          "data": {
            "text/plain": [
              "<tf.Tensor: shape=(1383, 200), dtype=float32, numpy=\n",
              "array([[-1.2457371e-04, -5.7021580e-15, -1.7918209e-12, ...,\n",
              "         4.4316658e-11, -3.4944052e-03,  1.0000000e+00],\n",
              "       [-1.2564659e-04, -5.8740816e-15, -1.8363674e-12, ...,\n",
              "         4.5298494e-11, -3.4932343e-03,  1.0000000e+00],\n",
              "       [-1.2633204e-04, -5.9972770e-15, -1.8681473e-12, ...,\n",
              "         4.5974533e-11, -3.4922527e-03,  1.0000000e+00],\n",
              "       ...,\n",
              "       [-1.3354421e-04, -7.3788589e-15, -2.2185053e-12, ...,\n",
              "         5.3492020e-11, -3.7759892e-03,  1.0000000e+00],\n",
              "       [-1.3312697e-04, -7.2885821e-15, -2.1959645e-12, ...,\n",
              "         5.3014173e-11, -3.7716290e-03,  1.0000000e+00],\n",
              "       [-1.3250113e-04, -7.1814706e-15, -2.1691726e-12, ...,\n",
              "         5.2448774e-11, -3.7678732e-03,  1.0000000e+00]], dtype=float32)>"
            ]
          },
          "metadata": {},
          "execution_count": 37
        }
      ]
    },
    {
      "cell_type": "code",
      "source": [
        ""
      ],
      "metadata": {
        "id": "B7kOinVXfTKt"
      },
      "execution_count": null,
      "outputs": []
    }
  ]
}